{
  "cells": [
    {
      "cell_type": "markdown",
      "metadata": {
        "id": "view-in-github",
        "colab_type": "text"
      },
      "source": [
        "<a href=\"https://colab.research.google.com/github/Lamblador/IR_expert_system/blob/main/Koshelev_IR_expert_system_8_model_AUC_ROC_ipynb%22%22.ipynb\" target=\"_parent\"><img src=\"https://colab.research.google.com/assets/colab-badge.svg\" alt=\"Open In Colab\"/></a>"
      ]
    },
    {
      "cell_type": "markdown",
      "metadata": {
        "id": "TK6YTDQRdiv9"
      },
      "source": [
        "# IR spectral analysis of organic and coordination compounds via machine learning and neural networks\n",
        "By: Koshelev Daniil \n",
        "\n",
        "Предыдущая часть: https://github.com/Lamblador/IR_expert_system/blob/main/Koshelev_IR_expert_system_7_72SHAP.ipynb\n",
        "\n",
        "-Work in progress (last updated:10/06/2023)-\n",
        "\n",
        "B. Цель данного блокнота\n",
        "\n",
        "Целью этого блокнота является расчёт ROC и AUC для имеющихся моделей\n",
        "\n",
        "C. План реализации\n",
        "\n",
        "1. Импортировать табличные данные разметки классов по CAS и табличные данные уже обработанных спектров нужного диапазона.\n",
        "2. Создать объект класса Dataset\n",
        "3. Реализовать код расчёта ROC и AUC\n",
        "4. Расчитать значения для всех моделей.\n",
        "\n",
        "\n",
        "NOTES\n",
        "1. Импортированы табличные данные.\n",
        "2. Написана несколько версий модели. \n",
        "3.\n",
        "6. "
      ]
    },
    {
      "cell_type": "markdown",
      "metadata": {
        "id": "G2f80Hpzdqgr"
      },
      "source": [
        "Клонирование данных с GitHub. На сайте выложены как исходные списки веществ, так и скачанные спектры соединений, которые были запарсены кодом ниже."
      ]
    },
    {
      "cell_type": "code",
      "execution_count": 1,
      "metadata": {
        "colab": {
          "base_uri": "https://localhost:8080/"
        },
        "id": "OPcC7OEkdoOK",
        "outputId": "0960fd54-4bfa-4d85-c234-fe867eb21ec3"
      },
      "outputs": [
        {
          "output_type": "stream",
          "name": "stdout",
          "text": [
            "Cloning into 'IR_expert_system'...\n",
            "remote: Enumerating objects: 17004, done.\u001b[K\n",
            "remote: Counting objects: 100% (2161/2161), done.\u001b[K\n",
            "remote: Compressing objects: 100% (2010/2010), done.\u001b[K\n",
            "remote: Total 17004 (delta 163), reused 2139 (delta 147), pack-reused 14843\u001b[K\n",
            "Receiving objects: 100% (17004/17004), 1.47 GiB | 26.37 MiB/s, done.\n",
            "Resolving deltas: 100% (523/523), done.\n",
            "Updating files: 100% (16741/16741), done.\n"
          ]
        }
      ],
      "source": [
        "!git clone https://github.com/Lamblador/IR_expert_system.git"
      ]
    },
    {
      "cell_type": "code",
      "execution_count": 2,
      "metadata": {
        "id": "3vYHzZTfdw-E"
      },
      "outputs": [],
      "source": [
        "# Установка нужных пакетов\n",
        "from IPython.core.display import clear_output\n",
        "!pip install --upgrade jcamp\n",
        "!pip install torchmetrics\n",
        "!pip install peakutils\n",
        "clear_output()"
      ]
    },
    {
      "cell_type": "code",
      "execution_count": 3,
      "metadata": {
        "id": "NNDUPEaCdztz"
      },
      "outputs": [],
      "source": [
        "# Вводятся нужные импорты\n",
        "import pandas as pd\n",
        "import matplotlib.pyplot as plt\n",
        "from tqdm import tqdm\n",
        "import glob\n",
        "import os\n",
        "import numpy as np\n",
        "import torch\n",
        "import os\n",
        "import torch\n",
        "from torch.utils.data import Dataset\n",
        "from torchvision import datasets\n",
        "import torch.nn as nn\n",
        "from peakutils.peak import indexes as index_utils"
      ]
    },
    {
      "cell_type": "code",
      "source": [
        "import random\n",
        "\n",
        "import torch\n",
        "import torch.nn as nn\n",
        "from torchvision import datasets, transforms\n",
        "\n",
        "\n",
        "def set_random_seed(seed):\n",
        "    torch.manual_seed(seed)\n",
        "    torch.cuda.manual_seed(seed)\n",
        "    np.random.seed(seed)\n",
        "    random.seed(seed)\n",
        "    torch.backends.cudnn.deterministic = True\n",
        "\n",
        "set_random_seed(42)"
      ],
      "metadata": {
        "id": "yoWXSn5fNo_c"
      },
      "execution_count": 4,
      "outputs": []
    },
    {
      "cell_type": "markdown",
      "metadata": {
        "id": "dKSeXleSfHqX"
      },
      "source": [
        "# Импорт табличных данных"
      ]
    },
    {
      "cell_type": "code",
      "source": [
        "#Считывание датасета\n",
        "def read_dataset(dataset_name):\n",
        "  '''\n",
        "  Function for reading dataset into pandas Dataframe from /IR_expert_system/data/datasets/\n",
        "\n",
        "  dataset_name - name of dataset's folder to read\n",
        "\n",
        "  return pd.Dataframe with whole dataset\n",
        "\n",
        "  parameters:\n",
        "      name = ['dataset3']\n",
        "          dataset3 - dataset made from reading most of jcam files, with padded y, interpolated x and peak layer. Saved in 10 pieces. \n",
        "  '''\n",
        "  df_list = []\n",
        "  # choose current directory\n",
        "  curr_directory = os.getcwd()\n",
        "  os.chdir(curr_directory)  # set to current directory\n",
        "  files = glob.glob('/content/IR_expert_system/data/datasets/'+dataset_name+'/*.pkl')  # look for files without extension. Returns a list.\n",
        "  # Try to read the file. If can't be read, skip it.\n",
        "  #print(files)\n",
        "  for i, file in tqdm(enumerate(files)):\n",
        "      df = pd.read_pickle(file)\n",
        "      df_list.append(df)\n",
        "  #print(df_list)\n",
        "  result = pd.concat(df_list)\n",
        "  return result\n",
        "\n",
        "dataset_df_readed = read_dataset('dataset3')\n",
        "dataset_df_readed"
      ],
      "metadata": {
        "colab": {
          "base_uri": "https://localhost:8080/",
          "height": 1000
        },
        "id": "OXU3U3BasLmx",
        "outputId": "9e0c8d03-3a33-426e-b470-e0839e652ad9"
      },
      "execution_count": 5,
      "outputs": [
        {
          "output_type": "stream",
          "name": "stderr",
          "text": [
            "10it [00:02,  3.93it/s]\n"
          ]
        },
        {
          "output_type": "execute_result",
          "data": {
            "text/plain": [
              "                      index  \\\n",
              "cas registry no               \n",
              "7496-45-9         7496-45-9   \n",
              "106-36-5           106-36-5   \n",
              "5347-82-0         5347-82-0   \n",
              "112-17-4           112-17-4   \n",
              "4919-37-3         4919-37-3   \n",
              "...                     ...   \n",
              "25173-72-2       25173-72-2   \n",
              "56946-83-9       56946-83-9   \n",
              "823-09-6           823-09-6   \n",
              "825-03-6           825-03-6   \n",
              "622-60-6           622-60-6   \n",
              "\n",
              "                                                             title jcamp-dx  \\\n",
              "cas registry no                                                               \n",
              "7496-45-9                                         Purine, 1-ethyl-     4.24   \n",
              "106-36-5                              Propanoic acid, propyl ester     4.24   \n",
              "5347-82-0                                    DIMETHANE SULFONAMIDE     4.24   \n",
              "112-17-4                                         1-Decanol acetate     4.24   \n",
              "4919-37-3                       4-Hydroxy-3,5-dimethylbenzoic acid     4.24   \n",
              "...                                                            ...      ...   \n",
              "25173-72-2                3-(3,4,5-Trimethoxyphenyl)propionic acid     4.24   \n",
              "56946-83-9              2,5-Dichlorothiophene-3-sulphonyl chloride     4.24   \n",
              "823-09-6                              Pyrimidine, 2-(methylthio)-,     4.24   \n",
              "825-03-6         2-Methylbicyclo[2.2.1]-5-heptene-2-carboxylic ...     4.24   \n",
              "622-60-6                               Benzene, 1-ethoxy-4-methyl-     4.24   \n",
              "\n",
              "                         data type  \\\n",
              "cas registry no                      \n",
              "7496-45-9        INFRARED SPECTRUM   \n",
              "106-36-5         INFRARED SPECTRUM   \n",
              "5347-82-0        INFRARED SPECTRUM   \n",
              "112-17-4         INFRARED SPECTRUM   \n",
              "4919-37-3        INFRARED SPECTRUM   \n",
              "...                            ...   \n",
              "25173-72-2       INFRARED SPECTRUM   \n",
              "56946-83-9       INFRARED SPECTRUM   \n",
              "823-09-6         INFRARED SPECTRUM   \n",
              "825-03-6         INFRARED SPECTRUM   \n",
              "622-60-6         INFRARED SPECTRUM   \n",
              "\n",
              "                                                            origin  \\\n",
              "cas registry no                                                      \n",
              "7496-45-9                              SOUTHERN RESEARCH INSTITUTE   \n",
              "106-36-5               Sadtler Research Labs Under US-EPA Contract   \n",
              "5347-82-0        WYANDOTTE CHEMICALS CORP., WYANDOTTE, MICHIGAN...   \n",
              "112-17-4                        NIST Mass Spectrometry Data Center   \n",
              "4919-37-3                               EPA-IR VAPOR PHASE LIBRARY   \n",
              "...                                                            ...   \n",
              "25173-72-2                              EPA-IR VAPOR PHASE LIBRARY   \n",
              "56946-83-9                              EPA-IR VAPOR PHASE LIBRARY   \n",
              "823-09-6                               SOUTHERN RESEARCH INSTITUTE   \n",
              "825-03-6                                EPA-IR VAPOR PHASE LIBRARY   \n",
              "622-60-6               Sadtler Research Labs Under US-EPA Contract   \n",
              "\n",
              "                                                             owner  \\\n",
              "cas registry no                                                      \n",
              "7496-45-9        Copyright (C) 1987 by the Coblentz Society\\nCo...   \n",
              "106-36-5         NIST Standard Reference Data Program\\nCollecti...   \n",
              "5347-82-0        COBLENTZ SOCIETY\\nCollection (C) 2018 copyrigh...   \n",
              "112-17-4         NIST Standard Reference Data Program\\nCollecti...   \n",
              "4919-37-3        SRD/NIST\\nCollection (C) 2018 copyright by the...   \n",
              "...                                                            ...   \n",
              "25173-72-2       SRD/NIST\\nCollection (C) 2018 copyright by the...   \n",
              "56946-83-9       SRD/NIST\\nCollection (C) 2018 copyright by the...   \n",
              "823-09-6         Copyright (C) 1987 by the Coblentz Society\\nCo...   \n",
              "825-03-6         SRD/NIST\\nCollection (C) 2018 copyright by the...   \n",
              "622-60-6         NIST Standard Reference Data Program\\nCollecti...   \n",
              "\n",
              "                            molform $nist source  \\\n",
              "cas registry no                                    \n",
              "7496-45-9                  C7 H8 N4     COBLENTZ   \n",
              "106-36-5               C 6 H 12 O 2      MSDC-IR   \n",
              "5347-82-0             C2 H7 N O4 S2     COBLENTZ   \n",
              "112-17-4              C 12 H 24 O 2      MSDC-IR   \n",
              "4919-37-3              C 9 H 10 O 3      MSDC-IR   \n",
              "...                             ...          ...   \n",
              "25173-72-2            C 12 H 16 O 5      MSDC-IR   \n",
              "56946-83-9       C 4 H Cl 3 O 2 S 2      MSDC-IR   \n",
              "823-09-6                 C5 H6 N2 S     COBLENTZ   \n",
              "825-03-6               C 9 H 12 O 2      MSDC-IR   \n",
              "622-60-6                 C 9 H 12 O      MSDC-IR   \n",
              "\n",
              "                                          spectrometer/data system  \\\n",
              "cas registry no                                                      \n",
              "7496-45-9                               PERKIN-ELMER 221 (GRATING)   \n",
              "106-36-5                                                       NaN   \n",
              "5347-82-0        Not specified, most likely a prism, grating, o...   \n",
              "112-17-4                                              HP-GC/MS/IRD   \n",
              "4919-37-3                                                      NaN   \n",
              "...                                                            ...   \n",
              "25173-72-2                                                     NaN   \n",
              "56946-83-9                                                     NaN   \n",
              "823-09-6                                 PERKIN-ELMER 21 (GRATING)   \n",
              "825-03-6                                                       NaN   \n",
              "622-60-6                                                       NaN   \n",
              "\n",
              "                                            state  ...  \\\n",
              "cas registry no                                    ...   \n",
              "7496-45-9        SOLID (0.8 mg / 650 mg KBr DISC)  ...   \n",
              "106-36-5                                      gas  ...   \n",
              "5347-82-0                            SOLID (MULL)  ...   \n",
              "112-17-4                                      gas  ...   \n",
              "4919-37-3                                     gas  ...   \n",
              "...                                           ...  ...   \n",
              "25173-72-2                                    gas  ...   \n",
              "56946-83-9                                    gas  ...   \n",
              "823-09-6                            LIQUID (NEAT)  ...   \n",
              "825-03-6                                      gas  ...   \n",
              "622-60-6                                      gas  ...   \n",
              "\n",
              "                number of interferograms averaged per single channel spectrum  \\\n",
              "cas registry no                                                                 \n",
              "7496-45-9                                                      NaN              \n",
              "106-36-5                                                       NaN              \n",
              "5347-82-0                                                      NaN              \n",
              "112-17-4                                                       NaN              \n",
              "4919-37-3                                                      NaN              \n",
              "...                                                            ...              \n",
              "25173-72-2                                                     NaN              \n",
              "56946-83-9                                                     NaN              \n",
              "823-09-6                                                       NaN              \n",
              "825-03-6                                                       NaN              \n",
              "622-60-6                                                       NaN              \n",
              "\n",
              "                sample description temperature $spectra version  \\\n",
              "cas registry no                                                   \n",
              "7496-45-9                      NaN         NaN              NaN   \n",
              "106-36-5                       NaN         NaN              NaN   \n",
              "5347-82-0                      NaN         NaN              NaN   \n",
              "112-17-4                       NaN         NaN              NaN   \n",
              "4919-37-3                      NaN         NaN              NaN   \n",
              "...                            ...         ...              ...   \n",
              "25173-72-2                     NaN         NaN              NaN   \n",
              "56946-83-9                     NaN         NaN              NaN   \n",
              "823-09-6                       NaN         NaN              NaN   \n",
              "825-03-6                       NaN         NaN              NaN   \n",
              "622-60-6                       NaN         NaN              NaN   \n",
              "\n",
              "                $uncertainty in y pressure  \\\n",
              "cas registry no                              \n",
              "7496-45-9                     NaN      NaN   \n",
              "106-36-5                      NaN      NaN   \n",
              "5347-82-0                     NaN      NaN   \n",
              "112-17-4                      NaN      NaN   \n",
              "4919-37-3                     NaN      NaN   \n",
              "...                           ...      ...   \n",
              "25173-72-2                    NaN      NaN   \n",
              "56946-83-9                    NaN      NaN   \n",
              "823-09-6                      NaN      NaN   \n",
              "825-03-6                      NaN      NaN   \n",
              "622-60-6                      NaN      NaN   \n",
              "\n",
              "                                                                x1  \\\n",
              "cas registry no                                                      \n",
              "7496-45-9        [500, 502, 504, 506, 508, 510, 512, 514, 516, ...   \n",
              "106-36-5         [500, 502, 504, 506, 508, 510, 512, 514, 516, ...   \n",
              "5347-82-0        [500, 502, 504, 506, 508, 510, 512, 514, 516, ...   \n",
              "112-17-4         [500, 502, 504, 506, 508, 510, 512, 514, 516, ...   \n",
              "4919-37-3        [500, 502, 504, 506, 508, 510, 512, 514, 516, ...   \n",
              "...                                                            ...   \n",
              "25173-72-2       [500, 502, 504, 506, 508, 510, 512, 514, 516, ...   \n",
              "56946-83-9       [500, 502, 504, 506, 508, 510, 512, 514, 516, ...   \n",
              "823-09-6         [500, 502, 504, 506, 508, 510, 512, 514, 516, ...   \n",
              "825-03-6         [500, 502, 504, 506, 508, 510, 512, 514, 516, ...   \n",
              "622-60-6         [500, 502, 504, 506, 508, 510, 512, 514, 516, ...   \n",
              "\n",
              "                                                                y1  \\\n",
              "cas registry no                                                      \n",
              "7496-45-9        [0.13739997148513794, 0.13739997148513794, 0.1...   \n",
              "106-36-5         [0.05554400011897087, 0.054496001452207565, 0....   \n",
              "5347-82-0        [0.21799999475479126, 0.21799999475479126, 0.2...   \n",
              "112-17-4         [0.0001320000010309741, 0.0001320000010309741,...   \n",
              "4919-37-3        [0.01228999998420477, 0.01228999998420477, 0.0...   \n",
              "...                                                            ...   \n",
              "25173-72-2       [0.010820000432431698, 0.010820000432431698, 0...   \n",
              "56946-83-9       [0.13794000446796417, 0.13794000446796417, 0.1...   \n",
              "823-09-6         [0.2558000087738037, 0.2558000087738037, 0.255...   \n",
              "825-03-6         [0.013222400099039078, 0.013222400099039078, 0...   \n",
              "622-60-6         [0.0672122985124588, 0.07183876633644104, 0.06...   \n",
              "\n",
              "                                                            y_peak  \\\n",
              "cas registry no                                                      \n",
              "7496-45-9        [0.0, 0.0, 0.0, 0.0, 0.0, 0.0, 0.0, 0.0, 0.0, ...   \n",
              "106-36-5         [0.0, 0.0, 0.0, 0.0, 0.0, 0.0, 0.0, 0.0, 0.0, ...   \n",
              "5347-82-0        [0.0, 0.0, 0.0, 0.0, 0.0, 0.0, 0.0, 0.0, 0.0, ...   \n",
              "112-17-4         [0.0, 0.0, 0.0, 0.0, 0.0, 0.0, 0.0, 0.0, 0.0, ...   \n",
              "4919-37-3        [0.0, 0.0, 0.0, 0.0, 0.0, 0.0, 0.0, 0.0, 0.0, ...   \n",
              "...                                                            ...   \n",
              "25173-72-2       [0.0, 0.0, 0.0, 0.0, 0.0, 0.0, 0.0, 0.0, 0.0, ...   \n",
              "56946-83-9       [0.0, 0.0, 0.0, 0.0, 0.0, 0.0, 0.0, 0.0, 0.0, ...   \n",
              "823-09-6         [0.0, 0.0, 0.0, 0.0, 0.0, 0.0, 0.0, 0.0, 0.0, ...   \n",
              "825-03-6         [0.0, 0.0, 0.0, 0.0, 0.0, 0.0, 0.0, 0.0, 0.0, ...   \n",
              "622-60-6         [0.5, 0.6, 0.7, 0.8, 0.9, 1.0, 0.9, 0.8, 0.7, ...   \n",
              "\n",
              "                                                            x_peak  \n",
              "cas registry no                                                     \n",
              "7496-45-9        [580, 640, 664, 726, 798, 834, 928, 966, 1022,...  \n",
              "106-36-5         [542, 594, 618, 642, 674, 770, 814, 838, 882, ...  \n",
              "5347-82-0        [632, 662, 766, 866, 974, 1024, 1066, 1150, 13...  \n",
              "112-17-4                [1042, 1234, 1370, 1462, 1762, 2866, 2934]  \n",
              "4919-37-3        [588, 656, 770, 934, 1104, 1146, 1198, 1266, 1...  \n",
              "...                                                            ...  \n",
              "25173-72-2       [576, 778, 832, 930, 1016, 1044, 1118, 1186, 1...  \n",
              "56946-83-9       [558, 598, 632, 830, 854, 1008, 1046, 1136, 11...  \n",
              "823-09-6         [610, 710, 748, 770, 796, 876, 964, 1012, 1062...  \n",
              "825-03-6         [582, 622, 650, 708, 768, 1022, 1094, 1138, 12...  \n",
              "622-60-6         [510, 818, 920, 1050, 1114, 1174, 1242, 1286, ...  \n",
              "\n",
              "[14337 rows x 79 columns]"
            ],
            "text/html": [
              "\n",
              "  <div id=\"df-bcdf0ce4-1597-4c18-affd-840c23ae6a0f\">\n",
              "    <div class=\"colab-df-container\">\n",
              "      <div>\n",
              "<style scoped>\n",
              "    .dataframe tbody tr th:only-of-type {\n",
              "        vertical-align: middle;\n",
              "    }\n",
              "\n",
              "    .dataframe tbody tr th {\n",
              "        vertical-align: top;\n",
              "    }\n",
              "\n",
              "    .dataframe thead th {\n",
              "        text-align: right;\n",
              "    }\n",
              "</style>\n",
              "<table border=\"1\" class=\"dataframe\">\n",
              "  <thead>\n",
              "    <tr style=\"text-align: right;\">\n",
              "      <th></th>\n",
              "      <th>index</th>\n",
              "      <th>title</th>\n",
              "      <th>jcamp-dx</th>\n",
              "      <th>data type</th>\n",
              "      <th>origin</th>\n",
              "      <th>owner</th>\n",
              "      <th>molform</th>\n",
              "      <th>$nist source</th>\n",
              "      <th>spectrometer/data system</th>\n",
              "      <th>state</th>\n",
              "      <th>...</th>\n",
              "      <th>number of interferograms averaged per single channel spectrum</th>\n",
              "      <th>sample description</th>\n",
              "      <th>temperature</th>\n",
              "      <th>$spectra version</th>\n",
              "      <th>$uncertainty in y</th>\n",
              "      <th>pressure</th>\n",
              "      <th>x1</th>\n",
              "      <th>y1</th>\n",
              "      <th>y_peak</th>\n",
              "      <th>x_peak</th>\n",
              "    </tr>\n",
              "    <tr>\n",
              "      <th>cas registry no</th>\n",
              "      <th></th>\n",
              "      <th></th>\n",
              "      <th></th>\n",
              "      <th></th>\n",
              "      <th></th>\n",
              "      <th></th>\n",
              "      <th></th>\n",
              "      <th></th>\n",
              "      <th></th>\n",
              "      <th></th>\n",
              "      <th></th>\n",
              "      <th></th>\n",
              "      <th></th>\n",
              "      <th></th>\n",
              "      <th></th>\n",
              "      <th></th>\n",
              "      <th></th>\n",
              "      <th></th>\n",
              "      <th></th>\n",
              "      <th></th>\n",
              "      <th></th>\n",
              "    </tr>\n",
              "  </thead>\n",
              "  <tbody>\n",
              "    <tr>\n",
              "      <th>7496-45-9</th>\n",
              "      <td>7496-45-9</td>\n",
              "      <td>Purine, 1-ethyl-</td>\n",
              "      <td>4.24</td>\n",
              "      <td>INFRARED SPECTRUM</td>\n",
              "      <td>SOUTHERN RESEARCH INSTITUTE</td>\n",
              "      <td>Copyright (C) 1987 by the Coblentz Society\\nCo...</td>\n",
              "      <td>C7 H8 N4</td>\n",
              "      <td>COBLENTZ</td>\n",
              "      <td>PERKIN-ELMER 221 (GRATING)</td>\n",
              "      <td>SOLID (0.8 mg / 650 mg KBr DISC)</td>\n",
              "      <td>...</td>\n",
              "      <td>NaN</td>\n",
              "      <td>NaN</td>\n",
              "      <td>NaN</td>\n",
              "      <td>NaN</td>\n",
              "      <td>NaN</td>\n",
              "      <td>NaN</td>\n",
              "      <td>[500, 502, 504, 506, 508, 510, 512, 514, 516, ...</td>\n",
              "      <td>[0.13739997148513794, 0.13739997148513794, 0.1...</td>\n",
              "      <td>[0.0, 0.0, 0.0, 0.0, 0.0, 0.0, 0.0, 0.0, 0.0, ...</td>\n",
              "      <td>[580, 640, 664, 726, 798, 834, 928, 966, 1022,...</td>\n",
              "    </tr>\n",
              "    <tr>\n",
              "      <th>106-36-5</th>\n",
              "      <td>106-36-5</td>\n",
              "      <td>Propanoic acid, propyl ester</td>\n",
              "      <td>4.24</td>\n",
              "      <td>INFRARED SPECTRUM</td>\n",
              "      <td>Sadtler Research Labs Under US-EPA Contract</td>\n",
              "      <td>NIST Standard Reference Data Program\\nCollecti...</td>\n",
              "      <td>C 6 H 12 O 2</td>\n",
              "      <td>MSDC-IR</td>\n",
              "      <td>NaN</td>\n",
              "      <td>gas</td>\n",
              "      <td>...</td>\n",
              "      <td>NaN</td>\n",
              "      <td>NaN</td>\n",
              "      <td>NaN</td>\n",
              "      <td>NaN</td>\n",
              "      <td>NaN</td>\n",
              "      <td>NaN</td>\n",
              "      <td>[500, 502, 504, 506, 508, 510, 512, 514, 516, ...</td>\n",
              "      <td>[0.05554400011897087, 0.054496001452207565, 0....</td>\n",
              "      <td>[0.0, 0.0, 0.0, 0.0, 0.0, 0.0, 0.0, 0.0, 0.0, ...</td>\n",
              "      <td>[542, 594, 618, 642, 674, 770, 814, 838, 882, ...</td>\n",
              "    </tr>\n",
              "    <tr>\n",
              "      <th>5347-82-0</th>\n",
              "      <td>5347-82-0</td>\n",
              "      <td>DIMETHANE SULFONAMIDE</td>\n",
              "      <td>4.24</td>\n",
              "      <td>INFRARED SPECTRUM</td>\n",
              "      <td>WYANDOTTE CHEMICALS CORP., WYANDOTTE, MICHIGAN...</td>\n",
              "      <td>COBLENTZ SOCIETY\\nCollection (C) 2018 copyrigh...</td>\n",
              "      <td>C2 H7 N O4 S2</td>\n",
              "      <td>COBLENTZ</td>\n",
              "      <td>Not specified, most likely a prism, grating, o...</td>\n",
              "      <td>SOLID (MULL)</td>\n",
              "      <td>...</td>\n",
              "      <td>NaN</td>\n",
              "      <td>NaN</td>\n",
              "      <td>NaN</td>\n",
              "      <td>NaN</td>\n",
              "      <td>NaN</td>\n",
              "      <td>NaN</td>\n",
              "      <td>[500, 502, 504, 506, 508, 510, 512, 514, 516, ...</td>\n",
              "      <td>[0.21799999475479126, 0.21799999475479126, 0.2...</td>\n",
              "      <td>[0.0, 0.0, 0.0, 0.0, 0.0, 0.0, 0.0, 0.0, 0.0, ...</td>\n",
              "      <td>[632, 662, 766, 866, 974, 1024, 1066, 1150, 13...</td>\n",
              "    </tr>\n",
              "    <tr>\n",
              "      <th>112-17-4</th>\n",
              "      <td>112-17-4</td>\n",
              "      <td>1-Decanol acetate</td>\n",
              "      <td>4.24</td>\n",
              "      <td>INFRARED SPECTRUM</td>\n",
              "      <td>NIST Mass Spectrometry Data Center</td>\n",
              "      <td>NIST Standard Reference Data Program\\nCollecti...</td>\n",
              "      <td>C 12 H 24 O 2</td>\n",
              "      <td>MSDC-IR</td>\n",
              "      <td>HP-GC/MS/IRD</td>\n",
              "      <td>gas</td>\n",
              "      <td>...</td>\n",
              "      <td>NaN</td>\n",
              "      <td>NaN</td>\n",
              "      <td>NaN</td>\n",
              "      <td>NaN</td>\n",
              "      <td>NaN</td>\n",
              "      <td>NaN</td>\n",
              "      <td>[500, 502, 504, 506, 508, 510, 512, 514, 516, ...</td>\n",
              "      <td>[0.0001320000010309741, 0.0001320000010309741,...</td>\n",
              "      <td>[0.0, 0.0, 0.0, 0.0, 0.0, 0.0, 0.0, 0.0, 0.0, ...</td>\n",
              "      <td>[1042, 1234, 1370, 1462, 1762, 2866, 2934]</td>\n",
              "    </tr>\n",
              "    <tr>\n",
              "      <th>4919-37-3</th>\n",
              "      <td>4919-37-3</td>\n",
              "      <td>4-Hydroxy-3,5-dimethylbenzoic acid</td>\n",
              "      <td>4.24</td>\n",
              "      <td>INFRARED SPECTRUM</td>\n",
              "      <td>EPA-IR VAPOR PHASE LIBRARY</td>\n",
              "      <td>SRD/NIST\\nCollection (C) 2018 copyright by the...</td>\n",
              "      <td>C 9 H 10 O 3</td>\n",
              "      <td>MSDC-IR</td>\n",
              "      <td>NaN</td>\n",
              "      <td>gas</td>\n",
              "      <td>...</td>\n",
              "      <td>NaN</td>\n",
              "      <td>NaN</td>\n",
              "      <td>NaN</td>\n",
              "      <td>NaN</td>\n",
              "      <td>NaN</td>\n",
              "      <td>NaN</td>\n",
              "      <td>[500, 502, 504, 506, 508, 510, 512, 514, 516, ...</td>\n",
              "      <td>[0.01228999998420477, 0.01228999998420477, 0.0...</td>\n",
              "      <td>[0.0, 0.0, 0.0, 0.0, 0.0, 0.0, 0.0, 0.0, 0.0, ...</td>\n",
              "      <td>[588, 656, 770, 934, 1104, 1146, 1198, 1266, 1...</td>\n",
              "    </tr>\n",
              "    <tr>\n",
              "      <th>...</th>\n",
              "      <td>...</td>\n",
              "      <td>...</td>\n",
              "      <td>...</td>\n",
              "      <td>...</td>\n",
              "      <td>...</td>\n",
              "      <td>...</td>\n",
              "      <td>...</td>\n",
              "      <td>...</td>\n",
              "      <td>...</td>\n",
              "      <td>...</td>\n",
              "      <td>...</td>\n",
              "      <td>...</td>\n",
              "      <td>...</td>\n",
              "      <td>...</td>\n",
              "      <td>...</td>\n",
              "      <td>...</td>\n",
              "      <td>...</td>\n",
              "      <td>...</td>\n",
              "      <td>...</td>\n",
              "      <td>...</td>\n",
              "      <td>...</td>\n",
              "    </tr>\n",
              "    <tr>\n",
              "      <th>25173-72-2</th>\n",
              "      <td>25173-72-2</td>\n",
              "      <td>3-(3,4,5-Trimethoxyphenyl)propionic acid</td>\n",
              "      <td>4.24</td>\n",
              "      <td>INFRARED SPECTRUM</td>\n",
              "      <td>EPA-IR VAPOR PHASE LIBRARY</td>\n",
              "      <td>SRD/NIST\\nCollection (C) 2018 copyright by the...</td>\n",
              "      <td>C 12 H 16 O 5</td>\n",
              "      <td>MSDC-IR</td>\n",
              "      <td>NaN</td>\n",
              "      <td>gas</td>\n",
              "      <td>...</td>\n",
              "      <td>NaN</td>\n",
              "      <td>NaN</td>\n",
              "      <td>NaN</td>\n",
              "      <td>NaN</td>\n",
              "      <td>NaN</td>\n",
              "      <td>NaN</td>\n",
              "      <td>[500, 502, 504, 506, 508, 510, 512, 514, 516, ...</td>\n",
              "      <td>[0.010820000432431698, 0.010820000432431698, 0...</td>\n",
              "      <td>[0.0, 0.0, 0.0, 0.0, 0.0, 0.0, 0.0, 0.0, 0.0, ...</td>\n",
              "      <td>[576, 778, 832, 930, 1016, 1044, 1118, 1186, 1...</td>\n",
              "    </tr>\n",
              "    <tr>\n",
              "      <th>56946-83-9</th>\n",
              "      <td>56946-83-9</td>\n",
              "      <td>2,5-Dichlorothiophene-3-sulphonyl chloride</td>\n",
              "      <td>4.24</td>\n",
              "      <td>INFRARED SPECTRUM</td>\n",
              "      <td>EPA-IR VAPOR PHASE LIBRARY</td>\n",
              "      <td>SRD/NIST\\nCollection (C) 2018 copyright by the...</td>\n",
              "      <td>C 4 H Cl 3 O 2 S 2</td>\n",
              "      <td>MSDC-IR</td>\n",
              "      <td>NaN</td>\n",
              "      <td>gas</td>\n",
              "      <td>...</td>\n",
              "      <td>NaN</td>\n",
              "      <td>NaN</td>\n",
              "      <td>NaN</td>\n",
              "      <td>NaN</td>\n",
              "      <td>NaN</td>\n",
              "      <td>NaN</td>\n",
              "      <td>[500, 502, 504, 506, 508, 510, 512, 514, 516, ...</td>\n",
              "      <td>[0.13794000446796417, 0.13794000446796417, 0.1...</td>\n",
              "      <td>[0.0, 0.0, 0.0, 0.0, 0.0, 0.0, 0.0, 0.0, 0.0, ...</td>\n",
              "      <td>[558, 598, 632, 830, 854, 1008, 1046, 1136, 11...</td>\n",
              "    </tr>\n",
              "    <tr>\n",
              "      <th>823-09-6</th>\n",
              "      <td>823-09-6</td>\n",
              "      <td>Pyrimidine, 2-(methylthio)-,</td>\n",
              "      <td>4.24</td>\n",
              "      <td>INFRARED SPECTRUM</td>\n",
              "      <td>SOUTHERN RESEARCH INSTITUTE</td>\n",
              "      <td>Copyright (C) 1987 by the Coblentz Society\\nCo...</td>\n",
              "      <td>C5 H6 N2 S</td>\n",
              "      <td>COBLENTZ</td>\n",
              "      <td>PERKIN-ELMER 21 (GRATING)</td>\n",
              "      <td>LIQUID (NEAT)</td>\n",
              "      <td>...</td>\n",
              "      <td>NaN</td>\n",
              "      <td>NaN</td>\n",
              "      <td>NaN</td>\n",
              "      <td>NaN</td>\n",
              "      <td>NaN</td>\n",
              "      <td>NaN</td>\n",
              "      <td>[500, 502, 504, 506, 508, 510, 512, 514, 516, ...</td>\n",
              "      <td>[0.2558000087738037, 0.2558000087738037, 0.255...</td>\n",
              "      <td>[0.0, 0.0, 0.0, 0.0, 0.0, 0.0, 0.0, 0.0, 0.0, ...</td>\n",
              "      <td>[610, 710, 748, 770, 796, 876, 964, 1012, 1062...</td>\n",
              "    </tr>\n",
              "    <tr>\n",
              "      <th>825-03-6</th>\n",
              "      <td>825-03-6</td>\n",
              "      <td>2-Methylbicyclo[2.2.1]-5-heptene-2-carboxylic ...</td>\n",
              "      <td>4.24</td>\n",
              "      <td>INFRARED SPECTRUM</td>\n",
              "      <td>EPA-IR VAPOR PHASE LIBRARY</td>\n",
              "      <td>SRD/NIST\\nCollection (C) 2018 copyright by the...</td>\n",
              "      <td>C 9 H 12 O 2</td>\n",
              "      <td>MSDC-IR</td>\n",
              "      <td>NaN</td>\n",
              "      <td>gas</td>\n",
              "      <td>...</td>\n",
              "      <td>NaN</td>\n",
              "      <td>NaN</td>\n",
              "      <td>NaN</td>\n",
              "      <td>NaN</td>\n",
              "      <td>NaN</td>\n",
              "      <td>NaN</td>\n",
              "      <td>[500, 502, 504, 506, 508, 510, 512, 514, 516, ...</td>\n",
              "      <td>[0.013222400099039078, 0.013222400099039078, 0...</td>\n",
              "      <td>[0.0, 0.0, 0.0, 0.0, 0.0, 0.0, 0.0, 0.0, 0.0, ...</td>\n",
              "      <td>[582, 622, 650, 708, 768, 1022, 1094, 1138, 12...</td>\n",
              "    </tr>\n",
              "    <tr>\n",
              "      <th>622-60-6</th>\n",
              "      <td>622-60-6</td>\n",
              "      <td>Benzene, 1-ethoxy-4-methyl-</td>\n",
              "      <td>4.24</td>\n",
              "      <td>INFRARED SPECTRUM</td>\n",
              "      <td>Sadtler Research Labs Under US-EPA Contract</td>\n",
              "      <td>NIST Standard Reference Data Program\\nCollecti...</td>\n",
              "      <td>C 9 H 12 O</td>\n",
              "      <td>MSDC-IR</td>\n",
              "      <td>NaN</td>\n",
              "      <td>gas</td>\n",
              "      <td>...</td>\n",
              "      <td>NaN</td>\n",
              "      <td>NaN</td>\n",
              "      <td>NaN</td>\n",
              "      <td>NaN</td>\n",
              "      <td>NaN</td>\n",
              "      <td>NaN</td>\n",
              "      <td>[500, 502, 504, 506, 508, 510, 512, 514, 516, ...</td>\n",
              "      <td>[0.0672122985124588, 0.07183876633644104, 0.06...</td>\n",
              "      <td>[0.5, 0.6, 0.7, 0.8, 0.9, 1.0, 0.9, 0.8, 0.7, ...</td>\n",
              "      <td>[510, 818, 920, 1050, 1114, 1174, 1242, 1286, ...</td>\n",
              "    </tr>\n",
              "  </tbody>\n",
              "</table>\n",
              "<p>14337 rows × 79 columns</p>\n",
              "</div>\n",
              "      <button class=\"colab-df-convert\" onclick=\"convertToInteractive('df-bcdf0ce4-1597-4c18-affd-840c23ae6a0f')\"\n",
              "              title=\"Convert this dataframe to an interactive table.\"\n",
              "              style=\"display:none;\">\n",
              "        \n",
              "  <svg xmlns=\"http://www.w3.org/2000/svg\" height=\"24px\"viewBox=\"0 0 24 24\"\n",
              "       width=\"24px\">\n",
              "    <path d=\"M0 0h24v24H0V0z\" fill=\"none\"/>\n",
              "    <path d=\"M18.56 5.44l.94 2.06.94-2.06 2.06-.94-2.06-.94-.94-2.06-.94 2.06-2.06.94zm-11 1L8.5 8.5l.94-2.06 2.06-.94-2.06-.94L8.5 2.5l-.94 2.06-2.06.94zm10 10l.94 2.06.94-2.06 2.06-.94-2.06-.94-.94-2.06-.94 2.06-2.06.94z\"/><path d=\"M17.41 7.96l-1.37-1.37c-.4-.4-.92-.59-1.43-.59-.52 0-1.04.2-1.43.59L10.3 9.45l-7.72 7.72c-.78.78-.78 2.05 0 2.83L4 21.41c.39.39.9.59 1.41.59.51 0 1.02-.2 1.41-.59l7.78-7.78 2.81-2.81c.8-.78.8-2.07 0-2.86zM5.41 20L4 18.59l7.72-7.72 1.47 1.35L5.41 20z\"/>\n",
              "  </svg>\n",
              "      </button>\n",
              "      \n",
              "  <style>\n",
              "    .colab-df-container {\n",
              "      display:flex;\n",
              "      flex-wrap:wrap;\n",
              "      gap: 12px;\n",
              "    }\n",
              "\n",
              "    .colab-df-convert {\n",
              "      background-color: #E8F0FE;\n",
              "      border: none;\n",
              "      border-radius: 50%;\n",
              "      cursor: pointer;\n",
              "      display: none;\n",
              "      fill: #1967D2;\n",
              "      height: 32px;\n",
              "      padding: 0 0 0 0;\n",
              "      width: 32px;\n",
              "    }\n",
              "\n",
              "    .colab-df-convert:hover {\n",
              "      background-color: #E2EBFA;\n",
              "      box-shadow: 0px 1px 2px rgba(60, 64, 67, 0.3), 0px 1px 3px 1px rgba(60, 64, 67, 0.15);\n",
              "      fill: #174EA6;\n",
              "    }\n",
              "\n",
              "    [theme=dark] .colab-df-convert {\n",
              "      background-color: #3B4455;\n",
              "      fill: #D2E3FC;\n",
              "    }\n",
              "\n",
              "    [theme=dark] .colab-df-convert:hover {\n",
              "      background-color: #434B5C;\n",
              "      box-shadow: 0px 1px 3px 1px rgba(0, 0, 0, 0.15);\n",
              "      filter: drop-shadow(0px 1px 2px rgba(0, 0, 0, 0.3));\n",
              "      fill: #FFFFFF;\n",
              "    }\n",
              "  </style>\n",
              "\n",
              "      <script>\n",
              "        const buttonEl =\n",
              "          document.querySelector('#df-bcdf0ce4-1597-4c18-affd-840c23ae6a0f button.colab-df-convert');\n",
              "        buttonEl.style.display =\n",
              "          google.colab.kernel.accessAllowed ? 'block' : 'none';\n",
              "\n",
              "        async function convertToInteractive(key) {\n",
              "          const element = document.querySelector('#df-bcdf0ce4-1597-4c18-affd-840c23ae6a0f');\n",
              "          const dataTable =\n",
              "            await google.colab.kernel.invokeFunction('convertToInteractive',\n",
              "                                                     [key], {});\n",
              "          if (!dataTable) return;\n",
              "\n",
              "          const docLinkHtml = 'Like what you see? Visit the ' +\n",
              "            '<a target=\"_blank\" href=https://colab.research.google.com/notebooks/data_table.ipynb>data table notebook</a>'\n",
              "            + ' to learn more about interactive tables.';\n",
              "          element.innerHTML = '';\n",
              "          dataTable['output_type'] = 'display_data';\n",
              "          await google.colab.output.renderOutput(dataTable, element);\n",
              "          const docLink = document.createElement('div');\n",
              "          docLink.innerHTML = docLinkHtml;\n",
              "          element.appendChild(docLink);\n",
              "        }\n",
              "      </script>\n",
              "    </div>\n",
              "  </div>\n",
              "  "
            ]
          },
          "metadata": {},
          "execution_count": 5
        }
      ]
    },
    {
      "cell_type": "code",
      "execution_count": null,
      "metadata": {
        "id": "b1dkhQEufJ9n"
      },
      "outputs": [],
      "source": [
        "labels_df = pd.read_csv('/content/IR_expert_system/data/nist_ir_spectra_inchi_group_list.csv')\n",
        "labels_df = labels_df.set_index(\"CAS\")\n",
        "#labels_df"
      ]
    },
    {
      "cell_type": "code",
      "source": [
        "labels72_df = pd.read_csv('/content/IR_expert_system/data/nist_ir_spectra_list_with_72_bonds.csv')\n",
        "labels72_df = labels72_df.set_index([\"CAS\"])\n",
        "labels72_df"
      ],
      "metadata": {
        "colab": {
          "base_uri": "https://localhost:8080/",
          "height": 971
        },
        "id": "mDtQqpbJeo8L",
        "outputId": "71a8a1ff-0036-40b4-cf05-1b3a3183dd65"
      },
      "execution_count": 141,
      "outputs": [
        {
          "output_type": "execute_result",
          "data": {
            "text/plain": [
              "           Unnamed: 0                                             Name  \\\n",
              "CAS                                                                      \n",
              "100-00-5            0                       Benzene, 1-chloro-4-nitro-   \n",
              "100-01-6            1                                   p-Nitroaniline   \n",
              "100-02-7            2                                 Phenol, 4-nitro-   \n",
              "1000-49-3           5                           N-butyltrimethylsilane   \n",
              "1000-50-6           6                      N-Butyldimethylchlorosilane   \n",
              "...               ...                                              ...   \n",
              "99-97-8         44445                    Benzenamine, N,N,4-trimethyl-   \n",
              "999-78-0        44446                         2-Pentyne, 4,4-dimethyl-   \n",
              "999-81-5        44448       Ammonium chloride, 2-chloroethyltrimethyl-   \n",
              "99-99-0         44452                       Benzene, 1-methyl-4-nitro-   \n",
              "999-97-3        44454  Silanamine, 1,1,1-trimethyl-N-(trimethylsilyl)-   \n",
              "\n",
              "               Formula          Mw                     Elements  \\\n",
              "CAS                                                               \n",
              "100-00-5     C6H4ClNO2  156.993056   ['C', 'H', 'Cl', 'N', 'O']   \n",
              "100-01-6      C6H6N2O2  138.042927         ['C', 'H', 'N', 'O']   \n",
              "100-02-7       C6H5NO3  139.026943         ['C', 'H', 'N', 'O']   \n",
              "1000-49-3      C7H18Si  130.117777             ['C', 'H', 'Si']   \n",
              "1000-50-6    C6H15ClSi  150.063155       ['C', 'H', 'Cl', 'Si']   \n",
              "...                ...         ...                          ...   \n",
              "99-97-8         C9H13N  135.104799              ['C', 'H', 'N']   \n",
              "999-78-0         C7H12   96.093900                   ['C', 'H']   \n",
              "999-81-5   C5H13ClN.Cl  157.042505  ['C', 'H', 'Cl', 'N', 'Cl']   \n",
              "99-99-0        C7H7NO2  137.047678         ['C', 'H', 'N', 'O']   \n",
              "999-97-3     C6H19NSi2  161.105603        ['C', 'H', 'N', 'Si']   \n",
              "\n",
              "                                                       InChi  \\\n",
              "CAS                                                            \n",
              "100-00-5     InChI=1/C6H4ClNO2/c7-5-1-3-6(4-2-5)8(9)10/h1-4H   \n",
              "100-01-6   InChI=1/C6H6N2O2/c7-5-1-3-6(4-2-5)8(9)10/h1-4H...   \n",
              "100-02-7     InChI=1/C6H5NO3/c8-6-3-1-5(2-4-6)7(9)10/h1-4,8H   \n",
              "1000-49-3      InChI=1/C7H18Si/c1-5-6-7-8(2,3)4/h5-7H2,1-4H3   \n",
              "1000-50-6    InChI=1/C6H15ClSi/c1-4-5-6-8(2,3)7/h4-6H2,1-3H3   \n",
              "...                                                      ...   \n",
              "99-97-8    InChI=1/C9H13N/c1-8-4-6-9(7-5-8)10(2)3/h4-7H,1...   \n",
              "999-78-0                 InChI=1/C7H12/c1-5-6-7(2,3)4/h1-4H3   \n",
              "999-81-5   InChI=1/C5H13ClN.ClH/c1-7(2,3)5-4-6;/h4-5H2,1-...   \n",
              "99-99-0    InChI=1/C7H7NO2/c1-6-2-4-7(5-3-6)8(9)10/h2-5H,1H3   \n",
              "999-97-3      InChI=1/C6H19NSi2/c1-8(2,3)7-9(4,5)6/h7H,1-6H3   \n",
              "\n",
              "                             SMILES  \\\n",
              "CAS                                   \n",
              "100-00-5   [O-][N+](=O)c1ccc(Cl)cc1   \n",
              "100-01-6    Nc1ccc(cc1)[N+]([O-])=O   \n",
              "100-02-7    Oc1ccc(cc1)[N+]([O-])=O   \n",
              "1000-49-3           CCCC[Si](C)(C)C   \n",
              "1000-50-6          CCCC[Si](C)(C)Cl   \n",
              "...                             ...   \n",
              "99-97-8            CN(C)c1ccc(C)cc1   \n",
              "999-78-0               CC#CC(C)(C)C   \n",
              "999-81-5      [Cl-].C[N+](C)(C)CCCl   \n",
              "99-99-0     Cc1ccc(cc1)[N+]([O-])=O   \n",
              "999-97-3    C[Si](C)(C)N[Si](C)(C)C   \n",
              "\n",
              "           C─H alkyl methyl 1260 strong/1380 weak/2870 medium to strong/2960 medium to strong  \\\n",
              "CAS                                                                                             \n",
              "100-00-5                                                 0.0                                    \n",
              "100-01-6                                                 0.0                                    \n",
              "100-02-7                                                 0.0                                    \n",
              "1000-49-3                                                1.0                                    \n",
              "1000-50-6                                                1.0                                    \n",
              "...                                                      ...                                    \n",
              "99-97-8                                                  1.0                                    \n",
              "999-78-0                                                 1.0                                    \n",
              "999-81-5                                                 1.0                                    \n",
              "99-99-0                                                  1.0                                    \n",
              "999-97-3                                                 1.0                                    \n",
              "\n",
              "           C─H alkyl methylene 1470 strong/2850 medium to strong/2925 medium to strong  \\\n",
              "CAS                                                                                      \n",
              "100-00-5                                                 0.0                             \n",
              "100-01-6                                                 0.0                             \n",
              "100-02-7                                                 0.0                             \n",
              "1000-49-3                                                1.0                             \n",
              "1000-50-6                                                1.0                             \n",
              "...                                                      ...                             \n",
              "99-97-8                                                  0.0                             \n",
              "999-78-0                                                 0.0                             \n",
              "999-81-5                                                 1.0                             \n",
              "99-99-0                                                  0.0                             \n",
              "999-97-3                                                 0.0                             \n",
              "\n",
              "           C─H alkyl methine 2890 weak  ...  \\\n",
              "CAS                                     ...   \n",
              "100-00-5                           0.0  ...   \n",
              "100-01-6                           0.0  ...   \n",
              "100-02-7                           0.0  ...   \n",
              "1000-49-3                          0.0  ...   \n",
              "1000-50-6                          0.0  ...   \n",
              "...                                ...  ...   \n",
              "99-97-8                            0.0  ...   \n",
              "999-78-0                           0.0  ...   \n",
              "999-81-5                           0.0  ...   \n",
              "99-99-0                            0.0  ...   \n",
              "999-97-3                           0.0  ...   \n",
              "\n",
              "           C─X fluoroalkanes ordinary 1000–1100  \\\n",
              "CAS                                               \n",
              "100-00-5                                    0.0   \n",
              "100-01-6                                    0.0   \n",
              "100-02-7                                    0.0   \n",
              "1000-49-3                                   0.0   \n",
              "1000-50-6                                   0.0   \n",
              "...                                         ...   \n",
              "99-97-8                                     0.0   \n",
              "999-78-0                                    0.0   \n",
              "999-81-5                                    0.0   \n",
              "99-99-0                                     0.0   \n",
              "999-97-3                                    0.0   \n",
              "\n",
              "           C─X fluoroalkanes trifluoromethyl 1100–1200 two strong, broad bands  \\\n",
              "CAS                                                                              \n",
              "100-00-5                                                 0.0                     \n",
              "100-01-6                                                 0.0                     \n",
              "100-02-7                                                 0.0                     \n",
              "1000-49-3                                                0.0                     \n",
              "1000-50-6                                                0.0                     \n",
              "...                                                      ...                     \n",
              "99-97-8                                                  0.0                     \n",
              "999-78-0                                                 0.0                     \n",
              "999-81-5                                                 0.0                     \n",
              "99-99-0                                                  0.0                     \n",
              "999-97-3                                                 0.0                     \n",
              "\n",
              "           C─X chloroalkanes any 540–760 weak to medium  \\\n",
              "CAS                                                       \n",
              "100-00-5                                            0.0   \n",
              "100-01-6                                            0.0   \n",
              "100-02-7                                            0.0   \n",
              "1000-49-3                                           0.0   \n",
              "1000-50-6                                           0.0   \n",
              "...                                                 ...   \n",
              "99-97-8                                             0.0   \n",
              "999-78-0                                            0.0   \n",
              "999-81-5                                            1.0   \n",
              "99-99-0                                             0.0   \n",
              "999-97-3                                            0.0   \n",
              "\n",
              "           C─X bromoalkanes any 500–600 medium to strong  \\\n",
              "CAS                                                        \n",
              "100-00-5                                             0.0   \n",
              "100-01-6                                             0.0   \n",
              "100-02-7                                             0.0   \n",
              "1000-49-3                                            0.0   \n",
              "1000-50-6                                            0.0   \n",
              "...                                                  ...   \n",
              "99-97-8                                              0.0   \n",
              "999-78-0                                             0.0   \n",
              "999-81-5                                             0.0   \n",
              "99-99-0                                              0.0   \n",
              "999-97-3                                             0.0   \n",
              "\n",
              "           C─X iodoalkanes any 500 medium to strong  \\\n",
              "CAS                                                   \n",
              "100-00-5                                        0.0   \n",
              "100-01-6                                        0.0   \n",
              "100-02-7                                        0.0   \n",
              "1000-49-3                                       0.0   \n",
              "1000-50-6                                       0.0   \n",
              "...                                             ...   \n",
              "99-97-8                                         0.0   \n",
              "999-78-0                                        0.0   \n",
              "999-81-5                                        0.0   \n",
              "99-99-0                                         0.0   \n",
              "999-97-3                                        0.0   \n",
              "\n",
              "           N─O nitro compounds aliphatic 1540 stronger/aliphatic 1380 weaker  \\\n",
              "CAS                                                                            \n",
              "100-00-5                                                 0.0                   \n",
              "100-01-6                                                 0.0                   \n",
              "100-02-7                                                 0.0                   \n",
              "1000-49-3                                                0.0                   \n",
              "1000-50-6                                                0.0                   \n",
              "...                                                      ...                   \n",
              "99-97-8                                                  0.0                   \n",
              "999-78-0                                                 0.0                   \n",
              "999-81-5                                                 0.0                   \n",
              "99-99-0                                                  0.0                   \n",
              "999-97-3                                                 0.0                   \n",
              "\n",
              "           N─O nitro compounds aromatic 1520 lower/1350 lower if conjugated  \\\n",
              "CAS                                                                           \n",
              "100-00-5                                                 1.0                  \n",
              "100-01-6                                                 1.0                  \n",
              "100-02-7                                                 1.0                  \n",
              "1000-49-3                                                0.0                  \n",
              "1000-50-6                                                0.0                  \n",
              "...                                                      ...                  \n",
              "99-97-8                                                  0.0                  \n",
              "999-78-0                                                 0.0                  \n",
              "999-81-5                                                 0.0                  \n",
              "99-99-0                                                  1.0                  \n",
              "999-97-3                                                 0.0                  \n",
              "\n",
              "           P─C Organophosphorus compound aromatic 1440-1460 medium  \\\n",
              "CAS                                                                  \n",
              "100-00-5                                                 0.0         \n",
              "100-01-6                                                 0.0         \n",
              "100-02-7                                                 0.0         \n",
              "1000-49-3                                                0.0         \n",
              "1000-50-6                                                0.0         \n",
              "...                                                      ...         \n",
              "99-97-8                                                  0.0         \n",
              "999-78-0                                                 0.0         \n",
              "999-81-5                                                 0.0         \n",
              "99-99-0                                                  0.0         \n",
              "999-97-3                                                 0.0         \n",
              "\n",
              "           P─O phosphorus oxide bonded 1195-1250 strong  \\\n",
              "CAS                                                       \n",
              "100-00-5                                            0.0   \n",
              "100-01-6                                            0.0   \n",
              "100-02-7                                            0.0   \n",
              "1000-49-3                                           0.0   \n",
              "1000-50-6                                           0.0   \n",
              "...                                                 ...   \n",
              "99-97-8                                             0.0   \n",
              "999-78-0                                            0.0   \n",
              "999-81-5                                            0.0   \n",
              "99-99-0                                             0.0   \n",
              "999-97-3                                            0.0   \n",
              "\n",
              "           P─O phosphorus oxide free 1250-1300 strong  \n",
              "CAS                                                    \n",
              "100-00-5                                          0.0  \n",
              "100-01-6                                          0.0  \n",
              "100-02-7                                          0.0  \n",
              "1000-49-3                                         0.0  \n",
              "1000-50-6                                         0.0  \n",
              "...                                               ...  \n",
              "99-97-8                                           0.0  \n",
              "999-78-0                                          0.0  \n",
              "999-81-5                                          0.0  \n",
              "99-99-0                                           0.0  \n",
              "999-97-3                                          0.0  \n",
              "\n",
              "[12233 rows x 79 columns]"
            ],
            "text/html": [
              "\n",
              "  <div id=\"df-f99a37a9-36d5-42b7-bf88-d809ed1798b4\">\n",
              "    <div class=\"colab-df-container\">\n",
              "      <div>\n",
              "<style scoped>\n",
              "    .dataframe tbody tr th:only-of-type {\n",
              "        vertical-align: middle;\n",
              "    }\n",
              "\n",
              "    .dataframe tbody tr th {\n",
              "        vertical-align: top;\n",
              "    }\n",
              "\n",
              "    .dataframe thead th {\n",
              "        text-align: right;\n",
              "    }\n",
              "</style>\n",
              "<table border=\"1\" class=\"dataframe\">\n",
              "  <thead>\n",
              "    <tr style=\"text-align: right;\">\n",
              "      <th></th>\n",
              "      <th>Unnamed: 0</th>\n",
              "      <th>Name</th>\n",
              "      <th>Formula</th>\n",
              "      <th>Mw</th>\n",
              "      <th>Elements</th>\n",
              "      <th>InChi</th>\n",
              "      <th>SMILES</th>\n",
              "      <th>C─H alkyl methyl 1260 strong/1380 weak/2870 medium to strong/2960 medium to strong</th>\n",
              "      <th>C─H alkyl methylene 1470 strong/2850 medium to strong/2925 medium to strong</th>\n",
              "      <th>C─H alkyl methine 2890 weak</th>\n",
              "      <th>...</th>\n",
              "      <th>C─X fluoroalkanes ordinary 1000–1100</th>\n",
              "      <th>C─X fluoroalkanes trifluoromethyl 1100–1200 two strong, broad bands</th>\n",
              "      <th>C─X chloroalkanes any 540–760 weak to medium</th>\n",
              "      <th>C─X bromoalkanes any 500–600 medium to strong</th>\n",
              "      <th>C─X iodoalkanes any 500 medium to strong</th>\n",
              "      <th>N─O nitro compounds aliphatic 1540 stronger/aliphatic 1380 weaker</th>\n",
              "      <th>N─O nitro compounds aromatic 1520 lower/1350 lower if conjugated</th>\n",
              "      <th>P─C Organophosphorus compound aromatic 1440-1460 medium</th>\n",
              "      <th>P─O phosphorus oxide bonded 1195-1250 strong</th>\n",
              "      <th>P─O phosphorus oxide free 1250-1300 strong</th>\n",
              "    </tr>\n",
              "    <tr>\n",
              "      <th>CAS</th>\n",
              "      <th></th>\n",
              "      <th></th>\n",
              "      <th></th>\n",
              "      <th></th>\n",
              "      <th></th>\n",
              "      <th></th>\n",
              "      <th></th>\n",
              "      <th></th>\n",
              "      <th></th>\n",
              "      <th></th>\n",
              "      <th></th>\n",
              "      <th></th>\n",
              "      <th></th>\n",
              "      <th></th>\n",
              "      <th></th>\n",
              "      <th></th>\n",
              "      <th></th>\n",
              "      <th></th>\n",
              "      <th></th>\n",
              "      <th></th>\n",
              "      <th></th>\n",
              "    </tr>\n",
              "  </thead>\n",
              "  <tbody>\n",
              "    <tr>\n",
              "      <th>100-00-5</th>\n",
              "      <td>0</td>\n",
              "      <td>Benzene, 1-chloro-4-nitro-</td>\n",
              "      <td>C6H4ClNO2</td>\n",
              "      <td>156.993056</td>\n",
              "      <td>['C', 'H', 'Cl', 'N', 'O']</td>\n",
              "      <td>InChI=1/C6H4ClNO2/c7-5-1-3-6(4-2-5)8(9)10/h1-4H</td>\n",
              "      <td>[O-][N+](=O)c1ccc(Cl)cc1</td>\n",
              "      <td>0.0</td>\n",
              "      <td>0.0</td>\n",
              "      <td>0.0</td>\n",
              "      <td>...</td>\n",
              "      <td>0.0</td>\n",
              "      <td>0.0</td>\n",
              "      <td>0.0</td>\n",
              "      <td>0.0</td>\n",
              "      <td>0.0</td>\n",
              "      <td>0.0</td>\n",
              "      <td>1.0</td>\n",
              "      <td>0.0</td>\n",
              "      <td>0.0</td>\n",
              "      <td>0.0</td>\n",
              "    </tr>\n",
              "    <tr>\n",
              "      <th>100-01-6</th>\n",
              "      <td>1</td>\n",
              "      <td>p-Nitroaniline</td>\n",
              "      <td>C6H6N2O2</td>\n",
              "      <td>138.042927</td>\n",
              "      <td>['C', 'H', 'N', 'O']</td>\n",
              "      <td>InChI=1/C6H6N2O2/c7-5-1-3-6(4-2-5)8(9)10/h1-4H...</td>\n",
              "      <td>Nc1ccc(cc1)[N+]([O-])=O</td>\n",
              "      <td>0.0</td>\n",
              "      <td>0.0</td>\n",
              "      <td>0.0</td>\n",
              "      <td>...</td>\n",
              "      <td>0.0</td>\n",
              "      <td>0.0</td>\n",
              "      <td>0.0</td>\n",
              "      <td>0.0</td>\n",
              "      <td>0.0</td>\n",
              "      <td>0.0</td>\n",
              "      <td>1.0</td>\n",
              "      <td>0.0</td>\n",
              "      <td>0.0</td>\n",
              "      <td>0.0</td>\n",
              "    </tr>\n",
              "    <tr>\n",
              "      <th>100-02-7</th>\n",
              "      <td>2</td>\n",
              "      <td>Phenol, 4-nitro-</td>\n",
              "      <td>C6H5NO3</td>\n",
              "      <td>139.026943</td>\n",
              "      <td>['C', 'H', 'N', 'O']</td>\n",
              "      <td>InChI=1/C6H5NO3/c8-6-3-1-5(2-4-6)7(9)10/h1-4,8H</td>\n",
              "      <td>Oc1ccc(cc1)[N+]([O-])=O</td>\n",
              "      <td>0.0</td>\n",
              "      <td>0.0</td>\n",
              "      <td>0.0</td>\n",
              "      <td>...</td>\n",
              "      <td>0.0</td>\n",
              "      <td>0.0</td>\n",
              "      <td>0.0</td>\n",
              "      <td>0.0</td>\n",
              "      <td>0.0</td>\n",
              "      <td>0.0</td>\n",
              "      <td>1.0</td>\n",
              "      <td>0.0</td>\n",
              "      <td>0.0</td>\n",
              "      <td>0.0</td>\n",
              "    </tr>\n",
              "    <tr>\n",
              "      <th>1000-49-3</th>\n",
              "      <td>5</td>\n",
              "      <td>N-butyltrimethylsilane</td>\n",
              "      <td>C7H18Si</td>\n",
              "      <td>130.117777</td>\n",
              "      <td>['C', 'H', 'Si']</td>\n",
              "      <td>InChI=1/C7H18Si/c1-5-6-7-8(2,3)4/h5-7H2,1-4H3</td>\n",
              "      <td>CCCC[Si](C)(C)C</td>\n",
              "      <td>1.0</td>\n",
              "      <td>1.0</td>\n",
              "      <td>0.0</td>\n",
              "      <td>...</td>\n",
              "      <td>0.0</td>\n",
              "      <td>0.0</td>\n",
              "      <td>0.0</td>\n",
              "      <td>0.0</td>\n",
              "      <td>0.0</td>\n",
              "      <td>0.0</td>\n",
              "      <td>0.0</td>\n",
              "      <td>0.0</td>\n",
              "      <td>0.0</td>\n",
              "      <td>0.0</td>\n",
              "    </tr>\n",
              "    <tr>\n",
              "      <th>1000-50-6</th>\n",
              "      <td>6</td>\n",
              "      <td>N-Butyldimethylchlorosilane</td>\n",
              "      <td>C6H15ClSi</td>\n",
              "      <td>150.063155</td>\n",
              "      <td>['C', 'H', 'Cl', 'Si']</td>\n",
              "      <td>InChI=1/C6H15ClSi/c1-4-5-6-8(2,3)7/h4-6H2,1-3H3</td>\n",
              "      <td>CCCC[Si](C)(C)Cl</td>\n",
              "      <td>1.0</td>\n",
              "      <td>1.0</td>\n",
              "      <td>0.0</td>\n",
              "      <td>...</td>\n",
              "      <td>0.0</td>\n",
              "      <td>0.0</td>\n",
              "      <td>0.0</td>\n",
              "      <td>0.0</td>\n",
              "      <td>0.0</td>\n",
              "      <td>0.0</td>\n",
              "      <td>0.0</td>\n",
              "      <td>0.0</td>\n",
              "      <td>0.0</td>\n",
              "      <td>0.0</td>\n",
              "    </tr>\n",
              "    <tr>\n",
              "      <th>...</th>\n",
              "      <td>...</td>\n",
              "      <td>...</td>\n",
              "      <td>...</td>\n",
              "      <td>...</td>\n",
              "      <td>...</td>\n",
              "      <td>...</td>\n",
              "      <td>...</td>\n",
              "      <td>...</td>\n",
              "      <td>...</td>\n",
              "      <td>...</td>\n",
              "      <td>...</td>\n",
              "      <td>...</td>\n",
              "      <td>...</td>\n",
              "      <td>...</td>\n",
              "      <td>...</td>\n",
              "      <td>...</td>\n",
              "      <td>...</td>\n",
              "      <td>...</td>\n",
              "      <td>...</td>\n",
              "      <td>...</td>\n",
              "      <td>...</td>\n",
              "    </tr>\n",
              "    <tr>\n",
              "      <th>99-97-8</th>\n",
              "      <td>44445</td>\n",
              "      <td>Benzenamine, N,N,4-trimethyl-</td>\n",
              "      <td>C9H13N</td>\n",
              "      <td>135.104799</td>\n",
              "      <td>['C', 'H', 'N']</td>\n",
              "      <td>InChI=1/C9H13N/c1-8-4-6-9(7-5-8)10(2)3/h4-7H,1...</td>\n",
              "      <td>CN(C)c1ccc(C)cc1</td>\n",
              "      <td>1.0</td>\n",
              "      <td>0.0</td>\n",
              "      <td>0.0</td>\n",
              "      <td>...</td>\n",
              "      <td>0.0</td>\n",
              "      <td>0.0</td>\n",
              "      <td>0.0</td>\n",
              "      <td>0.0</td>\n",
              "      <td>0.0</td>\n",
              "      <td>0.0</td>\n",
              "      <td>0.0</td>\n",
              "      <td>0.0</td>\n",
              "      <td>0.0</td>\n",
              "      <td>0.0</td>\n",
              "    </tr>\n",
              "    <tr>\n",
              "      <th>999-78-0</th>\n",
              "      <td>44446</td>\n",
              "      <td>2-Pentyne, 4,4-dimethyl-</td>\n",
              "      <td>C7H12</td>\n",
              "      <td>96.093900</td>\n",
              "      <td>['C', 'H']</td>\n",
              "      <td>InChI=1/C7H12/c1-5-6-7(2,3)4/h1-4H3</td>\n",
              "      <td>CC#CC(C)(C)C</td>\n",
              "      <td>1.0</td>\n",
              "      <td>0.0</td>\n",
              "      <td>0.0</td>\n",
              "      <td>...</td>\n",
              "      <td>0.0</td>\n",
              "      <td>0.0</td>\n",
              "      <td>0.0</td>\n",
              "      <td>0.0</td>\n",
              "      <td>0.0</td>\n",
              "      <td>0.0</td>\n",
              "      <td>0.0</td>\n",
              "      <td>0.0</td>\n",
              "      <td>0.0</td>\n",
              "      <td>0.0</td>\n",
              "    </tr>\n",
              "    <tr>\n",
              "      <th>999-81-5</th>\n",
              "      <td>44448</td>\n",
              "      <td>Ammonium chloride, 2-chloroethyltrimethyl-</td>\n",
              "      <td>C5H13ClN.Cl</td>\n",
              "      <td>157.042505</td>\n",
              "      <td>['C', 'H', 'Cl', 'N', 'Cl']</td>\n",
              "      <td>InChI=1/C5H13ClN.ClH/c1-7(2,3)5-4-6;/h4-5H2,1-...</td>\n",
              "      <td>[Cl-].C[N+](C)(C)CCCl</td>\n",
              "      <td>1.0</td>\n",
              "      <td>1.0</td>\n",
              "      <td>0.0</td>\n",
              "      <td>...</td>\n",
              "      <td>0.0</td>\n",
              "      <td>0.0</td>\n",
              "      <td>1.0</td>\n",
              "      <td>0.0</td>\n",
              "      <td>0.0</td>\n",
              "      <td>0.0</td>\n",
              "      <td>0.0</td>\n",
              "      <td>0.0</td>\n",
              "      <td>0.0</td>\n",
              "      <td>0.0</td>\n",
              "    </tr>\n",
              "    <tr>\n",
              "      <th>99-99-0</th>\n",
              "      <td>44452</td>\n",
              "      <td>Benzene, 1-methyl-4-nitro-</td>\n",
              "      <td>C7H7NO2</td>\n",
              "      <td>137.047678</td>\n",
              "      <td>['C', 'H', 'N', 'O']</td>\n",
              "      <td>InChI=1/C7H7NO2/c1-6-2-4-7(5-3-6)8(9)10/h2-5H,1H3</td>\n",
              "      <td>Cc1ccc(cc1)[N+]([O-])=O</td>\n",
              "      <td>1.0</td>\n",
              "      <td>0.0</td>\n",
              "      <td>0.0</td>\n",
              "      <td>...</td>\n",
              "      <td>0.0</td>\n",
              "      <td>0.0</td>\n",
              "      <td>0.0</td>\n",
              "      <td>0.0</td>\n",
              "      <td>0.0</td>\n",
              "      <td>0.0</td>\n",
              "      <td>1.0</td>\n",
              "      <td>0.0</td>\n",
              "      <td>0.0</td>\n",
              "      <td>0.0</td>\n",
              "    </tr>\n",
              "    <tr>\n",
              "      <th>999-97-3</th>\n",
              "      <td>44454</td>\n",
              "      <td>Silanamine, 1,1,1-trimethyl-N-(trimethylsilyl)-</td>\n",
              "      <td>C6H19NSi2</td>\n",
              "      <td>161.105603</td>\n",
              "      <td>['C', 'H', 'N', 'Si']</td>\n",
              "      <td>InChI=1/C6H19NSi2/c1-8(2,3)7-9(4,5)6/h7H,1-6H3</td>\n",
              "      <td>C[Si](C)(C)N[Si](C)(C)C</td>\n",
              "      <td>1.0</td>\n",
              "      <td>0.0</td>\n",
              "      <td>0.0</td>\n",
              "      <td>...</td>\n",
              "      <td>0.0</td>\n",
              "      <td>0.0</td>\n",
              "      <td>0.0</td>\n",
              "      <td>0.0</td>\n",
              "      <td>0.0</td>\n",
              "      <td>0.0</td>\n",
              "      <td>0.0</td>\n",
              "      <td>0.0</td>\n",
              "      <td>0.0</td>\n",
              "      <td>0.0</td>\n",
              "    </tr>\n",
              "  </tbody>\n",
              "</table>\n",
              "<p>12233 rows × 79 columns</p>\n",
              "</div>\n",
              "      <button class=\"colab-df-convert\" onclick=\"convertToInteractive('df-f99a37a9-36d5-42b7-bf88-d809ed1798b4')\"\n",
              "              title=\"Convert this dataframe to an interactive table.\"\n",
              "              style=\"display:none;\">\n",
              "        \n",
              "  <svg xmlns=\"http://www.w3.org/2000/svg\" height=\"24px\"viewBox=\"0 0 24 24\"\n",
              "       width=\"24px\">\n",
              "    <path d=\"M0 0h24v24H0V0z\" fill=\"none\"/>\n",
              "    <path d=\"M18.56 5.44l.94 2.06.94-2.06 2.06-.94-2.06-.94-.94-2.06-.94 2.06-2.06.94zm-11 1L8.5 8.5l.94-2.06 2.06-.94-2.06-.94L8.5 2.5l-.94 2.06-2.06.94zm10 10l.94 2.06.94-2.06 2.06-.94-2.06-.94-.94-2.06-.94 2.06-2.06.94z\"/><path d=\"M17.41 7.96l-1.37-1.37c-.4-.4-.92-.59-1.43-.59-.52 0-1.04.2-1.43.59L10.3 9.45l-7.72 7.72c-.78.78-.78 2.05 0 2.83L4 21.41c.39.39.9.59 1.41.59.51 0 1.02-.2 1.41-.59l7.78-7.78 2.81-2.81c.8-.78.8-2.07 0-2.86zM5.41 20L4 18.59l7.72-7.72 1.47 1.35L5.41 20z\"/>\n",
              "  </svg>\n",
              "      </button>\n",
              "      \n",
              "  <style>\n",
              "    .colab-df-container {\n",
              "      display:flex;\n",
              "      flex-wrap:wrap;\n",
              "      gap: 12px;\n",
              "    }\n",
              "\n",
              "    .colab-df-convert {\n",
              "      background-color: #E8F0FE;\n",
              "      border: none;\n",
              "      border-radius: 50%;\n",
              "      cursor: pointer;\n",
              "      display: none;\n",
              "      fill: #1967D2;\n",
              "      height: 32px;\n",
              "      padding: 0 0 0 0;\n",
              "      width: 32px;\n",
              "    }\n",
              "\n",
              "    .colab-df-convert:hover {\n",
              "      background-color: #E2EBFA;\n",
              "      box-shadow: 0px 1px 2px rgba(60, 64, 67, 0.3), 0px 1px 3px 1px rgba(60, 64, 67, 0.15);\n",
              "      fill: #174EA6;\n",
              "    }\n",
              "\n",
              "    [theme=dark] .colab-df-convert {\n",
              "      background-color: #3B4455;\n",
              "      fill: #D2E3FC;\n",
              "    }\n",
              "\n",
              "    [theme=dark] .colab-df-convert:hover {\n",
              "      background-color: #434B5C;\n",
              "      box-shadow: 0px 1px 3px 1px rgba(0, 0, 0, 0.15);\n",
              "      filter: drop-shadow(0px 1px 2px rgba(0, 0, 0, 0.3));\n",
              "      fill: #FFFFFF;\n",
              "    }\n",
              "  </style>\n",
              "\n",
              "      <script>\n",
              "        const buttonEl =\n",
              "          document.querySelector('#df-f99a37a9-36d5-42b7-bf88-d809ed1798b4 button.colab-df-convert');\n",
              "        buttonEl.style.display =\n",
              "          google.colab.kernel.accessAllowed ? 'block' : 'none';\n",
              "\n",
              "        async function convertToInteractive(key) {\n",
              "          const element = document.querySelector('#df-f99a37a9-36d5-42b7-bf88-d809ed1798b4');\n",
              "          const dataTable =\n",
              "            await google.colab.kernel.invokeFunction('convertToInteractive',\n",
              "                                                     [key], {});\n",
              "          if (!dataTable) return;\n",
              "\n",
              "          const docLinkHtml = 'Like what you see? Visit the ' +\n",
              "            '<a target=\"_blank\" href=https://colab.research.google.com/notebooks/data_table.ipynb>data table notebook</a>'\n",
              "            + ' to learn more about interactive tables.';\n",
              "          element.innerHTML = '';\n",
              "          dataTable['output_type'] = 'display_data';\n",
              "          await google.colab.output.renderOutput(dataTable, element);\n",
              "          const docLink = document.createElement('div');\n",
              "          docLink.innerHTML = docLinkHtml;\n",
              "          element.appendChild(docLink);\n",
              "        }\n",
              "      </script>\n",
              "    </div>\n",
              "  </div>\n",
              "  "
            ]
          },
          "metadata": {},
          "execution_count": 141
        }
      ]
    },
    {
      "cell_type": "code",
      "execution_count": 7,
      "metadata": {
        "id": "Fev54C_424Jm"
      },
      "outputs": [],
      "source": [
        "dataset_df_labeled = labels_df.join(dataset_df_readed)\n",
        "#dataset_df_labeled"
      ]
    },
    {
      "cell_type": "code",
      "source": [
        "dataset72_df_labeled = labels72_df.join(dataset_df_readed)"
      ],
      "metadata": {
        "id": "9WC-Eva7fEvK"
      },
      "execution_count": 142,
      "outputs": []
    },
    {
      "cell_type": "code",
      "execution_count": 9,
      "metadata": {
        "id": "W6S3Ih9Z4DIJ"
      },
      "outputs": [],
      "source": [
        "dataset_df_labeled1 = dataset_df_labeled[['Name', 'Formula', 'Mw', 'Elements', 'InChi', 'SMILES', 'alkane',\n",
        "       'methyl', 'alkene', 'alkyne', 'alcohols', 'amines', 'nitriles',\n",
        "       'aromatics', 'alkyl halides', 'esters', 'ketones', 'aldehydes',\n",
        "       'carboxylic acids', 'ether', 'acyl halides', 'amides', 'nitro',\n",
        "       'title',\n",
        "       'molform',\n",
        "       'x', 'y', 'x1', 'y1', 'y_peak']]\n",
        "#dataset_df_labeled1"
      ]
    },
    {
      "cell_type": "code",
      "source": [
        "dataset72_df_labeled1 = dataset72_df_labeled[[\n",
        " 'Name',\n",
        " #'Formula',\n",
        " #'Mw',\n",
        " #'Elements',\n",
        " 'InChi',\n",
        " #'SMILES',\n",
        " 'C─H alkyl methyl 1260 strong/1380 weak/2870 medium to strong/2960 medium to strong',\n",
        " 'C─H alkyl methylene 1470 strong/2850 medium to strong/2925 medium to strong',\n",
        " 'C─H alkyl methine 2890 weak',\n",
        " 'C─H vinyl C═CH2 900 strong/2975 medium/3080 medium',\n",
        " 'C─H vinyl C═CH 3020 medium',\n",
        " 'C─H vinyl monosubstituted alkenes 900 strong/990 strong',\n",
        " 'C─H vinyl cis-disubstituted alkenes 670–700 strong',\n",
        " 'C─H vinyl trans-disubstituted alkenes 965 strong',\n",
        " 'C─H vinyl trisubstituted alkenes 800–840 strong to medium',\n",
        " 'C─H aromatic benzene/sub. benzene 3070 weak',\n",
        " 'C─H aromatic monosubstituted benzene 700–750 strong',\n",
        " 'C─H aromatic monosubstituted benzene 690–710 strong',\n",
        " 'C─H aromatic ortho-disub. benzene 750 strong',\n",
        " 'C─H aromatic meta-disub. benzene 750–800 strong',\n",
        " 'C─H aromatic meta-disub. benzene 860–900 strong',\n",
        " 'C─H aromatic para-disub. benzene 800–860 strong',\n",
        " 'C─H alkynes any 3300 medium',\n",
        " 'C─H aldehydes any 2720 medium',\n",
        " 'C─H aldehydes any 2820 medium',\n",
        " 'C═C acyclic C═C monosub. alkenes 1645 medium',\n",
        " 'C═C acyclic C═C 1,1-disub. alkenes 1655 medium',\n",
        " 'C═C acyclic C═C cis-1,2-disub. alkenes 1660 medium',\n",
        " 'C═C acyclic C═C trans-1,2-disub. alkenes 1675 medium',\n",
        " 'C═C acyclic C═C trisub., tetrasub. alkenes 1670 weak',\n",
        " 'C═C conjugated C═C dienes 1600 strong/1650 strong',\n",
        " 'C═C with benzene ring dienes 1625 strong',\n",
        " 'C═C with C═O dienes 1600 strong',\n",
        " 'C═C C═C (both sp2) any 1640–1680 medium',\n",
        " 'C═C aromatic C═C any 1450/1500/1580/1600 weak to strong (usually 3 or 4)',\n",
        " 'C═C C≡C terminal alkynes 2100–2140 weak',\n",
        " 'C═C C≡C disubst. alkynes 2190–2260 very weak (often indistinguishable)',\n",
        " 'C=O aldehyde/ketone saturated aliph./cyclic 6-membered 1720 ',\n",
        " 'C=O aldehyde/ketone α,β-unsaturated 1685 ',\n",
        " 'C=O aldehyde/ketone aromatic ketones 1685 ',\n",
        " 'C=O aldehyde/ketone aldehydes 1725 influenced by conjugation (as with ketones)',\n",
        " 'C=O carboxylic acids/derivates saturated carboxylic acids 1710 ',\n",
        " 'C=O carboxylic acids/derivates unsat./aromatic carb. acids 1680–1690 ',\n",
        " 'C=O carboxylic acids/derivates esters and lactones 1735 influenced by conjugation and ring size (as with ketones)',\n",
        " 'C=O carboxylic acids/derivates anhydrides 1760 ',\n",
        " 'C=O carboxylic acids/derivates anhydrides 1820 ',\n",
        " 'C=O carboxylic acids/derivates acyl halides 1800 ',\n",
        " 'C=O carboxylic acids/derivates amides 1650 associated amides',\n",
        " 'C=O carboxylic acids/derivates amino acid zwitterions 1550–1610 ',\n",
        " 'O─H alcohols, phenols low concentration 3610–3670/high concentration 3200–3400 broad',\n",
        " 'O─H carboxylic acids low concentration 3500–3560/high concentration 3000 broad',\n",
        " 'N─H primary amines any 3400–3500 strong/1560–1640 strong',\n",
        " 'N─H secondary amines any > 3000 weak to medium',\n",
        " 'N─H ammonium ions any 2400–3200 multiple broad peaks',\n",
        " 'C─O alcohols primary 1040–1060 strong, broad',\n",
        " 'C─O alcohols secondary ~ 1100 strong',\n",
        " 'C─O alcohols tertiary 1150–1200 medium',\n",
        " 'C─O phenols any 1200',\n",
        " 'C─O ethers aliphatic 1120',\n",
        " 'C─O ethers aromatic 1220–1260',\n",
        " 'C─O carboxylic acids any 1250–1300',\n",
        " 'C─O esters any 1100–1300 two bands (distinct from ketones, which do not possess a C─O bond)',\n",
        " 'C─N aliphatic amines any 1020–1220 often overlapped',\n",
        " 'C─N C═N any 1615–1700 similar conjugation effects to C═O',\n",
        " 'C─N C≡N (nitriles) unconjugated 2250 medium',\n",
        " 'C─N C≡N (nitriles) conjugated 2230 medium',\n",
        " 'C─N R─N─C (isocyanides) any 2165–2110',\n",
        " 'C─N R─N═C═S (isothiocyanates) any 2140–1990',\n",
        " 'C─X fluoroalkanes ordinary 1000–1100',\n",
        " 'C─X fluoroalkanes trifluoromethyl 1100–1200 two strong, broad bands',\n",
        " 'C─X chloroalkanes any 540–760 weak to medium',\n",
        " 'C─X bromoalkanes any 500–600 medium to strong',\n",
        " 'C─X iodoalkanes any 500 medium to strong',\n",
        " 'N─O nitro compounds aliphatic 1540 stronger/aliphatic 1380 weaker',\n",
        " 'N─O nitro compounds aromatic 1520 lower/1350 lower if conjugated',\n",
        " 'P─C Organophosphorus compound aromatic 1440-1460 medium',\n",
        " 'P─O phosphorus oxide bonded 1195-1250 strong',\n",
        " 'P─O phosphorus oxide free 1250-1300 strong',\n",
        "#  'index',\n",
        "#  'title',\n",
        "#  'jcamp-dx',\n",
        "#  'data type',\n",
        "#  'class',\n",
        "#  'origin',\n",
        "#  'owner',\n",
        "#  'date',\n",
        "#  'names',\n",
        "#  'molform',\n",
        "#  'source reference',\n",
        "#  '$nist source',\n",
        "#  '$nist image',\n",
        "#  'spectrometer/data system',\n",
        "#  'path length',\n",
        "#  'sampling procedure',\n",
        "#  'resolution',\n",
        "#  'data processing',\n",
        "#  'xunits',\n",
        "#  'yunits',\n",
        "#  'xfactor',\n",
        "#  'yfactor',\n",
        "#  'deltax',\n",
        "#  'firstx',\n",
        "#  'lastx',\n",
        "#  'firsty',\n",
        "#  'maxx',\n",
        "#  'minx',\n",
        "#  'maxy',\n",
        "#  'miny',\n",
        "#  'npoints',\n",
        "#  'xydata',\n",
        "#  'end',\n",
        " 'x',\n",
        " 'y',\n",
        "#  'filename',\n",
        "#  'state',\n",
        "#  'instrument parameters',\n",
        "#  'xlabel',\n",
        "#  'ylabel',\n",
        "#  'mp',\n",
        "#  'bp',\n",
        "#  '$nist doc file',\n",
        "#  '$nist psd file',\n",
        "#  'aperture',\n",
        "#  'external diffuse reflectance accessory',\n",
        "#  'beamsplitter',\n",
        "#  'detector (dia. det. port in sphere)',\n",
        "#  'sphere diameter',\n",
        "#  'acquisition mode',\n",
        "#  'scanner speed',\n",
        "#  'coadded scans',\n",
        "#  'phase resolution',\n",
        "#  'phase correction',\n",
        "#  'zerofilling',\n",
        "#  'spectral range',\n",
        "#  'spectral resolution',\n",
        "#  'wavenumber accuracy',\n",
        "#  'apodization function',\n",
        "#  'low pass filter',\n",
        "#  'switch gain on',\n",
        "#'cas name',\n",
        "#  'instrument resolution',\n",
        "#  'ir source',\n",
        "#  'detector',\n",
        "#  'interferogram zerofill',\n",
        "#  'spectral interval after zerofilling',\n",
        "#  'apodization',\n",
        "#  'folding limits',\n",
        "#  'number of interferograms averaged per single channel spectrum',\n",
        "#  '$spectra version',\n",
        "#  '$uncertainty in y',\n",
        "#  'sample description',\n",
        "#  'pressure',\n",
        "#  'temperature',\n",
        " 'x1',\n",
        " 'y1',\n",
        " 'y_peak',\n",
        " 'x_peak']]"
      ],
      "metadata": {
        "id": "WfP--MVwfbdd"
      },
      "execution_count": 145,
      "outputs": []
    },
    {
      "cell_type": "markdown",
      "source": [
        "#Добавление слоёв со всеми положениями максимумов для классов"
      ],
      "metadata": {
        "id": "bH8SJwBBr9X7"
      }
    },
    {
      "cell_type": "markdown",
      "source": [
        "С \"https://en.wikipedia.org/wiki/Infrared_spectroscopy_correlation_table\" и Koshelev_IR_expert_system_5_72kNN_ML (https://colab.research.google.com/drive/1DcntOKEOec_MPN_CIZywpjZuo2OjTAGm#scrollTo=_PmXuJTkRr07)"
      ],
      "metadata": {
        "id": "kkk08jCPoAmD"
      }
    },
    {
      "cell_type": "code",
      "source": [
        "all_keys_list_short = ['C─H alkyl methyl 1260 strong/1380 weak/2870 medium to strong/2960 medium to strong',\n",
        " 'C─H alkyl methylene 1470 strong/2850 medium to strong/2925 medium to strong',\n",
        " 'C─H alkyl methine 2890 weak',\n",
        " 'C─H vinyl C═CH2 900 strong/2975 medium/3080 medium',\n",
        " 'C─H vinyl C═CH 3020 medium',\n",
        " 'C─H vinyl monosubstituted alkenes 900 strong/990 strong',\n",
        " 'C─H vinyl cis-disubstituted alkenes 670–700 strong',\n",
        " 'C─H vinyl trans-disubstituted alkenes 965 strong',\n",
        " 'C─H vinyl trisubstituted alkenes 800–840 strong to medium',\n",
        " 'C─H aromatic benzene/sub. benzene 3070 weak',\n",
        " 'C─H aromatic monosubstituted benzene 700–750 strong',\n",
        " 'C─H aromatic monosubstituted benzene 690–710 strong',\n",
        " 'C─H aromatic ortho-disub. benzene 750 strong',\n",
        " 'C─H aromatic meta-disub. benzene 750–800 strong',\n",
        " 'C─H aromatic meta-disub. benzene 860–900 strong',\n",
        " 'C─H aromatic para-disub. benzene 800–860 strong',\n",
        " 'C─H alkynes any 3300 medium',\n",
        " 'C─H aldehydes any 2720 medium',\n",
        " 'C─H aldehydes any 2820 medium',\n",
        " 'C═C acyclic C═C monosub. alkenes 1645 medium',\n",
        " 'C═C acyclic C═C 1,1-disub. alkenes 1655 medium',\n",
        " 'C═C acyclic C═C cis-1,2-disub. alkenes 1660 medium',\n",
        " 'C═C acyclic C═C trans-1,2-disub. alkenes 1675 medium',\n",
        " 'C═C acyclic C═C trisub., tetrasub. alkenes 1670 weak',\n",
        " 'C═C conjugated C═C dienes 1600 strong/1650 strong',\n",
        " 'C═C with benzene ring dienes 1625 strong',\n",
        " 'C═C with C═O dienes 1600 strong',\n",
        " 'C═C C═C (both sp2) any 1640–1680 medium',\n",
        " 'C═C aromatic C═C any 1450/1500/1580/1600 weak to strong (usually 3 or 4)',\n",
        " 'C═C C≡C terminal alkynes 2100–2140 weak',\n",
        " 'C═C C≡C disubst. alkynes 2190–2260 very weak (often indistinguishable)',\n",
        " 'C=O aldehyde/ketone saturated aliph./cyclic 6-membered 1720 ',\n",
        " 'C=O aldehyde/ketone α,β-unsaturated 1685 ',\n",
        " 'C=O aldehyde/ketone aromatic ketones 1685 ',\n",
        " 'C=O aldehyde/ketone aldehydes 1725 influenced by conjugation (as with ketones)',\n",
        " 'C=O carboxylic acids/derivates saturated carboxylic acids 1710 ',\n",
        " 'C=O carboxylic acids/derivates unsat./aromatic carb. acids 1680–1690 ',\n",
        " 'C=O carboxylic acids/derivates esters and lactones 1735 influenced by conjugation and ring size (as with ketones)',\n",
        " 'C=O carboxylic acids/derivates anhydrides 1760 ',\n",
        " 'C=O carboxylic acids/derivates anhydrides 1820 ',\n",
        " 'C=O carboxylic acids/derivates acyl halides 1800 ',\n",
        " 'C=O carboxylic acids/derivates amides 1650 associated amides',\n",
        " 'C=O carboxylic acids/derivates amino acid zwitterions 1550–1610 ',\n",
        " 'O─H alcohols, phenols low concentration 3610–3670/high concentration 3200–3400 broad',\n",
        " 'O─H carboxylic acids low concentration 3500–3560/high concentration 3000 broad',\n",
        " 'N─H primary amines any 3400–3500 strong/1560–1640 strong',\n",
        " 'N─H secondary amines any > 3000 weak to medium',\n",
        " 'N─H ammonium ions any 2400–3200 multiple broad peaks',\n",
        " 'C─O alcohols primary 1040–1060 strong, broad',\n",
        " 'C─O alcohols secondary ~ 1100 strong',\n",
        " 'C─O alcohols tertiary 1150–1200 medium',\n",
        " 'C─O phenols any 1200',\n",
        " 'C─O ethers aliphatic 1120',\n",
        " 'C─O ethers aromatic 1220–1260',\n",
        " 'C─O carboxylic acids any 1250–1300',\n",
        " 'C─O esters any 1100–1300 two bands (distinct from ketones, which do not possess a C─O bond)',\n",
        " 'C─N aliphatic amines any 1020–1220 often overlapped',\n",
        " 'C─N C═N any 1615–1700 similar conjugation effects to C═O',\n",
        " 'C─N C≡N (nitriles) unconjugated 2250 medium',\n",
        " 'C─N C≡N (nitriles) conjugated 2230 medium',\n",
        " 'C─N R─N─C (isocyanides) any 2165–2110',\n",
        " 'C─N R─N═C═S (isothiocyanates) any 2140–1990',\n",
        " 'C─X fluoroalkanes ordinary 1000–1100',\n",
        " 'C─X fluoroalkanes trifluoromethyl 1100–1200 two strong, broad bands',\n",
        " 'C─X chloroalkanes any 540–760 weak to medium',\n",
        " 'C─X bromoalkanes any 500–600 medium to strong',\n",
        " 'C─X iodoalkanes any 500 medium to strong',\n",
        " 'N─O nitro compounds aliphatic 1540 stronger/aliphatic 1380 weaker',\n",
        " 'N─O nitro compounds aromatic 1520 lower/1350 lower if conjugated',\n",
        " 'P─C Organophosphorus compound aromatic 1440-1460 medium',\n",
        " 'P─O phosphorus oxide bonded 1195-1250 strong',\n",
        " 'P─O phosphorus oxide free 1250-1300 strong']"
      ],
      "metadata": {
        "id": "jqGNsok1nzvo"
      },
      "execution_count": 14,
      "outputs": []
    },
    {
      "cell_type": "code",
      "source": [
        "#Составляем словарь {класс: {волновое число проявления:сила проявления из key_worlds = ['strong', 'medium', 'weak']}}\n",
        "#Возможность для улучшения\n",
        "key_worlds = ['weak to strong',  'medium to strong', 'weak', 'medium','strong']\n",
        "import re\n",
        "all_band_dic = {}\n",
        "for key in all_keys_list_short[-2:-1]:\n",
        "  band_dic = {}\n",
        "  #поиск в строке диапазонов значений формата 300-300\n",
        "  r = '\\d+-\\d+' #Поиск диапазонов\n",
        "  diap = re.findall(r, key)\n",
        "  #поиск в строке значений формата 300\n",
        "  r2 = '\\d+' #Поиск отдельных чисел\n",
        "  solos = re.findall(r2, key)\n",
        "  #Проверка на повторение\n",
        "  print('1', diap, solos)\n",
        "  for num_solo in solos:\n",
        "    print('1.1', num_solo)\n",
        "    if int(num_solo) <=10: \n",
        "        solos.remove(num_solo)\n",
        "        continue\n",
        "    print('1.2', solos)   \n",
        "  for num_diap in diap:\n",
        "      if str(num_solo) in str(num_diap): \n",
        "        solos.remove(num_solo)\n",
        "      print('1.3', solos)\n",
        "        \n",
        "      \n",
        "  print('2', diap, solos)\n",
        "  all_nums = diap+solos\n",
        "  print(all_nums)\n",
        "  #поиск и сохранение ключевых слов, удаление из строки названия уже найденых\n",
        "  class_keys = []\n",
        "  for key_world in key_worlds:\n",
        "      class_key = key\n",
        "      if key_world in class_key: \n",
        "        class_keys.append(key_world)\n",
        "        class_key.replace(key_world, '')\n",
        "  #Составление словаря для класса\n",
        "  #print(all_nums, class_keys)\n",
        "  for i, num in enumerate(all_nums):\n",
        "    try:\n",
        "        band_dic[num] = class_keys[i]\n",
        "    except IndexError: #Есть ключевого слова нет - ставим среднее значение\n",
        "        band_dic[num] = 'medium'\n",
        "  all_band_dic[key] = band_dic\n",
        "print(all_band_dic)\n",
        "print(len(all_band_dic))"
      ],
      "metadata": {
        "colab": {
          "base_uri": "https://localhost:8080/"
        },
        "id": "5A1v_AFeo24G",
        "outputId": "31055d55-bae2-4cf6-b6c9-27bb0778b297"
      },
      "execution_count": 15,
      "outputs": [
        {
          "output_type": "stream",
          "name": "stdout",
          "text": [
            "1 ['1195-1250'] ['1195', '1250']\n",
            "1.1 1195\n",
            "1.2 ['1195', '1250']\n",
            "1.1 1250\n",
            "1.2 ['1195', '1250']\n",
            "1.3 ['1195']\n",
            "2 ['1195-1250'] ['1195']\n",
            "['1195-1250', '1195']\n",
            "{'P─O phosphorus oxide bonded 1195-1250 strong': {'1195-1250': 'strong', '1195': 'medium'}}\n",
            "1\n"
          ]
        }
      ]
    },
    {
      "cell_type": "code",
      "source": [
        "#Список полос колебаний\n",
        "all_num_list = [\n",
        "[1260,1380,2870,2960],\n",
        "[1470,2850,2925],\n",
        "[2890],\n",
        "[2900,2975,3080],\n",
        "[3020],\n",
        "[900,990],\n",
        "[670,700],\n",
        "[965],\n",
        "[800,840],\n",
        "[3070],\n",
        "[700,750],\n",
        "[690,710],\n",
        "[750],\n",
        "[750,800],\n",
        "[860,900],\n",
        "[800,860],\n",
        "[3300],\n",
        "[2720],\n",
        "[2820],\n",
        "[1645],\n",
        "[1655],\n",
        "[1660],\n",
        "[1675],\n",
        "[1670],\n",
        "[1600,1650],\n",
        "[1625],\n",
        "[1600],\n",
        "[1640,1680],\n",
        "[1450,1500,1580,1600],\n",
        "[2100,2140],\n",
        "[2190,2260],\n",
        "[1720],\n",
        "[1685],\n",
        "[1685],\n",
        "[1725],\n",
        "[1710],\n",
        "[1680,1690],\n",
        "[1735],\n",
        "[1760],\n",
        "[1820],\n",
        "[1800],\n",
        "[1650],\n",
        "[1550,1610],\n",
        "[3610,3670, 3200,3400],\n",
        "[3500,3560, 3000],\n",
        "[3400,3500, 1560,1640],\n",
        "[3000],\n",
        "[2400,3200],\n",
        "[1040,1060],\n",
        "[1100],\n",
        "[1150,1200],\n",
        "[1200],\n",
        "[1120],\n",
        "[1220,1260],\n",
        "[1250,1300],\n",
        "[1100,1300],\n",
        "[1020,1220],\n",
        "[1615,1700],\n",
        "[2250],\n",
        "[2230],\n",
        "[2165,2110],\n",
        "[2140,1990],\n",
        "[1000,1100],\n",
        "[1100,1200],\n",
        "[540,760],\n",
        "[500,600],\n",
        "[500],\n",
        "[1540,1380],\n",
        "[1520,1350],\n",
        "[1440,1460],\n",
        "[1195,1250],\n",
        "[1250,1300],\n",
        "]"
      ],
      "metadata": {
        "id": "nEP0HaxJsE9k"
      },
      "execution_count": 16,
      "outputs": []
    },
    {
      "cell_type": "code",
      "source": [
        "#Проверка чётности полосы\n",
        "for i, num_list in enumerate(all_num_list):\n",
        "  for j, num in enumerate(num_list):\n",
        "    if num%2 == 1: all_num_list[i][j]=all_num_list[i][j]+1\n",
        "#all_num_list"
      ],
      "metadata": {
        "id": "d5XttodNvqEp"
      },
      "execution_count": 17,
      "outputs": []
    },
    {
      "cell_type": "code",
      "source": [
        "dataset_df_labeled1.iloc[:,-3][0]"
      ],
      "metadata": {
        "colab": {
          "base_uri": "https://localhost:8080/"
        },
        "id": "lENw-uN7veRU",
        "outputId": "981134f3-eeec-4135-e96b-ede50c49d0e4"
      },
      "execution_count": 18,
      "outputs": [
        {
          "output_type": "execute_result",
          "data": {
            "text/plain": [
              "array([ 500,  502,  504, ..., 4094, 4096, 4098])"
            ]
          },
          "metadata": {},
          "execution_count": 18
        }
      ]
    },
    {
      "cell_type": "code",
      "source": [
        "#Создаём дополнительный слой для каждого класса для входа в сеть, где +/- вокруг предполагаемого положения будет от 0 до 1, а вне - 0.\n",
        "def print_peak_neighborhood(peak_indx, x, num_neighbors = 10):\n",
        "  '''\n",
        "  Cover neighbor of the class peak position with numbers between 0 and 1\n",
        "\n",
        "  parameters:\n",
        "  peak_indx - list of even wavenumber (1/cm) of peak possible position\n",
        "  x - array like object of wavenumbers in spectra\n",
        "  num_neighbors - nuber of neighbors which should be changed. Means the area of intrest of NN.\n",
        "  '''\n",
        "  class_peak_indx_list = []\n",
        "  for num in peak_indx:\n",
        "      try:\n",
        "        y_mask_4_class = np.zeros(len(x))\n",
        "        class_peak_indx_list.append(list(x).index(num))\n",
        "      except TypeError:\n",
        "        y_mask_4_class = np.zeros(1800)\n",
        "        continue\n",
        "  for i in class_peak_indx_list:\n",
        "      for k in range(num_neighbors):\n",
        "          y_mask_4_class[i-k] = 1-(1/num_neighbors)*k\n",
        "          y_mask_4_class[i+k] = 1-(1/num_neighbors)*k\n",
        "  return y_mask_4_class\n",
        "#Проверка работоспособности\n",
        "plt.plot(dataset_df_labeled1.iloc[:,-3][1], print_peak_neighborhood(all_num_list[1], dataset_df_labeled1.iloc[:,-3][1], num_neighbors = 30))"
      ],
      "metadata": {
        "colab": {
          "base_uri": "https://localhost:8080/",
          "height": 448
        },
        "id": "-m3MqWJowlB2",
        "outputId": "43ad87cf-acb1-425f-c8d2-68613abb396c"
      },
      "execution_count": 19,
      "outputs": [
        {
          "output_type": "execute_result",
          "data": {
            "text/plain": [
              "[<matplotlib.lines.Line2D at 0x7fc7d6792c80>]"
            ]
          },
          "metadata": {},
          "execution_count": 19
        },
        {
          "output_type": "display_data",
          "data": {
            "text/plain": [
              "<Figure size 640x480 with 1 Axes>"
            ],
            "image/png": "[encoded data removed]"
          },
          "metadata": {}
        }
      ]
    },
    {
      "cell_type": "code",
      "source": [
        "#Создаём дополнительный слой для каждого класса для входа в сеть, где +/- вокруг предполагаемого положения будет от 0 до 1, а вне - 0.\n",
        "df_cls_attention = []\n",
        "for i, num_list in enumerate(all_num_list):\n",
        "  class_attention = print_peak_neighborhood(all_num_list[i], dataset_df_labeled1.iloc[:,-3][i], num_neighbors = 30)\n",
        "  df_cls_attention.append(torch.Tensor(class_attention))\n",
        "print(df_cls_attention)\n",
        "df_cls_attention = torch.stack(df_cls_attention, dim=1).reshape((1800,72))\n",
        "df_cls_attention.size()"
      ],
      "metadata": {
        "colab": {
          "base_uri": "https://localhost:8080/"
        },
        "id": "p8VRPIKIsF1V",
        "outputId": "42351326-d04f-4709-a5c9-0bf5cccadb56"
      },
      "execution_count": 20,
      "outputs": [
        {
          "output_type": "stream",
          "name": "stdout",
          "text": [
            "[tensor([0., 0., 0.,  ..., 0., 0., 0.]), tensor([0., 0., 0.,  ..., 0., 0., 0.]), tensor([0., 0., 0.,  ..., 0., 0., 0.]), tensor([0., 0., 0.,  ..., 0., 0., 0.]), tensor([0., 0., 0.,  ..., 0., 0., 0.]), tensor([0., 0., 0.,  ..., 0., 0., 0.]), tensor([0., 0., 0.,  ..., 0., 0., 0.]), tensor([0., 0., 0.,  ..., 0., 0., 0.]), tensor([0., 0., 0.,  ..., 0., 0., 0.]), tensor([0., 0., 0.,  ..., 0., 0., 0.]), tensor([0., 0., 0.,  ..., 0., 0., 0.]), tensor([0., 0., 0.,  ..., 0., 0., 0.]), tensor([0., 0., 0.,  ..., 0., 0., 0.]), tensor([0., 0., 0.,  ..., 0., 0., 0.]), tensor([0., 0., 0.,  ..., 0., 0., 0.]), tensor([0., 0., 0.,  ..., 0., 0., 0.]), tensor([0., 0., 0.,  ..., 0., 0., 0.]), tensor([0., 0., 0.,  ..., 0., 0., 0.]), tensor([0., 0., 0.,  ..., 0., 0., 0.]), tensor([0., 0., 0.,  ..., 0., 0., 0.]), tensor([0., 0., 0.,  ..., 0., 0., 0.]), tensor([0., 0., 0.,  ..., 0., 0., 0.]), tensor([0., 0., 0.,  ..., 0., 0., 0.]), tensor([0., 0., 0.,  ..., 0., 0., 0.]), tensor([0., 0., 0.,  ..., 0., 0., 0.]), tensor([0., 0., 0.,  ..., 0., 0., 0.]), tensor([0., 0., 0.,  ..., 0., 0., 0.]), tensor([0., 0., 0.,  ..., 0., 0., 0.]), tensor([0., 0., 0.,  ..., 0., 0., 0.]), tensor([0., 0., 0.,  ..., 0., 0., 0.]), tensor([0., 0., 0.,  ..., 0., 0., 0.]), tensor([0., 0., 0.,  ..., 0., 0., 0.]), tensor([0., 0., 0.,  ..., 0., 0., 0.]), tensor([0., 0., 0.,  ..., 0., 0., 0.]), tensor([0., 0., 0.,  ..., 0., 0., 0.]), tensor([0., 0., 0.,  ..., 0., 0., 0.]), tensor([0., 0., 0.,  ..., 0., 0., 0.]), tensor([0., 0., 0.,  ..., 0., 0., 0.]), tensor([0., 0., 0.,  ..., 0., 0., 0.]), tensor([0., 0., 0.,  ..., 0., 0., 0.]), tensor([0., 0., 0.,  ..., 0., 0., 0.]), tensor([0., 0., 0.,  ..., 0., 0., 0.]), tensor([0., 0., 0.,  ..., 0., 0., 0.]), tensor([0., 0., 0.,  ..., 0., 0., 0.]), tensor([0., 0., 0.,  ..., 0., 0., 0.]), tensor([0., 0., 0.,  ..., 0., 0., 0.]), tensor([0., 0., 0.,  ..., 0., 0., 0.]), tensor([0., 0., 0.,  ..., 0., 0., 0.]), tensor([0., 0., 0.,  ..., 0., 0., 0.]), tensor([0., 0., 0.,  ..., 0., 0., 0.]), tensor([0., 0., 0.,  ..., 0., 0., 0.]), tensor([0., 0., 0.,  ..., 0., 0., 0.]), tensor([0., 0., 0.,  ..., 0., 0., 0.]), tensor([0., 0., 0.,  ..., 0., 0., 0.]), tensor([0., 0., 0.,  ..., 0., 0., 0.]), tensor([0., 0., 0.,  ..., 0., 0., 0.]), tensor([0., 0., 0.,  ..., 0., 0., 0.]), tensor([0., 0., 0.,  ..., 0., 0., 0.]), tensor([0., 0., 0.,  ..., 0., 0., 0.]), tensor([0., 0., 0.,  ..., 0., 0., 0.]), tensor([0., 0., 0.,  ..., 0., 0., 0.]), tensor([0., 0., 0.,  ..., 0., 0., 0.]), tensor([0., 0., 0.,  ..., 0., 0., 0.]), tensor([0., 0., 0.,  ..., 0., 0., 0.]), tensor([0.3333, 0.3667, 0.4000,  ..., 0.2333, 0.2667, 0.3000]), tensor([1.0000, 0.9667, 0.9333,  ..., 0.9000, 0.9333, 0.9667]), tensor([1.0000, 0.9667, 0.9333,  ..., 0.9000, 0.9333, 0.9667]), tensor([0., 0., 0.,  ..., 0., 0., 0.]), tensor([0., 0., 0.,  ..., 0., 0., 0.]), tensor([0., 0., 0.,  ..., 0., 0., 0.]), tensor([0., 0., 0.,  ..., 0., 0., 0.]), tensor([0., 0., 0.,  ..., 0., 0., 0.])]\n"
          ]
        },
        {
          "output_type": "execute_result",
          "data": {
            "text/plain": [
              "torch.Size([1800, 72])"
            ]
          },
          "metadata": {},
          "execution_count": 20
        }
      ]
    },
    {
      "cell_type": "code",
      "source": [
        "#Схлопываем все слои в один\n",
        "df_cls_attention = torch.sum(df_cls_attention, dim=1)"
      ],
      "metadata": {
        "id": "WZDaigkbtaeq"
      },
      "execution_count": 21,
      "outputs": []
    },
    {
      "cell_type": "code",
      "source": [
        "#нормирование слоя на 1\n",
        "df_cls_attention = df_cls_attention/max(df_cls_attention)"
      ],
      "metadata": {
        "id": "hPz0WZ-HhKBk"
      },
      "execution_count": 22,
      "outputs": []
    },
    {
      "cell_type": "code",
      "source": [
        "plt.plot(dataset_df_labeled1.iloc[:,-3][1], df_cls_attention)"
      ],
      "metadata": {
        "colab": {
          "base_uri": "https://localhost:8080/",
          "height": 448
        },
        "id": "bts3o0tQIFbo",
        "outputId": "d2fefc92-8d49-4d0c-e556-793bc0a0b6aa"
      },
      "execution_count": 23,
      "outputs": [
        {
          "output_type": "execute_result",
          "data": {
            "text/plain": [
              "[<matplotlib.lines.Line2D at 0x7fc7d0ca5600>]"
            ]
          },
          "metadata": {},
          "execution_count": 23
        },
        {
          "output_type": "display_data",
          "data": {
            "text/plain": [
              "<Figure size 640x480 with 1 Axes>"
            ],
            "image/png": "[encoded data removed]"
          },
          "metadata": {}
        }
      ]
    },
    {
      "cell_type": "markdown",
      "metadata": {
        "id": "SyiOgAYsgec2"
      },
      "source": [
        "# Создание класса Dataset"
      ]
    },
    {
      "cell_type": "code",
      "execution_count": 119,
      "metadata": {
        "id": "3lwU0NRggprw"
      },
      "outputs": [],
      "source": [
        "#Класс датасета на 17 классов со входом формата (2,1800)\n",
        "import os\n",
        "import pandas as pd\n",
        "import torch\n",
        "from torch.utils.data import Dataset\n",
        "from torchvision import datasets\n",
        "\n",
        "class IRSpectraDataset(Dataset):\n",
        "    def __init__(self, dataset_df_labeled):\n",
        "        self.dataset_df = dataset_df_labeled\n",
        "        self.spectra_labels = self.dataset_df.iloc[:,6:23]\n",
        "        self.spectra_x = self.dataset_df.iloc[:,-3]\n",
        "        self.spectra_y = self.dataset_df.iloc[:,-2]\n",
        "        \n",
        "    def __len__(self):\n",
        "        return len(self.dataset_df)\n",
        "\n",
        "    def __getitem__(self, idx):\n",
        "        \n",
        "        spectra_x = torch.Tensor(self.spectra_x.iloc[idx]).reshape((1, 1800))\n",
        "        spectra_y = torch.Tensor(self.spectra_y.iloc[idx]).reshape((1, 1800))      \n",
        "        spectra = torch.cat((spectra_x, spectra_y))\n",
        "        \n",
        "        label = torch.Tensor(self.spectra_labels.iloc[idx])\n",
        "        #transform\n",
        "        return spectra, label"
      ]
    },
    {
      "cell_type": "code",
      "source": [
        "#Класс датасета на 17 классов со входом формата (3,1800) +вход максимумов\n",
        "import os\n",
        "import pandas as pd\n",
        "import torch\n",
        "from torch.utils.data import Dataset\n",
        "from torchvision import datasets\n",
        "\n",
        "class IRSpectraDatasetP(Dataset):\n",
        "    def __init__(self, dataset_df_labeled):\n",
        "        self.dataset_df = dataset_df_labeled\n",
        "        self.spectra_labels = self.dataset_df.iloc[:,6:23]\n",
        "        self.spectra_x = self.dataset_df.iloc[:,-3]\n",
        "        self.spectra_y = self.dataset_df.iloc[:,-2]\n",
        "        self.spectra_y_peak = self.dataset_df.iloc[:,-1]\n",
        "        \n",
        "    def __len__(self):\n",
        "        return len(self.dataset_df)\n",
        "\n",
        "    def __getitem__(self, idx):\n",
        "        \n",
        "        spectra_x = torch.Tensor(self.spectra_x.iloc[idx]).reshape((1, 1800))\n",
        "        spectra_y = torch.Tensor(self.spectra_y.iloc[idx]).reshape((1, 1800)) \n",
        "        spectra_y_peak = torch.Tensor(self.spectra_y_peak.iloc[idx]).reshape((1, 1800))     \n",
        "        spectra = torch.cat((spectra_x, spectra_y, spectra_y_peak))\n",
        "        \n",
        "        label = torch.Tensor(self.spectra_labels.iloc[idx])\n",
        "        #transform\n",
        "        return spectra, label"
      ],
      "metadata": {
        "id": "fySSJhKkqfVw"
      },
      "execution_count": 120,
      "outputs": []
    },
    {
      "cell_type": "code",
      "source": [
        "#Класс датасета на 17 классов со входом формата (4,1800)+вход максимумов+вход положений полос\n",
        "import os\n",
        "import pandas as pd\n",
        "import torch\n",
        "from torch.utils.data import Dataset\n",
        "from torchvision import datasets\n",
        "\n",
        "class IRSpectraDatasetPA(Dataset):\n",
        "    def __init__(self, dataset_df_labeled, df_cls_attention):\n",
        "        self.dataset_df = dataset_df_labeled\n",
        "        self.df_cls_attention = df_cls_attention\n",
        "        self.spectra_labels = self.dataset_df.iloc[:,6:23]\n",
        "        self.spectra_x = self.dataset_df.iloc[:,-3]\n",
        "        self.spectra_y = self.dataset_df.iloc[:,-2]\n",
        "        self.spectra_y_peak = self.dataset_df.iloc[:,-1]\n",
        "        \n",
        "    def __len__(self):\n",
        "        return len(self.dataset_df)\n",
        "\n",
        "    def __getitem__(self, idx):\n",
        "        \n",
        "        spectra_x = torch.Tensor(self.spectra_x.iloc[idx]).reshape((1, 1800))\n",
        "        spectra_y = torch.Tensor(self.spectra_y.iloc[idx]).reshape((1, 1800)) \n",
        "        spectra_y_peak = torch.Tensor(self.spectra_y_peak.iloc[idx]).reshape((1, 1800))\n",
        "        class_attention = torch.Tensor(self.df_cls_attention).reshape((1, 1800))\n",
        "        spectra = torch.cat((spectra_x, spectra_y, spectra_y_peak, class_attention))\n",
        "        \n",
        "        label = torch.Tensor(self.spectra_labels.iloc[idx])\n",
        "        #transform\n",
        "        return spectra, label"
      ],
      "metadata": {
        "id": "jHzsirbM5HfL"
      },
      "execution_count": 149,
      "outputs": []
    },
    {
      "cell_type": "code",
      "source": [
        "import os\n",
        "import pandas as pd\n",
        "import torch\n",
        "from torch.utils.data import Dataset\n",
        "from torchvision import datasets\n",
        "\n",
        "class IRSpectraDataset72(Dataset):\n",
        "    def __init__(self, dataset_df_labeled):\n",
        "        self.dataset_df = dataset_df_labeled\n",
        "        self.spectra_labels = self.dataset_df.iloc[:,2:-6]\n",
        "        self.spectra_x = self.dataset_df.iloc[:,-4]\n",
        "        self.spectra_y = self.dataset_df.iloc[:,-3]\n",
        "        self.spectra_y_peak = self.dataset_df.iloc[:,-2]\n",
        "        \n",
        "    def __len__(self):\n",
        "        return len(self.dataset_df)\n",
        "\n",
        "    def __getitem__(self, idx):\n",
        "        \n",
        "        spectra_x = torch.Tensor(self.spectra_x.iloc[idx]).reshape((1, 1800))\n",
        "        spectra_y = torch.Tensor(self.spectra_y.iloc[idx]).reshape((1, 1800)) \n",
        "        spectra_y_peak = torch.Tensor(self.spectra_y_peak.iloc[idx]).reshape((1, 1800))     \n",
        "        spectra = torch.cat((spectra_x, spectra_y, spectra_y_peak))\n",
        "        \n",
        "        label = torch.Tensor(self.spectra_labels.iloc[idx])\n",
        "        #transform\n",
        "        return spectra, label"
      ],
      "metadata": {
        "id": "jlUrFM29gYQV"
      },
      "execution_count": 157,
      "outputs": []
    },
    {
      "cell_type": "code",
      "execution_count": 295,
      "metadata": {
        "id": "vRJkjNJbEFKS"
      },
      "outputs": [],
      "source": [
        "#Создание объекта класса и разбиение на трейн,тест и вал в соотношении 7/2/1\n",
        "from torch.utils.data import random_split\n",
        "dataset_ir_spectra = IRSpectraDatasetPA(dataset_df_labeled1.dropna(), df_cls_attention) #, df_cls_attention for v0.6\n",
        "train_size = int(0.7 * len(dataset_ir_spectra))\n",
        "val_size = int(0.1 * len(dataset_ir_spectra))\n",
        "test_size = len(dataset_ir_spectra) - train_size - val_size\n",
        "train_dataset, test_dataset = random_split(dataset_ir_spectra, [train_size, int(test_size+val_size)])\n",
        "test_dataset, val_dataset = random_split(test_dataset, [test_size, val_size])"
      ]
    },
    {
      "cell_type": "code",
      "execution_count": 296,
      "metadata": {
        "colab": {
          "base_uri": "https://localhost:8080/"
        },
        "id": "3XHeDaS1Feuu",
        "outputId": "0a344819-94d3-4002-a4ec-5dcd6416c252"
      },
      "outputs": [
        {
          "output_type": "execute_result",
          "data": {
            "text/plain": [
              "17"
            ]
          },
          "metadata": {},
          "execution_count": 296
        }
      ],
      "source": [
        "# расчёт количества классов\n",
        "classes = list(dataset_ir_spectra.spectra_labels.columns)\n",
        "num_classes = len(classes)\n",
        "num_classes"
      ]
    },
    {
      "cell_type": "code",
      "execution_count": 297,
      "metadata": {
        "colab": {
          "base_uri": "https://localhost:8080/"
        },
        "id": "26MqW_iQIcSE",
        "outputId": "05b8a30c-96f9-45eb-d2ac-84aee7c213dc"
      },
      "outputs": [
        {
          "output_type": "stream",
          "name": "stdout",
          "text": [
            "{'alkane': 0, 'methyl': 1, 'alkene': 2, 'alkyne': 3, 'alcohols': 4, 'amines': 5, 'nitriles': 6, 'aromatics': 7, 'alkyl halides': 8, 'esters': 9, 'ketones': 10, 'aldehydes': 11, 'carboxylic acids': 12, 'ether': 13, 'acyl halides': 14, 'amides': 15, 'nitro': 16}\n",
            "{0: 'alkane', 1: 'methyl', 2: 'alkene', 3: 'alkyne', 4: 'alcohols', 5: 'amines', 6: 'nitriles', 7: 'aromatics', 8: 'alkyl halides', 9: 'esters', 10: 'ketones', 11: 'aldehydes', 12: 'carboxylic acids', 13: 'ether', 14: 'acyl halides', 15: 'amides', 16: 'nitro'}\n"
          ]
        }
      ],
      "source": [
        "#Создание словарей перевода класса в индексы и обратно\n",
        "cls2inx = {}\n",
        "inx2cls= {}\n",
        "for i, classs in enumerate(classes):\n",
        "  cls2inx[f'{classs}']= i\n",
        "  inx2cls[i] = classs\n",
        "print(cls2inx)\n",
        "print(inx2cls)"
      ]
    },
    {
      "cell_type": "code",
      "execution_count": 298,
      "metadata": {
        "colab": {
          "base_uri": "https://localhost:8080/"
        },
        "id": "x4L0U4WAGOIt",
        "outputId": "ebc19796-72fd-4fe2-cd1a-1fb8bcf3beb3"
      },
      "outputs": [
        {
          "output_type": "stream",
          "name": "stdout",
          "text": [
            "{'alkane': 0.6826801517067004, 'methyl': 0.6218289085545723, 'alkene': 0.13552465233881164, 'alkyne': 0.01955330804888327, 'alcohols': 0.21862621154656553, 'amines': 0.13080488832701223, 'nitriles': 0.038179519595448796, 'aromatics': 0.5845764854614413, 'alkyl halides': 0.2595027391487568, 'esters': 0.11639275179098188, 'ketones': 0.09405815423514538, 'aldehydes': 0.02064896755162242, 'carboxylic acids': 0.060345554150863887, 'ether': 0.250063211125158, 'acyl halides': 0.009608091024020228, 'amides': 0.07088074167720185, 'nitro': 0.05731142014327855}\n"
          ]
        }
      ],
      "source": [
        "# Расчёт весов классов\n",
        "wts4cls = {}\n",
        "for classs in classes:\n",
        "  wts4cls[classs] = dataset_ir_spectra.spectra_labels[classs].mean()\n",
        "print(wts4cls)"
      ]
    },
    {
      "cell_type": "code",
      "execution_count": 299,
      "metadata": {
        "colab": {
          "base_uri": "https://localhost:8080/"
        },
        "id": "oaZiT8yATCEI",
        "outputId": "8574b400-b659-4fba-a1fc-d5a390786b85"
      },
      "outputs": [
        {
          "output_type": "stream",
          "name": "stdout",
          "text": [
            "tensor([0.6827, 0.6218, 0.1355, 0.0196, 0.2186, 0.1308, 0.0382, 0.5846, 0.2595,\n",
            "        0.1164, 0.0941, 0.0206, 0.0603, 0.2501, 0.0096, 0.0709, 0.0573],\n",
            "       dtype=torch.float64)\n"
          ]
        }
      ],
      "source": [
        "#Веса классов\n",
        "wts_list = []\n",
        "for name, values in wts4cls.items():\n",
        "  wts_list.append(values)\n",
        "weight_for_every_class = torch.tensor(wts_list)\n",
        "print(weight_for_every_class)"
      ]
    },
    {
      "cell_type": "code",
      "execution_count": 300,
      "metadata": {
        "id": "-9GLXXcASo0X"
      },
      "outputs": [],
      "source": [
        "#Даталоадер\n",
        "\n",
        "from torch.utils.data import DataLoader, WeightedRandomSampler\n",
        "\n",
        "# Batch size\n",
        "batch_size = 128\n",
        "\n",
        "dataloader_ir_test = DataLoader(test_dataset, batch_size=batch_size, shuffle=False)\n",
        "dataloader_ir_val = DataLoader(val_dataset, batch_size=batch_size, shuffle=False)\n",
        "weightedsampler = WeightedRandomSampler(weight_for_every_class, len(weight_for_every_class)) \n",
        "\n",
        "dataloader_ir_train = DataLoader(\n",
        "    train_dataset, \n",
        "    batch_size=batch_size, \n",
        "    sampler= weightedsampler\n",
        ")"
      ]
    },
    {
      "cell_type": "code",
      "execution_count": 301,
      "metadata": {
        "id": "9Yc5yX_ug9MA",
        "colab": {
          "base_uri": "https://localhost:8080/"
        },
        "outputId": "aea9d4a9-c927-4834-d52d-c0b01f44dcd2"
      },
      "outputs": [
        {
          "output_type": "stream",
          "name": "stdout",
          "text": [
            "torch.Size([17, 4, 1800]) torch.Size([17, 17])\n"
          ]
        }
      ],
      "source": [
        "#  Проверка работоспособности\n",
        "for i, j in dataloader_ir_train:\n",
        "  print(i.shape, j.shape)\n",
        "  break"
      ]
    },
    {
      "cell_type": "markdown",
      "metadata": {
        "id": "IeiuyWHjfKf-"
      },
      "source": [
        "# Модель"
      ]
    },
    {
      "cell_type": "markdown",
      "metadata": {
        "id": "AaUcXPHlrb_n"
      },
      "source": [
        "Предлагается использовать модель с несколькими свёрточными слоями(1) и понижением размерности до 225-450, а затем с полносвязыными слоями, где на выходе одни слой из 17 меток классов.\n",
        "\n",
        "Базовая модель: 8 сверток посчитать обучаемых параметров и потом собирать статистику.\n",
        "классификейшон репорт\n",
        "Потом увеличить количество свёрточных слоёв до 12. \n",
        "Увеличивать количество каналов через 1 макспул.\n",
        "Выводить лосс для теста."
      ]
    },
    {
      "cell_type": "markdown",
      "source": [
        "## Базовая модель"
      ],
      "metadata": {
        "id": "swQhofxVfpry"
      }
    },
    {
      "cell_type": "code",
      "execution_count": 32,
      "metadata": {
        "id": "znwYtgeCsyfK"
      },
      "outputs": [],
      "source": [
        "from torch.nn.modules.pooling import MaxPool2d\n",
        "import torch.nn as nn\n",
        "import torch\n",
        "\n",
        "class TwoLayerCNN(nn.Module):\n",
        "    def __init__(self, hidden_size = 34):\n",
        "        super().__init__()\n",
        "        self.hidden_size=hidden_size\n",
        "        self.bblock = nn.Sequential(\n",
        "            nn.Conv1d(2, hidden_size, kernel_size = 3, padding = 1), # in channel=2, out=hidden_size 3 - ядро свертки, таблица 1800 точек*2 столбца\n",
        "            nn.BatchNorm1d(hidden_size),\n",
        "            nn.ReLU(),\n",
        "\n",
        "            nn.Conv1d(hidden_size, hidden_size, kernel_size = 3, padding = 1), \n",
        "            nn.BatchNorm1d(hidden_size),\n",
        "            nn.ReLU(),\n",
        "            nn.Conv1d(hidden_size, hidden_size, kernel_size = 3, padding = 1), \n",
        "            nn.BatchNorm1d(hidden_size),\n",
        "            nn.ReLU(),\n",
        "            nn.MaxPool1d(2), # size [hidden_size,1800] -> [hidden_size,900] \n",
        "\n",
        "            nn.Conv1d(hidden_size, hidden_size, kernel_size = 3, padding = 1), \n",
        "            nn.BatchNorm1d(hidden_size),\n",
        "            nn.ReLU(),\n",
        "            nn.Conv1d(hidden_size, hidden_size, kernel_size = 3, padding = 1), \n",
        "            nn.BatchNorm1d(hidden_size),\n",
        "            nn.ReLU(),\n",
        "            nn.MaxPool1d(2), # size [hidden_size,900] -> [hidden_size,450] \n",
        "            \n",
        "            nn.Conv1d(hidden_size, hidden_size*2, kernel_size = 3, padding = 1), \n",
        "            nn.BatchNorm1d(hidden_size*2),\n",
        "            nn.ReLU(),\n",
        "            nn.Conv1d(hidden_size*2, hidden_size*2, kernel_size = 3, padding = 1), \n",
        "            nn.BatchNorm1d(hidden_size*2),\n",
        "            nn.ReLU(),\n",
        "            nn.MaxPool1d(2), # size [hidden_size,450] -> [hidden_size,225] \n",
        "\n",
        "            nn.Conv1d(hidden_size*2, hidden_size*2, kernel_size = 3, padding = 1), \n",
        "            nn.BatchNorm1d(hidden_size*2),\n",
        "            nn.ReLU(),\n",
        "            nn.Flatten(),\n",
        "            nn.Linear(225*2*hidden_size, 1000),\n",
        "            nn.ReLU(),\n",
        "            nn.Linear(1000, 100),\n",
        "            nn.ReLU(),\n",
        "            nn.Linear(100, 17),\n",
        "            nn.Sigmoid()\n",
        "            )\n",
        "\n",
        "    def forward(self, x):\n",
        "        # Your code here\n",
        "        x = self.bblock(x) \n",
        "        return x"
      ]
    },
    {
      "cell_type": "markdown",
      "metadata": {
        "id": "2VYyUhvwPC0M"
      },
      "source": [
        "## v0.3.0 - модель с res-связями и 2 dropout. "
      ]
    },
    {
      "cell_type": "code",
      "execution_count": 33,
      "metadata": {
        "id": "5Lzgc_R9PAFY"
      },
      "outputs": [],
      "source": [
        "#Возможно тестирование увеличения глубины\n",
        "from torch.nn.modules.batchnorm import BatchNorm2d\n",
        "import torch.nn as nn\n",
        "import torch\n",
        "import torch.nn.functional as F\n",
        "\n",
        "\n",
        "class IrResnet3(nn.Module):\n",
        "    def __init__(self, hidden_size = 34, class_nums=17):\n",
        "        super(IrResnet3, self).__init__()\n",
        "        self.hidden_size=hidden_size\n",
        "        # Архитектура на подобие resnet\n",
        "        self.conv1 = nn.Conv1d(2, hidden_size, kernel_size=3, stride=1, padding = 1) #[2,1800]\n",
        "        self.bn1 = nn.BatchNorm1d(hidden_size)\n",
        "        self.relu = nn.ReLU()\n",
        "\n",
        "        self.layer1 = nn.Sequential( #3 последовательных базовых блока #[2,1800]\n",
        "            BasicBlock(hidden_size),\n",
        "            BasicBlock(hidden_size),\n",
        "            BasicBlock(hidden_size))\n",
        "        # self.layer2 = nn.Sequential(\n",
        "        #     BasicBlock(hidden_size, downsample = False), #[2,1800]\n",
        "        #     BasicBlock(hidden_size),\n",
        "        #     BasicBlock(hidden_size))\n",
        "        self.layer3 = nn.Sequential(\n",
        "            BasicBlock(hidden_size*2, downsample = True), #[2,900]\n",
        "            BasicBlock(hidden_size*2),\n",
        "            BasicBlock(hidden_size*2))\n",
        "        # self.layer4 = nn.Sequential(\n",
        "        #     BasicBlock(hidden_size*2, downsample = False), \n",
        "        #     BasicBlock(hidden_size*2),\n",
        "        #     BasicBlock(hidden_size*2))\n",
        "        self.layer5 = nn.Sequential(\n",
        "            BasicBlock(hidden_size*4, downsample = True), #[2,450]\n",
        "            BasicBlock(hidden_size*4),\n",
        "            BasicBlock(hidden_size*4))\n",
        "        # self.layer6 = nn.Sequential(\n",
        "        #     BasicBlock(hidden_size*4, downsample = False), \n",
        "        #     BasicBlock(hidden_size*4),\n",
        "        #     BasicBlock(hidden_size*4))\n",
        "        self.layer7 = nn.Sequential(\n",
        "            BasicBlock(hidden_size*8, downsample = True), #[2,225]\n",
        "            BasicBlock(hidden_size*8),\n",
        "            BasicBlock(hidden_size*8))\n",
        "        # self.layer8 = nn.Sequential(\n",
        "        #     BasicBlock(hidden_size*8, downsample = False), #[2,225]\n",
        "        #     BasicBlock(hidden_size*8),\n",
        "        #     BasicBlock(hidden_size*8))\n",
        "        self.adppool = nn.AdaptiveMaxPool1d(225)\n",
        "        self.flatten = nn.Flatten()\n",
        "        self.do1 = nn.Dropout1d(0.5)\n",
        "        self.fc = nn.Linear(hidden_size*8*225, 200)\n",
        "        self.do2 = nn.Dropout1d(0.2)\n",
        "        self.relu1 = nn.ReLU()\n",
        "        self.fc1 = nn.Linear(200, class_nums) \n",
        "        #self.sm = nn.Sigmoid()\n",
        "        \n",
        "\n",
        "\n",
        "    def forward(self, batch):\n",
        "      # PUT YOUR CODE HERE\n",
        "        batch = self.conv1(batch)\n",
        "        batch = self.bn1(batch)\n",
        "        batch = self.relu(batch)\n",
        "        batch = self.layer1(batch)\n",
        "        #batch = self.layer2(batch)\n",
        "        batch = self.layer3(batch)\n",
        "        #batch = self.layer4(batch)\n",
        "        batch = self.layer5(batch)\n",
        "        #batch = self.layer6(batch)\n",
        "        batch = self.layer7(batch)\n",
        "        #batch = self.layer8(batch)\n",
        "        batch = self.adppool(batch)\n",
        "        batch = self.flatten(batch)\n",
        "        batch = self.do1(batch)\n",
        "        batch = self.fc(batch)\n",
        "        batch = self.do2(batch)\n",
        "        batch = self.relu1(batch)\n",
        "        scores = self.fc1(batch)\n",
        "        \n",
        "        #scores=self.sm(batch)\n",
        "              \n",
        "        return scores\n",
        "\n",
        "\n",
        "class BasicBlock(nn.Module):\n",
        "    def __init__(self, in_channels, downsample = False):  # You can add params here\n",
        "        super(BasicBlock, self).__init__()\n",
        "        \n",
        "        self.downsample = downsample\n",
        "\n",
        "        if downsample: #Если есть увеличение, то первая свёртка должна быть с большим выходом\n",
        "          self.conv1 = nn.Conv1d(in_channels//2, in_channels, kernel_size=3, stride=2, padding=1)\n",
        "        else:\n",
        "          self.conv1 = nn.Conv1d(in_channels, in_channels, kernel_size=3, padding=1)\n",
        "\n",
        "        self.bn1 = nn.BatchNorm1d(in_channels)\n",
        "        self.relu = nn.ReLU()\n",
        "        self.conv2 = nn.Conv1d(in_channels, in_channels, kernel_size=3, padding=1)\n",
        "        self.bn2 = nn.BatchNorm1d(in_channels)\n",
        "        if downsample:\n",
        "            self.downsample = nn.Sequential(\n",
        "                nn.Conv1d(in_channels//2, in_channels, kernel_size=1, stride=2), #Уменьшаем размер картинки, увеличивая количество фильтров\n",
        "                nn.BatchNorm1d(in_channels))                \n",
        "\n",
        "       \n",
        "    def forward(self, x):\n",
        "        \n",
        "        identity = x\n",
        "        \n",
        "        out = self.conv1(x)\n",
        "        out = self.bn1(out)\n",
        "        out = self.relu(out)\n",
        "\n",
        "        out = self.conv2(out)\n",
        "        out = self.bn2(out)\n",
        "\n",
        "        if self.downsample:\n",
        "            identity = self.downsample(x)\n",
        "            \n",
        "        out += identity\n",
        "        out = self.relu(out)\n",
        "\n",
        "        return out\n",
        "        "
      ]
    },
    {
      "cell_type": "markdown",
      "source": [
        "## v0.4.0 - добавление к 0.3.0 макспулов для уменьшения количества параметров."
      ],
      "metadata": {
        "id": "vMbqHfAMfvT1"
      }
    },
    {
      "cell_type": "code",
      "source": [
        "from torch.nn.modules.batchnorm import BatchNorm2d\n",
        "import torch.nn as nn\n",
        "import torch\n",
        "import torch.nn.functional as F\n",
        "\n",
        "\n",
        "class IrResnet4(nn.Module):\n",
        "    def __init__(self, hidden_size = 34, class_nums=17):\n",
        "        super(IrResnet4, self).__init__()\n",
        "        self.hidden_size=hidden_size\n",
        "        # Архитектура на подобие resnet\n",
        "        self.conv1 = nn.Conv1d(2, hidden_size, kernel_size=5, stride=2, padding = 1) #[2,1800]\n",
        "        self.bn1 = nn.BatchNorm1d(hidden_size)\n",
        "        self.relu = nn.ReLU()\n",
        "\n",
        "        self.layer1 = nn.Sequential( #3 последовательных базовых блока #[2,1800]\n",
        "            BasicBlock(hidden_size),\n",
        "            BasicBlock(hidden_size),\n",
        "            BasicBlock(hidden_size))\n",
        "        self.max1 = nn.MaxPool1d(3,2,0)\n",
        "        self.layer3 = nn.Sequential(\n",
        "            BasicBlock(hidden_size*2, downsample = True), #[2,900]\n",
        "            BasicBlock(hidden_size*2),\n",
        "            BasicBlock(hidden_size*2))\n",
        "        self.max2 = nn.MaxPool1d(3,2,0)\n",
        "        self.layer5 = nn.Sequential(\n",
        "            BasicBlock(hidden_size*4, downsample = True), #[2,450]\n",
        "            BasicBlock(hidden_size*4),\n",
        "            BasicBlock(hidden_size*4))\n",
        "        self.max3 = nn.MaxPool1d(3,2,0)\n",
        "        self.layer7 = nn.Sequential(\n",
        "            BasicBlock(hidden_size*8, downsample = True), #[2,225]\n",
        "            BasicBlock(hidden_size*8),\n",
        "            BasicBlock(hidden_size*8))\n",
        "        #self.adppool = nn.AdaptiveMaxPool1d(14)\n",
        "        self.flatten = nn.Flatten()\n",
        "        self.do1 = nn.Dropout1d(0.5)\n",
        "        self.fc = nn.Linear(hidden_size*8*14, 200)\n",
        "        self.do2 = nn.Dropout1d(0.2)\n",
        "        self.relu1 = nn.ReLU()\n",
        "        self.fc1 = nn.Linear(200, class_nums) \n",
        "        \n",
        "\n",
        "\n",
        "    def forward(self, batch):\n",
        "        batch = self.conv1(batch)\n",
        "        batch = self.bn1(batch)\n",
        "        batch = self.relu(batch)\n",
        "        batch = self.layer1(batch)\n",
        "        batch = self.max1(batch)\n",
        "        batch = self.layer3(batch)\n",
        "        batch = self.max2(batch)\n",
        "        batch = self.layer5(batch)\n",
        "        batch = self.max3(batch)\n",
        "        batch = self.layer7(batch)\n",
        "        batch = self.flatten(batch)\n",
        "        batch = self.do1(batch)\n",
        "        batch = self.fc(batch)\n",
        "        batch = self.do2(batch)\n",
        "        batch = self.relu1(batch)\n",
        "        scores = self.fc1(batch)\n",
        "              \n",
        "        return scores\n",
        "\n",
        "\n",
        "class BasicBlock(nn.Module):\n",
        "    def __init__(self, in_channels, downsample = False):  # You can add params here\n",
        "        super(BasicBlock, self).__init__()\n",
        "        \n",
        "        self.downsample = downsample\n",
        "\n",
        "        if downsample: #Если есть увеличение, то первая свёртка должна быть с большим выходом\n",
        "          self.conv1 = nn.Conv1d(in_channels//2, in_channels, kernel_size=3, stride=2, padding=1)\n",
        "        else:\n",
        "          self.conv1 = nn.Conv1d(in_channels, in_channels, kernel_size=3, padding=1)\n",
        "\n",
        "        self.bn1 = nn.BatchNorm1d(in_channels)\n",
        "        self.relu = nn.ReLU()\n",
        "        self.conv2 = nn.Conv1d(in_channels, in_channels, kernel_size=3, padding=1)\n",
        "        self.bn2 = nn.BatchNorm1d(in_channels)\n",
        "        if downsample:\n",
        "            self.downsample = nn.Sequential(\n",
        "                nn.Conv1d(in_channels//2, in_channels, kernel_size=1, stride=2), #Уменьшаем размер картинки, увеличивая количество фильтров\n",
        "                nn.BatchNorm1d(in_channels))                \n",
        "\n",
        "       \n",
        "    def forward(self, x):\n",
        "        \n",
        "        identity = x\n",
        "        \n",
        "        out = self.conv1(x)\n",
        "        out = self.bn1(out)\n",
        "        out = self.relu(out)\n",
        "\n",
        "        out = self.conv2(out)\n",
        "        out = self.bn2(out)\n",
        "\n",
        "        if self.downsample:\n",
        "            identity = self.downsample(x)\n",
        "            \n",
        "        out += identity\n",
        "        out = self.relu(out)\n",
        "\n",
        "        return out\n",
        "        "
      ],
      "metadata": {
        "id": "eO0AVXLbfuyO"
      },
      "execution_count": 34,
      "outputs": []
    },
    {
      "cell_type": "markdown",
      "source": [
        "## v0.5.0 На вход добавлен слой с положением пиков [3, 1800].\n",
        "v0.5.0 - аналог v0.4.0 но вход [3,1800]\n",
        "v0.5.1 - убраны два макспула"
      ],
      "metadata": {
        "id": "ymatTSkpcE3M"
      }
    },
    {
      "cell_type": "code",
      "source": [
        "from torch.nn.modules.batchnorm import BatchNorm2d\n",
        "import torch.nn as nn\n",
        "import torch\n",
        "import torch.nn.functional as F\n",
        "\n",
        "\n",
        "class IrResnet5_0(nn.Module):\n",
        "    def __init__(self, hidden_size = 34, class_nums=17):\n",
        "        super(IrResnet5_0, self).__init__()\n",
        "        self.hidden_size=hidden_size\n",
        "        self.conv1 = nn.Conv1d(3, hidden_size, kernel_size=3, stride=2, padding = 1) #[3,899]\n",
        "        self.bn1 = nn.BatchNorm1d(hidden_size)\n",
        "        self.relu = nn.ReLU()\n",
        "        \n",
        "        \n",
        "        self.layer1 = nn.Sequential( #3 последовательных базовых блока #[2,1800]\n",
        "            BasicBlock(hidden_size),\n",
        "            BasicBlock(hidden_size),\n",
        "            BasicBlock(hidden_size))\n",
        "        self.max1 = nn.MaxPool1d(3,2,0)\n",
        "        self.layer3 = nn.Sequential(\n",
        "            BasicBlock(hidden_size*2, downsample = True), #[2,900]\n",
        "            BasicBlock(hidden_size*2),\n",
        "            BasicBlock(hidden_size*2))\n",
        "        self.max2 = nn.MaxPool1d(3,2,0)\n",
        "        self.layer5 = nn.Sequential(\n",
        "            BasicBlock(hidden_size*4, downsample = True), #[2,450]\n",
        "            BasicBlock(hidden_size*4),\n",
        "            BasicBlock(hidden_size*4))\n",
        "        self.max3 = nn.MaxPool1d(3,2,0)\n",
        "        self.layer7 = nn.Sequential(\n",
        "            BasicBlock(hidden_size*8, downsample = True), #[2,225]\n",
        "            BasicBlock(hidden_size*8),\n",
        "            BasicBlock(hidden_size*8))\n",
        "        self.flatten = nn.Flatten()\n",
        "        self.do1 = nn.Dropout1d(0.5)\n",
        "        self.fc = nn.Linear(hidden_size*8*14, 200)\n",
        "        self.do2 = nn.Dropout1d(0.2)\n",
        "        self.relu1 = nn.ReLU()\n",
        "        self.fc1 = nn.Linear(200, class_nums) \n",
        "        \n",
        "\n",
        "\n",
        "    def forward(self, batch):\n",
        "        batch = self.conv1(batch)\n",
        "        batch = self.bn1(batch)\n",
        "        batch = self.relu(batch)\n",
        "        batch = self.layer1(batch)\n",
        "        batch = self.max1(batch)\n",
        "        batch = self.layer3(batch)\n",
        "        batch = self.max2(batch)\n",
        "        batch = self.layer5(batch)\n",
        "        batch = self.max3(batch)\n",
        "        batch = self.layer7(batch)\n",
        "        batch = self.flatten(batch)\n",
        "        batch = self.do1(batch)\n",
        "        batch = self.fc(batch)\n",
        "        batch = self.do2(batch)\n",
        "        batch = self.relu1(batch)\n",
        "        scores = self.fc1(batch)\n",
        "        \n",
        "        #scores=self.sm(batch)\n",
        "              \n",
        "        return scores\n",
        "\n",
        "\n",
        "class BasicBlock(nn.Module):\n",
        "    def __init__(self, in_channels, downsample = False):  # You can add params here\n",
        "        super(BasicBlock, self).__init__()\n",
        "        \n",
        "        self.downsample = downsample\n",
        "\n",
        "        if downsample: #Если есть увеличение, то первая свёртка должна быть с большим выходом\n",
        "          self.conv1 = nn.Conv1d(in_channels//2, in_channels, kernel_size=3, stride=2, padding=1)\n",
        "        else:\n",
        "          self.conv1 = nn.Conv1d(in_channels, in_channels, kernel_size=3, padding=1)\n",
        "\n",
        "        self.bn1 = nn.BatchNorm1d(in_channels)\n",
        "        self.relu = nn.ReLU()\n",
        "        self.conv2 = nn.Conv1d(in_channels, in_channels, kernel_size=3, padding=1)\n",
        "        self.bn2 = nn.BatchNorm1d(in_channels)\n",
        "        if downsample:\n",
        "            self.downsample = nn.Sequential(\n",
        "                nn.Conv1d(in_channels//2, in_channels, kernel_size=1, stride=2), #Уменьшаем размер картинки, увеличивая количество фильтров\n",
        "                nn.BatchNorm1d(in_channels))                \n",
        "\n",
        "       \n",
        "    def forward(self, x):\n",
        "        \n",
        "        identity = x\n",
        "        \n",
        "        out = self.conv1(x)\n",
        "        out = self.bn1(out)\n",
        "        out = self.relu(out)\n",
        "\n",
        "        out = self.conv2(out)\n",
        "        out = self.bn2(out)\n",
        "\n",
        "        if self.downsample:\n",
        "            identity = self.downsample(x)\n",
        "            \n",
        "        out += identity\n",
        "        out = self.relu(out)\n",
        "\n",
        "        return out"
      ],
      "metadata": {
        "id": "2FAl-P85ydnr"
      },
      "execution_count": 231,
      "outputs": []
    },
    {
      "cell_type": "code",
      "source": [
        "from torch.nn.modules.batchnorm import BatchNorm2d\n",
        "import torch.nn as nn\n",
        "import torch\n",
        "import torch.nn.functional as F\n",
        "\n",
        "\n",
        "class IrResnet5(nn.Module):\n",
        "    def __init__(self, hidden_size = 34, class_nums=17):\n",
        "        super(IrResnet5, self).__init__()\n",
        "        self.hidden_size=hidden_size\n",
        "        # Архитектура на подобие resnet\n",
        "        self.conv1 = nn.Conv1d(3, hidden_size, kernel_size=3, stride=2, padding = 1) #[3,899]\n",
        "        self.bn1 = nn.BatchNorm1d(hidden_size)\n",
        "        self.relu = nn.ReLU()\n",
        "        \n",
        "        \n",
        "        self.layer1 = nn.Sequential( #3 последовательных базовых блока #[2,1800]\n",
        "            BasicBlock(hidden_size),\n",
        "            BasicBlock(hidden_size),\n",
        "            BasicBlock(hidden_size))\n",
        "        self.layer3 = nn.Sequential(\n",
        "            BasicBlock(hidden_size*2, downsample = True), #[2,900]\n",
        "            BasicBlock(hidden_size*2),\n",
        "            BasicBlock(hidden_size*2))\n",
        "        self.layer5 = nn.Sequential(\n",
        "            BasicBlock(hidden_size*4, downsample = True), #[2,450]\n",
        "            BasicBlock(hidden_size*4),\n",
        "            BasicBlock(hidden_size*4))\n",
        "        self.max3 = nn.MaxPool1d(3,2,0)\n",
        "        self.layer7 = nn.Sequential(\n",
        "            BasicBlock(hidden_size*8, downsample = True), #[2,225]\n",
        "            BasicBlock(hidden_size*8),\n",
        "            BasicBlock(hidden_size*8))\n",
        "        self.flatten = nn.Flatten()\n",
        "        self.do1 = nn.Dropout1d(0.5)\n",
        "        self.fc = nn.Linear(hidden_size*8*56, 200)\n",
        "        self.do2 = nn.Dropout1d(0.2)\n",
        "        self.relu1 = nn.ReLU()\n",
        "        self.fc1 = nn.Linear(200, class_nums) \n",
        "        \n",
        "\n",
        "\n",
        "    def forward(self, batch):\n",
        "        batch = self.conv1(batch)\n",
        "        batch = self.bn1(batch)\n",
        "        batch = self.relu(batch)\n",
        "        batch = self.layer1(batch)\n",
        "        batch = self.layer3(batch)\n",
        "        batch = self.layer5(batch)\n",
        "        batch = self.max3(batch)\n",
        "        batch = self.layer7(batch)\n",
        "        batch = self.flatten(batch)\n",
        "        batch = self.do1(batch)\n",
        "        batch = self.fc(batch)\n",
        "        batch = self.do2(batch)\n",
        "        batch = self.relu1(batch)\n",
        "        scores = self.fc1(batch)              \n",
        "        return scores\n",
        "\n",
        "\n",
        "class BasicBlock(nn.Module):\n",
        "    def __init__(self, in_channels, downsample = False):  # You can add params here\n",
        "        super(BasicBlock, self).__init__()\n",
        "        \n",
        "        self.downsample = downsample\n",
        "\n",
        "        if downsample: #Если есть увеличение, то первая свёртка должна быть с большим выходом\n",
        "          self.conv1 = nn.Conv1d(in_channels//2, in_channels, kernel_size=3, stride=2, padding=1)\n",
        "        else:\n",
        "          self.conv1 = nn.Conv1d(in_channels, in_channels, kernel_size=3, padding=1)\n",
        "\n",
        "        self.bn1 = nn.BatchNorm1d(in_channels)\n",
        "        self.relu = nn.ReLU()\n",
        "        self.conv2 = nn.Conv1d(in_channels, in_channels, kernel_size=3, padding=1)\n",
        "        self.bn2 = nn.BatchNorm1d(in_channels)\n",
        "        if downsample:\n",
        "            self.downsample = nn.Sequential(\n",
        "                nn.Conv1d(in_channels//2, in_channels, kernel_size=1, stride=2), #Уменьшаем размер картинки, увеличивая количество фильтров\n",
        "                nn.BatchNorm1d(in_channels))                \n",
        "\n",
        "       \n",
        "    def forward(self, x):\n",
        "        \n",
        "        identity = x\n",
        "        \n",
        "        out = self.conv1(x)\n",
        "        out = self.bn1(out)\n",
        "        out = self.relu(out)\n",
        "\n",
        "        out = self.conv2(out)\n",
        "        out = self.bn2(out)\n",
        "\n",
        "        if self.downsample:\n",
        "            identity = self.downsample(x)\n",
        "            \n",
        "        out += identity\n",
        "        out = self.relu(out)\n",
        "\n",
        "        return out"
      ],
      "metadata": {
        "id": "a54f0UpecGH-"
      },
      "execution_count": 35,
      "outputs": []
    },
    {
      "cell_type": "markdown",
      "source": [
        "## v0.6.0 добавление внимания"
      ],
      "metadata": {
        "id": "CkGr0zG1-27i"
      }
    },
    {
      "cell_type": "markdown",
      "source": [
        "Здесь будет добавлены несколько слоёв внимания, которые будут дополнять линейный слой.\n",
        "\n",
        "По сравнению с IrNet4 убран второй дроп-аут, переделана голова. Сxема работы - 2 слоя внимания получают выходы с 3го и 5го ResNet-блока. Выходы со слоя внимания добавляются к линейному слою перед подачей на выравнивающий слой. Слои внимания выдяются отдельно."
      ],
      "metadata": {
        "id": "abcYksEV-90b"
      }
    },
    {
      "cell_type": "code",
      "source": [
        "class AttentionBlock1d(nn.Module):\n",
        "    def __init__(self, in_features_l, in_features_g, attn_features, up_factor, normalize_attn=True):\n",
        "        super(AttentionBlock1d, self).__init__()\n",
        "        self.up_factor = up_factor\n",
        "        self.normalize_attn = normalize_attn\n",
        "        self.W_l = nn.Conv1d(in_channels=in_features_l, out_channels=attn_features, kernel_size=1, padding=0, bias=False)\n",
        "        self.W_g = nn.Conv1d(in_channels=in_features_g, out_channels=attn_features, kernel_size=1, padding=0, bias=False)\n",
        "        self.phi = nn.Conv1d(in_channels=attn_features, out_channels=1, kernel_size=1, padding=0, bias=True)\n",
        "    def forward(self, l, g):\n",
        "        N, C, H = l.size() #[2,20,450]\n",
        "        l_ = self.W_l(l)\n",
        "        #print('l')\n",
        "        #print(l.size())\n",
        "        g_ = self.W_g(g)\n",
        "        if self.up_factor > 1:\n",
        "            g_ = F.interpolate(g_, scale_factor=self.up_factor, mode='linear', align_corners=True)\n",
        "        c = self.phi(F.relu(l_ + g_)) # batch_sizex1xH\n",
        "        #print(c.size()) #[2,1,450]\n",
        "        # compute attn map\n",
        "        if self.normalize_attn:\n",
        "            a = F.softmax(c.view(N,1,-1), dim=2).view(N,1,H)\n",
        "        else:\n",
        "            a = torch.sigmoid(c)\n",
        "        # re-weight the local feature\n",
        "        #print(a.size()) #[2,1,450]\n",
        "        f = torch.mul(a.expand_as(l), l) # batch_sizexCxH\n",
        "        #print(f.size()) #[2,20,450]\n",
        "        if self.normalize_attn:\n",
        "            output = f.view(N,C,-1).sum(dim=1) # weighted sum\n",
        "        else:\n",
        "            output = F.adaptive_avg_pool1d(f, 1).view(N,C) # global average pooling\n",
        "       # print('output')\n",
        "       # print(output.size()) #[2,20]\n",
        "        #print('a')\n",
        "        #print(a.size()) #[2,1,450]\n",
        "        return a, output"
      ],
      "metadata": {
        "id": "NpjzNP81CCiC"
      },
      "execution_count": 36,
      "outputs": []
    },
    {
      "cell_type": "code",
      "source": [
        "#В модель v0.5 добавлены два слоя внимания с выводом результата в линейный слой\n",
        "#При выводе из модели не только результатов, но еще чего-то ломается функция summary\n",
        "from torch.nn.modules.batchnorm import BatchNorm2d\n",
        "import torch.nn as nn\n",
        "import torch\n",
        "import torch.nn.functional as F\n",
        "\n",
        "\n",
        "class IrResnet6(nn.Module):\n",
        "    def __init__(self, hidden_size = 34, class_nums=17, normalize_attn=False, dropout=None):\n",
        "        super(IrResnet6, self).__init__()\n",
        "        self.hidden_size=hidden_size\n",
        "        # Архитектура на подобие resnet\n",
        "        self.conv1 = nn.Conv1d(3, hidden_size, kernel_size=3, stride=2, padding = 1) #[hidden_size,899]\n",
        "        self.bn1 = nn.BatchNorm1d(hidden_size)\n",
        "        self.relu = nn.ReLU()\n",
        "                \n",
        "        self.layer1 = nn.Sequential( #3 последовательных базовых блока #[hidden_size,899]\n",
        "            BasicBlock(hidden_size),\n",
        "            BasicBlock(hidden_size),\n",
        "            BasicBlock(hidden_size))\n",
        "        self.layer2 = nn.Sequential(\n",
        "            BasicBlock(hidden_size*2, downsample = True), #[hidden_size*2,450]\n",
        "            BasicBlock(hidden_size*2),\n",
        "            BasicBlock(hidden_size*2))\n",
        "        self.layer3 = nn.Sequential(\n",
        "            BasicBlock(hidden_size*4, downsample = True), #[hidden_size*4,225]\n",
        "            BasicBlock(hidden_size*4),\n",
        "            BasicBlock(hidden_size*4))\n",
        "        self.max3 = nn.MaxPool1d(3,2,0)                   #[hidden_size*4,112]\n",
        "        self.layer4 = nn.Sequential(\n",
        "            BasicBlock(hidden_size*8, downsample = True), #[hidden_size*8,56]\n",
        "            BasicBlock(hidden_size*8),\n",
        "            BasicBlock(hidden_size*8))\n",
        "        self.flatten = nn.Flatten()\n",
        "        self.dpt = None\n",
        "        if dropout is not None:\n",
        "            self.dpt1 = nn.Dropout(dropout)\n",
        "        self.fc1 = nn.Linear(hidden_size*8*56+450+225, 200)\n",
        "        if dropout is not None:\n",
        "            self.dpt2 = nn.Dropout(dropout)\n",
        "        self.fc2 = nn.Linear(200, class_nums)\n",
        "        \n",
        "        # initialize the attention blocks defined above\n",
        "        self.attn1 = AttentionBlock1d(hidden_size*2, hidden_size*8, hidden_size*4, 8.05)\n",
        "        self.attn2 = AttentionBlock1d(hidden_size*4, hidden_size*8, hidden_size*4, 4.03)\n",
        "              \n",
        "        self.reset_parameters(self.fc1)\n",
        "        self.reset_parameters(self.fc2)\n",
        "        self.reset_parameters(self.attn1)\n",
        "        self.reset_parameters(self.attn2)\n",
        "\n",
        "    def reset_parameters(self, module):\n",
        "        for m in module.modules():\n",
        "            if isinstance(m, nn.Conv1d):\n",
        "                nn.init.kaiming_normal_(m.weight, mode='fan_in', nonlinearity='relu')\n",
        "                if m.bias is not None:\n",
        "                    nn.init.constant_(m.bias, 0.)\n",
        "            elif isinstance(m, nn.BatchNorm1d):\n",
        "                nn.init.constant_(m.weight, 1.)\n",
        "                nn.init.constant_(m.bias, 0.)\n",
        "            elif isinstance(m, nn.Linear):\n",
        "                nn.init.normal_(m.weight, 0., 0.01)\n",
        "                nn.init.constant_(m.bias, 0.)\n",
        "        \n",
        "    def forward(self, batch):\n",
        "      \n",
        "        batch_conv1 = self.conv1(batch)\n",
        "        batch_norm1 = self.bn1(batch_conv1)\n",
        "        batch_relu1 = self.relu(batch_norm1)\n",
        "        batch_layer1 = self.layer1(batch_relu1)\n",
        "        batch_layer2 = self.layer2(batch_layer1)\n",
        "        batch_layer3 = self.layer3(batch_layer2)\n",
        "        batch_max3 = self.max3(batch_layer3)\n",
        "        batch_layer4 = self.layer4(batch_max3)\n",
        "        batch_flatten = self.flatten(batch_layer4)    \n",
        "        a1, g1 = self.attn1(batch_layer2, batch_layer4)\n",
        "        a2, g2 = self.attn2(batch_layer3, batch_layer4)\n",
        "        g_hat = torch.cat((batch_flatten,g1,g2), dim=1) # batch_size x C      \n",
        "        if self.dpt is not None:\n",
        "             g_hat = self.dpt1(g_hat)\n",
        "        g_hat1 = self.fc1(g_hat)\n",
        "        if self.dpt is not None:\n",
        "             g_hat1 = self.dpt2(g_hat1)  \n",
        "        scores = self.fc2(g_hat1)\n",
        "        return scores, a1, a2\n",
        "\n",
        "\n",
        "\n",
        "class BasicBlock(nn.Module):\n",
        "    def __init__(self, in_channels, downsample = False):  # You can add params here\n",
        "        super(BasicBlock, self).__init__()\n",
        "        \n",
        "        self.downsample = downsample\n",
        "\n",
        "        if downsample: #Если есть увеличение, то первая свёртка должна быть с большим выходом\n",
        "          self.conv1 = nn.Conv1d(in_channels//2, in_channels, kernel_size=3, stride=2, padding=1)\n",
        "        else:\n",
        "          self.conv1 = nn.Conv1d(in_channels, in_channels, kernel_size=3, padding=1)\n",
        "\n",
        "        self.bn1 = nn.BatchNorm1d(in_channels)\n",
        "        self.relu = nn.ReLU()\n",
        "        self.conv2 = nn.Conv1d(in_channels, in_channels, kernel_size=3, padding=1)\n",
        "        self.bn2 = nn.BatchNorm1d(in_channels)\n",
        "        if downsample:\n",
        "            self.downsample = nn.Sequential(\n",
        "                nn.Conv1d(in_channels//2, in_channels, kernel_size=1, stride=2), #Уменьшаем размер картинки, увеличивая количество фильтров\n",
        "                nn.BatchNorm1d(in_channels))                \n",
        "\n",
        "       \n",
        "    def forward(self, x):\n",
        "        \n",
        "        identity = x\n",
        "        \n",
        "        out = self.conv1(x)\n",
        "        out = self.bn1(out)\n",
        "        out = self.relu(out)\n",
        "\n",
        "        out = self.conv2(out)\n",
        "        out = self.bn2(out)\n",
        "\n",
        "        if self.downsample:\n",
        "            identity = self.downsample(x)\n",
        "            \n",
        "        out += identity\n",
        "        out = self.relu(out)\n",
        "\n",
        "        return out"
      ],
      "metadata": {
        "id": "sEJYoPb8_FAV"
      },
      "execution_count": 37,
      "outputs": []
    },
    {
      "cell_type": "markdown",
      "source": [
        "##v0.7.0 добавление слоёв всех положений полос"
      ],
      "metadata": {
        "id": "OTvT52sGq4zd"
      }
    },
    {
      "cell_type": "markdown",
      "source": [
        "На основе версии 5. Добавлены слои со всеми возможными положениями пиков\n",
        "\n",
        "В версии v0.7.1 все слои внимания схлопнуты в 1 слой.\n",
        "\n",
        "В версии v0.7.2 этот слой нормирован на 1."
      ],
      "metadata": {
        "id": "4DaN-APIq68o"
      }
    },
    {
      "cell_type": "code",
      "source": [
        "from torch.nn.modules.batchnorm import BatchNorm2d\n",
        "import torch.nn as nn\n",
        "import torch\n",
        "import torch.nn.functional as F\n",
        "\n",
        "\n",
        "class IrResnet7(nn.Module):\n",
        "    def __init__(self, hidden_size = 34, class_nums=17):\n",
        "        super(IrResnet7, self).__init__()\n",
        "        self.hidden_size=hidden_size\n",
        "        # Архитектура на подобие resnet\n",
        "        self.conv1 = nn.Conv1d(4, hidden_size, kernel_size=3, stride=2, padding = 1) #[3,899]\n",
        "        self.bn1 = nn.BatchNorm1d(hidden_size)\n",
        "        self.relu = nn.ReLU()\n",
        "        \n",
        "        self.layer1 = nn.Sequential( #3 последовательных базовых блока #[2,1800]\n",
        "            BasicBlock(hidden_size),\n",
        "            BasicBlock(hidden_size),\n",
        "            BasicBlock(hidden_size))\n",
        "        self.layer2 = nn.Sequential(\n",
        "            BasicBlock(hidden_size*2, downsample = True), #[2,900]\n",
        "            BasicBlock(hidden_size*2),\n",
        "            BasicBlock(hidden_size*2))\n",
        "        self.layer3 = nn.Sequential(\n",
        "            BasicBlock(hidden_size*4, downsample = True), #[2,450]\n",
        "            BasicBlock(hidden_size*4),\n",
        "            BasicBlock(hidden_size*4))\n",
        "        self.max3 = nn.MaxPool1d(3,2,0)\n",
        "        self.layer4 = nn.Sequential(\n",
        "            BasicBlock(hidden_size*8, downsample = True), #[2,225]\n",
        "            BasicBlock(hidden_size*8),\n",
        "            BasicBlock(hidden_size*8))\n",
        "        self.flatten = nn.Flatten()\n",
        "        self.do1 = nn.Dropout1d(0.5)\n",
        "        self.fc = nn.Linear(hidden_size*8*56, 200)\n",
        "        self.do2 = nn.Dropout1d(0.2)\n",
        "        self.relu1 = nn.ReLU()\n",
        "        self.fc1 = nn.Linear(200, class_nums) \n",
        "\n",
        "    def forward(self, batch):\n",
        "        batch = self.conv1(batch)\n",
        "        batch = self.bn1(batch)\n",
        "        batch = self.relu(batch)\n",
        "        batch = self.layer1(batch)\n",
        "        batch = self.layer2(batch)\n",
        "        batch = self.layer3(batch)\n",
        "        batch = self.max3(batch)\n",
        "        batch = self.layer4(batch)\n",
        "        batch = self.flatten(batch)\n",
        "        batch = self.do1(batch)\n",
        "        batch = self.fc(batch)\n",
        "        batch = self.do2(batch)\n",
        "        batch = self.relu1(batch)\n",
        "        scores = self.fc1(batch)                    \n",
        "        return scores\n",
        "\n",
        "\n",
        "class BasicBlock(nn.Module):\n",
        "    def __init__(self, in_channels, downsample = False):  # You can add params here\n",
        "        super(BasicBlock, self).__init__()\n",
        "        \n",
        "        self.downsample = downsample\n",
        "\n",
        "        if downsample: #Если есть увеличение, то первая свёртка должна быть с большим выходом\n",
        "          self.conv1 = nn.Conv1d(in_channels//2, in_channels, kernel_size=3, stride=2, padding=1)\n",
        "        else:\n",
        "          self.conv1 = nn.Conv1d(in_channels, in_channels, kernel_size=3, padding=1)\n",
        "\n",
        "        self.bn1 = nn.BatchNorm1d(in_channels)\n",
        "        self.relu = nn.ReLU()\n",
        "        self.conv2 = nn.Conv1d(in_channels, in_channels, kernel_size=3, padding=1)\n",
        "        self.bn2 = nn.BatchNorm1d(in_channels)\n",
        "        if downsample:\n",
        "            self.downsample = nn.Sequential(\n",
        "                nn.Conv1d(in_channels//2, in_channels, kernel_size=1, stride=2), #Уменьшаем размер картинки, увеличивая количество фильтров\n",
        "                nn.BatchNorm1d(in_channels))                \n",
        "\n",
        "       \n",
        "    def forward(self, x):\n",
        "        \n",
        "        identity = x\n",
        "        \n",
        "        out = self.conv1(x)\n",
        "        out = self.bn1(out)\n",
        "        out = self.relu(out)\n",
        "\n",
        "        out = self.conv2(out)\n",
        "        out = self.bn2(out)\n",
        "\n",
        "        if self.downsample:\n",
        "            identity = self.downsample(x)\n",
        "            \n",
        "        out += identity\n",
        "        out = self.relu(out)\n",
        "\n",
        "        return out"
      ],
      "metadata": {
        "id": "-5lLHGnTrFzi"
      },
      "execution_count": 38,
      "outputs": []
    },
    {
      "cell_type": "markdown",
      "metadata": {
        "id": "u1dVcEEj9IOf"
      },
      "source": [
        "Оптимизатор - Адам с базовыми настройками\n",
        "\n",
        "Лосс - Бинарная кросс-энтропия"
      ]
    },
    {
      "cell_type": "markdown",
      "source": [
        "#Импорт модели"
      ],
      "metadata": {
        "id": "R3iNIxgEIds8"
      }
    },
    {
      "cell_type": "code",
      "source": [
        "#Импорт модели из зоопарка\n",
        "model = IrResnet7(50, class_nums = 17)\n",
        "version = 'v0.7.1.50'\n",
        "model.load_state_dict(torch.load('/content/IR_expert_system/models/'+version+'/'+version+'_model_param'))\n",
        "#model.load_state_dict(torch.load('/content/IR_expert_system/models/v0.4.2.50/v.4.2.50_model_param'))\n",
        "model.eval()"
      ],
      "metadata": {
        "id": "Ew5oRXahJYfz",
        "colab": {
          "base_uri": "https://localhost:8080/"
        },
        "outputId": "a23375d4-f7b0-4c17-e487-d9e85c6cef7c"
      },
      "execution_count": 307,
      "outputs": [
        {
          "output_type": "execute_result",
          "data": {
            "text/plain": [
              "IrResnet7(\n",
              "  (conv1): Conv1d(4, 50, kernel_size=(3,), stride=(2,), padding=(1,))\n",
              "  (bn1): BatchNorm1d(50, eps=1e-05, momentum=0.1, affine=True, track_running_stats=True)\n",
              "  (relu): ReLU()\n",
              "  (layer1): Sequential(\n",
              "    (0): BasicBlock(\n",
              "      (conv1): Conv1d(50, 50, kernel_size=(3,), stride=(1,), padding=(1,))\n",
              "      (bn1): BatchNorm1d(50, eps=1e-05, momentum=0.1, affine=True, track_running_stats=True)\n",
              "      (relu): ReLU()\n",
              "      (conv2): Conv1d(50, 50, kernel_size=(3,), stride=(1,), padding=(1,))\n",
              "      (bn2): BatchNorm1d(50, eps=1e-05, momentum=0.1, affine=True, track_running_stats=True)\n",
              "    )\n",
              "    (1): BasicBlock(\n",
              "      (conv1): Conv1d(50, 50, kernel_size=(3,), stride=(1,), padding=(1,))\n",
              "      (bn1): BatchNorm1d(50, eps=1e-05, momentum=0.1, affine=True, track_running_stats=True)\n",
              "      (relu): ReLU()\n",
              "      (conv2): Conv1d(50, 50, kernel_size=(3,), stride=(1,), padding=(1,))\n",
              "      (bn2): BatchNorm1d(50, eps=1e-05, momentum=0.1, affine=True, track_running_stats=True)\n",
              "    )\n",
              "    (2): BasicBlock(\n",
              "      (conv1): Conv1d(50, 50, kernel_size=(3,), stride=(1,), padding=(1,))\n",
              "      (bn1): BatchNorm1d(50, eps=1e-05, momentum=0.1, affine=True, track_running_stats=True)\n",
              "      (relu): ReLU()\n",
              "      (conv2): Conv1d(50, 50, kernel_size=(3,), stride=(1,), padding=(1,))\n",
              "      (bn2): BatchNorm1d(50, eps=1e-05, momentum=0.1, affine=True, track_running_stats=True)\n",
              "    )\n",
              "  )\n",
              "  (layer2): Sequential(\n",
              "    (0): BasicBlock(\n",
              "      (conv1): Conv1d(50, 100, kernel_size=(3,), stride=(2,), padding=(1,))\n",
              "      (bn1): BatchNorm1d(100, eps=1e-05, momentum=0.1, affine=True, track_running_stats=True)\n",
              "      (relu): ReLU()\n",
              "      (conv2): Conv1d(100, 100, kernel_size=(3,), stride=(1,), padding=(1,))\n",
              "      (bn2): BatchNorm1d(100, eps=1e-05, momentum=0.1, affine=True, track_running_stats=True)\n",
              "      (downsample): Sequential(\n",
              "        (0): Conv1d(50, 100, kernel_size=(1,), stride=(2,))\n",
              "        (1): BatchNorm1d(100, eps=1e-05, momentum=0.1, affine=True, track_running_stats=True)\n",
              "      )\n",
              "    )\n",
              "    (1): BasicBlock(\n",
              "      (conv1): Conv1d(100, 100, kernel_size=(3,), stride=(1,), padding=(1,))\n",
              "      (bn1): BatchNorm1d(100, eps=1e-05, momentum=0.1, affine=True, track_running_stats=True)\n",
              "      (relu): ReLU()\n",
              "      (conv2): Conv1d(100, 100, kernel_size=(3,), stride=(1,), padding=(1,))\n",
              "      (bn2): BatchNorm1d(100, eps=1e-05, momentum=0.1, affine=True, track_running_stats=True)\n",
              "    )\n",
              "    (2): BasicBlock(\n",
              "      (conv1): Conv1d(100, 100, kernel_size=(3,), stride=(1,), padding=(1,))\n",
              "      (bn1): BatchNorm1d(100, eps=1e-05, momentum=0.1, affine=True, track_running_stats=True)\n",
              "      (relu): ReLU()\n",
              "      (conv2): Conv1d(100, 100, kernel_size=(3,), stride=(1,), padding=(1,))\n",
              "      (bn2): BatchNorm1d(100, eps=1e-05, momentum=0.1, affine=True, track_running_stats=True)\n",
              "    )\n",
              "  )\n",
              "  (layer3): Sequential(\n",
              "    (0): BasicBlock(\n",
              "      (conv1): Conv1d(100, 200, kernel_size=(3,), stride=(2,), padding=(1,))\n",
              "      (bn1): BatchNorm1d(200, eps=1e-05, momentum=0.1, affine=True, track_running_stats=True)\n",
              "      (relu): ReLU()\n",
              "      (conv2): Conv1d(200, 200, kernel_size=(3,), stride=(1,), padding=(1,))\n",
              "      (bn2): BatchNorm1d(200, eps=1e-05, momentum=0.1, affine=True, track_running_stats=True)\n",
              "      (downsample): Sequential(\n",
              "        (0): Conv1d(100, 200, kernel_size=(1,), stride=(2,))\n",
              "        (1): BatchNorm1d(200, eps=1e-05, momentum=0.1, affine=True, track_running_stats=True)\n",
              "      )\n",
              "    )\n",
              "    (1): BasicBlock(\n",
              "      (conv1): Conv1d(200, 200, kernel_size=(3,), stride=(1,), padding=(1,))\n",
              "      (bn1): BatchNorm1d(200, eps=1e-05, momentum=0.1, affine=True, track_running_stats=True)\n",
              "      (relu): ReLU()\n",
              "      (conv2): Conv1d(200, 200, kernel_size=(3,), stride=(1,), padding=(1,))\n",
              "      (bn2): BatchNorm1d(200, eps=1e-05, momentum=0.1, affine=True, track_running_stats=True)\n",
              "    )\n",
              "    (2): BasicBlock(\n",
              "      (conv1): Conv1d(200, 200, kernel_size=(3,), stride=(1,), padding=(1,))\n",
              "      (bn1): BatchNorm1d(200, eps=1e-05, momentum=0.1, affine=True, track_running_stats=True)\n",
              "      (relu): ReLU()\n",
              "      (conv2): Conv1d(200, 200, kernel_size=(3,), stride=(1,), padding=(1,))\n",
              "      (bn2): BatchNorm1d(200, eps=1e-05, momentum=0.1, affine=True, track_running_stats=True)\n",
              "    )\n",
              "  )\n",
              "  (max3): MaxPool1d(kernel_size=3, stride=2, padding=0, dilation=1, ceil_mode=False)\n",
              "  (layer4): Sequential(\n",
              "    (0): BasicBlock(\n",
              "      (conv1): Conv1d(200, 400, kernel_size=(3,), stride=(2,), padding=(1,))\n",
              "      (bn1): BatchNorm1d(400, eps=1e-05, momentum=0.1, affine=True, track_running_stats=True)\n",
              "      (relu): ReLU()\n",
              "      (conv2): Conv1d(400, 400, kernel_size=(3,), stride=(1,), padding=(1,))\n",
              "      (bn2): BatchNorm1d(400, eps=1e-05, momentum=0.1, affine=True, track_running_stats=True)\n",
              "      (downsample): Sequential(\n",
              "        (0): Conv1d(200, 400, kernel_size=(1,), stride=(2,))\n",
              "        (1): BatchNorm1d(400, eps=1e-05, momentum=0.1, affine=True, track_running_stats=True)\n",
              "      )\n",
              "    )\n",
              "    (1): BasicBlock(\n",
              "      (conv1): Conv1d(400, 400, kernel_size=(3,), stride=(1,), padding=(1,))\n",
              "      (bn1): BatchNorm1d(400, eps=1e-05, momentum=0.1, affine=True, track_running_stats=True)\n",
              "      (relu): ReLU()\n",
              "      (conv2): Conv1d(400, 400, kernel_size=(3,), stride=(1,), padding=(1,))\n",
              "      (bn2): BatchNorm1d(400, eps=1e-05, momentum=0.1, affine=True, track_running_stats=True)\n",
              "    )\n",
              "    (2): BasicBlock(\n",
              "      (conv1): Conv1d(400, 400, kernel_size=(3,), stride=(1,), padding=(1,))\n",
              "      (bn1): BatchNorm1d(400, eps=1e-05, momentum=0.1, affine=True, track_running_stats=True)\n",
              "      (relu): ReLU()\n",
              "      (conv2): Conv1d(400, 400, kernel_size=(3,), stride=(1,), padding=(1,))\n",
              "      (bn2): BatchNorm1d(400, eps=1e-05, momentum=0.1, affine=True, track_running_stats=True)\n",
              "    )\n",
              "  )\n",
              "  (flatten): Flatten(start_dim=1, end_dim=-1)\n",
              "  (do1): Dropout1d(p=0.5, inplace=False)\n",
              "  (fc): Linear(in_features=22400, out_features=200, bias=True)\n",
              "  (do2): Dropout1d(p=0.2, inplace=False)\n",
              "  (relu1): ReLU()\n",
              "  (fc1): Linear(in_features=200, out_features=17, bias=True)\n",
              ")"
            ]
          },
          "metadata": {},
          "execution_count": 307
        }
      ]
    },
    {
      "cell_type": "markdown",
      "source": [
        "#Оценка качества модели classification report"
      ],
      "metadata": {
        "id": "-ZYflISV2anu"
      }
    },
    {
      "cell_type": "code",
      "source": [
        "from sklearn.metrics import classification_report\n",
        "def get_statistic(model, device, val_dataloader, tolerance = 0.5):\n",
        "  '''\n",
        "  Функция для получения статистики модели с мультиклассовой классификацией.\n",
        "\n",
        "  parameters:\n",
        "    model - torch.model, для которой считается статистика\n",
        "    device - устройство для расчёта статистики (cuda/cpu)\n",
        "    val_dataloader - даталоадер для валидации со спектрами, которых не было в обучающей выборке\n",
        "    tolerance - float значение порога срабатывания модели (0.5)\n",
        "  '''\n",
        "  y_true = torch.Tensor()\n",
        "  y_pred = torch.Tensor()\n",
        "  model.eval()\n",
        "  #Расчёт по тестовому даталоадеру предсказанных и реальных значений\n",
        "  for data, label in val_dataloader:\n",
        "    #out, _, _ = model.to(device)(data.to(device)) #версия 6\n",
        "    out = model.to(device)(data.to(device))\n",
        "    data.to('cpu')\n",
        "    y_true = torch.cat((label.cpu().detach(), y_true), dim = 0)\n",
        "    y_pred = torch.cat((out.cpu().detach(), y_pred), dim = 0)\n",
        "  #print(y_true.size(), y_pred.size())\n",
        "  #Приведение значений к бинарному виду для расчёта classification report при превышении порога tolerance\n",
        "  for i in range(len(y_pred)):\n",
        "    y_pred[i][y_pred[i]<tolerance]=0\n",
        "    y_pred[i][y_pred[i]>=tolerance]=1\n",
        "  model.to('cpu')\n",
        "  return classification_report(y_true, y_pred, target_names = classes)\n"
      ],
      "metadata": {
        "id": "pZ31VB1w2aBX"
      },
      "execution_count": 308,
      "outputs": []
    },
    {
      "cell_type": "code",
      "source": [
        "cr = get_statistic(model, 'cpu', dataloader_ir_val, tolerance = 0.5)"
      ],
      "metadata": {
        "colab": {
          "base_uri": "https://localhost:8080/"
        },
        "id": "1s8OwunG2mBT",
        "outputId": "667bd173-fc15-41bf-ad8d-b50c873d180f"
      },
      "execution_count": 309,
      "outputs": [
        {
          "output_type": "stream",
          "name": "stderr",
          "text": [
            "/usr/local/lib/python3.10/dist-packages/sklearn/metrics/_classification.py:1344: UndefinedMetricWarning: Precision and F-score are ill-defined and being set to 0.0 in labels with no predicted samples. Use `zero_division` parameter to control this behavior.\n",
            "  _warn_prf(average, modifier, msg_start, len(result))\n",
            "/usr/local/lib/python3.10/dist-packages/sklearn/metrics/_classification.py:1344: UndefinedMetricWarning: Precision and F-score are ill-defined and being set to 0.0 in samples with no predicted labels. Use `zero_division` parameter to control this behavior.\n",
            "  _warn_prf(average, modifier, msg_start, len(result))\n",
            "/usr/local/lib/python3.10/dist-packages/sklearn/metrics/_classification.py:1344: UndefinedMetricWarning: Recall and F-score are ill-defined and being set to 0.0 in samples with no true labels. Use `zero_division` parameter to control this behavior.\n",
            "  _warn_prf(average, modifier, msg_start, len(result))\n"
          ]
        }
      ]
    },
    {
      "cell_type": "code",
      "source": [
        "print(cr)"
      ],
      "metadata": {
        "colab": {
          "base_uri": "https://localhost:8080/"
        },
        "id": "TZzdcPYR2wVt",
        "outputId": "b8892be9-22e3-4109-9078-165fd7052eb8"
      },
      "execution_count": 310,
      "outputs": [
        {
          "output_type": "stream",
          "name": "stdout",
          "text": [
            "                  precision    recall  f1-score   support\n",
            "\n",
            "          alkane       0.64      0.01      0.02       834\n",
            "          methyl       0.00      0.00      0.00       732\n",
            "          alkene       0.00      0.00      0.00       150\n",
            "          alkyne       0.00      0.00      0.00        21\n",
            "        alcohols       0.00      0.00      0.00       251\n",
            "          amines       0.00      0.00      0.00       168\n",
            "        nitriles       0.00      0.00      0.00        42\n",
            "       aromatics       0.59      0.97      0.74       705\n",
            "   alkyl halides       0.00      0.00      0.00       306\n",
            "          esters       0.00      0.00      0.00       142\n",
            "         ketones       0.00      0.00      0.00       109\n",
            "       aldehydes       0.00      0.00      0.00        16\n",
            "carboxylic acids       0.00      0.00      0.00        58\n",
            "           ether       0.00      0.00      0.00       307\n",
            "    acyl halides       0.00      0.00      0.00         9\n",
            "          amides       0.00      0.00      0.00       104\n",
            "           nitro       0.00      0.00      0.00        68\n",
            "\n",
            "       micro avg       0.60      0.17      0.27      4022\n",
            "       macro avg       0.07      0.06      0.04      4022\n",
            "    weighted avg       0.24      0.17      0.13      4022\n",
            "     samples avg       0.58      0.19      0.28      4022\n",
            "\n"
          ]
        }
      ]
    },
    {
      "cell_type": "markdown",
      "metadata": {
        "id": "PIi3rjFafQJ8"
      },
      "source": [
        "# Оценка качества модели AUC ROC"
      ]
    },
    {
      "cell_type": "code",
      "source": [
        "#Очистка памяти GPU\n",
        "import gc\n",
        "torch.cuda.empty_cache()\n",
        "gc.collect()"
      ],
      "metadata": {
        "id": "wd1LLzrH_g9J",
        "colab": {
          "base_uri": "https://localhost:8080/"
        },
        "outputId": "afb1af61-6748-4732-9104-666a76f0b6ab"
      },
      "execution_count": 311,
      "outputs": [
        {
          "output_type": "execute_result",
          "data": {
            "text/plain": [
              "18818"
            ]
          },
          "metadata": {},
          "execution_count": 311
        }
      ]
    },
    {
      "cell_type": "markdown",
      "source": [
        "Расчёт ROCAUC"
      ],
      "metadata": {
        "id": "Ff-gUDO9JNj-"
      }
    },
    {
      "cell_type": "code",
      "source": [
        "from sklearn.metrics import roc_curve, roc_auc_score\n",
        "import matplotlib.pyplot as plt\n",
        "model.eval()\n",
        "device = 'cpu'\n",
        "# Evaluate the model on the validation set\n",
        "probs = []\n",
        "true_labels = []\n",
        "\n",
        "with torch.no_grad():\n",
        "    for images, labels in dataloader_ir_val:\n",
        "        # Move images and labels to the device (e.g., GPU) if available\n",
        "        images = images.to(device)\n",
        "        \n",
        "        # Forward pass\n",
        "        outputs = model(images)\n",
        "        prob = torch.sigmoid(outputs)\n",
        "        \n",
        "\n",
        "        true_labels.extend(labels.numpy())\n",
        "        probs.extend(prob.cpu().numpy())\n",
        "\n",
        "probs = np.array(probs)\n",
        "labels = np.array(true_labels) "
      ],
      "metadata": {
        "id": "aBSkghigJRve"
      },
      "execution_count": 312,
      "outputs": []
    },
    {
      "cell_type": "code",
      "source": [
        "def calc_roc_auc_for_class(labels, probs):\n",
        "  # Расчет кривой ROC-AUC\n",
        "  fpr, tpr, thresholds = roc_curve(labels, probs)\n",
        "  roc_auc = roc_auc_score(labels, probs)\n",
        "  return fpr, tpr, thresholds, roc_auc"
      ],
      "metadata": {
        "id": "aMG4YmThNbQl"
      },
      "execution_count": 314,
      "outputs": []
    },
    {
      "cell_type": "code",
      "source": [
        "roc_auc_for_class = {}\n",
        "\n",
        "for i in range(len(inx2cls)):\n",
        "  fpr, tpr, thresholds, roc_auc = calc_roc_auc_for_class(labels.T[i], probs.T[i])\n",
        "  roc_auc_for_class[inx2cls[i]]= {'fpr':fpr, 'tpr': tpr, 'thresholds':thresholds, 'roc_auc':roc_auc}\n",
        "#print(roc_auc_for_class)"
      ],
      "metadata": {
        "id": "IqCi56DzPJYX"
      },
      "execution_count": 315,
      "outputs": []
    },
    {
      "cell_type": "code",
      "source": [
        "from google.colab import files\n",
        "def plot_auc_for_class(roc_auc_for_one_class, class_name, model_version):\n",
        "    plt.figure(figsize=(3, 3))\n",
        "    fpr=roc_auc_for_one_class['fpr']\n",
        "    tpr=roc_auc_for_one_class['tpr']\n",
        "    roc_auc=roc_auc_for_one_class['roc_auc']\n",
        "    # Вывод графика кривой ROC-AUC\n",
        "    plt.plot(fpr, tpr, color='darkorange', lw=2, label='ROC curve (area = %0.2f)' % roc_auc)\n",
        "    plt.plot([0, 1], [0, 1], color='navy', lw=2, linestyle='--')\n",
        "    plt.xlim([0.0, 1.0])\n",
        "    plt.ylim([0.0, 1.05])\n",
        "    plt.xlabel('False Positive Rate')\n",
        "    plt.ylabel('True Positive Rate')\n",
        "    plt.title(model_version+'_'+class_name)\n",
        "    class_name=class_name.replace('/', '_')\n",
        "    plt.legend(loc=\"lower right\")\n",
        "    plt.savefig(model_version+'_'+class_name+'.png', dpi='figure', format='png', bbox_inches = 'tight', pad_inches=0.1)\n",
        "    files.download(model_version+'_'+class_name+'.png')\n",
        "    plt.show()"
      ],
      "metadata": {
        "id": "Ij712kN7NUOp"
      },
      "execution_count": 317,
      "outputs": []
    },
    {
      "cell_type": "code",
      "source": [
        "model_version = version\n",
        "for i in range(len(inx2cls)):\n",
        "  print(inx2cls[i])\n",
        "  plot_auc_for_class(roc_auc_for_class[inx2cls[i]], inx2cls[i], version)"
      ],
      "metadata": {
        "colab": {
          "base_uri": "https://localhost:8080/",
          "height": 1000
        },
        "id": "EUQcEjxtVFfy",
        "outputId": "0faf0774-ea5c-41cc-9f51-57ac03fef843"
      },
      "execution_count": 318,
      "outputs": [
        {
          "output_type": "stream",
          "name": "stdout",
          "text": [
            "alkane\n"
          ]
        },
        {
          "output_type": "display_data",
          "data": {
            "text/plain": [
              "<IPython.core.display.Javascript object>"
            ],
            "application/javascript": [
              "\n",
              "    async function download(id, filename, size) {\n",
              "      if (!google.colab.kernel.accessAllowed) {\n",
              "        return;\n",
              "      }\n",
              "      const div = document.createElement('div');\n",
              "      const label = document.createElement('label');\n",
              "      label.textContent = `Downloading \"${filename}\": `;\n",
              "      div.appendChild(label);\n",
              "      const progress = document.createElement('progress');\n",
              "      progress.max = size;\n",
              "      div.appendChild(progress);\n",
              "      document.body.appendChild(div);\n",
              "\n",
              "      const buffers = [];\n",
              "      let downloaded = 0;\n",
              "\n",
              "      const channel = await google.colab.kernel.comms.open(id);\n",
              "      // Send a message to notify the kernel that we're ready.\n",
              "      channel.send({})\n",
              "\n",
              "      for await (const message of channel.messages) {\n",
              "        // Send a message to notify the kernel that we're ready.\n",
              "        channel.send({})\n",
              "        if (message.buffers) {\n",
              "          for (const buffer of message.buffers) {\n",
              "            buffers.push(buffer);\n",
              "            downloaded += buffer.byteLength;\n",
              "            progress.value = downloaded;\n",
              "          }\n",
              "        }\n",
              "      }\n",
              "      const blob = new Blob(buffers, {type: 'application/binary'});\n",
              "      const a = document.createElement('a');\n",
              "      a.href = window.URL.createObjectURL(blob);\n",
              "      a.download = filename;\n",
              "      div.appendChild(a);\n",
              "      a.click();\n",
              "      div.remove();\n",
              "    }\n",
              "  "
            ]
          },
          "metadata": {}
        },
        {
          "output_type": "display_data",
          "data": {
            "text/plain": [
              "<IPython.core.display.Javascript object>"
            ],
            "application/javascript": [
              "download(\"download_d34580e5-39d2-42f5-8c9c-83bdd6b658fe\", \"v0.7.1.50_alkane.png\", 23570)"
            ]
          },
          "metadata": {}
        },
        {
          "output_type": "display_data",
          "data": {
            "text/plain": [
              "<Figure size 300x300 with 1 Axes>"
            ],
            "image/png": "[encoded data removed]"
          },
          "metadata": {}
        },
        {
          "output_type": "stream",
          "name": "stdout",
          "text": [
            "methyl\n"
          ]
        },
        {
          "output_type": "display_data",
          "data": {
            "text/plain": [
              "<IPython.core.display.Javascript object>"
            ],
            "application/javascript": [
              "\n",
              "    async function download(id, filename, size) {\n",
              "      if (!google.colab.kernel.accessAllowed) {\n",
              "        return;\n",
              "      }\n",
              "      const div = document.createElement('div');\n",
              "      const label = document.createElement('label');\n",
              "      label.textContent = `Downloading \"${filename}\": `;\n",
              "      div.appendChild(label);\n",
              "      const progress = document.createElement('progress');\n",
              "      progress.max = size;\n",
              "      div.appendChild(progress);\n",
              "      document.body.appendChild(div);\n",
              "\n",
              "      const buffers = [];\n",
              "      let downloaded = 0;\n",
              "\n",
              "      const channel = await google.colab.kernel.comms.open(id);\n",
              "      // Send a message to notify the kernel that we're ready.\n",
              "      channel.send({})\n",
              "\n",
              "      for await (const message of channel.messages) {\n",
              "        // Send a message to notify the kernel that we're ready.\n",
              "        channel.send({})\n",
              "        if (message.buffers) {\n",
              "          for (const buffer of message.buffers) {\n",
              "            buffers.push(buffer);\n",
              "            downloaded += buffer.byteLength;\n",
              "            progress.value = downloaded;\n",
              "          }\n",
              "        }\n",
              "      }\n",
              "      const blob = new Blob(buffers, {type: 'application/binary'});\n",
              "      const a = document.createElement('a');\n",
              "      a.href = window.URL.createObjectURL(blob);\n",
              "      a.download = filename;\n",
              "      div.appendChild(a);\n",
              "      a.click();\n",
              "      div.remove();\n",
              "    }\n",
              "  "
            ]
          },
          "metadata": {}
        },
        {
          "output_type": "display_data",
          "data": {
            "text/plain": [
              "<IPython.core.display.Javascript object>"
            ],
            "application/javascript": [
              "download(\"download_abd5a71f-b382-467f-994f-3f614d9740a2\", \"v0.7.1.50_methyl.png\", 23999)"
            ]
          },
          "metadata": {}
        },
        {
          "output_type": "display_data",
          "data": {
            "text/plain": [
              "<Figure size 300x300 with 1 Axes>"
            ],
            "image/png": "[encoded data removed]"
          },
          "metadata": {}
        },
        {
          "output_type": "stream",
          "name": "stdout",
          "text": [
            "alkene\n"
          ]
        },
        {
          "output_type": "display_data",
          "data": {
            "text/plain": [
              "<IPython.core.display.Javascript object>"
            ],
            "application/javascript": [
              "\n",
              "    async function download(id, filename, size) {\n",
              "      if (!google.colab.kernel.accessAllowed) {\n",
              "        return;\n",
              "      }\n",
              "      const div = document.createElement('div');\n",
              "      const label = document.createElement('label');\n",
              "      label.textContent = `Downloading \"${filename}\": `;\n",
              "      div.appendChild(label);\n",
              "      const progress = document.createElement('progress');\n",
              "      progress.max = size;\n",
              "      div.appendChild(progress);\n",
              "      document.body.appendChild(div);\n",
              "\n",
              "      const buffers = [];\n",
              "      let downloaded = 0;\n",
              "\n",
              "      const channel = await google.colab.kernel.comms.open(id);\n",
              "      // Send a message to notify the kernel that we're ready.\n",
              "      channel.send({})\n",
              "\n",
              "      for await (const message of channel.messages) {\n",
              "        // Send a message to notify the kernel that we're ready.\n",
              "        channel.send({})\n",
              "        if (message.buffers) {\n",
              "          for (const buffer of message.buffers) {\n",
              "            buffers.push(buffer);\n",
              "            downloaded += buffer.byteLength;\n",
              "            progress.value = downloaded;\n",
              "          }\n",
              "        }\n",
              "      }\n",
              "      const blob = new Blob(buffers, {type: 'application/binary'});\n",
              "      const a = document.createElement('a');\n",
              "      a.href = window.URL.createObjectURL(blob);\n",
              "      a.download = filename;\n",
              "      div.appendChild(a);\n",
              "      a.click();\n",
              "      div.remove();\n",
              "    }\n",
              "  "
            ]
          },
          "metadata": {}
        },
        {
          "output_type": "display_data",
          "data": {
            "text/plain": [
              "<IPython.core.display.Javascript object>"
            ],
            "application/javascript": [
              "download(\"download_b57346ca-e5da-4fad-9d0e-9c11e2953584\", \"v0.7.1.50_alkene.png\", 22475)"
            ]
          },
          "metadata": {}
        },
        {
          "output_type": "display_data",
          "data": {
            "text/plain": [
              "<Figure size 300x300 with 1 Axes>"
            ],
            "image/png": "[encoded data removed]"
          },
          "metadata": {}
        },
        {
          "output_type": "stream",
          "name": "stdout",
          "text": [
            "alkyne\n"
          ]
        },
        {
          "output_type": "display_data",
          "data": {
            "text/plain": [
              "<IPython.core.display.Javascript object>"
            ],
            "application/javascript": [
              "\n",
              "    async function download(id, filename, size) {\n",
              "      if (!google.colab.kernel.accessAllowed) {\n",
              "        return;\n",
              "      }\n",
              "      const div = document.createElement('div');\n",
              "      const label = document.createElement('label');\n",
              "      label.textContent = `Downloading \"${filename}\": `;\n",
              "      div.appendChild(label);\n",
              "      const progress = document.createElement('progress');\n",
              "      progress.max = size;\n",
              "      div.appendChild(progress);\n",
              "      document.body.appendChild(div);\n",
              "\n",
              "      const buffers = [];\n",
              "      let downloaded = 0;\n",
              "\n",
              "      const channel = await google.colab.kernel.comms.open(id);\n",
              "      // Send a message to notify the kernel that we're ready.\n",
              "      channel.send({})\n",
              "\n",
              "      for await (const message of channel.messages) {\n",
              "        // Send a message to notify the kernel that we're ready.\n",
              "        channel.send({})\n",
              "        if (message.buffers) {\n",
              "          for (const buffer of message.buffers) {\n",
              "            buffers.push(buffer);\n",
              "            downloaded += buffer.byteLength;\n",
              "            progress.value = downloaded;\n",
              "          }\n",
              "        }\n",
              "      }\n",
              "      const blob = new Blob(buffers, {type: 'application/binary'});\n",
              "      const a = document.createElement('a');\n",
              "      a.href = window.URL.createObjectURL(blob);\n",
              "      a.download = filename;\n",
              "      div.appendChild(a);\n",
              "      a.click();\n",
              "      div.remove();\n",
              "    }\n",
              "  "
            ]
          },
          "metadata": {}
        },
        {
          "output_type": "display_data",
          "data": {
            "text/plain": [
              "<IPython.core.display.Javascript object>"
            ],
            "application/javascript": [
              "download(\"download_55260c26-fa95-4949-bca8-dcb991541d7f\", \"v0.7.1.50_alkyne.png\", 21952)"
            ]
          },
          "metadata": {}
        },
        {
          "output_type": "display_data",
          "data": {
            "text/plain": [
              "<Figure size 300x300 with 1 Axes>"
            ],
            "image/png": "[encoded data removed]"
          },
          "metadata": {}
        },
        {
          "output_type": "stream",
          "name": "stdout",
          "text": [
            "alcohols\n"
          ]
        },
        {
          "output_type": "display_data",
          "data": {
            "text/plain": [
              "<IPython.core.display.Javascript object>"
            ],
            "application/javascript": [
              "\n",
              "    async function download(id, filename, size) {\n",
              "      if (!google.colab.kernel.accessAllowed) {\n",
              "        return;\n",
              "      }\n",
              "      const div = document.createElement('div');\n",
              "      const label = document.createElement('label');\n",
              "      label.textContent = `Downloading \"${filename}\": `;\n",
              "      div.appendChild(label);\n",
              "      const progress = document.createElement('progress');\n",
              "      progress.max = size;\n",
              "      div.appendChild(progress);\n",
              "      document.body.appendChild(div);\n",
              "\n",
              "      const buffers = [];\n",
              "      let downloaded = 0;\n",
              "\n",
              "      const channel = await google.colab.kernel.comms.open(id);\n",
              "      // Send a message to notify the kernel that we're ready.\n",
              "      channel.send({})\n",
              "\n",
              "      for await (const message of channel.messages) {\n",
              "        // Send a message to notify the kernel that we're ready.\n",
              "        channel.send({})\n",
              "        if (message.buffers) {\n",
              "          for (const buffer of message.buffers) {\n",
              "            buffers.push(buffer);\n",
              "            downloaded += buffer.byteLength;\n",
              "            progress.value = downloaded;\n",
              "          }\n",
              "        }\n",
              "      }\n",
              "      const blob = new Blob(buffers, {type: 'application/binary'});\n",
              "      const a = document.createElement('a');\n",
              "      a.href = window.URL.createObjectURL(blob);\n",
              "      a.download = filename;\n",
              "      div.appendChild(a);\n",
              "      a.click();\n",
              "      div.remove();\n",
              "    }\n",
              "  "
            ]
          },
          "metadata": {}
        },
        {
          "output_type": "display_data",
          "data": {
            "text/plain": [
              "<IPython.core.display.Javascript object>"
            ],
            "application/javascript": [
              "download(\"download_0d296d1e-a55e-445f-9884-b55133450dc5\", \"v0.7.1.50_alcohols.png\", 22986)"
            ]
          },
          "metadata": {}
        },
        {
          "output_type": "display_data",
          "data": {
            "text/plain": [
              "<Figure size 300x300 with 1 Axes>"
            ],
            "image/png": "[encoded data removed]"
          },
          "metadata": {}
        },
        {
          "output_type": "stream",
          "name": "stdout",
          "text": [
            "amines\n"
          ]
        },
        {
          "output_type": "display_data",
          "data": {
            "text/plain": [
              "<IPython.core.display.Javascript object>"
            ],
            "application/javascript": [
              "\n",
              "    async function download(id, filename, size) {\n",
              "      if (!google.colab.kernel.accessAllowed) {\n",
              "        return;\n",
              "      }\n",
              "      const div = document.createElement('div');\n",
              "      const label = document.createElement('label');\n",
              "      label.textContent = `Downloading \"${filename}\": `;\n",
              "      div.appendChild(label);\n",
              "      const progress = document.createElement('progress');\n",
              "      progress.max = size;\n",
              "      div.appendChild(progress);\n",
              "      document.body.appendChild(div);\n",
              "\n",
              "      const buffers = [];\n",
              "      let downloaded = 0;\n",
              "\n",
              "      const channel = await google.colab.kernel.comms.open(id);\n",
              "      // Send a message to notify the kernel that we're ready.\n",
              "      channel.send({})\n",
              "\n",
              "      for await (const message of channel.messages) {\n",
              "        // Send a message to notify the kernel that we're ready.\n",
              "        channel.send({})\n",
              "        if (message.buffers) {\n",
              "          for (const buffer of message.buffers) {\n",
              "            buffers.push(buffer);\n",
              "            downloaded += buffer.byteLength;\n",
              "            progress.value = downloaded;\n",
              "          }\n",
              "        }\n",
              "      }\n",
              "      const blob = new Blob(buffers, {type: 'application/binary'});\n",
              "      const a = document.createElement('a');\n",
              "      a.href = window.URL.createObjectURL(blob);\n",
              "      a.download = filename;\n",
              "      div.appendChild(a);\n",
              "      a.click();\n",
              "      div.remove();\n",
              "    }\n",
              "  "
            ]
          },
          "metadata": {}
        },
        {
          "output_type": "display_data",
          "data": {
            "text/plain": [
              "<IPython.core.display.Javascript object>"
            ],
            "application/javascript": [
              "download(\"download_288e1483-7276-45bf-8942-ffe57a301733\", \"v0.7.1.50_amines.png\", 23545)"
            ]
          },
          "metadata": {}
        },
        {
          "output_type": "display_data",
          "data": {
            "text/plain": [
              "<Figure size 300x300 with 1 Axes>"
            ],
            "image/png": "[encoded data removed]"
          },
          "metadata": {}
        },
        {
          "output_type": "stream",
          "name": "stdout",
          "text": [
            "nitriles\n"
          ]
        },
        {
          "output_type": "display_data",
          "data": {
            "text/plain": [
              "<IPython.core.display.Javascript object>"
            ],
            "application/javascript": [
              "\n",
              "    async function download(id, filename, size) {\n",
              "      if (!google.colab.kernel.accessAllowed) {\n",
              "        return;\n",
              "      }\n",
              "      const div = document.createElement('div');\n",
              "      const label = document.createElement('label');\n",
              "      label.textContent = `Downloading \"${filename}\": `;\n",
              "      div.appendChild(label);\n",
              "      const progress = document.createElement('progress');\n",
              "      progress.max = size;\n",
              "      div.appendChild(progress);\n",
              "      document.body.appendChild(div);\n",
              "\n",
              "      const buffers = [];\n",
              "      let downloaded = 0;\n",
              "\n",
              "      const channel = await google.colab.kernel.comms.open(id);\n",
              "      // Send a message to notify the kernel that we're ready.\n",
              "      channel.send({})\n",
              "\n",
              "      for await (const message of channel.messages) {\n",
              "        // Send a message to notify the kernel that we're ready.\n",
              "        channel.send({})\n",
              "        if (message.buffers) {\n",
              "          for (const buffer of message.buffers) {\n",
              "            buffers.push(buffer);\n",
              "            downloaded += buffer.byteLength;\n",
              "            progress.value = downloaded;\n",
              "          }\n",
              "        }\n",
              "      }\n",
              "      const blob = new Blob(buffers, {type: 'application/binary'});\n",
              "      const a = document.createElement('a');\n",
              "      a.href = window.URL.createObjectURL(blob);\n",
              "      a.download = filename;\n",
              "      div.appendChild(a);\n",
              "      a.click();\n",
              "      div.remove();\n",
              "    }\n",
              "  "
            ]
          },
          "metadata": {}
        },
        {
          "output_type": "display_data",
          "data": {
            "text/plain": [
              "<IPython.core.display.Javascript object>"
            ],
            "application/javascript": [
              "download(\"download_7799dbf3-dd5a-40ae-ba31-c2796e9d021d\", \"v0.7.1.50_nitriles.png\", 21993)"
            ]
          },
          "metadata": {}
        },
        {
          "output_type": "display_data",
          "data": {
            "text/plain": [
              "<Figure size 300x300 with 1 Axes>"
            ],
            "image/png": "[encoded data removed]"
          },
          "metadata": {}
        },
        {
          "output_type": "stream",
          "name": "stdout",
          "text": [
            "aromatics\n"
          ]
        },
        {
          "output_type": "display_data",
          "data": {
            "text/plain": [
              "<IPython.core.display.Javascript object>"
            ],
            "application/javascript": [
              "\n",
              "    async function download(id, filename, size) {\n",
              "      if (!google.colab.kernel.accessAllowed) {\n",
              "        return;\n",
              "      }\n",
              "      const div = document.createElement('div');\n",
              "      const label = document.createElement('label');\n",
              "      label.textContent = `Downloading \"${filename}\": `;\n",
              "      div.appendChild(label);\n",
              "      const progress = document.createElement('progress');\n",
              "      progress.max = size;\n",
              "      div.appendChild(progress);\n",
              "      document.body.appendChild(div);\n",
              "\n",
              "      const buffers = [];\n",
              "      let downloaded = 0;\n",
              "\n",
              "      const channel = await google.colab.kernel.comms.open(id);\n",
              "      // Send a message to notify the kernel that we're ready.\n",
              "      channel.send({})\n",
              "\n",
              "      for await (const message of channel.messages) {\n",
              "        // Send a message to notify the kernel that we're ready.\n",
              "        channel.send({})\n",
              "        if (message.buffers) {\n",
              "          for (const buffer of message.buffers) {\n",
              "            buffers.push(buffer);\n",
              "            downloaded += buffer.byteLength;\n",
              "            progress.value = downloaded;\n",
              "          }\n",
              "        }\n",
              "      }\n",
              "      const blob = new Blob(buffers, {type: 'application/binary'});\n",
              "      const a = document.createElement('a');\n",
              "      a.href = window.URL.createObjectURL(blob);\n",
              "      a.download = filename;\n",
              "      div.appendChild(a);\n",
              "      a.click();\n",
              "      div.remove();\n",
              "    }\n",
              "  "
            ]
          },
          "metadata": {}
        },
        {
          "output_type": "display_data",
          "data": {
            "text/plain": [
              "<IPython.core.display.Javascript object>"
            ],
            "application/javascript": [
              "download(\"download_a1d2162b-14d1-4ae8-9c2b-ca333a6e5801\", \"v0.7.1.50_aromatics.png\", 22509)"
            ]
          },
          "metadata": {}
        },
        {
          "output_type": "display_data",
          "data": {
            "text/plain": [
              "<Figure size 300x300 with 1 Axes>"
            ],
            "image/png": "[encoded data removed]"
          },
          "metadata": {}
        },
        {
          "output_type": "stream",
          "name": "stdout",
          "text": [
            "alkyl halides\n"
          ]
        },
        {
          "output_type": "display_data",
          "data": {
            "text/plain": [
              "<IPython.core.display.Javascript object>"
            ],
            "application/javascript": [
              "\n",
              "    async function download(id, filename, size) {\n",
              "      if (!google.colab.kernel.accessAllowed) {\n",
              "        return;\n",
              "      }\n",
              "      const div = document.createElement('div');\n",
              "      const label = document.createElement('label');\n",
              "      label.textContent = `Downloading \"${filename}\": `;\n",
              "      div.appendChild(label);\n",
              "      const progress = document.createElement('progress');\n",
              "      progress.max = size;\n",
              "      div.appendChild(progress);\n",
              "      document.body.appendChild(div);\n",
              "\n",
              "      const buffers = [];\n",
              "      let downloaded = 0;\n",
              "\n",
              "      const channel = await google.colab.kernel.comms.open(id);\n",
              "      // Send a message to notify the kernel that we're ready.\n",
              "      channel.send({})\n",
              "\n",
              "      for await (const message of channel.messages) {\n",
              "        // Send a message to notify the kernel that we're ready.\n",
              "        channel.send({})\n",
              "        if (message.buffers) {\n",
              "          for (const buffer of message.buffers) {\n",
              "            buffers.push(buffer);\n",
              "            downloaded += buffer.byteLength;\n",
              "            progress.value = downloaded;\n",
              "          }\n",
              "        }\n",
              "      }\n",
              "      const blob = new Blob(buffers, {type: 'application/binary'});\n",
              "      const a = document.createElement('a');\n",
              "      a.href = window.URL.createObjectURL(blob);\n",
              "      a.download = filename;\n",
              "      div.appendChild(a);\n",
              "      a.click();\n",
              "      div.remove();\n",
              "    }\n",
              "  "
            ]
          },
          "metadata": {}
        },
        {
          "output_type": "display_data",
          "data": {
            "text/plain": [
              "<IPython.core.display.Javascript object>"
            ],
            "application/javascript": [
              "download(\"download_c67bd00e-43dc-48d8-a8b8-8f4ebcba7c81\", \"v0.7.1.50_alkyl halides.png\", 24743)"
            ]
          },
          "metadata": {}
        },
        {
          "output_type": "display_data",
          "data": {
            "text/plain": [
              "<Figure size 300x300 with 1 Axes>"
            ],
            "image/png": "[encoded data removed]"
          },
          "metadata": {}
        },
        {
          "output_type": "stream",
          "name": "stdout",
          "text": [
            "esters\n"
          ]
        },
        {
          "output_type": "display_data",
          "data": {
            "text/plain": [
              "<IPython.core.display.Javascript object>"
            ],
            "application/javascript": [
              "\n",
              "    async function download(id, filename, size) {\n",
              "      if (!google.colab.kernel.accessAllowed) {\n",
              "        return;\n",
              "      }\n",
              "      const div = document.createElement('div');\n",
              "      const label = document.createElement('label');\n",
              "      label.textContent = `Downloading \"${filename}\": `;\n",
              "      div.appendChild(label);\n",
              "      const progress = document.createElement('progress');\n",
              "      progress.max = size;\n",
              "      div.appendChild(progress);\n",
              "      document.body.appendChild(div);\n",
              "\n",
              "      const buffers = [];\n",
              "      let downloaded = 0;\n",
              "\n",
              "      const channel = await google.colab.kernel.comms.open(id);\n",
              "      // Send a message to notify the kernel that we're ready.\n",
              "      channel.send({})\n",
              "\n",
              "      for await (const message of channel.messages) {\n",
              "        // Send a message to notify the kernel that we're ready.\n",
              "        channel.send({})\n",
              "        if (message.buffers) {\n",
              "          for (const buffer of message.buffers) {\n",
              "            buffers.push(buffer);\n",
              "            downloaded += buffer.byteLength;\n",
              "            progress.value = downloaded;\n",
              "          }\n",
              "        }\n",
              "      }\n",
              "      const blob = new Blob(buffers, {type: 'application/binary'});\n",
              "      const a = document.createElement('a');\n",
              "      a.href = window.URL.createObjectURL(blob);\n",
              "      a.download = filename;\n",
              "      div.appendChild(a);\n",
              "      a.click();\n",
              "      div.remove();\n",
              "    }\n",
              "  "
            ]
          },
          "metadata": {}
        },
        {
          "output_type": "display_data",
          "data": {
            "text/plain": [
              "<IPython.core.display.Javascript object>"
            ],
            "application/javascript": [
              "download(\"download_6b450547-89d7-41f8-8b41-97e6bbe6cd23\", \"v0.7.1.50_esters.png\", 22914)"
            ]
          },
          "metadata": {}
        },
        {
          "output_type": "display_data",
          "data": {
            "text/plain": [
              "<Figure size 300x300 with 1 Axes>"
            ],
            "image/png": "[encoded data removed]"
          },
          "metadata": {}
        },
        {
          "output_type": "stream",
          "name": "stdout",
          "text": [
            "ketones\n"
          ]
        },
        {
          "output_type": "display_data",
          "data": {
            "text/plain": [
              "<IPython.core.display.Javascript object>"
            ],
            "application/javascript": [
              "\n",
              "    async function download(id, filename, size) {\n",
              "      if (!google.colab.kernel.accessAllowed) {\n",
              "        return;\n",
              "      }\n",
              "      const div = document.createElement('div');\n",
              "      const label = document.createElement('label');\n",
              "      label.textContent = `Downloading \"${filename}\": `;\n",
              "      div.appendChild(label);\n",
              "      const progress = document.createElement('progress');\n",
              "      progress.max = size;\n",
              "      div.appendChild(progress);\n",
              "      document.body.appendChild(div);\n",
              "\n",
              "      const buffers = [];\n",
              "      let downloaded = 0;\n",
              "\n",
              "      const channel = await google.colab.kernel.comms.open(id);\n",
              "      // Send a message to notify the kernel that we're ready.\n",
              "      channel.send({})\n",
              "\n",
              "      for await (const message of channel.messages) {\n",
              "        // Send a message to notify the kernel that we're ready.\n",
              "        channel.send({})\n",
              "        if (message.buffers) {\n",
              "          for (const buffer of message.buffers) {\n",
              "            buffers.push(buffer);\n",
              "            downloaded += buffer.byteLength;\n",
              "            progress.value = downloaded;\n",
              "          }\n",
              "        }\n",
              "      }\n",
              "      const blob = new Blob(buffers, {type: 'application/binary'});\n",
              "      const a = document.createElement('a');\n",
              "      a.href = window.URL.createObjectURL(blob);\n",
              "      a.download = filename;\n",
              "      div.appendChild(a);\n",
              "      a.click();\n",
              "      div.remove();\n",
              "    }\n",
              "  "
            ]
          },
          "metadata": {}
        },
        {
          "output_type": "display_data",
          "data": {
            "text/plain": [
              "<IPython.core.display.Javascript object>"
            ],
            "application/javascript": [
              "download(\"download_685c17d3-5475-4c2a-9f23-67700e0c6c9a\", \"v0.7.1.50_ketones.png\", 23182)"
            ]
          },
          "metadata": {}
        },
        {
          "output_type": "display_data",
          "data": {
            "text/plain": [
              "<Figure size 300x300 with 1 Axes>"
            ],
            "image/png": "[encoded data removed]"
          },
          "metadata": {}
        },
        {
          "output_type": "stream",
          "name": "stdout",
          "text": [
            "aldehydes\n"
          ]
        },
        {
          "output_type": "display_data",
          "data": {
            "text/plain": [
              "<IPython.core.display.Javascript object>"
            ],
            "application/javascript": [
              "\n",
              "    async function download(id, filename, size) {\n",
              "      if (!google.colab.kernel.accessAllowed) {\n",
              "        return;\n",
              "      }\n",
              "      const div = document.createElement('div');\n",
              "      const label = document.createElement('label');\n",
              "      label.textContent = `Downloading \"${filename}\": `;\n",
              "      div.appendChild(label);\n",
              "      const progress = document.createElement('progress');\n",
              "      progress.max = size;\n",
              "      div.appendChild(progress);\n",
              "      document.body.appendChild(div);\n",
              "\n",
              "      const buffers = [];\n",
              "      let downloaded = 0;\n",
              "\n",
              "      const channel = await google.colab.kernel.comms.open(id);\n",
              "      // Send a message to notify the kernel that we're ready.\n",
              "      channel.send({})\n",
              "\n",
              "      for await (const message of channel.messages) {\n",
              "        // Send a message to notify the kernel that we're ready.\n",
              "        channel.send({})\n",
              "        if (message.buffers) {\n",
              "          for (const buffer of message.buffers) {\n",
              "            buffers.push(buffer);\n",
              "            downloaded += buffer.byteLength;\n",
              "            progress.value = downloaded;\n",
              "          }\n",
              "        }\n",
              "      }\n",
              "      const blob = new Blob(buffers, {type: 'application/binary'});\n",
              "      const a = document.createElement('a');\n",
              "      a.href = window.URL.createObjectURL(blob);\n",
              "      a.download = filename;\n",
              "      div.appendChild(a);\n",
              "      a.click();\n",
              "      div.remove();\n",
              "    }\n",
              "  "
            ]
          },
          "metadata": {}
        },
        {
          "output_type": "display_data",
          "data": {
            "text/plain": [
              "<IPython.core.display.Javascript object>"
            ],
            "application/javascript": [
              "download(\"download_f02b4ff6-313b-47c8-85c8-d06d46ec7b09\", \"v0.7.1.50_aldehydes.png\", 22751)"
            ]
          },
          "metadata": {}
        },
        {
          "output_type": "display_data",
          "data": {
            "text/plain": [
              "<Figure size 300x300 with 1 Axes>"
            ],
            "image/png": "[encoded data removed]"
          },
          "metadata": {}
        },
        {
          "output_type": "stream",
          "name": "stdout",
          "text": [
            "carboxylic acids\n"
          ]
        },
        {
          "output_type": "display_data",
          "data": {
            "text/plain": [
              "<IPython.core.display.Javascript object>"
            ],
            "application/javascript": [
              "\n",
              "    async function download(id, filename, size) {\n",
              "      if (!google.colab.kernel.accessAllowed) {\n",
              "        return;\n",
              "      }\n",
              "      const div = document.createElement('div');\n",
              "      const label = document.createElement('label');\n",
              "      label.textContent = `Downloading \"${filename}\": `;\n",
              "      div.appendChild(label);\n",
              "      const progress = document.createElement('progress');\n",
              "      progress.max = size;\n",
              "      div.appendChild(progress);\n",
              "      document.body.appendChild(div);\n",
              "\n",
              "      const buffers = [];\n",
              "      let downloaded = 0;\n",
              "\n",
              "      const channel = await google.colab.kernel.comms.open(id);\n",
              "      // Send a message to notify the kernel that we're ready.\n",
              "      channel.send({})\n",
              "\n",
              "      for await (const message of channel.messages) {\n",
              "        // Send a message to notify the kernel that we're ready.\n",
              "        channel.send({})\n",
              "        if (message.buffers) {\n",
              "          for (const buffer of message.buffers) {\n",
              "            buffers.push(buffer);\n",
              "            downloaded += buffer.byteLength;\n",
              "            progress.value = downloaded;\n",
              "          }\n",
              "        }\n",
              "      }\n",
              "      const blob = new Blob(buffers, {type: 'application/binary'});\n",
              "      const a = document.createElement('a');\n",
              "      a.href = window.URL.createObjectURL(blob);\n",
              "      a.download = filename;\n",
              "      div.appendChild(a);\n",
              "      a.click();\n",
              "      div.remove();\n",
              "    }\n",
              "  "
            ]
          },
          "metadata": {}
        },
        {
          "output_type": "display_data",
          "data": {
            "text/plain": [
              "<IPython.core.display.Javascript object>"
            ],
            "application/javascript": [
              "download(\"download_f2b312e7-7cbe-4914-9ceb-666da44ee545\", \"v0.7.1.50_carboxylic acids.png\", 23863)"
            ]
          },
          "metadata": {}
        },
        {
          "output_type": "display_data",
          "data": {
            "text/plain": [
              "<Figure size 300x300 with 1 Axes>"
            ],
            "image/png": "[encoded data removed]"
          },
          "metadata": {}
        },
        {
          "output_type": "stream",
          "name": "stdout",
          "text": [
            "ether\n"
          ]
        },
        {
          "output_type": "display_data",
          "data": {
            "text/plain": [
              "<IPython.core.display.Javascript object>"
            ],
            "application/javascript": [
              "\n",
              "    async function download(id, filename, size) {\n",
              "      if (!google.colab.kernel.accessAllowed) {\n",
              "        return;\n",
              "      }\n",
              "      const div = document.createElement('div');\n",
              "      const label = document.createElement('label');\n",
              "      label.textContent = `Downloading \"${filename}\": `;\n",
              "      div.appendChild(label);\n",
              "      const progress = document.createElement('progress');\n",
              "      progress.max = size;\n",
              "      div.appendChild(progress);\n",
              "      document.body.appendChild(div);\n",
              "\n",
              "      const buffers = [];\n",
              "      let downloaded = 0;\n",
              "\n",
              "      const channel = await google.colab.kernel.comms.open(id);\n",
              "      // Send a message to notify the kernel that we're ready.\n",
              "      channel.send({})\n",
              "\n",
              "      for await (const message of channel.messages) {\n",
              "        // Send a message to notify the kernel that we're ready.\n",
              "        channel.send({})\n",
              "        if (message.buffers) {\n",
              "          for (const buffer of message.buffers) {\n",
              "            buffers.push(buffer);\n",
              "            downloaded += buffer.byteLength;\n",
              "            progress.value = downloaded;\n",
              "          }\n",
              "        }\n",
              "      }\n",
              "      const blob = new Blob(buffers, {type: 'application/binary'});\n",
              "      const a = document.createElement('a');\n",
              "      a.href = window.URL.createObjectURL(blob);\n",
              "      a.download = filename;\n",
              "      div.appendChild(a);\n",
              "      a.click();\n",
              "      div.remove();\n",
              "    }\n",
              "  "
            ]
          },
          "metadata": {}
        },
        {
          "output_type": "display_data",
          "data": {
            "text/plain": [
              "<IPython.core.display.Javascript object>"
            ],
            "application/javascript": [
              "download(\"download_29e3fe77-f119-4635-abc9-cc63878c9012\", \"v0.7.1.50_ether.png\", 23731)"
            ]
          },
          "metadata": {}
        },
        {
          "output_type": "display_data",
          "data": {
            "text/plain": [
              "<Figure size 300x300 with 1 Axes>"
            ],
            "image/png": "[encoded data removed]"
          },
          "metadata": {}
        },
        {
          "output_type": "stream",
          "name": "stdout",
          "text": [
            "acyl halides\n"
          ]
        },
        {
          "output_type": "display_data",
          "data": {
            "text/plain": [
              "<IPython.core.display.Javascript object>"
            ],
            "application/javascript": [
              "\n",
              "    async function download(id, filename, size) {\n",
              "      if (!google.colab.kernel.accessAllowed) {\n",
              "        return;\n",
              "      }\n",
              "      const div = document.createElement('div');\n",
              "      const label = document.createElement('label');\n",
              "      label.textContent = `Downloading \"${filename}\": `;\n",
              "      div.appendChild(label);\n",
              "      const progress = document.createElement('progress');\n",
              "      progress.max = size;\n",
              "      div.appendChild(progress);\n",
              "      document.body.appendChild(div);\n",
              "\n",
              "      const buffers = [];\n",
              "      let downloaded = 0;\n",
              "\n",
              "      const channel = await google.colab.kernel.comms.open(id);\n",
              "      // Send a message to notify the kernel that we're ready.\n",
              "      channel.send({})\n",
              "\n",
              "      for await (const message of channel.messages) {\n",
              "        // Send a message to notify the kernel that we're ready.\n",
              "        channel.send({})\n",
              "        if (message.buffers) {\n",
              "          for (const buffer of message.buffers) {\n",
              "            buffers.push(buffer);\n",
              "            downloaded += buffer.byteLength;\n",
              "            progress.value = downloaded;\n",
              "          }\n",
              "        }\n",
              "      }\n",
              "      const blob = new Blob(buffers, {type: 'application/binary'});\n",
              "      const a = document.createElement('a');\n",
              "      a.href = window.URL.createObjectURL(blob);\n",
              "      a.download = filename;\n",
              "      div.appendChild(a);\n",
              "      a.click();\n",
              "      div.remove();\n",
              "    }\n",
              "  "
            ]
          },
          "metadata": {}
        },
        {
          "output_type": "display_data",
          "data": {
            "text/plain": [
              "<IPython.core.display.Javascript object>"
            ],
            "application/javascript": [
              "download(\"download_dc58f071-cccf-4250-aa2a-7b7f1ed054d4\", \"v0.7.1.50_acyl halides.png\", 22380)"
            ]
          },
          "metadata": {}
        },
        {
          "output_type": "display_data",
          "data": {
            "text/plain": [
              "<Figure size 300x300 with 1 Axes>"
            ],
            "image/png": "[encoded data removed]"
          },
          "metadata": {}
        },
        {
          "output_type": "stream",
          "name": "stdout",
          "text": [
            "amides\n"
          ]
        },
        {
          "output_type": "display_data",
          "data": {
            "text/plain": [
              "<IPython.core.display.Javascript object>"
            ],
            "application/javascript": [
              "\n",
              "    async function download(id, filename, size) {\n",
              "      if (!google.colab.kernel.accessAllowed) {\n",
              "        return;\n",
              "      }\n",
              "      const div = document.createElement('div');\n",
              "      const label = document.createElement('label');\n",
              "      label.textContent = `Downloading \"${filename}\": `;\n",
              "      div.appendChild(label);\n",
              "      const progress = document.createElement('progress');\n",
              "      progress.max = size;\n",
              "      div.appendChild(progress);\n",
              "      document.body.appendChild(div);\n",
              "\n",
              "      const buffers = [];\n",
              "      let downloaded = 0;\n",
              "\n",
              "      const channel = await google.colab.kernel.comms.open(id);\n",
              "      // Send a message to notify the kernel that we're ready.\n",
              "      channel.send({})\n",
              "\n",
              "      for await (const message of channel.messages) {\n",
              "        // Send a message to notify the kernel that we're ready.\n",
              "        channel.send({})\n",
              "        if (message.buffers) {\n",
              "          for (const buffer of message.buffers) {\n",
              "            buffers.push(buffer);\n",
              "            downloaded += buffer.byteLength;\n",
              "            progress.value = downloaded;\n",
              "          }\n",
              "        }\n",
              "      }\n",
              "      const blob = new Blob(buffers, {type: 'application/binary'});\n",
              "      const a = document.createElement('a');\n",
              "      a.href = window.URL.createObjectURL(blob);\n",
              "      a.download = filename;\n",
              "      div.appendChild(a);\n",
              "      a.click();\n",
              "      div.remove();\n",
              "    }\n",
              "  "
            ]
          },
          "metadata": {}
        },
        {
          "output_type": "display_data",
          "data": {
            "text/plain": [
              "<IPython.core.display.Javascript object>"
            ],
            "application/javascript": [
              "download(\"download_6302fc15-b996-4e97-95e3-10c01eea44d8\", \"v0.7.1.50_amides.png\", 24384)"
            ]
          },
          "metadata": {}
        },
        {
          "output_type": "display_data",
          "data": {
            "text/plain": [
              "<Figure size 300x300 with 1 Axes>"
            ],
            "image/png": "[encoded data removed]"
          },
          "metadata": {}
        },
        {
          "output_type": "stream",
          "name": "stdout",
          "text": [
            "nitro\n"
          ]
        },
        {
          "output_type": "display_data",
          "data": {
            "text/plain": [
              "<IPython.core.display.Javascript object>"
            ],
            "application/javascript": [
              "\n",
              "    async function download(id, filename, size) {\n",
              "      if (!google.colab.kernel.accessAllowed) {\n",
              "        return;\n",
              "      }\n",
              "      const div = document.createElement('div');\n",
              "      const label = document.createElement('label');\n",
              "      label.textContent = `Downloading \"${filename}\": `;\n",
              "      div.appendChild(label);\n",
              "      const progress = document.createElement('progress');\n",
              "      progress.max = size;\n",
              "      div.appendChild(progress);\n",
              "      document.body.appendChild(div);\n",
              "\n",
              "      const buffers = [];\n",
              "      let downloaded = 0;\n",
              "\n",
              "      const channel = await google.colab.kernel.comms.open(id);\n",
              "      // Send a message to notify the kernel that we're ready.\n",
              "      channel.send({})\n",
              "\n",
              "      for await (const message of channel.messages) {\n",
              "        // Send a message to notify the kernel that we're ready.\n",
              "        channel.send({})\n",
              "        if (message.buffers) {\n",
              "          for (const buffer of message.buffers) {\n",
              "            buffers.push(buffer);\n",
              "            downloaded += buffer.byteLength;\n",
              "            progress.value = downloaded;\n",
              "          }\n",
              "        }\n",
              "      }\n",
              "      const blob = new Blob(buffers, {type: 'application/binary'});\n",
              "      const a = document.createElement('a');\n",
              "      a.href = window.URL.createObjectURL(blob);\n",
              "      a.download = filename;\n",
              "      div.appendChild(a);\n",
              "      a.click();\n",
              "      div.remove();\n",
              "    }\n",
              "  "
            ]
          },
          "metadata": {}
        },
        {
          "output_type": "display_data",
          "data": {
            "text/plain": [
              "<IPython.core.display.Javascript object>"
            ],
            "application/javascript": [
              "download(\"download_764295dd-42c3-4aa1-bc7b-d762bd8275fd\", \"v0.7.1.50_nitro.png\", 21909)"
            ]
          },
          "metadata": {}
        },
        {
          "output_type": "display_data",
          "data": {
            "text/plain": [
              "<Figure size 300x300 with 1 Axes>"
            ],
            "image/png": "[encoded data removed]"
          },
          "metadata": {}
        }
      ]
    },
    {
      "cell_type": "code",
      "source": [
        "#Вывод и сохранение данных auc_roc\n",
        "roc = {}\n",
        "for i in range(len(inx2cls)):\n",
        "  #print(roc_auc_for_class[inx2cls[i]]['roc_auc'])\n",
        "  roc[inx2cls[i]] = [roc_auc_for_class[inx2cls[i]]['roc_auc']]\n",
        "df_roc = pd.DataFrame(roc)\n",
        "df_roc.to_csv(version+'_roc_auc.csv')\n",
        "files.download(version+'_roc_auc.csv')"
      ],
      "metadata": {
        "colab": {
          "base_uri": "https://localhost:8080/",
          "height": 17
        },
        "id": "GEE1cHGvlAxX",
        "outputId": "0be33de0-d8fd-43b8-abae-082ab204f17e"
      },
      "execution_count": 319,
      "outputs": [
        {
          "output_type": "display_data",
          "data": {
            "text/plain": [
              "<IPython.core.display.Javascript object>"
            ],
            "application/javascript": [
              "\n",
              "    async function download(id, filename, size) {\n",
              "      if (!google.colab.kernel.accessAllowed) {\n",
              "        return;\n",
              "      }\n",
              "      const div = document.createElement('div');\n",
              "      const label = document.createElement('label');\n",
              "      label.textContent = `Downloading \"${filename}\": `;\n",
              "      div.appendChild(label);\n",
              "      const progress = document.createElement('progress');\n",
              "      progress.max = size;\n",
              "      div.appendChild(progress);\n",
              "      document.body.appendChild(div);\n",
              "\n",
              "      const buffers = [];\n",
              "      let downloaded = 0;\n",
              "\n",
              "      const channel = await google.colab.kernel.comms.open(id);\n",
              "      // Send a message to notify the kernel that we're ready.\n",
              "      channel.send({})\n",
              "\n",
              "      for await (const message of channel.messages) {\n",
              "        // Send a message to notify the kernel that we're ready.\n",
              "        channel.send({})\n",
              "        if (message.buffers) {\n",
              "          for (const buffer of message.buffers) {\n",
              "            buffers.push(buffer);\n",
              "            downloaded += buffer.byteLength;\n",
              "            progress.value = downloaded;\n",
              "          }\n",
              "        }\n",
              "      }\n",
              "      const blob = new Blob(buffers, {type: 'application/binary'});\n",
              "      const a = document.createElement('a');\n",
              "      a.href = window.URL.createObjectURL(blob);\n",
              "      a.download = filename;\n",
              "      div.appendChild(a);\n",
              "      a.click();\n",
              "      div.remove();\n",
              "    }\n",
              "  "
            ]
          },
          "metadata": {}
        },
        {
          "output_type": "display_data",
          "data": {
            "text/plain": [
              "<IPython.core.display.Javascript object>"
            ],
            "application/javascript": [
              "download(\"download_829e8519-881b-4225-9cbf-9768fc1765a8\", \"v0.7.1.50_roc_auc.csv\", 479)"
            ]
          },
          "metadata": {}
        }
      ]
    },
    {
      "cell_type": "markdown",
      "source": [
        "# Конец"
      ],
      "metadata": {
        "id": "g10BBCWEdUrs"
      }
    }
  ],
  "metadata": {
    "colab": {
      "provenance": [],
      "toc_visible": true,
      "gpuType": "T4",
      "include_colab_link": true
    },
    "kernelspec": {
      "display_name": "Python 3",
      "name": "python3"
    },
    "language_info": {
      "name": "python"
    }
  },
  "nbformat": 4,
  "nbformat_minor": 0
}