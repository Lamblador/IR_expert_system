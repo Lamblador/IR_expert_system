{
  "cells": [
    {
      "cell_type": "markdown",
      "metadata": {
        "id": "view-in-github",
        "colab_type": "text"
      },
      "source": [
        "<a href=\"https://colab.research.google.com/github/Lamblador/IR_expert_system/blob/main/Koshelev_IR_expert_system_3_SHAP_vision_.ipynb\" target=\"_parent\"><img src=\"https://colab.research.google.com/assets/colab-badge.svg\" alt=\"Open In Colab\"/></a>"
      ]
    },
    {
      "cell_type": "markdown",
      "metadata": {
        "id": "TK6YTDQRdiv9"
      },
      "source": [
        "# IR spectral analysis of organic and coordination compounds via machine learning and neural networks\n",
        "By: Koshelev Daniil \n",
        "\n",
        "Based on some code form: https://github.com/rayguna/IR-Spectra-Analyzer\n",
        "Предыдущая часть: https://github.com/Lamblador/IR_expert_system/blob/main/Koshelev_IR_expert_system_1_Dataset_Preparation.ipynb\n",
        "\n",
        "-Work in progress (last updated:24/03/2023)-\n",
        "\n",
        "B. Цель данного блокнота\n",
        "\n",
        "Целью этого блокнота является использование SHAP на предобученной модели для понимания области наблюдения для каждого класса.\n",
        "\n",
        "C. План реализации\n",
        "\n",
        "1. Импортировать данные и модель\n",
        "2. Реализовать расчет shap values\n",
        "3. Реализовать построение графика для shap values и одного спектра\n",
        "\n",
        "NOTES\n",
        "1. Импортированы данные и модель\n",
        "2. Получены данные shap values\n",
        "3. Реализована функция визуализации"
      ]
    },
    {
      "cell_type": "markdown",
      "metadata": {
        "id": "G2f80Hpzdqgr"
      },
      "source": [
        "Клонирование данных с GitHub. На сайте выложены как исходные списки веществ, так и скачанные спектры соединений, которые были запарсены кодом ниже."
      ]
    },
    {
      "cell_type": "code",
      "execution_count": 2,
      "metadata": {
        "colab": {
          "base_uri": "https://localhost:8080/"
        },
        "id": "OPcC7OEkdoOK",
        "outputId": "90763955-489d-4a07-b955-b3571133284c"
      },
      "outputs": [
        {
          "output_type": "stream",
          "name": "stdout",
          "text": [
            "fatal: destination path 'IR_expert_system' already exists and is not an empty directory.\n"
          ]
        }
      ],
      "source": [
        "!git clone https://github.com/Lamblador/IR_expert_system.git"
      ]
    },
    {
      "cell_type": "code",
      "execution_count": 3,
      "metadata": {
        "id": "3vYHzZTfdw-E"
      },
      "outputs": [],
      "source": [
        "# Установка нужных пакетов\n",
        "from IPython.core.display import clear_output\n",
        "!pip install --upgrade jcamp\n",
        "!pip install torchmetrics\n",
        "!pip install shap\n",
        "clear_output()"
      ]
    },
    {
      "cell_type": "code",
      "execution_count": 4,
      "metadata": {
        "id": "NNDUPEaCdztz"
      },
      "outputs": [],
      "source": [
        "# Вводятся нужные импорты\n",
        "import pandas as pd\n",
        "import matplotlib.pyplot as plt\n",
        "from tqdm import tqdm\n",
        "import glob\n",
        "import os\n",
        "import numpy as np\n",
        "import torch\n",
        "import os\n",
        "import pandas as pd\n",
        "import torch\n",
        "from torch.utils.data import Dataset\n",
        "from torchvision import datasets\n",
        "import shap"
      ]
    },
    {
      "cell_type": "markdown",
      "metadata": {
        "id": "dKSeXleSfHqX"
      },
      "source": [
        "# Импорт табличных данных"
      ]
    },
    {
      "cell_type": "code",
      "execution_count": 5,
      "metadata": {
        "id": "b1dkhQEufJ9n"
      },
      "outputs": [],
      "source": [
        "labels_df = pd.read_csv('/content/IR_expert_system/data/nist_ir_spectra_inchi_group_list.csv')\n",
        "labels_df = labels_df.set_index(\"CAS\")"
      ]
    },
    {
      "cell_type": "markdown",
      "metadata": {
        "id": "SVi23rRm0p-g"
      },
      "source": [
        "Импорт данных и обработка спектров"
      ]
    },
    {
      "cell_type": "code",
      "execution_count": 6,
      "metadata": {
        "id": "NP_f_VuZfjcG",
        "colab": {
          "base_uri": "https://localhost:8080/"
        },
        "outputId": "8ad675f7-223d-4d2b-b699-93712e0b8e07"
      },
      "outputs": [
        {
          "output_type": "stream",
          "name": "stdout",
          "text": [
            "File can't be read, please check: /content/IR_expert_system/downloaded_jcamp/ir/116402-07-4\n",
            "File can't be read, please check: /content/IR_expert_system/downloaded_jcamp/ir/93-03-8\n",
            "File can't be read, please check: /content/IR_expert_system/downloaded_jcamp/ir/91-13-4\n",
            "File can't be read, please check: /content/IR_expert_system/downloaded_jcamp/ir/1570-64-5\n",
            "File can't be read, please check: /content/IR_expert_system/downloaded_jcamp/ir/1975-52-6\n",
            "File can't be read, please check: /content/IR_expert_system/downloaded_jcamp/ir/23063-36-7\n",
            "File can't be read, please check: /content/IR_expert_system/downloaded_jcamp/ir/101-80-4\n",
            "File can't be read, please check: /content/IR_expert_system/downloaded_jcamp/ir/607-04-5\n",
            "File can't be read, please check: /content/IR_expert_system/downloaded_jcamp/ir/2432-11-3\n",
            "File can't be read, please check: /content/IR_expert_system/downloaded_jcamp/ir/1420-07-1\n",
            "File can't be read, please check: /content/IR_expert_system/downloaded_jcamp/ir/19829-72-2\n",
            "File can't be read, please check: /content/IR_expert_system/downloaded_jcamp/ir/1878-49-5\n",
            "File can't be read, please check: /content/IR_expert_system/downloaded_jcamp/ir/5393-22-6\n",
            "File can't be read, please check: /content/IR_expert_system/downloaded_jcamp/ir/61133-38-8\n",
            "File can't be read, please check: /content/IR_expert_system/downloaded_jcamp/ir/95166-04-4\n",
            "File can't be read, please check: /content/IR_expert_system/downloaded_jcamp/ir/933-18-6\n",
            "File can't be read, please check: /content/IR_expert_system/downloaded_jcamp/ir/100541-30-8\n",
            "File can't be read, please check: /content/IR_expert_system/downloaded_jcamp/ir/101166-96-5\n",
            "File can't be read, please check: /content/IR_expert_system/downloaded_jcamp/ir/3732-81-8\n",
            "File can't be read, please check: /content/IR_expert_system/downloaded_jcamp/ir/824-47-5\n",
            "File can't be read, please check: /content/IR_expert_system/downloaded_jcamp/ir/3147-55-5\n",
            "File can't be read, please check: /content/IR_expert_system/downloaded_jcamp/ir/18961-95-0\n",
            "File can't be read, please check: /content/IR_expert_system/downloaded_jcamp/ir/112-28-7\n",
            "File can't be read, please check: /content/IR_expert_system/downloaded_jcamp/ir/88-99-3\n",
            "File can't be read, please check: /content/IR_expert_system/downloaded_jcamp/ir/25056-70-6\n",
            "File can't be read, please check: /content/IR_expert_system/downloaded_jcamp/ir/589-10-6\n",
            "File can't be read, please check: /content/IR_expert_system/downloaded_jcamp/ir/116401-37-7\n",
            "File can't be read, please check: /content/IR_expert_system/downloaded_jcamp/ir/1503-53-3\n",
            "File can't be read, please check: /content/IR_expert_system/downloaded_jcamp/ir/3898-41-7\n",
            "File can't be read, please check: /content/IR_expert_system/downloaded_jcamp/ir/116495-83-1\n",
            "File can't be read, please check: /content/IR_expert_system/downloaded_jcamp/ir/142-53-0\n",
            "File can't be read, please check: /content/IR_expert_system/downloaded_jcamp/ir/6983-03-5\n",
            "File can't be read, please check: /content/IR_expert_system/downloaded_jcamp/ir/3944-36-3\n",
            "File can't be read, please check: /content/IR_expert_system/downloaded_jcamp/ir/116435-15-5\n",
            "File can't be read, please check: /content/IR_expert_system/downloaded_jcamp/ir/116402-17-6\n",
            "File can't be read, please check: /content/IR_expert_system/downloaded_jcamp/ir/94-51-9\n",
            "File can't be read, please check: /content/IR_expert_system/downloaded_jcamp/ir/116402-02-9\n",
            "File can't be read, please check: /content/IR_expert_system/downloaded_jcamp/ir/88-89-1\n",
            "File can't be read, please check: /content/IR_expert_system/downloaded_jcamp/ir/19094-75-8\n",
            "File can't be read, please check: /content/IR_expert_system/downloaded_jcamp/ir/95817-71-3\n",
            "File can't be read, please check: /content/IR_expert_system/downloaded_jcamp/ir/92-92-2\n",
            "File can't be read, please check: /content/IR_expert_system/downloaded_jcamp/ir/677-43-0\n",
            "File can't be read, please check: /content/IR_expert_system/downloaded_jcamp/ir/116295-50-2\n",
            "File can't be read, please check: /content/IR_expert_system/downloaded_jcamp/ir/50-78-2\n",
            "File can't be read, please check: /content/IR_expert_system/downloaded_jcamp/ir/3326-89-4\n",
            "File can't be read, please check: /content/IR_expert_system/downloaded_jcamp/ir/142-26-7\n",
            "File can't be read, please check: /content/IR_expert_system/downloaded_jcamp/ir/2150-47-2\n",
            "File can't be read, please check: /content/IR_expert_system/downloaded_jcamp/ir/58901-13-6\n",
            "File can't be read, please check: /content/IR_expert_system/downloaded_jcamp/ir/132801-79-7\n",
            "File can't be read, please check: /content/IR_expert_system/downloaded_jcamp/ir/24197-40-8\n",
            "File can't be read, please check: /content/IR_expert_system/downloaded_jcamp/ir/685-63-2\n",
            "File can't be read, please check: /content/IR_expert_system/downloaded_jcamp/ir/3991-61-5\n",
            "File can't be read, please check: /content/IR_expert_system/downloaded_jcamp/ir/5414-19-7\n",
            "File can't be read, please check: /content/IR_expert_system/downloaded_jcamp/ir/1929-73-3\n",
            "File can't be read, please check: /content/IR_expert_system/downloaded_jcamp/ir/7509-22-0\n",
            "File can't be read, please check: /content/IR_expert_system/downloaded_jcamp/ir/13909-29-0\n",
            "File can't be read, please check: /content/IR_expert_system/downloaded_jcamp/ir/1520-22-5\n",
            "File can't be read, please check: /content/IR_expert_system/downloaded_jcamp/ir/24480-26-0\n",
            "File can't be read, please check: /content/IR_expert_system/downloaded_jcamp/ir/556-53-6\n",
            "File can't be read, please check: /content/IR_expert_system/downloaded_jcamp/ir/10268-65-2\n",
            "File can't be read, please check: /content/IR_expert_system/downloaded_jcamp/ir/873-32-5\n",
            "File can't be read, please check: /content/IR_expert_system/downloaded_jcamp/ir/116496-63-0\n",
            "File can't be read, please check: /content/IR_expert_system/downloaded_jcamp/ir/4039-92-3\n",
            "File can't be read, please check: /content/IR_expert_system/downloaded_jcamp/ir/3279-07-0\n",
            "File can't be read, please check: /content/IR_expert_system/downloaded_jcamp/ir/59893-28-6\n",
            "File can't be read, please check: /content/IR_expert_system/downloaded_jcamp/ir/6596-69-6\n",
            "File can't be read, please check: /content/IR_expert_system/downloaded_jcamp/ir/2621-46-7\n",
            "File can't be read, please check: /content/IR_expert_system/downloaded_jcamp/ir/222552-35-4\n",
            "File can't be read, please check: /content/IR_expert_system/downloaded_jcamp/ir/54965-53-6\n",
            "File can't be read, please check: /content/IR_expert_system/downloaded_jcamp/ir/56201-37-7\n",
            "File can't be read, please check: /content/IR_expert_system/downloaded_jcamp/ir/1141-61-3\n",
            "File can't be read, please check: /content/IR_expert_system/downloaded_jcamp/ir/16960-08-0\n",
            "File can't be read, please check: /content/IR_expert_system/downloaded_jcamp/ir/42974-40-3\n",
            "File can't be read, please check: /content/IR_expert_system/downloaded_jcamp/ir/62-76-0\n",
            "File can't be read, please check: /content/IR_expert_system/downloaded_jcamp/ir/4432-34-2\n",
            "File can't be read, please check: /content/IR_expert_system/downloaded_jcamp/ir/4007-00-5\n",
            "File can't be read, please check: /content/IR_expert_system/downloaded_jcamp/ir/780-24-5\n",
            "File can't be read, please check: /content/IR_expert_system/downloaded_jcamp/ir/39809-83-1\n",
            "File can't be read, please check: /content/IR_expert_system/downloaded_jcamp/ir/39101-64-9\n",
            "File can't be read, please check: /content/IR_expert_system/downloaded_jcamp/ir/6969-52-4\n",
            "File can't be read, please check: /content/IR_expert_system/downloaded_jcamp/ir/18979-50-5\n",
            "File can't be read, please check: /content/IR_expert_system/downloaded_jcamp/ir/107558-84-9\n",
            "File can't be read, please check: /content/IR_expert_system/downloaded_jcamp/ir/13133-29-4\n",
            "File can't be read, please check: /content/IR_expert_system/downloaded_jcamp/ir/139-13-9\n",
            "File can't be read, please check: /content/IR_expert_system/downloaded_jcamp/ir/22710-11-8\n",
            "File can't be read, please check: /content/IR_expert_system/downloaded_jcamp/ir/116495-76-2\n",
            "File can't be read, please check: /content/IR_expert_system/downloaded_jcamp/ir/3871-23-6\n",
            "File can't be read, please check: /content/IR_expert_system/downloaded_jcamp/ir/1003-09-4\n",
            "File can't be read, please check: /content/IR_expert_system/downloaded_jcamp/ir/304-06-3\n",
            "File can't be read, please check: /content/IR_expert_system/downloaded_jcamp/ir/5335-24-0\n",
            "File can't be read, please check: /content/IR_expert_system/downloaded_jcamp/ir/497-19-8\n",
            "File can't be read, please check: /content/IR_expert_system/downloaded_jcamp/ir/133318-33-9\n",
            "File can't be read, please check: /content/IR_expert_system/downloaded_jcamp/ir/127-54-8\n",
            "File can't be read, please check: /content/IR_expert_system/downloaded_jcamp/ir/101081-07-6\n",
            "File can't be read, please check: /content/IR_expert_system/downloaded_jcamp/ir/120-93-4\n",
            "File can't be read, please check: /content/IR_expert_system/downloaded_jcamp/ir/61133-37-7\n",
            "File can't be read, please check: /content/IR_expert_system/downloaded_jcamp/ir/20443-90-7\n",
            "File can't be read, please check: /content/IR_expert_system/downloaded_jcamp/ir/4439-20-7\n",
            "File can't be read, please check: /content/IR_expert_system/downloaded_jcamp/ir/116295-51-3\n",
            "File can't be read, please check: /content/IR_expert_system/downloaded_jcamp/ir/1172-76-5\n",
            "File can't be read, please check: /content/IR_expert_system/downloaded_jcamp/ir/6623-59-2\n",
            "File can't be read, please check: /content/IR_expert_system/downloaded_jcamp/ir/103-03-7\n",
            "File can't be read, please check: /content/IR_expert_system/downloaded_jcamp/ir/72083-19-3\n",
            "File can't be read, please check: /content/IR_expert_system/downloaded_jcamp/ir/74-90-8\n",
            "File can't be read, please check: /content/IR_expert_system/downloaded_jcamp/ir/15025-23-7\n",
            "File can't be read, please check: /content/IR_expert_system/downloaded_jcamp/ir/52938-79-1\n",
            "File can't be read, please check: /content/IR_expert_system/downloaded_jcamp/ir/614-33-5\n",
            "File can't be read, please check: /content/IR_expert_system/downloaded_jcamp/ir/116401-36-6\n",
            "File can't be read, please check: /content/IR_expert_system/downloaded_jcamp/ir/1928-44-5\n",
            "File can't be read, please check: /content/IR_expert_system/downloaded_jcamp/ir/119-84-6\n",
            "File can't be read, please check: /content/IR_expert_system/downloaded_jcamp/ir/116436-47-6\n",
            "File can't be read, please check: /content/IR_expert_system/downloaded_jcamp/ir/116402-12-1\n",
            "File can't be read, please check: /content/IR_expert_system/downloaded_jcamp/ir/2416-98-0\n",
            "File can't be read, please check: /content/IR_expert_system/downloaded_jcamp/ir/622-75-3\n",
            "File can't be read, please check: /content/IR_expert_system/downloaded_jcamp/ir/78-45-5\n",
            "File can't be read, please check: /content/IR_expert_system/downloaded_jcamp/ir/94-11-1\n",
            "File can't be read, please check: /content/IR_expert_system/downloaded_jcamp/ir/82-64-4\n",
            "File can't be read, please check: /content/IR_expert_system/downloaded_jcamp/ir/116401-96-8\n",
            "File can't be read, please check: /content/IR_expert_system/downloaded_jcamp/ir/106-58-1\n",
            "File can't be read, please check: /content/IR_expert_system/downloaded_jcamp/ir/609-31-4\n",
            "File can't be read, please check: /content/IR_expert_system/downloaded_jcamp/ir/621-56-7\n",
            "File can't be read, please check: /content/IR_expert_system/downloaded_jcamp/ir/86711-71-9\n",
            "File can't be read, please check: /content/IR_expert_system/downloaded_jcamp/ir/10143-54-1\n",
            "File can't be read, please check: /content/IR_expert_system/downloaded_jcamp/ir/558-30-5\n",
            "File can't be read, please check: /content/IR_expert_system/downloaded_jcamp/ir/51920-60-6\n",
            "File can't be read, please check: /content/IR_expert_system/downloaded_jcamp/ir/110194-18-8\n",
            "File can't be read, please check: /content/IR_expert_system/downloaded_jcamp/ir/637-56-9\n",
            "File can't be read, please check: /content/IR_expert_system/downloaded_jcamp/ir/92-05-7\n",
            "File can't be read, please check: /content/IR_expert_system/downloaded_jcamp/ir/118-71-8\n",
            "File can't be read, please check: /content/IR_expert_system/downloaded_jcamp/ir/874-42-0\n",
            "File can't be read, please check: /content/IR_expert_system/downloaded_jcamp/ir/96933-86-7\n",
            "File can't be read, please check: /content/IR_expert_system/downloaded_jcamp/ir/21209-30-3\n",
            "File can't be read, please check: /content/IR_expert_system/downloaded_jcamp/ir/6529-53-9\n",
            "File can't be read, please check: /content/IR_expert_system/downloaded_jcamp/ir/116401-11-7\n",
            "File can't be read, please check: /content/IR_expert_system/downloaded_jcamp/ir/3088-15-1\n",
            "File can't be read, please check: /content/IR_expert_system/downloaded_jcamp/ir/79-06-1\n",
            "File can't be read, please check: /content/IR_expert_system/downloaded_jcamp/ir/4132-48-3\n",
            "File can't be read, please check: /content/IR_expert_system/downloaded_jcamp/ir/93-79-8\n",
            "File can't be read, please check: /content/IR_expert_system/downloaded_jcamp/ir/57558-57-3\n",
            "File can't be read, please check: /content/IR_expert_system/downloaded_jcamp/ir/7501-30-6\n",
            "File can't be read, please check: /content/IR_expert_system/downloaded_jcamp/ir/16688-98-5\n",
            "File can't be read, please check: /content/IR_expert_system/downloaded_jcamp/ir/46878-66-4\n",
            "File can't be read, please check: /content/IR_expert_system/downloaded_jcamp/ir/25014-31-7\n",
            "File can't be read, please check: /content/IR_expert_system/downloaded_jcamp/ir/70-49-5\n",
            "File can't be read, please check: /content/IR_expert_system/downloaded_jcamp/ir/533-18-6\n",
            "File can't be read, please check: /content/IR_expert_system/downloaded_jcamp/ir/33082-88-1\n",
            "File can't be read, please check: /content/IR_expert_system/downloaded_jcamp/ir/132829-84-6\n",
            "File can't be read, please check: /content/IR_expert_system/downloaded_jcamp/ir/109818-37-3\n",
            "File can't be read, please check: /content/IR_expert_system/downloaded_jcamp/ir/116401-98-0\n",
            "File can't be read, please check: /content/IR_expert_system/downloaded_jcamp/ir/116402-06-3\n",
            "File can't be read, please check: /content/IR_expert_system/downloaded_jcamp/ir/25770-53-0\n",
            "File can't be read, please check: /content/IR_expert_system/downloaded_jcamp/ir/136-25-4\n",
            "File can't be read, please check: /content/IR_expert_system/downloaded_jcamp/ir/614-80-2\n",
            "File can't be read, please check: /content/IR_expert_system/downloaded_jcamp/ir/7790-94-5\n",
            "File can't be read, please check: /content/IR_expert_system/downloaded_jcamp/ir/55162-40-8\n",
            "File can't be read, please check: /content/IR_expert_system/downloaded_jcamp/ir/20748-26-9\n",
            "File can't be read, please check: /content/IR_expert_system/downloaded_jcamp/ir/74-11-3\n",
            "File can't be read, please check: /content/IR_expert_system/downloaded_jcamp/ir/2425-28-7\n",
            "File can't be read, please check: /content/IR_expert_system/downloaded_jcamp/ir/79-97-0\n",
            "File can't be read, please check: /content/IR_expert_system/downloaded_jcamp/ir/24483-72-5\n",
            "File can't be read, please check: /content/IR_expert_system/downloaded_jcamp/ir/6941-69-1\n",
            "File can't be read, please check: /content/IR_expert_system/downloaded_jcamp/ir/444-15-5\n",
            "File can't be read, please check: /content/IR_expert_system/downloaded_jcamp/ir/1291-47-0\n",
            "File can't be read, please check: /content/IR_expert_system/downloaded_jcamp/ir/3179-63-3\n",
            "File can't be read, please check: /content/IR_expert_system/downloaded_jcamp/ir/1761-61-1\n",
            "File can't be read, please check: /content/IR_expert_system/downloaded_jcamp/ir/501-30-4\n",
            "File can't be read, please check: /content/IR_expert_system/downloaded_jcamp/ir/116436-35-2\n",
            "File can't be read, please check: /content/IR_expert_system/downloaded_jcamp/ir/116402-66-5\n",
            "File can't be read, please check: /content/IR_expert_system/downloaded_jcamp/ir/34593-74-3\n",
            "File can't be read, please check: /content/IR_expert_system/downloaded_jcamp/ir/64022-00-0\n",
            "File can't be read, please check: /content/IR_expert_system/downloaded_jcamp/ir/41998-16-7\n",
            "File can't be read, please check: /content/IR_expert_system/downloaded_jcamp/ir/19116-37-1\n",
            "File can't be read, please check: /content/IR_expert_system/downloaded_jcamp/ir/6328-44-5\n",
            "File can't be read, please check: /content/IR_expert_system/downloaded_jcamp/ir/7525-62-4\n",
            "File can't be read, please check: /content/IR_expert_system/downloaded_jcamp/ir/116402-00-7\n",
            "File can't be read, please check: /content/IR_expert_system/downloaded_jcamp/ir/4214-28-2\n",
            "File can't be read, please check: /content/IR_expert_system/downloaded_jcamp/ir/1798-04-5\n",
            "File can't be read, please check: /content/IR_expert_system/downloaded_jcamp/ir/116373-31-0\n",
            "File can't be read, please check: /content/IR_expert_system/downloaded_jcamp/ir/7631-86-9\n",
            "File can't be read, please check: /content/IR_expert_system/downloaded_jcamp/ir/1999-85-5\n",
            "File can't be read, please check: /content/IR_expert_system/downloaded_jcamp/ir/96-07-1\n",
            "File can't be read, please check: /content/IR_expert_system/downloaded_jcamp/ir/23730-10-1\n",
            "File can't be read, please check: /content/IR_expert_system/downloaded_jcamp/ir/116465-30-6\n",
            "File can't be read, please check: /content/IR_expert_system/downloaded_jcamp/ir/116401-42-4\n",
            "File can't be read, please check: /content/IR_expert_system/downloaded_jcamp/ir/116401-99-1\n",
            "File can't be read, please check: /content/IR_expert_system/downloaded_jcamp/ir/619-60-3\n",
            "File can't be read, please check: /content/IR_expert_system/downloaded_jcamp/ir/116374-01-7\n",
            "File can't be read, please check: /content/IR_expert_system/downloaded_jcamp/ir/116402-42-7\n",
            "File can't be read, please check: /content/IR_expert_system/downloaded_jcamp/ir/65-45-2\n",
            "File can't be read, please check: /content/IR_expert_system/downloaded_jcamp/ir/6258-28-2\n",
            "File can't be read, please check: /content/IR_expert_system/downloaded_jcamp/ir/7045-89-8\n",
            "File can't be read, please check: /content/IR_expert_system/downloaded_jcamp/ir/22876-29-5\n",
            "File can't be read, please check: /content/IR_expert_system/downloaded_jcamp/ir/1104-93-4\n",
            "File can't be read, please check: /content/IR_expert_system/downloaded_jcamp/ir/96-94-6\n",
            "File can't be read, please check: /content/IR_expert_system/downloaded_jcamp/ir/33024-51-0\n",
            "File can't be read, please check: /content/IR_expert_system/downloaded_jcamp/ir/66799-44-8\n",
            "File can't be read, please check: /content/IR_expert_system/downloaded_jcamp/ir/16189-06-3\n",
            "File can't be read, please check: /content/IR_expert_system/downloaded_jcamp/ir/7803-51-2\n",
            "File can't be read, please check: /content/IR_expert_system/downloaded_jcamp/ir/1667-04-5\n",
            "File can't be read, please check: /content/IR_expert_system/downloaded_jcamp/ir/116558-00-0\n",
            "File can't be read, please check: /content/IR_expert_system/downloaded_jcamp/ir/116632-95-2\n",
            "File can't be read, please check: /content/IR_expert_system/downloaded_jcamp/ir/599-62-2\n",
            "File can't be read, please check: /content/IR_expert_system/downloaded_jcamp/ir/55012-69-6\n",
            "File can't be read, please check: /content/IR_expert_system/downloaded_jcamp/ir/40275-41-0\n",
            "File can't be read, please check: /content/IR_expert_system/downloaded_jcamp/ir/10137-65-2\n",
            "File can't be read, please check: /content/IR_expert_system/downloaded_jcamp/ir/90920-28-8\n",
            "File can't be read, please check: /content/IR_expert_system/downloaded_jcamp/ir/20474-93-5\n",
            "File can't be read, please check: /content/IR_expert_system/downloaded_jcamp/ir/100062-67-7\n",
            "File can't be read, please check: /content/IR_expert_system/downloaded_jcamp/ir/116594-65-1\n",
            "File can't be read, please check: /content/IR_expert_system/downloaded_jcamp/ir/116402-59-6\n",
            "File can't be read, please check: /content/IR_expert_system/downloaded_jcamp/ir/109444-32-8\n",
            "File can't be read, please check: /content/IR_expert_system/downloaded_jcamp/ir/13908-23-1\n",
            "File can't be read, please check: /content/IR_expert_system/downloaded_jcamp/ir/4215-80-9\n",
            "File can't be read, please check: /content/IR_expert_system/downloaded_jcamp/ir/116401-62-8\n",
            "File can't be read, please check: /content/IR_expert_system/downloaded_jcamp/ir/73953-80-7\n",
            "File can't be read, please check: /content/IR_expert_system/downloaded_jcamp/ir/142-73-4\n",
            "File can't be read, please check: /content/IR_expert_system/downloaded_jcamp/ir/57338-87-1\n",
            "File can't be read, please check: /content/IR_expert_system/downloaded_jcamp/ir/116403-17-9\n",
            "File can't be read, please check: /content/IR_expert_system/downloaded_jcamp/ir/13909-02-9\n",
            "File can't be read, please check: /content/IR_expert_system/downloaded_jcamp/ir/102701-87-1\n",
            "File can't be read, please check: /content/IR_expert_system/downloaded_jcamp/ir/116401-04-8\n",
            "File can't be read, please check: /content/IR_expert_system/downloaded_jcamp/ir/85-34-7\n",
            "File can't be read, please check: /content/IR_expert_system/downloaded_jcamp/ir/14685-29-1\n",
            "File can't be read, please check: /content/IR_expert_system/downloaded_jcamp/ir/13316-70-6\n",
            "File can't be read, please check: /content/IR_expert_system/downloaded_jcamp/ir/77-99-6\n",
            "File can't be read, please check: /content/IR_expert_system/downloaded_jcamp/ir/6287-38-3\n",
            "File can't be read, please check: /content/IR_expert_system/downloaded_jcamp/ir/56-40-6\n",
            "File can't be read, please check: /content/IR_expert_system/downloaded_jcamp/ir/2052-01-9\n",
            "File can't be read, please check: /content/IR_expert_system/downloaded_jcamp/ir/116295-53-5\n",
            "File can't be read, please check: /content/IR_expert_system/downloaded_jcamp/ir/30542-21-3\n",
            "File can't be read, please check: /content/IR_expert_system/downloaded_jcamp/ir/586-75-4\n",
            "File can't be read, please check: /content/IR_expert_system/downloaded_jcamp/ir/87-41-2\n",
            "File can't be read, please check: /content/IR_expert_system/downloaded_jcamp/ir/115-87-7\n",
            "File can't be read, please check: /content/IR_expert_system/downloaded_jcamp/ir/4132-49-4\n",
            "File can't be read, please check: /content/IR_expert_system/downloaded_jcamp/ir/611-07-4\n",
            "File can't be read, please check: /content/IR_expert_system/downloaded_jcamp/ir/103-01-5\n",
            "File can't be read, please check: /content/IR_expert_system/downloaded_jcamp/ir/116402-04-1\n",
            "File can't be read, please check: /content/IR_expert_system/downloaded_jcamp/ir/2591-71-1\n",
            "File can't be read, please check: /content/IR_expert_system/downloaded_jcamp/ir/116402-64-3\n",
            "File can't be read, please check: /content/IR_expert_system/downloaded_jcamp/ir/108-78-1\n",
            "File can't be read, please check: /content/IR_expert_system/downloaded_jcamp/ir/18773-38-1\n",
            "File can't be read, please check: /content/IR_expert_system/downloaded_jcamp/ir/3165-93-3\n",
            "File can't be read, please check: /content/IR_expert_system/downloaded_jcamp/ir/54815-12-2\n",
            "File can't be read, please check: /content/IR_expert_system/downloaded_jcamp/ir/54819-86-2\n",
            "File can't be read, please check: /content/IR_expert_system/downloaded_jcamp/ir/577-55-9\n",
            "File can't be read, please check: /content/IR_expert_system/downloaded_jcamp/ir/116402-10-9\n",
            "File can't be read, please check: /content/IR_expert_system/downloaded_jcamp/ir/993-13-5\n",
            "File can't be read, please check: /content/IR_expert_system/downloaded_jcamp/ir/94-81-5\n",
            "File can't be read, please check: /content/IR_expert_system/downloaded_jcamp/ir/484-67-3\n",
            "File can't be read, please check: /content/IR_expert_system/downloaded_jcamp/ir/20484-34-8\n",
            "File can't be read, please check: /content/IR_expert_system/downloaded_jcamp/ir/22291-52-7\n",
            "File can't be read, please check: /content/IR_expert_system/downloaded_jcamp/ir/4813-57-4\n",
            "File can't be read, please check: /content/IR_expert_system/downloaded_jcamp/ir/97-18-7\n",
            "File can't be read, please check: /content/IR_expert_system/downloaded_jcamp/ir/26073-26-7\n",
            "File can't be read, please check: /content/IR_expert_system/downloaded_jcamp/ir/2576-47-8\n",
            "File can't be read, please check: /content/IR_expert_system/downloaded_jcamp/ir/24078-21-5\n",
            "File can't be read, please check: /content/IR_expert_system/downloaded_jcamp/ir/577-92-4\n",
            "File can't be read, please check: /content/IR_expert_system/downloaded_jcamp/ir/4097-48-7\n",
            "File can't be read, please check: /content/IR_expert_system/downloaded_jcamp/ir/112-86-7\n",
            "File can't be read, please check: /content/IR_expert_system/downloaded_jcamp/ir/729-62-4\n",
            "File can't be read, please check: /content/IR_expert_system/downloaded_jcamp/ir/36668-18-5\n",
            "File can't be read, please check: /content/IR_expert_system/downloaded_jcamp/ir/3010-82-0\n",
            "File can't be read, please check: /content/IR_expert_system/downloaded_jcamp/ir/1572-99-2\n",
            "File can't be read, please check: /content/IR_expert_system/downloaded_jcamp/ir/131-89-5\n",
            "File can't be read, please check: /content/IR_expert_system/downloaded_jcamp/ir/90221-54-8\n",
            "File can't be read, please check: /content/IR_expert_system/downloaded_jcamp/ir/28469-92-3\n",
            "File can't be read, please check: /content/IR_expert_system/downloaded_jcamp/ir/99972-22-2\n",
            "File can't be read, please check: /content/IR_expert_system/downloaded_jcamp/ir/51892-04-7\n",
            "File can't be read, please check: /content/IR_expert_system/downloaded_jcamp/ir/110252-31-8\n",
            "File can't be read, please check: /content/IR_expert_system/downloaded_jcamp/ir/116401-18-4\n",
            "File can't be read, please check: /content/IR_expert_system/downloaded_jcamp/ir/1120-07-6\n",
            "File can't be read, please check: /content/IR_expert_system/downloaded_jcamp/ir/19361-91-2\n",
            "File can't be read, please check: /content/IR_expert_system/downloaded_jcamp/ir/6319-85-3\n",
            "File can't be read, please check: /content/IR_expert_system/downloaded_jcamp/ir/69470-50-4\n",
            "File can't be read, please check: /content/IR_expert_system/downloaded_jcamp/ir/2917-65-9\n",
            "File can't be read, please check: /content/IR_expert_system/downloaded_jcamp/ir/2362-18-7\n",
            "File can't be read, please check: /content/IR_expert_system/downloaded_jcamp/ir/557-91-5\n",
            "File can't be read, please check: /content/IR_expert_system/downloaded_jcamp/ir/116495-90-0\n",
            "File can't be read, please check: /content/IR_expert_system/downloaded_jcamp/ir/612-69-1\n",
            "File can't be read, please check: /content/IR_expert_system/downloaded_jcamp/ir/18645-22-2\n",
            "File can't be read, please check: /content/IR_expert_system/downloaded_jcamp/ir/142-04-1\n",
            "File can't be read, please check: /content/IR_expert_system/downloaded_jcamp/ir/108878-18-8\n",
            "File can't be read, please check: /content/IR_expert_system/downloaded_jcamp/ir/607-07-8\n",
            "File can't be read, please check: /content/IR_expert_system/downloaded_jcamp/ir/101654-23-3\n",
            "File can't be read, please check: /content/IR_expert_system/downloaded_jcamp/ir/127-63-9\n",
            "File can't be read, please check: /content/IR_expert_system/downloaded_jcamp/ir/2467-03-0\n",
            "File can't be read, please check: /content/IR_expert_system/downloaded_jcamp/ir/4121-44-2\n",
            "File can't be read, please check: /content/IR_expert_system/downloaded_jcamp/ir/116436-28-3\n",
            "File can't be read, please check: /content/IR_expert_system/downloaded_jcamp/ir/16805-78-0\n",
            "File can't be read, please check: /content/IR_expert_system/downloaded_jcamp/ir/3995-38-8\n",
            "File can't be read, please check: /content/IR_expert_system/downloaded_jcamp/ir/110-21-4\n",
            "File can't be read, please check: /content/IR_expert_system/downloaded_jcamp/ir/605-71-0\n",
            "File can't be read, please check: /content/IR_expert_system/downloaded_jcamp/ir/7398-82-5\n",
            "File can't be read, please check: /content/IR_expert_system/downloaded_jcamp/ir/140-38-5\n",
            "File can't be read, please check: /content/IR_expert_system/downloaded_jcamp/ir/94-01-9\n",
            "File can't be read, please check: /content/IR_expert_system/downloaded_jcamp/ir/619-58-9\n",
            "File can't be read, please check: /content/IR_expert_system/downloaded_jcamp/ir/60285-29-2\n",
            "File can't be read, please check: /content/IR_expert_system/downloaded_jcamp/ir/1137-41-3\n",
            "File can't be read, please check: /content/IR_expert_system/downloaded_jcamp/ir/3147-45-3\n",
            "File can't be read, please check: /content/IR_expert_system/downloaded_jcamp/ir/51-19-4\n",
            "File can't be read, please check: /content/IR_expert_system/downloaded_jcamp/ir/23689-34-1\n",
            "File can't be read, please check: /content/IR_expert_system/downloaded_jcamp/ir/16805-77-9\n",
            "File can't be read, please check: /content/IR_expert_system/downloaded_jcamp/ir/116595-13-2\n",
            "File can't be read, please check: /content/IR_expert_system/downloaded_jcamp/ir/619-08-9\n",
            "File can't be read, please check: /content/IR_expert_system/downloaded_jcamp/ir/50993-51-6\n",
            "File can't be read, please check: /content/IR_expert_system/downloaded_jcamp/ir/116295-67-1\n",
            "File can't be read, please check: /content/IR_expert_system/downloaded_jcamp/ir/116402-58-5\n",
            "File can't be read, please check: /content/IR_expert_system/downloaded_jcamp/ir/5392-86-9\n",
            "File can't be read, please check: /content/IR_expert_system/downloaded_jcamp/ir/611-99-4\n",
            "File can't be read, please check: /content/IR_expert_system/downloaded_jcamp/ir/557-05-1\n",
            "File can't be read, please check: /content/IR_expert_system/downloaded_jcamp/ir/109425-98-1\n",
            "File can't be read, please check: /content/IR_expert_system/downloaded_jcamp/ir/1009-61-6\n",
            "File can't be read, please check: /content/IR_expert_system/downloaded_jcamp/ir/108-57-6\n",
            "File can't be read, please check: /content/IR_expert_system/downloaded_jcamp/ir/115-85-5\n",
            "File can't be read, please check: /content/IR_expert_system/downloaded_jcamp/ir/22820-60-6\n",
            "File can't be read, please check: /content/IR_expert_system/downloaded_jcamp/ir/1866-15-5\n",
            "File can't be read, please check: /content/IR_expert_system/downloaded_jcamp/ir/4472-73-5\n",
            "File can't be read, please check: /content/IR_expert_system/downloaded_jcamp/ir/627-83-8\n",
            "File can't be read, please check: /content/IR_expert_system/downloaded_jcamp/ir/116401-63-9\n",
            "File can't be read, please check: /content/IR_expert_system/downloaded_jcamp/ir/2498-66-0\n",
            "File can't be read, please check: /content/IR_expert_system/downloaded_jcamp/ir/34946-84-4\n",
            "File can't be read, please check: /content/IR_expert_system/downloaded_jcamp/ir/2591-67-5\n",
            "File can't be read, please check: /content/IR_expert_system/downloaded_jcamp/ir/89693-51-6\n",
            "File can't be read, please check: /content/IR_expert_system/downloaded_jcamp/ir/140-66-9\n",
            "File can't be read, please check: /content/IR_expert_system/downloaded_jcamp/ir/585-79-5\n",
            "File can't be read, please check: /content/IR_expert_system/downloaded_jcamp/ir/116401-38-8\n",
            "File can't be read, please check: /content/IR_expert_system/downloaded_jcamp/ir/116402-43-8\n",
            "File can't be read, please check: /content/IR_expert_system/downloaded_jcamp/ir/6824-60-8\n",
            "File can't be read, please check: /content/IR_expert_system/downloaded_jcamp/ir/106472-11-1\n",
            "File can't be read, please check: /content/IR_expert_system/downloaded_jcamp/ir/623-76-7\n",
            "File can't be read, please check: /content/IR_expert_system/downloaded_jcamp/ir/25543-96-8\n",
            "File can't be read, please check: /content/IR_expert_system/downloaded_jcamp/ir/531-75-9\n",
            "File can't be read, please check: /content/IR_expert_system/downloaded_jcamp/ir/116436-41-0\n",
            "File can't be read, please check: /content/IR_expert_system/downloaded_jcamp/ir/1579-40-4\n",
            "File can't be read, please check: /content/IR_expert_system/downloaded_jcamp/ir/116401-40-2\n",
            "File can't be read, please check: /content/IR_expert_system/downloaded_jcamp/ir/591-07-1\n",
            "File can't be read, please check: /content/IR_expert_system/downloaded_jcamp/ir/77008-64-1\n",
            "File can't be read, please check: /content/IR_expert_system/downloaded_jcamp/ir/116402-47-2\n",
            "File can't be read, please check: /content/IR_expert_system/downloaded_jcamp/ir/19202-04-1\n",
            "File can't be read, please check: /content/IR_expert_system/downloaded_jcamp/ir/22303-30-6\n",
            "File can't be read, please check: /content/IR_expert_system/downloaded_jcamp/ir/3072-02-4\n",
            "File can't be read, please check: /content/IR_expert_system/downloaded_jcamp/ir/557-66-4\n",
            "File can't be read, please check: /content/IR_expert_system/downloaded_jcamp/ir/100725-06-2\n",
            "File can't be read, please check: /content/IR_expert_system/downloaded_jcamp/ir/10425-05-5\n",
            "File can't be read, please check: /content/IR_expert_system/downloaded_jcamp/ir/7116-95-2\n",
            "File can't be read, please check: /content/IR_expert_system/downloaded_jcamp/ir/502-99-8\n",
            "File can't be read, please check: /content/IR_expert_system/downloaded_jcamp/ir/115-88-8\n",
            "File can't be read, please check: /content/IR_expert_system/downloaded_jcamp/ir/1570-65-6\n",
            "File can't be read, please check: /content/IR_expert_system/downloaded_jcamp/ir/101097-83-0\n",
            "File can't be read, please check: /content/IR_expert_system/downloaded_jcamp/ir/76-03-9\n",
            "File can't be read, please check: /content/IR_expert_system/downloaded_jcamp/ir/2050-66-0\n",
            "File can't be read, please check: /content/IR_expert_system/downloaded_jcamp/ir/2591-66-4\n",
            "File can't be read, please check: /content/IR_expert_system/downloaded_jcamp/ir/681-04-9\n",
            "File can't be read, please check: /content/IR_expert_system/downloaded_jcamp/ir/116402-09-6\n",
            "File can't be read, please check: /content/IR_expert_system/downloaded_jcamp/ir/4099-63-2\n",
            "File can't be read, please check: /content/IR_expert_system/downloaded_jcamp/ir/64968-99-6\n",
            "File can't be read, please check: /content/IR_expert_system/downloaded_jcamp/ir/94622-10-3\n",
            "File can't be read, please check: /content/IR_expert_system/downloaded_jcamp/ir/1806-26-4\n",
            "File can't be read, please check: /content/IR_expert_system/downloaded_jcamp/ir/116595-14-3\n",
            "File can't be read, please check: /content/IR_expert_system/downloaded_jcamp/ir/1498-65-3\n",
            "File can't be read, please check: /content/IR_expert_system/downloaded_jcamp/ir/13395-85-2\n",
            "File can't be read, please check: /content/IR_expert_system/downloaded_jcamp/ir/92-53-5\n",
            "File can't be read, please check: /content/IR_expert_system/downloaded_jcamp/ir/1015-38-9\n",
            "File can't be read, please check: /content/IR_expert_system/downloaded_jcamp/ir/1475-11-2\n",
            "File can't be read, please check: /content/IR_expert_system/downloaded_jcamp/ir/10487-71-5\n",
            "File can't be read, please check: /content/IR_expert_system/downloaded_jcamp/ir/3883-95-2\n",
            "File can't be read, please check: /content/IR_expert_system/downloaded_jcamp/ir/4083-64-1\n",
            "File can't be read, please check: /content/IR_expert_system/downloaded_jcamp/ir/2078-71-9\n",
            "File can't be read, please check: /content/IR_expert_system/downloaded_jcamp/ir/88-03-9\n",
            "File can't be read, please check: /content/IR_expert_system/downloaded_jcamp/ir/116402-54-1\n",
            "File can't be read, please check: /content/IR_expert_system/downloaded_jcamp/ir/116402-01-8\n",
            "File can't be read, please check: /content/IR_expert_system/downloaded_jcamp/ir/2155-42-2\n",
            "File can't be read, please check: /content/IR_expert_system/downloaded_jcamp/ir/116402-03-0\n",
            "File can't be read, please check: /content/IR_expert_system/downloaded_jcamp/ir/18653-98-0\n",
            "File can't be read, please check: /content/IR_expert_system/downloaded_jcamp/ir/635-96-1\n",
            "File can't be read, please check: /content/IR_expert_system/downloaded_jcamp/ir/22539-65-7\n",
            "File can't be read, please check: /content/IR_expert_system/downloaded_jcamp/ir/116402-46-1\n",
            "File can't be read, please check: /content/IR_expert_system/downloaded_jcamp/ir/99-77-4\n",
            "File can't be read, please check: /content/IR_expert_system/downloaded_jcamp/ir/635-11-0\n",
            "File can't be read, please check: /content/IR_expert_system/downloaded_jcamp/ir/262-20-4\n",
            "File can't be read, please check: /content/IR_expert_system/downloaded_jcamp/ir/79-36-7\n",
            "File can't be read, please check: /content/IR_expert_system/downloaded_jcamp/ir/119-27-7\n",
            "File can't be read, please check: /content/IR_expert_system/downloaded_jcamp/ir/2613-76-5\n",
            "File can't be read, please check: /content/IR_expert_system/downloaded_jcamp/ir/4237-37-0\n",
            "File can't be read, please check: /content/IR_expert_system/downloaded_jcamp/ir/14163-82-7\n",
            "File can't be read, please check: /content/IR_expert_system/downloaded_jcamp/ir/814-78-8\n",
            "File can't be read, please check: /content/IR_expert_system/downloaded_jcamp/ir/110252-33-0\n",
            "File can't be read, please check: /content/IR_expert_system/downloaded_jcamp/ir/926-65-8\n",
            "File can't be read, please check: /content/IR_expert_system/downloaded_jcamp/ir/116402-63-2\n",
            "File can't be read, please check: /content/IR_expert_system/downloaded_jcamp/ir/116465-42-0\n",
            "File can't be read, please check: /content/IR_expert_system/downloaded_jcamp/ir/140-22-7\n",
            "File can't be read, please check: /content/IR_expert_system/downloaded_jcamp/ir/490-79-9\n",
            "File can't be read, please check: /content/IR_expert_system/downloaded_jcamp/ir/2123-27-5\n",
            "File can't be read, please check: /content/IR_expert_system/downloaded_jcamp/ir/1569-01-3\n",
            "File can't be read, please check: /content/IR_expert_system/downloaded_jcamp/ir/1223-20-7\n",
            "File can't be read, please check: /content/IR_expert_system/downloaded_jcamp/ir/599-64-4\n",
            "File can't be read, please check: /content/IR_expert_system/downloaded_jcamp/ir/600-18-0\n",
            "File can't be read, please check: /content/IR_expert_system/downloaded_jcamp/ir/3035-67-4\n",
            "File can't be read, please check: /content/IR_expert_system/downloaded_jcamp/ir/74478-95-8\n",
            "File can't be read, please check: /content/IR_expert_system/downloaded_jcamp/ir/6358-15-2\n",
            "File can't be read, please check: /content/IR_expert_system/downloaded_jcamp/ir/17181-49-6\n",
            "File can't be read, please check: /content/IR_expert_system/downloaded_jcamp/ir/20210-97-3\n",
            "File can't be read, please check: /content/IR_expert_system/downloaded_jcamp/ir/3871-31-6\n",
            "File can't be read, please check: /content/IR_expert_system/downloaded_jcamp/ir/116373-45-6\n",
            "File can't be read, please check: /content/IR_expert_system/downloaded_jcamp/ir/85-97-2\n",
            "File can't be read, please check: /content/IR_expert_system/downloaded_jcamp/ir/116401-95-7\n",
            "File can't be read, please check: /content/IR_expert_system/downloaded_jcamp/ir/116434-87-8\n",
            "File can't be read, please check: /content/IR_expert_system/downloaded_jcamp/ir/2085-88-3\n",
            "File can't be read, please check: /content/IR_expert_system/downloaded_jcamp/ir/109-74-0\n",
            "File can't be read, please check: /content/IR_expert_system/downloaded_jcamp/ir/544-13-8\n",
            "File can't be read, please check: /content/IR_expert_system/downloaded_jcamp/ir/62108-69-4\n",
            "File can't be read, please check: /content/IR_expert_system/downloaded_jcamp/ir/116401-97-9\n",
            "File can't be read, please check: /content/IR_expert_system/downloaded_jcamp/ir/2867-05-2\n",
            "File can't be read, please check: /content/IR_expert_system/downloaded_jcamp/ir/7153-08-4\n",
            "File can't be read, please check: /content/IR_expert_system/downloaded_jcamp/ir/607-12-5\n",
            "File can't be read, please check: /content/IR_expert_system/downloaded_jcamp/ir/5328-01-8\n",
            "File can't be read, please check: /content/IR_expert_system/downloaded_jcamp/ir/624-03-3\n",
            "File can't be read, please check: /content/IR_expert_system/downloaded_jcamp/ir/99973-91-8\n",
            "File can't be read, please check: /content/IR_expert_system/downloaded_jcamp/ir/2479-47-2\n",
            "File can't be read, please check: /content/IR_expert_system/downloaded_jcamp/ir/104-86-9\n",
            "File can't be read, please check: /content/IR_expert_system/downloaded_jcamp/ir/112-39-0\n",
            "File can't be read, please check: /content/IR_expert_system/downloaded_jcamp/ir/140-05-6\n",
            "File can't be read, please check: /content/IR_expert_system/downloaded_jcamp/ir/28358-98-7\n",
            "File can't be read, please check: /content/IR_expert_system/downloaded_jcamp/ir/18054-10-9\n",
            "File can't be read, please check: /content/IR_expert_system/downloaded_jcamp/ir/65976-60-5\n",
            "File can't be read, please check: /content/IR_expert_system/downloaded_jcamp/ir/1304-56-9\n",
            "File can't be read, please check: /content/IR_expert_system/downloaded_jcamp/ir/606-12-2\n",
            "File can't be read, please check: /content/IR_expert_system/downloaded_jcamp/ir/136-84-5\n",
            "File can't be read, please check: /content/IR_expert_system/downloaded_jcamp/ir/54815-21-3\n",
            "File can't be read, please check: /content/IR_expert_system/downloaded_jcamp/ir/109105-43-3\n",
            "File can't be read, please check: /content/IR_expert_system/downloaded_jcamp/ir/2767-77-3\n",
            "File can't be read, please check: /content/IR_expert_system/downloaded_jcamp/ir/99-02-5\n",
            "File can't be read, please check: /content/IR_expert_system/downloaded_jcamp/ir/64-10-8\n",
            "File can't be read, please check: /content/IR_expert_system/downloaded_jcamp/ir/116400-86-3\n",
            "File can't be read, please check: /content/IR_expert_system/downloaded_jcamp/ir/998-30-1\n",
            "File can't be read, please check: /content/IR_expert_system/downloaded_jcamp/ir/67-51-6\n",
            "File can't be read, please check: /content/IR_expert_system/downloaded_jcamp/ir/116296-26-5\n",
            "File can't be read, please check: /content/IR_expert_system/downloaded_jcamp/ir/98-66-8\n",
            "File can't be read, please check: /content/IR_expert_system/downloaded_jcamp/ir/55955-97-0\n",
            "File can't be read, please check: /content/IR_expert_system/downloaded_jcamp/ir/59869-24-8\n",
            "File can't be read, please check: /content/IR_expert_system/downloaded_jcamp/ir/116401-41-3\n",
            "File can't be read, please check: /content/IR_expert_system/downloaded_jcamp/ir/141-20-8\n",
            "File can't be read, please check: /content/IR_expert_system/downloaded_jcamp/ir/20503-92-8\n",
            "File can't be read, please check: /content/IR_expert_system/downloaded_jcamp/ir/1589-47-5\n",
            "File can't be read, please check: /content/IR_expert_system/downloaded_jcamp/ir/4405-42-9\n",
            "File can't be read, please check: /content/IR_expert_system/downloaded_jcamp/ir/52112-07-9\n",
            "File can't be read, please check: /content/IR_expert_system/downloaded_jcamp/ir/93310-91-9\n",
            "File can't be read, please check: /content/IR_expert_system/downloaded_jcamp/ir/2802-06-4\n",
            "File can't be read, please check: /content/IR_expert_system/downloaded_jcamp/ir/683-18-1\n",
            "File can't be read, please check: /content/IR_expert_system/downloaded_jcamp/ir/22192-81-0\n",
            "File can't be read, please check: /content/IR_expert_system/downloaded_jcamp/ir/3141-27-3\n",
            "File can't be read, please check: /content/IR_expert_system/downloaded_jcamp/ir/54932-77-3\n",
            "File can't be read, please check: /content/IR_expert_system/downloaded_jcamp/ir/16606-47-6\n",
            "File can't be read, please check: /content/IR_expert_system/downloaded_jcamp/ir/100062-58-6\n",
            "File can't be read, please check: /content/IR_expert_system/downloaded_jcamp/ir/2545-59-7\n",
            "File can't be read, please check: /content/IR_expert_system/downloaded_jcamp/ir/54965-52-5\n",
            "File can't be read, please check: /content/IR_expert_system/downloaded_jcamp/ir/116401-55-9\n",
            "File can't be read, please check: /content/IR_expert_system/downloaded_jcamp/ir/13031-43-1\n",
            "File can't be read, please check: /content/IR_expert_system/downloaded_jcamp/ir/2213-71-0\n",
            "File can't be read, please check: /content/IR_expert_system/downloaded_jcamp/ir/696-63-9\n",
            "File can't be read, please check: /content/IR_expert_system/downloaded_jcamp/ir/98546-20-4\n",
            "File can't be read, please check: /content/IR_expert_system/downloaded_jcamp/ir/116402-19-8\n",
            "File can't be read, please check: /content/IR_expert_system/downloaded_jcamp/ir/116402-60-9\n",
            "File can't be read, please check: /content/IR_expert_system/downloaded_jcamp/ir/22192-82-1\n",
            "File can't be read, please check: /content/IR_expert_system/downloaded_jcamp/ir/1801-72-5\n",
            "File can't be read, please check: /content/IR_expert_system/downloaded_jcamp/ir/109593-91-1\n",
            "File can't be read, please check: /content/IR_expert_system/downloaded_jcamp/ir/107559-24-0\n",
            "File can't be read, please check: /content/IR_expert_system/downloaded_jcamp/ir/934-53-2\n",
            "File can't be read, please check: /content/IR_expert_system/downloaded_jcamp/ir/6851-46-3\n",
            "File can't be read, please check: /content/IR_expert_system/downloaded_jcamp/ir/20188-28-7\n",
            "File can't be read, please check: /content/IR_expert_system/downloaded_jcamp/ir/77619-93-3\n",
            "File can't be read, please check: /content/IR_expert_system/downloaded_jcamp/ir/103034-71-5\n",
            "File can't be read, please check: /content/IR_expert_system/downloaded_jcamp/ir/943-27-1\n",
            "File can't be read, please check: /content/IR_expert_system/downloaded_jcamp/ir/454-31-9\n",
            "File can't be read, please check: /content/IR_expert_system/downloaded_jcamp/ir/6161-86-0\n",
            "File can't be read, please check: /content/IR_expert_system/downloaded_jcamp/ir/94-80-4\n",
            "File can't be read, please check: /content/IR_expert_system/downloaded_jcamp/ir/1697-34-3\n",
            "File can't be read, please check: /content/IR_expert_system/downloaded_jcamp/ir/4169-04-4\n",
            "File can't be read, please check: /content/IR_expert_system/downloaded_jcamp/ir/102-07-8\n",
            "File can't be read, please check: /content/IR_expert_system/downloaded_jcamp/ir/116436-38-5\n",
            "File can't be read, please check: /content/IR_expert_system/downloaded_jcamp/ir/14027-78-2\n",
            "File can't be read, please check: /content/IR_expert_system/downloaded_jcamp/ir/116295-52-4\n",
            "File can't be read, please check: /content/IR_expert_system/downloaded_jcamp/ir/51698-77-2\n",
            "File can't be read, please check: /content/IR_expert_system/downloaded_jcamp/ir/89-86-1\n",
            "File can't be read, please check: /content/IR_expert_system/downloaded_jcamp/ir/83-56-7\n",
            "File can't be read, please check: /content/IR_expert_system/downloaded_jcamp/ir/3344-19-2\n",
            "File can't be read, please check: /content/IR_expert_system/downloaded_jcamp/ir/98-60-2\n"
          ]
        }
      ],
      "source": [
        "from jcamp import jcamp_readfile\n",
        "nist_ir_spectra_list_with_group = pd.read_csv('/content/IR_expert_system/data/nist_ir_spectra_inchi_group_list.csv')\n",
        "# Create an empty list to store spectra data\n",
        "ref_spectra = []\n",
        "# choose current directory\n",
        "curr_directory = os.getcwd()\n",
        "os.chdir(curr_directory)  # set to current directory\n",
        "files = glob.glob('/content/IR_expert_system/downloaded_jcamp/ir/*')  # look for files without extension. Returns a list.\n",
        "# Try to read the file. If can't be read, skip it.\n",
        "dataset_dic = {}\n",
        "for i, file in enumerate(files):\n",
        "    \n",
        "    #print(file)\n",
        "    try:\n",
        "        # read jcamp file using the jcamp class and store data into the\n",
        "        # ref_spectra list\n",
        "        sample = jcamp_readfile(file)\n",
        "        #Forming data into the types\n",
        "        sample['x'] = sample['x'].astype(np.float32)\n",
        "        sample['y'] = sample['y'].astype(np.float32)\n",
        "        sample['firstx'] = np.float32(sample['x'][0])\n",
        "        #print(type(sample['firstx']))\n",
        "        sample['deltax'] = ((np.float32(sample['firstx'])-np.float32(sample['lastx']))/np.float32(sample['npoints']))\n",
        "        sample['npoints'] = int(sample['npoints'])    \n",
        "        # uniformize data, #1:\n",
        "        # check yunits: If yunits is in transmission, change it to absorbance.\n",
        "        # Later create a function to uniformize units\n",
        "        if sample['yunits'] == \"ABSORBANCE\":\n",
        "            pass \n",
        "\n",
        "        elif sample['yunits'] == \"TRANSMISSION\" or sample['yunits'] == \"TRANSMITTANCE\":\n",
        "            \n",
        "            sample['y'] = 1 - sample['y']\n",
        "            sample['yunits'] = \"ABSORBANCE\"\n",
        "            \n",
        "            #normalize\n",
        "           \n",
        "        # check xunits: if in microns, change to 1/cm\n",
        "\n",
        "        if sample['xunits'] == \"MICROMETERS\":\n",
        "            sample['x'] = 10000 / sample['x']\n",
        "            sample['xunits'] = '1/CM'\n",
        "            sample['firstx'] = np.float32(sample['x'][0])\n",
        "            sample['lastx'] = np.float32(sample['x'][int(sample['npoints'])-1])\n",
        "            sample['deltax'] = ((np.float32(sample['firstx'])-np.float32(sample['lastx']))/np.float32(sample['npoints']))\n",
        "            #if sample['deltax'] == np.nan: print(float(sample['firstx'])-float(sample['lastx'])), float(sample['npoints'])\n",
        "            sample['maxx'] =  np.float32(max(sample['x']))\n",
        "            sample['minx'] =  np.float32(min(sample['x']))\n",
        "        # check deltax: if Nan, change to (maxx-minx)/npoints\n",
        "        #if sample['deltax'] == np.nan: sample['deltax'] = ((float(sample['firstx'])-float(sample['lastx']))/float(sample['npoints']))\n",
        "\n",
        "        # !Still need to uniformize x-axis range and uniformize x-axis intervals.\n",
        "        #Flitting the x array if it is not in min_to_max order\n",
        "        if sample['x'][0] > sample['x'][3]: \n",
        "           #print(sample['x'])\n",
        "           sample['x'] = np.flip(sample['x'])\n",
        "           #print(sample['x'])\n",
        "           sample['y'] = np.flip(sample['y'])\n",
        "           sample['firstx'] = np.float32(sample['x'][0])\n",
        "           sample['lastx'] = np.float32(sample['x'][int(sample['npoints'])-1])\n",
        "           \n",
        "        \n",
        "        #Saving data to dictionary under cas num\n",
        "        dataset_dic[sample['cas registry no']] = sample\n",
        "        #print(sample['cas registry no'])\n",
        "        # Nan check\n",
        "        if np.isnan(sample['y']).any(): print(\"Reading jcamp problem! Nan observed in Y\")\n",
        "                \n",
        "\n",
        "    except:\n",
        "         print(\"File can't be read, please check:\", file)\n",
        "         continue\n",
        "\n",
        "#print(dataset_dic)"
      ]
    },
    {
      "cell_type": "code",
      "execution_count": 7,
      "metadata": {
        "colab": {
          "base_uri": "https://localhost:8080/",
          "height": 424
        },
        "id": "ZC5YV7yF1JTQ",
        "outputId": "af55ae9f-0af9-4fbb-cbfb-cc2fd74f1939"
      },
      "outputs": [
        {
          "output_type": "execute_result",
          "data": {
            "text/plain": [
              "                                                            x  \\\n",
              "21386-21-0  [382.0, 383.0, 384.0, 385.0, 386.0, 387.0, 388...   \n",
              "5862-40-8   [383.0, 384.0, 385.0, 386.0, 387.0, 388.0, 389...   \n",
              "87384-00-7  [549.863, 551.7923, 553.7216, 555.6509, 557.58...   \n",
              "627-97-4    [550.0, 554.0, 558.0, 562.0, 566.0, 570.0, 574...   \n",
              "18967-35-6  [549.759, 551.688, 553.617, 555.546, 557.475, ...   \n",
              "...                                                       ...   \n",
              "29504-89-0  [549.759, 551.688, 553.617, 555.546, 557.475, ...   \n",
              "335-99-9    [450.0, 454.0, 458.0, 462.0, 466.0, 470.0, 474...   \n",
              "131-91-9    [550.0, 554.0, 558.0, 562.0, 566.0, 570.0, 574...   \n",
              "17614-74-3  [549.759, 551.688, 553.617, 555.546, 557.475, ...   \n",
              "89856-44-0  [549.759, 551.688, 553.617, 555.546, 557.475, ...   \n",
              "\n",
              "                                                            y     minx  \\\n",
              "21386-21-0  [0.2712, 0.27109998, 0.27100003, 0.2709, 0.270...      382   \n",
              "5862-40-8   [0.8265, 0.8204, 0.8153, 0.81159997, 0.8086999...      383   \n",
              "87384-00-7  [0.00551, 0.00559, 0.00559, 0.00546, 0.00538, ...  549.863   \n",
              "627-97-4    [0.0002775, 0.0001825, 0.0001275, 0.0001825, 0...      550   \n",
              "18967-35-6  [0.01477, 0.01471, 0.01458, 0.01446, 0.01476, ...  549.759   \n",
              "...                                                       ...      ...   \n",
              "29504-89-0  [0.003238, 0.003138, 0.002878, 0.002968, 0.003...  549.759   \n",
              "335-99-9    [0.008407684, 0.008407684, 0.009223964, 0.0082...      450   \n",
              "131-91-9    [0.00068, 0.0002346, 0.0, 9.52e-05, 5.78e-05, ...      550   \n",
              "17614-74-3  [0.002531, 0.002321, 0.002131, 0.001911, 0.001...  549.759   \n",
              "89856-44-0  [0.006817, 0.006637, 0.005727, 0.004547, 0.004...  549.759   \n",
              "\n",
              "               maxx npoints  \n",
              "21386-21-0     3798    3417  \n",
              "5862-40-8      3800    3418  \n",
              "87384-00-7  3999.53    1789  \n",
              "627-97-4       3846     825  \n",
              "18967-35-6   4000.7    1790  \n",
              "...             ...     ...  \n",
              "29504-89-0   4000.7    1790  \n",
              "335-99-9       3966     880  \n",
              "131-91-9       3846     825  \n",
              "17614-74-3   4000.7    1790  \n",
              "89856-44-0   4000.7    1790  \n",
              "\n",
              "[14346 rows x 5 columns]"
            ],
            "text/html": [
              "\n",
              "  <div id=\"df-b62cb901-2dac-4045-ac5d-7d4b65b99bd0\">\n",
              "    <div class=\"colab-df-container\">\n",
              "      <div>\n",
              "<style scoped>\n",
              "    .dataframe tbody tr th:only-of-type {\n",
              "        vertical-align: middle;\n",
              "    }\n",
              "\n",
              "    .dataframe tbody tr th {\n",
              "        vertical-align: top;\n",
              "    }\n",
              "\n",
              "    .dataframe thead th {\n",
              "        text-align: right;\n",
              "    }\n",
              "</style>\n",
              "<table border=\"1\" class=\"dataframe\">\n",
              "  <thead>\n",
              "    <tr style=\"text-align: right;\">\n",
              "      <th></th>\n",
              "      <th>x</th>\n",
              "      <th>y</th>\n",
              "      <th>minx</th>\n",
              "      <th>maxx</th>\n",
              "      <th>npoints</th>\n",
              "    </tr>\n",
              "  </thead>\n",
              "  <tbody>\n",
              "    <tr>\n",
              "      <th>21386-21-0</th>\n",
              "      <td>[382.0, 383.0, 384.0, 385.0, 386.0, 387.0, 388...</td>\n",
              "      <td>[0.2712, 0.27109998, 0.27100003, 0.2709, 0.270...</td>\n",
              "      <td>382</td>\n",
              "      <td>3798</td>\n",
              "      <td>3417</td>\n",
              "    </tr>\n",
              "    <tr>\n",
              "      <th>5862-40-8</th>\n",
              "      <td>[383.0, 384.0, 385.0, 386.0, 387.0, 388.0, 389...</td>\n",
              "      <td>[0.8265, 0.8204, 0.8153, 0.81159997, 0.8086999...</td>\n",
              "      <td>383</td>\n",
              "      <td>3800</td>\n",
              "      <td>3418</td>\n",
              "    </tr>\n",
              "    <tr>\n",
              "      <th>87384-00-7</th>\n",
              "      <td>[549.863, 551.7923, 553.7216, 555.6509, 557.58...</td>\n",
              "      <td>[0.00551, 0.00559, 0.00559, 0.00546, 0.00538, ...</td>\n",
              "      <td>549.863</td>\n",
              "      <td>3999.53</td>\n",
              "      <td>1789</td>\n",
              "    </tr>\n",
              "    <tr>\n",
              "      <th>627-97-4</th>\n",
              "      <td>[550.0, 554.0, 558.0, 562.0, 566.0, 570.0, 574...</td>\n",
              "      <td>[0.0002775, 0.0001825, 0.0001275, 0.0001825, 0...</td>\n",
              "      <td>550</td>\n",
              "      <td>3846</td>\n",
              "      <td>825</td>\n",
              "    </tr>\n",
              "    <tr>\n",
              "      <th>18967-35-6</th>\n",
              "      <td>[549.759, 551.688, 553.617, 555.546, 557.475, ...</td>\n",
              "      <td>[0.01477, 0.01471, 0.01458, 0.01446, 0.01476, ...</td>\n",
              "      <td>549.759</td>\n",
              "      <td>4000.7</td>\n",
              "      <td>1790</td>\n",
              "    </tr>\n",
              "    <tr>\n",
              "      <th>...</th>\n",
              "      <td>...</td>\n",
              "      <td>...</td>\n",
              "      <td>...</td>\n",
              "      <td>...</td>\n",
              "      <td>...</td>\n",
              "    </tr>\n",
              "    <tr>\n",
              "      <th>29504-89-0</th>\n",
              "      <td>[549.759, 551.688, 553.617, 555.546, 557.475, ...</td>\n",
              "      <td>[0.003238, 0.003138, 0.002878, 0.002968, 0.003...</td>\n",
              "      <td>549.759</td>\n",
              "      <td>4000.7</td>\n",
              "      <td>1790</td>\n",
              "    </tr>\n",
              "    <tr>\n",
              "      <th>335-99-9</th>\n",
              "      <td>[450.0, 454.0, 458.0, 462.0, 466.0, 470.0, 474...</td>\n",
              "      <td>[0.008407684, 0.008407684, 0.009223964, 0.0082...</td>\n",
              "      <td>450</td>\n",
              "      <td>3966</td>\n",
              "      <td>880</td>\n",
              "    </tr>\n",
              "    <tr>\n",
              "      <th>131-91-9</th>\n",
              "      <td>[550.0, 554.0, 558.0, 562.0, 566.0, 570.0, 574...</td>\n",
              "      <td>[0.00068, 0.0002346, 0.0, 9.52e-05, 5.78e-05, ...</td>\n",
              "      <td>550</td>\n",
              "      <td>3846</td>\n",
              "      <td>825</td>\n",
              "    </tr>\n",
              "    <tr>\n",
              "      <th>17614-74-3</th>\n",
              "      <td>[549.759, 551.688, 553.617, 555.546, 557.475, ...</td>\n",
              "      <td>[0.002531, 0.002321, 0.002131, 0.001911, 0.001...</td>\n",
              "      <td>549.759</td>\n",
              "      <td>4000.7</td>\n",
              "      <td>1790</td>\n",
              "    </tr>\n",
              "    <tr>\n",
              "      <th>89856-44-0</th>\n",
              "      <td>[549.759, 551.688, 553.617, 555.546, 557.475, ...</td>\n",
              "      <td>[0.006817, 0.006637, 0.005727, 0.004547, 0.004...</td>\n",
              "      <td>549.759</td>\n",
              "      <td>4000.7</td>\n",
              "      <td>1790</td>\n",
              "    </tr>\n",
              "  </tbody>\n",
              "</table>\n",
              "<p>14346 rows × 5 columns</p>\n",
              "</div>\n",
              "      <button class=\"colab-df-convert\" onclick=\"convertToInteractive('df-b62cb901-2dac-4045-ac5d-7d4b65b99bd0')\"\n",
              "              title=\"Convert this dataframe to an interactive table.\"\n",
              "              style=\"display:none;\">\n",
              "        \n",
              "  <svg xmlns=\"http://www.w3.org/2000/svg\" height=\"24px\"viewBox=\"0 0 24 24\"\n",
              "       width=\"24px\">\n",
              "    <path d=\"M0 0h24v24H0V0z\" fill=\"none\"/>\n",
              "    <path d=\"M18.56 5.44l.94 2.06.94-2.06 2.06-.94-2.06-.94-.94-2.06-.94 2.06-2.06.94zm-11 1L8.5 8.5l.94-2.06 2.06-.94-2.06-.94L8.5 2.5l-.94 2.06-2.06.94zm10 10l.94 2.06.94-2.06 2.06-.94-2.06-.94-.94-2.06-.94 2.06-2.06.94z\"/><path d=\"M17.41 7.96l-1.37-1.37c-.4-.4-.92-.59-1.43-.59-.52 0-1.04.2-1.43.59L10.3 9.45l-7.72 7.72c-.78.78-.78 2.05 0 2.83L4 21.41c.39.39.9.59 1.41.59.51 0 1.02-.2 1.41-.59l7.78-7.78 2.81-2.81c.8-.78.8-2.07 0-2.86zM5.41 20L4 18.59l7.72-7.72 1.47 1.35L5.41 20z\"/>\n",
              "  </svg>\n",
              "      </button>\n",
              "      \n",
              "  <style>\n",
              "    .colab-df-container {\n",
              "      display:flex;\n",
              "      flex-wrap:wrap;\n",
              "      gap: 12px;\n",
              "    }\n",
              "\n",
              "    .colab-df-convert {\n",
              "      background-color: #E8F0FE;\n",
              "      border: none;\n",
              "      border-radius: 50%;\n",
              "      cursor: pointer;\n",
              "      display: none;\n",
              "      fill: #1967D2;\n",
              "      height: 32px;\n",
              "      padding: 0 0 0 0;\n",
              "      width: 32px;\n",
              "    }\n",
              "\n",
              "    .colab-df-convert:hover {\n",
              "      background-color: #E2EBFA;\n",
              "      box-shadow: 0px 1px 2px rgba(60, 64, 67, 0.3), 0px 1px 3px 1px rgba(60, 64, 67, 0.15);\n",
              "      fill: #174EA6;\n",
              "    }\n",
              "\n",
              "    [theme=dark] .colab-df-convert {\n",
              "      background-color: #3B4455;\n",
              "      fill: #D2E3FC;\n",
              "    }\n",
              "\n",
              "    [theme=dark] .colab-df-convert:hover {\n",
              "      background-color: #434B5C;\n",
              "      box-shadow: 0px 1px 3px 1px rgba(0, 0, 0, 0.15);\n",
              "      filter: drop-shadow(0px 1px 2px rgba(0, 0, 0, 0.3));\n",
              "      fill: #FFFFFF;\n",
              "    }\n",
              "  </style>\n",
              "\n",
              "      <script>\n",
              "        const buttonEl =\n",
              "          document.querySelector('#df-b62cb901-2dac-4045-ac5d-7d4b65b99bd0 button.colab-df-convert');\n",
              "        buttonEl.style.display =\n",
              "          google.colab.kernel.accessAllowed ? 'block' : 'none';\n",
              "\n",
              "        async function convertToInteractive(key) {\n",
              "          const element = document.querySelector('#df-b62cb901-2dac-4045-ac5d-7d4b65b99bd0');\n",
              "          const dataTable =\n",
              "            await google.colab.kernel.invokeFunction('convertToInteractive',\n",
              "                                                     [key], {});\n",
              "          if (!dataTable) return;\n",
              "\n",
              "          const docLinkHtml = 'Like what you see? Visit the ' +\n",
              "            '<a target=\"_blank\" href=https://colab.research.google.com/notebooks/data_table.ipynb>data table notebook</a>'\n",
              "            + ' to learn more about interactive tables.';\n",
              "          element.innerHTML = '';\n",
              "          dataTable['output_type'] = 'display_data';\n",
              "          await google.colab.output.renderOutput(dataTable, element);\n",
              "          const docLink = document.createElement('div');\n",
              "          docLink.innerHTML = docLinkHtml;\n",
              "          element.appendChild(docLink);\n",
              "        }\n",
              "      </script>\n",
              "    </div>\n",
              "  </div>\n",
              "  "
            ]
          },
          "metadata": {},
          "execution_count": 7
        }
      ],
      "source": [
        "dataset_df = pd.DataFrame(dataset_dic)\n",
        "dataset_df = dataset_df.transpose()\n",
        "dataset_df[['x', 'y', 'minx', 'maxx', 'npoints']]"
      ]
    },
    {
      "cell_type": "code",
      "execution_count": 8,
      "metadata": {
        "id": "__KIX_fw1OgT"
      },
      "outputs": [],
      "source": [
        "#Добавление к краям с исходным шагом крайнего значения y.\n",
        "def padding_ir_below(x, y, low_border):\n",
        "  '''\n",
        "    x, y - array-like data\n",
        "    low_border - border until which padding will continue \n",
        "\n",
        "    return padded x and y as lists\n",
        "  '''\n",
        "  x, y = list(x), list(y)\n",
        "  deltax = x[1]-x[0]\n",
        "  next_x = x[0]-deltax\n",
        "  while next_x > low_border:\n",
        "    x.insert(0, next_x)\n",
        "    y.insert(0, y[0])\n",
        "    next_x = x[0]-deltax\n",
        "  #Последняя итерация чтобы выйти за границу интерполирования\n",
        "  x.insert(0, next_x)\n",
        "  y.insert(0, y[0])\n",
        "  next_x = x[0]-deltax\n",
        "  return x, y\n",
        "\n",
        "def padding_ir_above(x, y, high_border):\n",
        "  '''\n",
        "    x, y - array-like data\n",
        "    high_border - border until which padding will continue \n",
        "\n",
        "\n",
        "    return padded x and y as lists\n",
        "  '''\n",
        "  x, y = list(x), list(y)\n",
        "  deltax = x[1]-x[0]\n",
        "  next_x = x[-1]+deltax\n",
        "  while next_x < high_border:\n",
        "    x.append(next_x)\n",
        "    y.append(y[-1])\n",
        "    next_x = x[-1]+deltax\n",
        "  #Последняя итерация чтобы выйти за границу интерполирования\n",
        "  x.append(next_x)\n",
        "  y.append(y[-1])\n",
        "  next_x = x[-1]+deltax\n",
        "  return x, y\n",
        "\n",
        "from scipy import interpolate\n",
        "\n",
        "def interpolate_in_borders_with_delta(x, y, borders = [500, 4100], deltax = 2):\n",
        "  '''\n",
        "  x, y - array like data\n",
        "  borders - list of [low_border, high border]\n",
        "  deltax - increment of new data\n",
        "\n",
        "  returns new x, y data as lists with increment = deltax\n",
        "  '''\n",
        "  x, y = list(x), list(y)\n",
        "  f = interpolate.interp1d(x, y)\n",
        "  #print(f(x[0]))\n",
        "  x_new = []\n",
        "  for i in range(borders[0], borders[1], deltax):\n",
        "    x_new.append(i)\n",
        "  x_new = np.array(x_new)\n",
        "  y_new = f(x_new)\n",
        "  \n",
        "  return x_new, y_new\n",
        "\n"
      ]
    },
    {
      "cell_type": "code",
      "execution_count": 9,
      "metadata": {
        "colab": {
          "base_uri": "https://localhost:8080/"
        },
        "id": "Spq9wkmB1WzZ",
        "outputId": "214c855a-662d-400f-981a-cdd280244e66"
      },
      "outputs": [
        {
          "output_type": "stream",
          "name": "stderr",
          "text": [
            "100%|██████████| 14346/14346 [01:10<00:00, 203.29it/s]"
          ]
        },
        {
          "output_type": "stream",
          "name": "stdout",
          "text": [
            "Found 38 errors\n"
          ]
        },
        {
          "output_type": "stream",
          "name": "stderr",
          "text": [
            "\n"
          ]
        }
      ],
      "source": [
        "x_list, y_list = [], []\n",
        "errors = 0\n",
        "for i in tqdm(range(len(dataset_df[['x']]))):\n",
        "  try:\n",
        "      x, y = dataset_df[['x']].iloc[i].tolist(), dataset_df[['y']].iloc[i].tolist()\n",
        "      x1, y1 = padding_ir_below(x[0], y[0], 500.0)\n",
        "\n",
        "      x2, y2 = padding_ir_above(x1, y1, 4100.0)\n",
        "  \n",
        "      x3, y3 = interpolate_in_borders_with_delta(x2, y2)\n",
        "      x_list.append(x3)\n",
        "      y_list.append(y3)\n",
        "  except ValueError:\n",
        "      #print(f'0: {len(x)}, {len(y)}, 1: {len(x1)}, {len(y1)}, 2: {len(x2)}, {len(y2)}')\n",
        "      errors +=1\n",
        "      x_list.append(np.nan)\n",
        "      y_list.append(np.nan) \n",
        "print(f'Found {errors} errors')"
      ]
    },
    {
      "cell_type": "code",
      "execution_count": 10,
      "metadata": {
        "id": "50Oix6Ce1c1H"
      },
      "outputs": [],
      "source": [
        "x_serie = pd.Series(x_list)\n",
        "y_serie = pd.Series(y_list)"
      ]
    },
    {
      "cell_type": "code",
      "execution_count": 11,
      "metadata": {
        "id": "qrhyf0BU1eoj"
      },
      "outputs": [],
      "source": [
        "df = pd.DataFrame(x_serie, columns = ['x1'])\n",
        "df['y1'] = y_serie"
      ]
    },
    {
      "cell_type": "code",
      "execution_count": 12,
      "metadata": {
        "colab": {
          "base_uri": "https://localhost:8080/",
          "height": 424
        },
        "id": "77MqE8YK1hER",
        "outputId": "1075e7b7-f8fa-49f4-f658-c52a4e5b4d3f"
      },
      "outputs": [
        {
          "output_type": "execute_result",
          "data": {
            "text/plain": [
              "                                                       x  \\\n",
              "0      [382.0, 383.0, 384.0, 385.0, 386.0, 387.0, 388...   \n",
              "1      [383.0, 384.0, 385.0, 386.0, 387.0, 388.0, 389...   \n",
              "2      [549.863, 551.7923, 553.7216, 555.6509, 557.58...   \n",
              "3      [550.0, 554.0, 558.0, 562.0, 566.0, 570.0, 574...   \n",
              "4      [549.759, 551.688, 553.617, 555.546, 557.475, ...   \n",
              "...                                                  ...   \n",
              "14341  [549.759, 551.688, 553.617, 555.546, 557.475, ...   \n",
              "14342  [450.0, 454.0, 458.0, 462.0, 466.0, 470.0, 474...   \n",
              "14343  [550.0, 554.0, 558.0, 562.0, 566.0, 570.0, 574...   \n",
              "14344  [549.759, 551.688, 553.617, 555.546, 557.475, ...   \n",
              "14345  [549.759, 551.688, 553.617, 555.546, 557.475, ...   \n",
              "\n",
              "                                                      x1  \\\n",
              "0      [500, 502, 504, 506, 508, 510, 512, 514, 516, ...   \n",
              "1      [500, 502, 504, 506, 508, 510, 512, 514, 516, ...   \n",
              "2      [500, 502, 504, 506, 508, 510, 512, 514, 516, ...   \n",
              "3      [500, 502, 504, 506, 508, 510, 512, 514, 516, ...   \n",
              "4      [500, 502, 504, 506, 508, 510, 512, 514, 516, ...   \n",
              "...                                                  ...   \n",
              "14341  [500, 502, 504, 506, 508, 510, 512, 514, 516, ...   \n",
              "14342  [500, 502, 504, 506, 508, 510, 512, 514, 516, ...   \n",
              "14343  [500, 502, 504, 506, 508, 510, 512, 514, 516, ...   \n",
              "14344  [500, 502, 504, 506, 508, 510, 512, 514, 516, ...   \n",
              "14345  [500, 502, 504, 506, 508, 510, 512, 514, 516, ...   \n",
              "\n",
              "                                                       y  \\\n",
              "0      [0.2712, 0.27109998, 0.27100003, 0.2709, 0.270...   \n",
              "1      [0.8265, 0.8204, 0.8153, 0.81159997, 0.8086999...   \n",
              "2      [0.00551, 0.00559, 0.00559, 0.00546, 0.00538, ...   \n",
              "3      [0.0002775, 0.0001825, 0.0001275, 0.0001825, 0...   \n",
              "4      [0.01477, 0.01471, 0.01458, 0.01446, 0.01476, ...   \n",
              "...                                                  ...   \n",
              "14341  [0.003238, 0.003138, 0.002878, 0.002968, 0.003...   \n",
              "14342  [0.008407684, 0.008407684, 0.009223964, 0.0082...   \n",
              "14343  [0.00068, 0.0002346, 0.0, 9.52e-05, 5.78e-05, ...   \n",
              "14344  [0.002531, 0.002321, 0.002131, 0.001911, 0.001...   \n",
              "14345  [0.006817, 0.006637, 0.005727, 0.004547, 0.004...   \n",
              "\n",
              "                                                      y1  \n",
              "0      [0.19010001420974731, 0.18900001049041748, 0.1...  \n",
              "1      [0.11009997129440308, 0.10860002040863037, 0.1...  \n",
              "2      [0.005510000046342611, 0.005510000046342611, 0...  \n",
              "3      [0.00027749998844228685, 0.0002774999884422868...  \n",
              "4      [0.014770000241696835, 0.014770000241696835, 0...  \n",
              "...                                                  ...  \n",
              "14341  [0.003237999975681305, 0.003237999975681305, 0...  \n",
              "14342  [0.01514199422672391, 0.017468392848968506, 0....  \n",
              "14343  [0.0006799999973736703, 0.0006799999973736703,...  \n",
              "14344  [0.0025309999473392963, 0.0025309999473392963,...  \n",
              "14345  [0.006816999986767769, 0.006816999986767769, 0...  \n",
              "\n",
              "[14346 rows x 4 columns]"
            ],
            "text/html": [
              "\n",
              "  <div id=\"df-d0ece6b9-82da-4d27-b932-af3da6657643\">\n",
              "    <div class=\"colab-df-container\">\n",
              "      <div>\n",
              "<style scoped>\n",
              "    .dataframe tbody tr th:only-of-type {\n",
              "        vertical-align: middle;\n",
              "    }\n",
              "\n",
              "    .dataframe tbody tr th {\n",
              "        vertical-align: top;\n",
              "    }\n",
              "\n",
              "    .dataframe thead th {\n",
              "        text-align: right;\n",
              "    }\n",
              "</style>\n",
              "<table border=\"1\" class=\"dataframe\">\n",
              "  <thead>\n",
              "    <tr style=\"text-align: right;\">\n",
              "      <th></th>\n",
              "      <th>x</th>\n",
              "      <th>x1</th>\n",
              "      <th>y</th>\n",
              "      <th>y1</th>\n",
              "    </tr>\n",
              "  </thead>\n",
              "  <tbody>\n",
              "    <tr>\n",
              "      <th>0</th>\n",
              "      <td>[382.0, 383.0, 384.0, 385.0, 386.0, 387.0, 388...</td>\n",
              "      <td>[500, 502, 504, 506, 508, 510, 512, 514, 516, ...</td>\n",
              "      <td>[0.2712, 0.27109998, 0.27100003, 0.2709, 0.270...</td>\n",
              "      <td>[0.19010001420974731, 0.18900001049041748, 0.1...</td>\n",
              "    </tr>\n",
              "    <tr>\n",
              "      <th>1</th>\n",
              "      <td>[383.0, 384.0, 385.0, 386.0, 387.0, 388.0, 389...</td>\n",
              "      <td>[500, 502, 504, 506, 508, 510, 512, 514, 516, ...</td>\n",
              "      <td>[0.8265, 0.8204, 0.8153, 0.81159997, 0.8086999...</td>\n",
              "      <td>[0.11009997129440308, 0.10860002040863037, 0.1...</td>\n",
              "    </tr>\n",
              "    <tr>\n",
              "      <th>2</th>\n",
              "      <td>[549.863, 551.7923, 553.7216, 555.6509, 557.58...</td>\n",
              "      <td>[500, 502, 504, 506, 508, 510, 512, 514, 516, ...</td>\n",
              "      <td>[0.00551, 0.00559, 0.00559, 0.00546, 0.00538, ...</td>\n",
              "      <td>[0.005510000046342611, 0.005510000046342611, 0...</td>\n",
              "    </tr>\n",
              "    <tr>\n",
              "      <th>3</th>\n",
              "      <td>[550.0, 554.0, 558.0, 562.0, 566.0, 570.0, 574...</td>\n",
              "      <td>[500, 502, 504, 506, 508, 510, 512, 514, 516, ...</td>\n",
              "      <td>[0.0002775, 0.0001825, 0.0001275, 0.0001825, 0...</td>\n",
              "      <td>[0.00027749998844228685, 0.0002774999884422868...</td>\n",
              "    </tr>\n",
              "    <tr>\n",
              "      <th>4</th>\n",
              "      <td>[549.759, 551.688, 553.617, 555.546, 557.475, ...</td>\n",
              "      <td>[500, 502, 504, 506, 508, 510, 512, 514, 516, ...</td>\n",
              "      <td>[0.01477, 0.01471, 0.01458, 0.01446, 0.01476, ...</td>\n",
              "      <td>[0.014770000241696835, 0.014770000241696835, 0...</td>\n",
              "    </tr>\n",
              "    <tr>\n",
              "      <th>...</th>\n",
              "      <td>...</td>\n",
              "      <td>...</td>\n",
              "      <td>...</td>\n",
              "      <td>...</td>\n",
              "    </tr>\n",
              "    <tr>\n",
              "      <th>14341</th>\n",
              "      <td>[549.759, 551.688, 553.617, 555.546, 557.475, ...</td>\n",
              "      <td>[500, 502, 504, 506, 508, 510, 512, 514, 516, ...</td>\n",
              "      <td>[0.003238, 0.003138, 0.002878, 0.002968, 0.003...</td>\n",
              "      <td>[0.003237999975681305, 0.003237999975681305, 0...</td>\n",
              "    </tr>\n",
              "    <tr>\n",
              "      <th>14342</th>\n",
              "      <td>[450.0, 454.0, 458.0, 462.0, 466.0, 470.0, 474...</td>\n",
              "      <td>[500, 502, 504, 506, 508, 510, 512, 514, 516, ...</td>\n",
              "      <td>[0.008407684, 0.008407684, 0.009223964, 0.0082...</td>\n",
              "      <td>[0.01514199422672391, 0.017468392848968506, 0....</td>\n",
              "    </tr>\n",
              "    <tr>\n",
              "      <th>14343</th>\n",
              "      <td>[550.0, 554.0, 558.0, 562.0, 566.0, 570.0, 574...</td>\n",
              "      <td>[500, 502, 504, 506, 508, 510, 512, 514, 516, ...</td>\n",
              "      <td>[0.00068, 0.0002346, 0.0, 9.52e-05, 5.78e-05, ...</td>\n",
              "      <td>[0.0006799999973736703, 0.0006799999973736703,...</td>\n",
              "    </tr>\n",
              "    <tr>\n",
              "      <th>14344</th>\n",
              "      <td>[549.759, 551.688, 553.617, 555.546, 557.475, ...</td>\n",
              "      <td>[500, 502, 504, 506, 508, 510, 512, 514, 516, ...</td>\n",
              "      <td>[0.002531, 0.002321, 0.002131, 0.001911, 0.001...</td>\n",
              "      <td>[0.0025309999473392963, 0.0025309999473392963,...</td>\n",
              "    </tr>\n",
              "    <tr>\n",
              "      <th>14345</th>\n",
              "      <td>[549.759, 551.688, 553.617, 555.546, 557.475, ...</td>\n",
              "      <td>[500, 502, 504, 506, 508, 510, 512, 514, 516, ...</td>\n",
              "      <td>[0.006817, 0.006637, 0.005727, 0.004547, 0.004...</td>\n",
              "      <td>[0.006816999986767769, 0.006816999986767769, 0...</td>\n",
              "    </tr>\n",
              "  </tbody>\n",
              "</table>\n",
              "<p>14346 rows × 4 columns</p>\n",
              "</div>\n",
              "      <button class=\"colab-df-convert\" onclick=\"convertToInteractive('df-d0ece6b9-82da-4d27-b932-af3da6657643')\"\n",
              "              title=\"Convert this dataframe to an interactive table.\"\n",
              "              style=\"display:none;\">\n",
              "        \n",
              "  <svg xmlns=\"http://www.w3.org/2000/svg\" height=\"24px\"viewBox=\"0 0 24 24\"\n",
              "       width=\"24px\">\n",
              "    <path d=\"M0 0h24v24H0V0z\" fill=\"none\"/>\n",
              "    <path d=\"M18.56 5.44l.94 2.06.94-2.06 2.06-.94-2.06-.94-.94-2.06-.94 2.06-2.06.94zm-11 1L8.5 8.5l.94-2.06 2.06-.94-2.06-.94L8.5 2.5l-.94 2.06-2.06.94zm10 10l.94 2.06.94-2.06 2.06-.94-2.06-.94-.94-2.06-.94 2.06-2.06.94z\"/><path d=\"M17.41 7.96l-1.37-1.37c-.4-.4-.92-.59-1.43-.59-.52 0-1.04.2-1.43.59L10.3 9.45l-7.72 7.72c-.78.78-.78 2.05 0 2.83L4 21.41c.39.39.9.59 1.41.59.51 0 1.02-.2 1.41-.59l7.78-7.78 2.81-2.81c.8-.78.8-2.07 0-2.86zM5.41 20L4 18.59l7.72-7.72 1.47 1.35L5.41 20z\"/>\n",
              "  </svg>\n",
              "      </button>\n",
              "      \n",
              "  <style>\n",
              "    .colab-df-container {\n",
              "      display:flex;\n",
              "      flex-wrap:wrap;\n",
              "      gap: 12px;\n",
              "    }\n",
              "\n",
              "    .colab-df-convert {\n",
              "      background-color: #E8F0FE;\n",
              "      border: none;\n",
              "      border-radius: 50%;\n",
              "      cursor: pointer;\n",
              "      display: none;\n",
              "      fill: #1967D2;\n",
              "      height: 32px;\n",
              "      padding: 0 0 0 0;\n",
              "      width: 32px;\n",
              "    }\n",
              "\n",
              "    .colab-df-convert:hover {\n",
              "      background-color: #E2EBFA;\n",
              "      box-shadow: 0px 1px 2px rgba(60, 64, 67, 0.3), 0px 1px 3px 1px rgba(60, 64, 67, 0.15);\n",
              "      fill: #174EA6;\n",
              "    }\n",
              "\n",
              "    [theme=dark] .colab-df-convert {\n",
              "      background-color: #3B4455;\n",
              "      fill: #D2E3FC;\n",
              "    }\n",
              "\n",
              "    [theme=dark] .colab-df-convert:hover {\n",
              "      background-color: #434B5C;\n",
              "      box-shadow: 0px 1px 3px 1px rgba(0, 0, 0, 0.15);\n",
              "      filter: drop-shadow(0px 1px 2px rgba(0, 0, 0, 0.3));\n",
              "      fill: #FFFFFF;\n",
              "    }\n",
              "  </style>\n",
              "\n",
              "      <script>\n",
              "        const buttonEl =\n",
              "          document.querySelector('#df-d0ece6b9-82da-4d27-b932-af3da6657643 button.colab-df-convert');\n",
              "        buttonEl.style.display =\n",
              "          google.colab.kernel.accessAllowed ? 'block' : 'none';\n",
              "\n",
              "        async function convertToInteractive(key) {\n",
              "          const element = document.querySelector('#df-d0ece6b9-82da-4d27-b932-af3da6657643');\n",
              "          const dataTable =\n",
              "            await google.colab.kernel.invokeFunction('convertToInteractive',\n",
              "                                                     [key], {});\n",
              "          if (!dataTable) return;\n",
              "\n",
              "          const docLinkHtml = 'Like what you see? Visit the ' +\n",
              "            '<a target=\"_blank\" href=https://colab.research.google.com/notebooks/data_table.ipynb>data table notebook</a>'\n",
              "            + ' to learn more about interactive tables.';\n",
              "          element.innerHTML = '';\n",
              "          dataTable['output_type'] = 'display_data';\n",
              "          await google.colab.output.renderOutput(dataTable, element);\n",
              "          const docLink = document.createElement('div');\n",
              "          docLink.innerHTML = docLinkHtml;\n",
              "          element.appendChild(docLink);\n",
              "        }\n",
              "      </script>\n",
              "    </div>\n",
              "  </div>\n",
              "  "
            ]
          },
          "metadata": {},
          "execution_count": 12
        }
      ],
      "source": [
        "dataset_df = dataset_df.reset_index()\n",
        "dataset_df1 = dataset_df.join(df, lsuffix='x')\n",
        "dataset_df1[['x', 'x1', 'y', 'y1']]"
      ]
    },
    {
      "cell_type": "code",
      "execution_count": 13,
      "metadata": {
        "id": "qXo139R-21xZ"
      },
      "outputs": [],
      "source": [
        "dataset_df1 = dataset_df1.set_index('cas registry no')"
      ]
    },
    {
      "cell_type": "code",
      "execution_count": 14,
      "metadata": {
        "id": "Fev54C_424Jm"
      },
      "outputs": [],
      "source": [
        "dataset_df_labeled = labels_df.join(dataset_df1)"
      ]
    },
    {
      "cell_type": "code",
      "execution_count": 15,
      "metadata": {
        "id": "W6S3Ih9Z4DIJ"
      },
      "outputs": [],
      "source": [
        "dataset_df_labeled1 = dataset_df_labeled[['Name', 'Formula', 'Mw', 'Elements', 'InChi', 'SMILES', 'alkane',\n",
        "       'methyl', 'alkene', 'alkyne', 'alcohols', 'amines', 'nitriles',\n",
        "       'aromatics', 'alkyl halides', 'esters', 'ketones', 'aldehydes',\n",
        "       'carboxylic acids', 'ether', 'acyl halides', 'amides', 'nitro',\n",
        "       'title',\n",
        "       'molform',\n",
        "       'x', 'y', 'x1', 'y1']]\n",
        "#dataset_df_labeled1"
      ]
    },
    {
      "cell_type": "code",
      "execution_count": 16,
      "metadata": {
        "id": "6ejlubFP4wGZ"
      },
      "outputs": [],
      "source": [
        "spectra_x =dataset_df_labeled.iloc[:,-1]\n",
        "spectra_x_t = torch.Tensor(spectra_x[0])\n",
        "#spectra_x_t"
      ]
    },
    {
      "cell_type": "markdown",
      "metadata": {
        "id": "SyiOgAYsgec2"
      },
      "source": [
        "# Создание класса Dataset"
      ]
    },
    {
      "cell_type": "markdown",
      "metadata": {
        "id": "MT0NeWHQEvPf"
      },
      "source": [
        "Вивлеты - преобразование для детектирования пиков."
      ]
    },
    {
      "cell_type": "code",
      "execution_count": 17,
      "metadata": {
        "id": "3lwU0NRggprw"
      },
      "outputs": [],
      "source": [
        "import os\n",
        "import pandas as pd\n",
        "import torch\n",
        "from torch.utils.data import Dataset\n",
        "from torchvision import datasets\n",
        "\n",
        "class IRSpectraDataset(Dataset):\n",
        "    def __init__(self, dataset_df_labeled):\n",
        "        self.dataset_df = dataset_df_labeled\n",
        "        self.spectra_labels = self.dataset_df.iloc[:,6:23]\n",
        "        self.spectra_x = self.dataset_df.iloc[:,-2]\n",
        "        self.spectra_y = self.dataset_df.iloc[:,-1]\n",
        "        \n",
        "    def __len__(self):\n",
        "        return len(self.dataset_df)\n",
        "\n",
        "    def __getitem__(self, idx):\n",
        "        \n",
        "        spectra_x = torch.Tensor(self.spectra_x.iloc[idx]).reshape((1, 1800))\n",
        "        spectra_y = torch.Tensor(self.spectra_y.iloc[idx]).reshape((1, 1800))      \n",
        "        spectra = torch.cat((spectra_x, spectra_y))\n",
        "        \n",
        "        label = torch.Tensor(self.spectra_labels.iloc[idx])\n",
        "        #transform\n",
        "        return spectra, label"
      ]
    },
    {
      "cell_type": "code",
      "execution_count": 18,
      "metadata": {
        "id": "HldHW8jOfqyw"
      },
      "outputs": [],
      "source": [
        "dataset_ir_spectra = IRSpectraDataset(dataset_df_labeled1)"
      ]
    },
    {
      "cell_type": "code",
      "execution_count": 19,
      "metadata": {
        "id": "vRJkjNJbEFKS"
      },
      "outputs": [],
      "source": [
        "#Создание объекта класса и разбиение на трейн,тест и вал\n",
        "from torch.utils.data import random_split\n",
        "dataset_ir_spectra = IRSpectraDataset(dataset_df_labeled1.dropna())\n",
        "train_size = int(0.7 * len(dataset_ir_spectra))\n",
        "val_size = int(0.1 * len(dataset_ir_spectra))\n",
        "test_size = len(dataset_ir_spectra) - train_size - val_size\n",
        "train_dataset, test_dataset = random_split(dataset_ir_spectra, [train_size, int(test_size+val_size)])\n",
        "test_dataset, val_dataset = random_split(test_dataset, [test_size, val_size])"
      ]
    },
    {
      "cell_type": "code",
      "execution_count": 20,
      "metadata": {
        "colab": {
          "base_uri": "https://localhost:8080/"
        },
        "id": "3XHeDaS1Feuu",
        "outputId": "303e4a68-89ad-4e7e-b34e-0e4cee1205c5"
      },
      "outputs": [
        {
          "output_type": "execute_result",
          "data": {
            "text/plain": [
              "17"
            ]
          },
          "metadata": {},
          "execution_count": 20
        }
      ],
      "source": [
        "#Создание загрузчиков\n",
        "# Number of classes\n",
        "classes = list(dataset_ir_spectra.spectra_labels.columns)\n",
        "num_classes = len(classes)\n",
        "num_classes"
      ]
    },
    {
      "cell_type": "code",
      "execution_count": 21,
      "metadata": {
        "colab": {
          "base_uri": "https://localhost:8080/"
        },
        "id": "26MqW_iQIcSE",
        "outputId": "dfe1da6b-1666-4a9c-b5bb-fe54e5648983"
      },
      "outputs": [
        {
          "output_type": "stream",
          "name": "stdout",
          "text": [
            "{'alkane': 0, 'methyl': 1, 'alkene': 2, 'alkyne': 3, 'alcohols': 4, 'amines': 5, 'nitriles': 6, 'aromatics': 7, 'alkyl halides': 8, 'esters': 9, 'ketones': 10, 'aldehydes': 11, 'carboxylic acids': 12, 'ether': 13, 'acyl halides': 14, 'amides': 15, 'nitro': 16}\n",
            "{0: 'alkane', 1: 'methyl', 2: 'alkene', 3: 'alkyne', 4: 'alcohols', 5: 'amines', 6: 'nitriles', 7: 'aromatics', 8: 'alkyl halides', 9: 'esters', 10: 'ketones', 11: 'aldehydes', 12: 'carboxylic acids', 13: 'ether', 14: 'acyl halides', 15: 'amides', 16: 'nitro'}\n"
          ]
        }
      ],
      "source": [
        "cls2inx = {}\n",
        "inx2cls= {}\n",
        "for i, classs in enumerate(classes):\n",
        "  cls2inx[f'{classs}']= i\n",
        "  inx2cls[i] = classs\n",
        "print(cls2inx)\n",
        "print(inx2cls)"
      ]
    },
    {
      "cell_type": "code",
      "execution_count": 22,
      "metadata": {
        "colab": {
          "base_uri": "https://localhost:8080/"
        },
        "id": "x4L0U4WAGOIt",
        "outputId": "083cbe31-d049-433d-ff5f-7b05d01968f6"
      },
      "outputs": [
        {
          "output_type": "stream",
          "name": "stdout",
          "text": [
            "{'alkane': 0.6827464492814522, 'methyl': 0.6216488780569795, 'alkene': 0.13555760988318347, 'alkyne': 0.019497436759391546, 'alcohols': 0.21867383813765862, 'amines': 0.13085133204470964, 'nitriles': 0.03815446676191277, 'aromatics': 0.5847550214303723, 'alkyl halides': 0.2593495251701824, 'esters': 0.11648037650222708, 'ketones': 0.09420959744516345, 'aldehydes': 0.020589965543322968, 'carboxylic acids': 0.06025716446760232, 'ether': 0.25018909152029584, 'acyl halides': 0.00966467770400874, 'amides': 0.07101437095554249, 'nitro': 0.05723170014286915}\n"
          ]
        }
      ],
      "source": [
        "# Расчёт весов\n",
        "wts4cls = {}\n",
        "for classs in classes:\n",
        "  wts4cls[classs] = dataset_ir_spectra.spectra_labels[classs].mean()\n",
        "print(wts4cls)"
      ]
    },
    {
      "cell_type": "code",
      "execution_count": 23,
      "metadata": {
        "colab": {
          "base_uri": "https://localhost:8080/"
        },
        "id": "oaZiT8yATCEI",
        "outputId": "c7ab74ea-a5c7-46e2-bc33-01b2d0366036"
      },
      "outputs": [
        {
          "output_type": "stream",
          "name": "stdout",
          "text": [
            "tensor([0.6827, 0.6216, 0.1356, 0.0195, 0.2187, 0.1309, 0.0382, 0.5848, 0.2593,\n",
            "        0.1165, 0.0942, 0.0206, 0.0603, 0.2502, 0.0097, 0.0710, 0.0572],\n",
            "       dtype=torch.float64)\n"
          ]
        }
      ],
      "source": [
        "#Веса классов\n",
        "wts_list = []\n",
        "for name, values in wts4cls.items():\n",
        "  wts_list.append(values)\n",
        "weight_for_every_class = torch.tensor(wts_list)\n",
        "print(weight_for_every_class)"
      ]
    },
    {
      "cell_type": "code",
      "source": [
        "#Модифицирование весов для каждого класс:\n",
        "level = 0.3\n",
        "grain = 0.15\n",
        "lg = level/grain\n",
        "print(lg)\n",
        "#Классы меньше grain процентов - увеличиваются в level/20 раза \n",
        "#Классы меньше 10 процентов - увеличиваются в level/10 раз \n",
        "#Классы меньше 5 процентов - увеличиваются в level/5 раз\n",
        "#Классы меньше 1 процента - увеличиваются в level раз\n",
        "weight_for_every_class_modified = []\n",
        "for i in weight_for_every_class:\n",
        "  if i <= grain/8: weight_for_every_class_modified.append(i/(32/lg))\n",
        "  elif (i <= grain/4) and (i>grain/8): weight_for_every_class_modified.append(i/(16/lg))\n",
        "  elif (i <= grain/2) and (i>grain/4): weight_for_every_class_modified.append(i/(8/lg))\n",
        "  elif (i <= grain) and (i>grain/2): weight_for_every_class_modified.append(i/(4*lg))\n",
        "  else: weight_for_every_class_modified.append(i)\n",
        "weight_for_every_class_modified = torch.Tensor(weight_for_every_class_modified)\n",
        "print(weight_for_every_class)\n",
        "print(weight_for_every_class_modified)\n",
        "print(weight_for_every_class_modified.size())"
      ],
      "metadata": {
        "colab": {
          "base_uri": "https://localhost:8080/"
        },
        "id": "ESLbGuSlAOXF",
        "outputId": "5a5f848a-9596-473c-8ccd-931085a16ec0"
      },
      "execution_count": 24,
      "outputs": [
        {
          "output_type": "stream",
          "name": "stdout",
          "text": [
            "2.0\n",
            "tensor([0.6827, 0.6216, 0.1356, 0.0195, 0.2187, 0.1309, 0.0382, 0.5848, 0.2593,\n",
            "        0.1165, 0.0942, 0.0206, 0.0603, 0.2502, 0.0097, 0.0710, 0.0572],\n",
            "       dtype=torch.float64)\n",
            "tensor([6.8275e-01, 6.2165e-01, 1.6945e-02, 2.4372e-03, 2.1867e-01, 1.6356e-02,\n",
            "        9.5386e-03, 5.8476e-01, 2.5935e-01, 1.4560e-02, 1.1776e-02, 2.5737e-03,\n",
            "        1.5064e-02, 2.5019e-01, 6.0404e-04, 1.7754e-02, 1.4308e-02])\n",
            "torch.Size([17])\n"
          ]
        }
      ]
    },
    {
      "cell_type": "code",
      "execution_count": 25,
      "metadata": {
        "id": "Qmv-2YFsY59b"
      },
      "outputs": [],
      "source": [
        "#Расчёт веса образца на основе минимального веса любой функциональной группы \n",
        "labels1 = train_dataset.dataset.spectra_labels.to_numpy().copy()\n",
        "labels1[labels1 == 0.0] = 100\n",
        "#labels1"
      ]
    },
    {
      "cell_type": "code",
      "source": [
        "train_labels = torch.tensor(labels1)\n",
        "weighted_labels  = train_labels*weight_for_every_class\n",
        "weights_for_every_sample = []\n",
        "for label_tensor in weighted_labels:\n",
        "  weight = np.nanmin(label_tensor.numpy())\n",
        "  weights_for_every_sample.append(weight)\n",
        "\n",
        "weights_for_every_sample = torch.tensor(weights_for_every_sample)\n",
        "print(weights_for_every_sample)"
      ],
      "metadata": {
        "colab": {
          "base_uri": "https://localhost:8080/"
        },
        "id": "gKbf6SCA2Lnq",
        "outputId": "5efdeab2-0c48-4503-fc09-7e12702efb43"
      },
      "execution_count": 26,
      "outputs": [
        {
          "output_type": "stream",
          "name": "stdout",
          "text": [
            "tensor([0.0572, 0.0572, 0.0572,  ..., 0.2593, 0.0572, 0.1309],\n",
            "       dtype=torch.float64)\n"
          ]
        }
      ]
    },
    {
      "cell_type": "code",
      "source": [
        "weights_train = weights_for_every_sample[:len(train_dataset)]"
      ],
      "metadata": {
        "id": "MPxVQm0udn8j"
      },
      "execution_count": 27,
      "outputs": []
    },
    {
      "cell_type": "code",
      "source": [
        "weights_train"
      ],
      "metadata": {
        "colab": {
          "base_uri": "https://localhost:8080/"
        },
        "id": "OfhrrFX3hvcE",
        "outputId": "5d2534a9-6d70-4eb7-a950-d65d4cdddcf2"
      },
      "execution_count": 28,
      "outputs": [
        {
          "output_type": "execute_result",
          "data": {
            "text/plain": [
              "tensor([0.0572, 0.0572, 0.0572,  ..., 0.2593, 0.0603, 0.0603],\n",
              "       dtype=torch.float64)"
            ]
          },
          "metadata": {},
          "execution_count": 28
        }
      ]
    },
    {
      "cell_type": "code",
      "source": [
        "#Проверка на положительные вероятности\n",
        "for i in range(len(weights_train)):\n",
        "    if weights_train[i] < 0:\n",
        "        weights_train[i] = abs(weights_train[i])"
      ],
      "metadata": {
        "id": "m3j3HH4wdrHI"
      },
      "execution_count": 29,
      "outputs": []
    },
    {
      "cell_type": "code",
      "source": [
        "weights_train[weights_train<0]"
      ],
      "metadata": {
        "colab": {
          "base_uri": "https://localhost:8080/"
        },
        "id": "NvPPgp9piODZ",
        "outputId": "db09dca0-568a-4617-b3a7-aaa0aa43d044"
      },
      "execution_count": 30,
      "outputs": [
        {
          "output_type": "execute_result",
          "data": {
            "text/plain": [
              "tensor([], dtype=torch.float64)"
            ]
          },
          "metadata": {},
          "execution_count": 30
        }
      ]
    },
    {
      "cell_type": "code",
      "source": [
        "#Сумма весов должна быть равна единице. Вычисление суммы:\n",
        "sum_weights = 0\n",
        "for i in range(len(weights_train)):\n",
        " \n",
        "  #print(weights_train[i])\n",
        "  if weights_train[i] == torch.tensor(np.nan, dtype=torch.float64) : weights_train[i] = 1\n",
        "  #print(weights_train[i])\n",
        "  #print(sum_weights)\n",
        "  sum_weights +=weights_train[i].numpy()\n",
        "print(sum_weights)"
      ],
      "metadata": {
        "colab": {
          "base_uri": "https://localhost:8080/"
        },
        "id": "xCimJjGMjwfe",
        "outputId": "a0e5b54c-c7c7-4c4f-87a5-6ccbbb97d595"
      },
      "execution_count": 31,
      "outputs": [
        {
          "output_type": "stream",
          "name": "stdout",
          "text": [
            "1747.4449953777091\n"
          ]
        }
      ]
    },
    {
      "cell_type": "code",
      "source": [
        "#Сумма весов должна быть равна единице. Нормирование на сумму.\n",
        "for i in range(len(weights_train)):\n",
        "    weights_train[i] =  weights_train[i]/sum_weights"
      ],
      "metadata": {
        "id": "nQe4jqNOhQhY"
      },
      "execution_count": 32,
      "outputs": []
    },
    {
      "cell_type": "code",
      "source": [
        "weights_train"
      ],
      "metadata": {
        "colab": {
          "base_uri": "https://localhost:8080/"
        },
        "id": "4pmgftymht1s",
        "outputId": "b1dd3cfa-87fb-4b46-e5cb-4478f3df561f"
      },
      "execution_count": 33,
      "outputs": [
        {
          "output_type": "execute_result",
          "data": {
            "text/plain": [
              "tensor([3.2752e-05, 3.2752e-05, 3.2752e-05,  ..., 1.4842e-04, 3.4483e-05,\n",
              "        3.4483e-05], dtype=torch.float64)"
            ]
          },
          "metadata": {},
          "execution_count": 33
        }
      ]
    },
    {
      "cell_type": "code",
      "execution_count": 34,
      "metadata": {
        "id": "-9GLXXcASo0X"
      },
      "outputs": [],
      "source": [
        "#Даталоадер\n",
        "\n",
        "from torch.utils.data import DataLoader, WeightedRandomSampler\n",
        "\n",
        "# Batch size\n",
        "batch_size = 128\n",
        "\n",
        "dataloader_ir_test = DataLoader(test_dataset, batch_size=batch_size, shuffle=False)\n",
        "dataloader_ir_val = DataLoader(val_dataset, batch_size=val_size, shuffle=False)\n",
        "weightedsampler = WeightedRandomSampler(weights_train, len(weights_train)) \n",
        "\n",
        "dataloader_ir_train = DataLoader(\n",
        "    train_dataset, \n",
        "    batch_size=batch_size, \n",
        "    sampler= weightedsampler\n",
        ")"
      ]
    },
    {
      "cell_type": "markdown",
      "metadata": {
        "id": "8sRR21VTfDDz"
      },
      "source": [
        "# Код для обучения"
      ]
    },
    {
      "cell_type": "markdown",
      "metadata": {
        "id": "4ouahJRHrNoZ"
      },
      "source": [
        "Взят из https://github.com/Gan4x4/ml_snippets/blob/main/Training/Trainer.ipynb"
      ]
    },
    {
      "cell_type": "code",
      "execution_count": 35,
      "metadata": {
        "id": "7UZUtV-csMgv"
      },
      "outputs": [],
      "source": [
        "import random\n",
        "\n",
        "import torch\n",
        "import torch.nn as nn\n",
        "from torchvision import datasets, transforms\n",
        "\n",
        "\n",
        "def set_random_seed(seed):\n",
        "    torch.manual_seed(seed)\n",
        "    torch.cuda.manual_seed(seed)\n",
        "    np.random.seed(seed)\n",
        "    random.seed(seed)\n",
        "    torch.backends.cudnn.deterministic = True\n",
        "\n",
        "set_random_seed(42)"
      ]
    },
    {
      "cell_type": "code",
      "execution_count": 36,
      "metadata": {
        "id": "Wwq4belWrWXu"
      },
      "outputs": [],
      "source": [
        "import torch\n",
        "from tqdm import tqdm\n",
        "from sklearn.metrics import label_ranking_average_precision_score\n",
        "\n",
        "\n",
        "device = torch.device(\"cuda\" if torch.cuda.is_available() else \"cpu\")\n",
        "\n",
        "\n",
        "def get_correct_count(pred, labels, tolerance = 0.9):\n",
        "    pred.data[pred.data >=tolerance] = 1\n",
        "    pred.data[pred.data <tolerance] = -1\n",
        "    return (pred.data.cpu() == labels.cpu()).sum().item()\n",
        "\n",
        "def get_correct_count_lraps(pred, labels):\n",
        "    return label_ranking_average_precision_score(labels, pred.cpu().detach().numpy())\n",
        "    \n",
        "\n",
        "\n",
        "@torch.inference_mode()  # this annotation disable grad computation\n",
        "def validate(model, test_loader, device=\"cpu\", criterion = nn.BCELoss()):\n",
        "    correct, total = 0, 0\n",
        "    model.eval()\n",
        "    for ir_spec, labels in test_loader:\n",
        "      \n",
        "        pred = model(ir_spec.to(device))\n",
        "        loss = criterion(pred, labels.to(device))\n",
        "        #total_count = (labels.to('cpu') == 1.0).sum().item()\n",
        "        #total += total_count\n",
        "        #print(pred)\n",
        "        #print(labels)\n",
        "        #tolerance = (1.0-(1.0/(epoch+1)))-0.2\n",
        "        score= get_correct_count_lraps(pred, labels)\n",
        "        #print(correct)\n",
        "    #model.to('cpu')\n",
        "    return score, loss"
      ]
    },
    {
      "cell_type": "code",
      "execution_count": 37,
      "metadata": {
        "id": "mPd_R36yrN0j"
      },
      "outputs": [],
      "source": [
        "class Trainer:\n",
        "    def __init__(self, model, plotter=None, lr=0.001):\n",
        "        global device\n",
        "        print(\"Using device:\", device)\n",
        "        self.model = model\n",
        "        self.optimizer = torch.optim.AdamW(\n",
        "            self.model.parameters(), lr=lr\n",
        "        )  \n",
        "        self.sheduler = torch.optim.lr_scheduler.StepLR(self.optimizer, step_size = 100, gamma=0.1, last_epoch=- 1, verbose=True)\n",
        "        self.criterion = nn.BCEWithLogitsLoss(pos_weight = weight_for_every_class.to(device))  # Loss function\n",
        "        self.plotter = ProgressPlotter() if plotter is None else plotter\n",
        "        self.epochs = 2\n",
        "        self.loss_hist = []\n",
        "        self.loss_hist_tst = []\n",
        "\n",
        "    def __call__(self, train_loader, val_loader, epochs=10):\n",
        "        global device\n",
        "        print(\"Using device:\", device)\n",
        "        self.epochs = epochs\n",
        "        self.model.to(device)\n",
        "        \n",
        "        for epoch in tqdm(range(self.epochs)):\n",
        "            self.model.train()\n",
        "            self.loss_hist = []\n",
        "            self.loss_hist_tst = []\n",
        "            correct, total = 0, 0\n",
        "            for ir_spec, labels in train_loader:\n",
        "                \n",
        "                score = self.process_batch(ir_spec, labels)\n",
        "                #total_count = (labels.cpu() == 1.0).sum().item()\n",
        "                #total += total_count\n",
        "            self.sheduler.step()\n",
        "            self.plotter.add_scalar(\"Loss/train\", np.mean(self.loss_hist))\n",
        "            label_ranking_average_precision_score_val, val_loss = validate(self.model, val_loader, device=device, criterion=self.criterion)\n",
        "            self.loss_hist_tst.append(val_loss.cpu())\n",
        "            self.plotter.add_scalar(\"label_ranking_average_precision_score/val\", label_ranking_average_precision_score_val)\n",
        "            self.plotter.add_scalar(\"Loss/val\", np.mean(self.loss_hist_tst))\n",
        "            #self.plotter.add_scalar(\"label_ranking_average_precision_score/train\", correct / total)\n",
        "            self.plotter.display([\"Loss/train\", \"Loss/val\", \"label_ranking_average_precision_score/val\"])\n",
        "          \n",
        "\n",
        "    def process_batch(self, ir_spec, labels):\n",
        "        self.optimizer.zero_grad()\n",
        "        out = self.model(ir_spec.to(device))\n",
        "        loss = self.criterion(out, labels.to(device))\n",
        "        loss.backward()\n",
        "        self.loss_hist.append(loss.item())\n",
        "        self.optimizer.step()\n",
        "        \n",
        "        return get_correct_count_lraps(out.cpu(), labels)"
      ]
    },
    {
      "cell_type": "markdown",
      "metadata": {
        "id": "PllHvKsvD4_F"
      },
      "source": [
        "Показывать loss на тексте, чтобы было понятно переобучение."
      ]
    },
    {
      "cell_type": "markdown",
      "metadata": {
        "id": "qM7jnv_ZrZSc"
      },
      "source": [
        "Код для визуализации из прошлых заданий, можно заменить его собственым."
      ]
    },
    {
      "cell_type": "code",
      "execution_count": 38,
      "metadata": {
        "id": "SMip_YKVrVV_"
      },
      "outputs": [],
      "source": [
        "from IPython.display import clear_output\n",
        "from collections import defaultdict\n",
        "import matplotlib.pyplot as plt\n",
        "import numpy as np\n",
        "\n",
        "\n",
        "class ProgressPlotter:\n",
        "    def __init__(self, title=\"default\", groups=None) -> None:\n",
        "        self._history_dict = defaultdict(dict)\n",
        "        self.set_title(title)\n",
        "        self.groups = self.get_groups(groups)\n",
        "\n",
        "    def get_groups(self, groups):\n",
        "        if groups is not None:\n",
        "            return self._history_dict.keys()\n",
        "        if type(groups) is str:\n",
        "            groups = [groups]\n",
        "        return groups\n",
        "\n",
        "    def set_title(self, title):\n",
        "        for g in self._history_dict.keys():\n",
        "            self._history_dict[g][title] = []  # reset data\n",
        "        self.title = title\n",
        "\n",
        "    # group e.g. \"loss_val\" tag e.g. \"experiment_1\"\n",
        "    def add_scalar(self, group: str, value, tag=None) -> None:\n",
        "        tag = self.title if tag is None else tag\n",
        "\n",
        "        if not tag in self._history_dict[group]:\n",
        "            self._history_dict[group][tag] = []\n",
        "        self._history_dict[group][tag].append(value)\n",
        "\n",
        "    def add_row(self, group: str, value, tag=None) -> None:\n",
        "        tag = self.title if tag is None else tag\n",
        "        self._history_dict[group][tag] = value\n",
        "\n",
        "    def display_keys(self, ax, data):\n",
        "        history_len = 0\n",
        "        ax.grid()\n",
        "        for key in data:\n",
        "            ax.plot(data[key], label=key)\n",
        "            history_len = max(history_len, len(data[key]))\n",
        "        if len(data) > 1:\n",
        "            ax.legend(loc=\"upper right\")\n",
        "        if history_len < 50:\n",
        "            ax.set_xlabel(\"step\")\n",
        "            ax.set_xticks(np.arange(history_len))\n",
        "            ax.set_xticklabels(np.arange(history_len))\n",
        "\n",
        "    \"\"\"\n",
        "     groups list of keys like [['loss_train','loss_val'],['accuracy']]\n",
        "     All charts within a group will be plot in the same axis\n",
        "  \"\"\"\n",
        "\n",
        "    def display(self, groups=None):\n",
        "        clear_output()\n",
        "        if groups is None:\n",
        "            groups = self.groups\n",
        "        n_groups = len(groups)\n",
        "        fig, ax = plt.subplots(1, n_groups, figsize=(48 // n_groups, 3))\n",
        "        if n_groups == 1:\n",
        "            ax = [ax]\n",
        "        for i, g in enumerate(groups):\n",
        "            ax[i].set_ylabel(g)\n",
        "            self.display_keys(ax[i], self.history_dict[g])\n",
        "        fig.tight_layout()\n",
        "        plt.show()\n",
        "\n",
        "    @property\n",
        "    def history_dict(self):\n",
        "        return dict(self._history_dict)"
      ]
    },
    {
      "cell_type": "markdown",
      "metadata": {
        "id": "IeiuyWHjfKf-"
      },
      "source": [
        "# Модель"
      ]
    },
    {
      "cell_type": "markdown",
      "source": [
        "## Код модели v0.4.0 - добавленеи к 0.3.0 макспулов для уменьшения количества параметров."
      ],
      "metadata": {
        "id": "vMbqHfAMfvT1"
      }
    },
    {
      "cell_type": "code",
      "source": [
        "from torch.nn.modules.batchnorm import BatchNorm2d\n",
        "import torch.nn as nn\n",
        "import torch\n",
        "import torch.nn.functional as F\n",
        "\n",
        "\n",
        "class IrResnet2(nn.Module):\n",
        "    def __init__(self, hidden_size = 34, class_nums=17):\n",
        "        super(IrResnet2, self).__init__()\n",
        "        self.hidden_size=hidden_size\n",
        "        # Архитектура на подобие resnet\n",
        "        self.conv1 = nn.Conv1d(2, hidden_size, kernel_size=3, stride=1, padding = 1) #[2,1800]\n",
        "        self.bn1 = nn.BatchNorm1d(hidden_size)\n",
        "        self.relu = nn.ReLU()\n",
        "        \n",
        "        \n",
        "        self.layer1 = nn.Sequential( #3 последовательных базовых блока #[2,1800]\n",
        "            BasicBlock(hidden_size),\n",
        "            BasicBlock(hidden_size),\n",
        "            BasicBlock(hidden_size))\n",
        "        # self.layer2 = nn.Sequential(\n",
        "        #     BasicBlock(hidden_size, downsample = False), #[2,1800]\n",
        "        #     BasicBlock(hidden_size),\n",
        "        #     BasicBlock(hidden_size))\n",
        "        self.max1 = nn.MaxPool1d(3,2,0)\n",
        "        self.layer3 = nn.Sequential(\n",
        "            BasicBlock(hidden_size*2, downsample = True), #[2,900]\n",
        "            BasicBlock(hidden_size*2),\n",
        "            BasicBlock(hidden_size*2))\n",
        "        # self.layer4 = nn.Sequential(\n",
        "        #     BasicBlock(hidden_size*2, downsample = False), \n",
        "        #     BasicBlock(hidden_size*2),\n",
        "        #     BasicBlock(hidden_size*2))\n",
        "        self.max2 = nn.MaxPool1d(3,2,0)\n",
        "        self.layer5 = nn.Sequential(\n",
        "            BasicBlock(hidden_size*4, downsample = True), #[2,450]\n",
        "            BasicBlock(hidden_size*4),\n",
        "            BasicBlock(hidden_size*4))\n",
        "        # self.layer6 = nn.Sequential(\n",
        "        #     BasicBlock(hidden_size*4, downsample = False), \n",
        "        #     BasicBlock(hidden_size*4),\n",
        "        #     BasicBlock(hidden_size*4))\n",
        "        self.max3 = nn.MaxPool1d(3,2,0)\n",
        "        self.layer7 = nn.Sequential(\n",
        "            BasicBlock(hidden_size*8, downsample = True), #[2,225]\n",
        "            BasicBlock(hidden_size*8),\n",
        "            BasicBlock(hidden_size*8))\n",
        "        # self.layer8 = nn.Sequential(\n",
        "        #     BasicBlock(hidden_size*8, downsample = False), #[2,225]\n",
        "        #     BasicBlock(hidden_size*8),\n",
        "        #     BasicBlock(hidden_size*8))\n",
        "        self.adppool = nn.AdaptiveMaxPool1d(28)\n",
        "        self.flatten = nn.Flatten()\n",
        "        self.do1 = nn.Dropout1d(0.5)\n",
        "        self.fc = nn.Linear(hidden_size*8*28, 200)\n",
        "        self.do2 = nn.Dropout1d(0.2)\n",
        "        self.relu1 = nn.ReLU()\n",
        "        self.fc1 = nn.Linear(200, class_nums) \n",
        "        #self.sm = nn.Sigmoid()\n",
        "        \n",
        "\n",
        "\n",
        "    def forward(self, batch):\n",
        "      # PUT YOUR CODE HERE\n",
        "        batch = self.conv1(batch)\n",
        "        batch = self.bn1(batch)\n",
        "        batch = self.relu(batch)\n",
        "        batch = self.layer1(batch)\n",
        "        #batch = self.layer2(batch)\n",
        "        batch = self.max1(batch)\n",
        "        batch = self.layer3(batch)\n",
        "        #batch = self.layer4(batch)\n",
        "        batch = self.max2(batch)\n",
        "        batch = self.layer5(batch)\n",
        "        #batch = self.layer6(batch)\n",
        "        batch = self.max3(batch)\n",
        "        batch = self.layer7(batch)\n",
        "        #batch = self.layer8(batch)\n",
        "        batch = self.adppool(batch)\n",
        "        batch = self.flatten(batch)\n",
        "        batch = self.do1(batch)\n",
        "        batch = self.fc(batch)\n",
        "        batch = self.do2(batch)\n",
        "        batch = self.relu1(batch)\n",
        "        scores = self.fc1(batch)\n",
        "        \n",
        "        #scores=self.sm(batch)\n",
        "              \n",
        "        return scores\n",
        "\n",
        "\n",
        "class BasicBlock(nn.Module):\n",
        "    def __init__(self, in_channels, downsample = False):  # You can add params here\n",
        "        super(BasicBlock, self).__init__()\n",
        "        \n",
        "        self.downsample = downsample\n",
        "\n",
        "        if downsample: #Если есть увеличение, то первая свёртка должна быть с большим выходом\n",
        "          self.conv1 = nn.Conv1d(in_channels//2, in_channels, kernel_size=3, stride=2, padding=1)\n",
        "        else:\n",
        "          self.conv1 = nn.Conv1d(in_channels, in_channels, kernel_size=3, padding=1)\n",
        "\n",
        "        self.bn1 = nn.BatchNorm1d(in_channels)\n",
        "        self.relu = nn.ReLU()\n",
        "        self.conv2 = nn.Conv1d(in_channels, in_channels, kernel_size=3, padding=1)\n",
        "        self.bn2 = nn.BatchNorm1d(in_channels)\n",
        "        if downsample:\n",
        "            self.downsample = nn.Sequential(\n",
        "                nn.Conv1d(in_channels//2, in_channels, kernel_size=1, stride=2), #Уменьшаем размер картинки, увеличивая количество фильтров\n",
        "                nn.BatchNorm1d(in_channels))                \n",
        "\n",
        "       \n",
        "    def forward(self, x):\n",
        "        \n",
        "        identity = x\n",
        "        \n",
        "        out = self.conv1(x)\n",
        "        out = self.bn1(out)\n",
        "        out = self.relu(out)\n",
        "\n",
        "        out = self.conv2(out)\n",
        "        out = self.bn2(out)\n",
        "\n",
        "        if self.downsample:\n",
        "            identity = self.downsample(x)\n",
        "            \n",
        "        out += identity\n",
        "        out = self.relu(out)\n",
        "\n",
        "        return out\n",
        "        "
      ],
      "metadata": {
        "id": "eO0AVXLbfuyO"
      },
      "execution_count": 39,
      "outputs": []
    },
    {
      "cell_type": "markdown",
      "source": [
        "## Импорт модели"
      ],
      "metadata": {
        "id": "swQhofxVfpry"
      }
    },
    {
      "cell_type": "markdown",
      "source": [
        "Импортируем модель v0.4.1.30"
      ],
      "metadata": {
        "id": "1cCsl10bahw7"
      }
    },
    {
      "cell_type": "code",
      "source": [
        "model = IrResnet2(30)\n",
        "model.load_state_dict(torch.load('/content/IR_expert_system/models/v0.4.1.30/model_params'))\n",
        "model.eval()"
      ],
      "metadata": {
        "colab": {
          "base_uri": "https://localhost:8080/"
        },
        "id": "6HgGjriFam6j",
        "outputId": "fecadf57-db79-4332-dfca-5236e1d2ab56"
      },
      "execution_count": 40,
      "outputs": [
        {
          "output_type": "execute_result",
          "data": {
            "text/plain": [
              "IrResnet2(\n",
              "  (conv1): Conv1d(2, 30, kernel_size=(3,), stride=(1,), padding=(1,))\n",
              "  (bn1): BatchNorm1d(30, eps=1e-05, momentum=0.1, affine=True, track_running_stats=True)\n",
              "  (relu): ReLU()\n",
              "  (layer1): Sequential(\n",
              "    (0): BasicBlock(\n",
              "      (conv1): Conv1d(30, 30, kernel_size=(3,), stride=(1,), padding=(1,))\n",
              "      (bn1): BatchNorm1d(30, eps=1e-05, momentum=0.1, affine=True, track_running_stats=True)\n",
              "      (relu): ReLU()\n",
              "      (conv2): Conv1d(30, 30, kernel_size=(3,), stride=(1,), padding=(1,))\n",
              "      (bn2): BatchNorm1d(30, eps=1e-05, momentum=0.1, affine=True, track_running_stats=True)\n",
              "    )\n",
              "    (1): BasicBlock(\n",
              "      (conv1): Conv1d(30, 30, kernel_size=(3,), stride=(1,), padding=(1,))\n",
              "      (bn1): BatchNorm1d(30, eps=1e-05, momentum=0.1, affine=True, track_running_stats=True)\n",
              "      (relu): ReLU()\n",
              "      (conv2): Conv1d(30, 30, kernel_size=(3,), stride=(1,), padding=(1,))\n",
              "      (bn2): BatchNorm1d(30, eps=1e-05, momentum=0.1, affine=True, track_running_stats=True)\n",
              "    )\n",
              "    (2): BasicBlock(\n",
              "      (conv1): Conv1d(30, 30, kernel_size=(3,), stride=(1,), padding=(1,))\n",
              "      (bn1): BatchNorm1d(30, eps=1e-05, momentum=0.1, affine=True, track_running_stats=True)\n",
              "      (relu): ReLU()\n",
              "      (conv2): Conv1d(30, 30, kernel_size=(3,), stride=(1,), padding=(1,))\n",
              "      (bn2): BatchNorm1d(30, eps=1e-05, momentum=0.1, affine=True, track_running_stats=True)\n",
              "    )\n",
              "  )\n",
              "  (max1): MaxPool1d(kernel_size=3, stride=2, padding=0, dilation=1, ceil_mode=False)\n",
              "  (layer3): Sequential(\n",
              "    (0): BasicBlock(\n",
              "      (conv1): Conv1d(30, 60, kernel_size=(3,), stride=(2,), padding=(1,))\n",
              "      (bn1): BatchNorm1d(60, eps=1e-05, momentum=0.1, affine=True, track_running_stats=True)\n",
              "      (relu): ReLU()\n",
              "      (conv2): Conv1d(60, 60, kernel_size=(3,), stride=(1,), padding=(1,))\n",
              "      (bn2): BatchNorm1d(60, eps=1e-05, momentum=0.1, affine=True, track_running_stats=True)\n",
              "      (downsample): Sequential(\n",
              "        (0): Conv1d(30, 60, kernel_size=(1,), stride=(2,))\n",
              "        (1): BatchNorm1d(60, eps=1e-05, momentum=0.1, affine=True, track_running_stats=True)\n",
              "      )\n",
              "    )\n",
              "    (1): BasicBlock(\n",
              "      (conv1): Conv1d(60, 60, kernel_size=(3,), stride=(1,), padding=(1,))\n",
              "      (bn1): BatchNorm1d(60, eps=1e-05, momentum=0.1, affine=True, track_running_stats=True)\n",
              "      (relu): ReLU()\n",
              "      (conv2): Conv1d(60, 60, kernel_size=(3,), stride=(1,), padding=(1,))\n",
              "      (bn2): BatchNorm1d(60, eps=1e-05, momentum=0.1, affine=True, track_running_stats=True)\n",
              "    )\n",
              "    (2): BasicBlock(\n",
              "      (conv1): Conv1d(60, 60, kernel_size=(3,), stride=(1,), padding=(1,))\n",
              "      (bn1): BatchNorm1d(60, eps=1e-05, momentum=0.1, affine=True, track_running_stats=True)\n",
              "      (relu): ReLU()\n",
              "      (conv2): Conv1d(60, 60, kernel_size=(3,), stride=(1,), padding=(1,))\n",
              "      (bn2): BatchNorm1d(60, eps=1e-05, momentum=0.1, affine=True, track_running_stats=True)\n",
              "    )\n",
              "  )\n",
              "  (max2): MaxPool1d(kernel_size=3, stride=2, padding=0, dilation=1, ceil_mode=False)\n",
              "  (layer5): Sequential(\n",
              "    (0): BasicBlock(\n",
              "      (conv1): Conv1d(60, 120, kernel_size=(3,), stride=(2,), padding=(1,))\n",
              "      (bn1): BatchNorm1d(120, eps=1e-05, momentum=0.1, affine=True, track_running_stats=True)\n",
              "      (relu): ReLU()\n",
              "      (conv2): Conv1d(120, 120, kernel_size=(3,), stride=(1,), padding=(1,))\n",
              "      (bn2): BatchNorm1d(120, eps=1e-05, momentum=0.1, affine=True, track_running_stats=True)\n",
              "      (downsample): Sequential(\n",
              "        (0): Conv1d(60, 120, kernel_size=(1,), stride=(2,))\n",
              "        (1): BatchNorm1d(120, eps=1e-05, momentum=0.1, affine=True, track_running_stats=True)\n",
              "      )\n",
              "    )\n",
              "    (1): BasicBlock(\n",
              "      (conv1): Conv1d(120, 120, kernel_size=(3,), stride=(1,), padding=(1,))\n",
              "      (bn1): BatchNorm1d(120, eps=1e-05, momentum=0.1, affine=True, track_running_stats=True)\n",
              "      (relu): ReLU()\n",
              "      (conv2): Conv1d(120, 120, kernel_size=(3,), stride=(1,), padding=(1,))\n",
              "      (bn2): BatchNorm1d(120, eps=1e-05, momentum=0.1, affine=True, track_running_stats=True)\n",
              "    )\n",
              "    (2): BasicBlock(\n",
              "      (conv1): Conv1d(120, 120, kernel_size=(3,), stride=(1,), padding=(1,))\n",
              "      (bn1): BatchNorm1d(120, eps=1e-05, momentum=0.1, affine=True, track_running_stats=True)\n",
              "      (relu): ReLU()\n",
              "      (conv2): Conv1d(120, 120, kernel_size=(3,), stride=(1,), padding=(1,))\n",
              "      (bn2): BatchNorm1d(120, eps=1e-05, momentum=0.1, affine=True, track_running_stats=True)\n",
              "    )\n",
              "  )\n",
              "  (max3): MaxPool1d(kernel_size=3, stride=2, padding=0, dilation=1, ceil_mode=False)\n",
              "  (layer7): Sequential(\n",
              "    (0): BasicBlock(\n",
              "      (conv1): Conv1d(120, 240, kernel_size=(3,), stride=(2,), padding=(1,))\n",
              "      (bn1): BatchNorm1d(240, eps=1e-05, momentum=0.1, affine=True, track_running_stats=True)\n",
              "      (relu): ReLU()\n",
              "      (conv2): Conv1d(240, 240, kernel_size=(3,), stride=(1,), padding=(1,))\n",
              "      (bn2): BatchNorm1d(240, eps=1e-05, momentum=0.1, affine=True, track_running_stats=True)\n",
              "      (downsample): Sequential(\n",
              "        (0): Conv1d(120, 240, kernel_size=(1,), stride=(2,))\n",
              "        (1): BatchNorm1d(240, eps=1e-05, momentum=0.1, affine=True, track_running_stats=True)\n",
              "      )\n",
              "    )\n",
              "    (1): BasicBlock(\n",
              "      (conv1): Conv1d(240, 240, kernel_size=(3,), stride=(1,), padding=(1,))\n",
              "      (bn1): BatchNorm1d(240, eps=1e-05, momentum=0.1, affine=True, track_running_stats=True)\n",
              "      (relu): ReLU()\n",
              "      (conv2): Conv1d(240, 240, kernel_size=(3,), stride=(1,), padding=(1,))\n",
              "      (bn2): BatchNorm1d(240, eps=1e-05, momentum=0.1, affine=True, track_running_stats=True)\n",
              "    )\n",
              "    (2): BasicBlock(\n",
              "      (conv1): Conv1d(240, 240, kernel_size=(3,), stride=(1,), padding=(1,))\n",
              "      (bn1): BatchNorm1d(240, eps=1e-05, momentum=0.1, affine=True, track_running_stats=True)\n",
              "      (relu): ReLU()\n",
              "      (conv2): Conv1d(240, 240, kernel_size=(3,), stride=(1,), padding=(1,))\n",
              "      (bn2): BatchNorm1d(240, eps=1e-05, momentum=0.1, affine=True, track_running_stats=True)\n",
              "    )\n",
              "  )\n",
              "  (adppool): AdaptiveMaxPool1d(output_size=28)\n",
              "  (flatten): Flatten(start_dim=1, end_dim=-1)\n",
              "  (do1): Dropout1d(p=0.5, inplace=False)\n",
              "  (fc): Linear(in_features=6720, out_features=200, bias=True)\n",
              "  (do2): Dropout1d(p=0.2, inplace=False)\n",
              "  (relu1): ReLU()\n",
              "  (fc1): Linear(in_features=200, out_features=17, bias=True)\n",
              ")"
            ]
          },
          "metadata": {},
          "execution_count": 40
        }
      ]
    },
    {
      "cell_type": "code",
      "source": [
        "from sklearn.metrics import classification_report\n",
        "import gc\n",
        "def get_statistic(model, device, val_dataloader, tolerance = 0.9):\n",
        "  y_true = []\n",
        "  y_pred = []\n",
        "  labels = []\n",
        "  model.eval()\n",
        "  for data, label in val_dataloader:\n",
        "    out = model.to(device)(data.to(device))\n",
        "    y_true.append(label)\n",
        "    y_pred.append(out.cpu().detach().numpy())\n",
        "    out.cpu()\n",
        "  y_pred[0][y_pred[0]<tolerance]=0\n",
        "  y_pred[0][y_pred[0]>=tolerance]=1\n",
        "  model.to('cpu')\n",
        "  torch.cuda.empty_cache()\n",
        "  gc.collect()\n",
        "  return classification_report(y_true[0], y_pred[0], target_names = classes)\n"
      ],
      "metadata": {
        "id": "pj8EMoVcbpC5"
      },
      "execution_count": 41,
      "outputs": []
    },
    {
      "cell_type": "code",
      "source": [
        "import gc\n",
        "torch.cuda.empty_cache()\n",
        "gc.collect()"
      ],
      "metadata": {
        "colab": {
          "base_uri": "https://localhost:8080/"
        },
        "id": "wd1LLzrH_g9J",
        "outputId": "07acdd65-62b6-4e1c-fb18-855560c7ceb8"
      },
      "execution_count": 42,
      "outputs": [
        {
          "output_type": "execute_result",
          "data": {
            "text/plain": [
              "9"
            ]
          },
          "metadata": {},
          "execution_count": 42
        }
      ]
    },
    {
      "cell_type": "code",
      "source": [
        "cr = get_statistic(model, device, dataloader_ir_val, tolerance = 0.5)\n",
        "print(cr)"
      ],
      "metadata": {
        "colab": {
          "base_uri": "https://localhost:8080/"
        },
        "id": "9ltOCea3cjhs",
        "outputId": "3acb4c9c-f47f-4bb9-dab3-071df6d4efa5"
      },
      "execution_count": 43,
      "outputs": [
        {
          "output_type": "stream",
          "name": "stderr",
          "text": [
            "Precision and F-score are ill-defined and being set to 0.0 in labels with no predicted samples. Use `zero_division` parameter to control this behavior.\n",
            "Precision and F-score are ill-defined and being set to 0.0 in samples with no predicted labels. Use `zero_division` parameter to control this behavior.\n",
            "Recall and F-score are ill-defined and being set to 0.0 in samples with no true labels. Use `zero_division` parameter to control this behavior.\n"
          ]
        },
        {
          "output_type": "stream",
          "name": "stdout",
          "text": [
            "                  precision    recall  f1-score   support\n",
            "\n",
            "          alkane       0.97      0.94      0.96       803\n",
            "          methyl       0.98      0.93      0.95       726\n",
            "          alkene       1.00      0.32      0.48       172\n",
            "          alkyne       1.00      0.09      0.17        22\n",
            "        alcohols       1.00      0.69      0.82       266\n",
            "          amines       0.97      0.43      0.60       148\n",
            "        nitriles       1.00      0.03      0.06        32\n",
            "       aromatics       0.98      0.94      0.96       695\n",
            "   alkyl halides       0.96      0.42      0.58       297\n",
            "          esters       0.98      0.46      0.63       134\n",
            "         ketones       0.88      0.12      0.22       121\n",
            "       aldehydes       1.00      0.43      0.61        23\n",
            "carboxylic acids       1.00      0.17      0.29        78\n",
            "           ether       0.98      0.64      0.77       303\n",
            "    acyl halides       0.00      0.00      0.00         9\n",
            "          amides       1.00      0.06      0.11        86\n",
            "           nitro       1.00      0.05      0.09        63\n",
            "\n",
            "       micro avg       0.98      0.71      0.82      3978\n",
            "       macro avg       0.92      0.40      0.49      3978\n",
            "    weighted avg       0.98      0.71      0.78      3978\n",
            "     samples avg       0.96      0.73      0.80      3978\n",
            "\n"
          ]
        }
      ]
    },
    {
      "cell_type": "markdown",
      "source": [
        "# Расчет SHAP values"
      ],
      "metadata": {
        "id": "8u0yIrwFe9zu"
      }
    },
    {
      "cell_type": "code",
      "source": [
        "#Создаём тестовый объект\n",
        "batch = next(iter(dataloader_ir_val))\n",
        "images, _ = batch\n",
        "\n",
        "background = images[:100]\n",
        "test_images = images[100:103]\n",
        "test_images"
      ],
      "metadata": {
        "colab": {
          "base_uri": "https://localhost:8080/"
        },
        "id": "kH3woR0Be9Kg",
        "outputId": "45fe03b1-243a-4186-da58-02136d1a6a7d"
      },
      "execution_count": 44,
      "outputs": [
        {
          "output_type": "execute_result",
          "data": {
            "text/plain": [
              "tensor([[[5.0000e+02, 5.0200e+02, 5.0400e+02,  ..., 4.0940e+03,\n",
              "          4.0960e+03, 4.0980e+03],\n",
              "         [4.9000e-04, 4.9000e-04, 4.9000e-04,  ..., 2.6600e-04,\n",
              "          2.6600e-04, 2.6600e-04]],\n",
              "\n",
              "        [[5.0000e+02, 5.0200e+02, 5.0400e+02,  ..., 4.0940e+03,\n",
              "          4.0960e+03, 4.0980e+03],\n",
              "         [3.0040e-04, 3.0646e-04, 3.3249e-04,  ..., 2.7230e-04,\n",
              "          2.7230e-04, 2.7230e-04]],\n",
              "\n",
              "        [[5.0000e+02, 5.0200e+02, 5.0400e+02,  ..., 4.0940e+03,\n",
              "          4.0960e+03, 4.0980e+03],\n",
              "         [3.2380e-02, 3.2380e-02, 3.2380e-02,  ..., 1.6300e-03,\n",
              "          1.6300e-03, 1.6300e-03]]])"
            ]
          },
          "metadata": {},
          "execution_count": 44
        }
      ]
    },
    {
      "cell_type": "markdown",
      "source": [
        "https://shap.readthedocs.io/en/latest/example_notebooks/image_examples/image_classification/PyTorch%20Deep%20Explainer%20MNIST%20example.html"
      ],
      "metadata": {
        "id": "WAjg_7uRlQMD"
      }
    },
    {
      "cell_type": "code",
      "source": [
        "#Создаём объект explainer\n",
        "explainer = shap.DeepExplainer(model, background)"
      ],
      "metadata": {
        "id": "_jy3KPK1fs_s"
      },
      "execution_count": 45,
      "outputs": []
    },
    {
      "cell_type": "code",
      "source": [
        "\n",
        "shap_values = explainer.shap_values(test_images)\n",
        "clear_output()"
      ],
      "metadata": {
        "id": "Jm7y-Qb9kROw"
      },
      "execution_count": 46,
      "outputs": []
    },
    {
      "cell_type": "code",
      "source": [
        "torch.Tensor(shap_values).shape"
      ],
      "metadata": {
        "colab": {
          "base_uri": "https://localhost:8080/"
        },
        "id": "vyheCsprtPbE",
        "outputId": "04bfbc84-8491-4c6e-a920-27984b1453f8"
      },
      "execution_count": 47,
      "outputs": [
        {
          "output_type": "stream",
          "name": "stderr",
          "text": [
            "Creating a tensor from a list of numpy.ndarrays is extremely slow. Please consider converting the list to a single numpy.ndarray with numpy.array() before converting to a tensor. (Triggered internally at ../torch/csrc/utils/tensor_new.cpp:230.)\n"
          ]
        },
        {
          "output_type": "execute_result",
          "data": {
            "text/plain": [
              "torch.Size([17, 3, 2, 1800])"
            ]
          },
          "metadata": {},
          "execution_count": 47
        }
      ]
    },
    {
      "cell_type": "code",
      "source": [
        "# plot the feature attributions\n",
        "import numpy as np\n",
        "import matplotlib.pyplot as plt\n",
        "from matplotlib.collections import LineCollection\n",
        "from matplotlib.colors import ListedColormap, BoundaryNorm\n",
        "x, y = test_images[0]\n",
        "x, y = np.array(x), np.array(y)"
      ],
      "metadata": {
        "id": "dIjsjB3NuN3d"
      },
      "execution_count": 48,
      "outputs": []
    },
    {
      "cell_type": "code",
      "source": [
        "shap_values1 = np.array(shap_values)\n",
        "shap_values2 = np.swapaxes(shap_values1, 0, 1)\n",
        "shap_values2.shape"
      ],
      "metadata": {
        "colab": {
          "base_uri": "https://localhost:8080/"
        },
        "id": "DLdPdg-Eu8o3",
        "outputId": "34f3e626-1efb-4d29-cbb9-6e36b450f2e0"
      },
      "execution_count": 49,
      "outputs": [
        {
          "output_type": "execute_result",
          "data": {
            "text/plain": [
              "(3, 17, 2, 1800)"
            ]
          },
          "metadata": {},
          "execution_count": 49
        }
      ]
    },
    {
      "cell_type": "code",
      "source": [
        "shap_values2[0][0][1]"
      ],
      "metadata": {
        "colab": {
          "base_uri": "https://localhost:8080/"
        },
        "id": "U2SeJNt6wCnu",
        "outputId": "c0d4196a-b918-4076-86f1-6ac145062b5d"
      },
      "execution_count": 50,
      "outputs": [
        {
          "output_type": "execute_result",
          "data": {
            "text/plain": [
              "array([-6.17725746e-05, -5.78255349e-05, -9.59064892e-06, ...,\n",
              "        2.90645083e-04,  1.57273171e-04,  3.77791657e-05])"
            ]
          },
          "metadata": {},
          "execution_count": 50
        }
      ]
    },
    {
      "cell_type": "code",
      "source": [
        "dydx = shap_values2[0][0][1]\n",
        "dydx.min()\n",
        "dydx.max()"
      ],
      "metadata": {
        "colab": {
          "base_uri": "https://localhost:8080/"
        },
        "id": "IVDd347Evu_P",
        "outputId": "5c5ef4fe-48e8-4200-ae32-fdb69a7b57cc"
      },
      "execution_count": 51,
      "outputs": [
        {
          "output_type": "execute_result",
          "data": {
            "text/plain": [
              "0.2538658082485199"
            ]
          },
          "metadata": {},
          "execution_count": 51
        }
      ]
    },
    {
      "cell_type": "code",
      "source": [
        "# Create a set of line segments so that we can color them individually\n",
        "# This creates the points as an N x 1 x 2 array so that we can stack points\n",
        "# together easily to get the segments. The segments array for line collection\n",
        "# needs to be (numlines) x (points per line) x 2 (for x and y)\n",
        "points = np.array([x, y]).T.reshape(-1, 1, 2)\n",
        "print(points.shape)\n",
        "segments = np.concatenate([points[:-1], points[1:]], axis=1)\n",
        "segments.shape\n"
      ],
      "metadata": {
        "colab": {
          "base_uri": "https://localhost:8080/"
        },
        "id": "5Wl3QcjewmCH",
        "outputId": "43adcb85-e624-4371-9dc6-ff936f13ed2c"
      },
      "execution_count": 53,
      "outputs": [
        {
          "output_type": "stream",
          "name": "stdout",
          "text": [
            "(1800, 1, 2)\n"
          ]
        },
        {
          "output_type": "execute_result",
          "data": {
            "text/plain": [
              "(1799, 2, 2)"
            ]
          },
          "metadata": {},
          "execution_count": 53
        }
      ]
    },
    {
      "cell_type": "markdown",
      "source": [
        "# Функция визуализации"
      ],
      "metadata": {
        "id": "sojl5iB3b8as"
      }
    },
    {
      "cell_type": "code",
      "source": [
        "# plot the feature attributions\n",
        "import numpy as np\n",
        "import matplotlib.pyplot as plt\n",
        "from matplotlib.collections import LineCollection\n",
        "from matplotlib.colors import ListedColormap, BoundaryNorm\n",
        "def calc_shap_values(model, dataloader, num_test_samples = 1):\n",
        "  #Создаём тестовый объект\n",
        "  batch = next(iter(dataloader))\n",
        "  images, labels = batch\n",
        "  if len(batch)>(100+num_test_samples):\n",
        "     background = images[:100]\n",
        "     test_images = images[100:(100+num_test_samples)]\n",
        "     test_labels = labels[100:(100+num_test_samples)]\n",
        "  else: \n",
        "    background = images[:(-num_test_samples-1)]\n",
        "    test_images = images[(-num_test_samples-1):-1]\n",
        "    test_labels = labels[(-num_test_samples-1):-1]\n",
        "  \n",
        "  explainer = shap.DeepExplainer(model, background)\n",
        "  shap_values = explainer.shap_values(test_images)\n",
        "  shap_values1 = np.array(shap_values)\n",
        "  shap_values2 = np.swapaxes(shap_values1, 0, 1)\n",
        "  shap_plus_img = {}\n",
        "  shap_plus_img['image'] = test_images\n",
        "  shap_plus_img['shap_values'] = shap_values2\n",
        "  shap_plus_img['labels'] = test_labels\n",
        "  clear_output()\n",
        "  return shap_plus_img\n",
        "\n",
        "def view_all_classes_shap(shap_plus_img, inx2cls, num = 0,  mode = 'segments'):\n",
        "  test_spectra = shap_plus_img['image'][num]\n",
        "  shap_values = shap_plus_img['shap_values'][num]\n",
        "  test_labels = shap_plus_img['labels'][num]\n",
        "  x, y = test_spectra\n",
        "  x, y = np.array(x), np.array(y)\n",
        "  points = np.array([x, y]).T.reshape(-1, 1, 2)\n",
        "  segments = np.concatenate([points[:-1], points[1:]], axis=1)\n",
        "  if mode == 'continuous':\n",
        "   fig, axs = plt.subplots(4, 5, figsize=(20, 12))\n",
        "   for i in range(4):\n",
        "      for j in range(5):\n",
        "        if i+j <= 15:\n",
        "          dydx = shap_values[i][1]\n",
        "     \n",
        "          # Create a continuous norm to map from data points to colors\n",
        "          norm = plt.Normalize(dydx.min(), dydx.max())\n",
        "          lc = LineCollection(segments, cmap='hot', norm=norm)\n",
        "          # Set the values used for colormapping\n",
        "          lc.set_array(dydx)\n",
        "          lc.set_linewidth(2)\n",
        "          line = axs[i][j].add_collection(lc)\n",
        "          fig.colorbar(line, ax=axs[i][j])\n",
        "          axs[i][j].set_xlim(x.min(), x.max())\n",
        "          ly=y.max()\n",
        "          axs[i][j].set_ylim(-0.01*ly, ly)\n",
        "          label = list(np.array(test_labels, dtype = np.int32))[i+j]\n",
        "          title = inx2cls[i+j]+' '+str(label)\n",
        "          axs[i][j].set_title(title)\n",
        "        else: break\n",
        "   fig.set_figheight(12)\n",
        "   fig.set_figwidth(20)\n",
        "   \n",
        "  elif mode == 'segments':\n",
        "    fig, axs = plt.subplots(4, 5, sharex=True, sharey=True, figsize=(20, 12))\n",
        "    for i in range(4):\n",
        "      for j in range(5):\n",
        "        if i+j <= 15:\n",
        "          dydx = shap_values[i+j][1]\n",
        "      \n",
        "          # Use a boundary norm instead\n",
        "          cmap = ListedColormap(['r', 'g', 'y', 'b'])\n",
        "          norm = BoundaryNorm([dydx.min(), dydx.max()/3, dydx.max()*2/3, dydx.max()], cmap.N)\n",
        "          lc = LineCollection(segments, cmap=cmap, norm=norm)\n",
        "          lc.set_array(dydx)\n",
        "          lc.set_linewidth(2)\n",
        "          line = axs[i][j].add_collection(lc)\n",
        "          fig.colorbar(line, ax=axs[i][j])\n",
        "          axs[i][j].set_xlim(x.min(), x.max())\n",
        "          ly=y.max()\n",
        "          axs[i][j].set_ylim(-0.01*ly, ly)\n",
        "          label = list(np.array(test_labels, dtype = np.int32))[i+j]\n",
        "          title = inx2cls[i+j]+' '+str(label)\n",
        "          axs[i][j].set_title(title)\n",
        "        else: break\n",
        "    fig.set_figheight(12)\n",
        "    fig.set_figwidth(20)\n",
        "  \n",
        "  plt.show()\n",
        "\n"
      ],
      "metadata": {
        "id": "TIk7OQQWOAQe"
      },
      "execution_count": 216,
      "outputs": []
    },
    {
      "cell_type": "code",
      "source": [
        "shap_values = calc_shap_values(model, dataloader_ir_test, num_test_samples = 3)"
      ],
      "metadata": {
        "id": "mkXg89hOO87g"
      },
      "execution_count": 194,
      "outputs": []
    },
    {
      "cell_type": "code",
      "source": [
        "shap_values['image'][0]"
      ],
      "metadata": {
        "colab": {
          "base_uri": "https://localhost:8080/"
        },
        "id": "Mef6QVDYaMDb",
        "outputId": "a0f8acff-20eb-44ac-f95b-40dab3f79930"
      },
      "execution_count": 209,
      "outputs": [
        {
          "output_type": "execute_result",
          "data": {
            "text/plain": [
              "tensor([[5.0000e+02, 5.0200e+02, 5.0400e+02,  ..., 4.0940e+03, 4.0960e+03,\n",
              "         4.0980e+03],\n",
              "        [2.6868e-03, 2.6868e-03, 2.6868e-03,  ..., 1.4760e-04, 1.4760e-04,\n",
              "         1.4760e-04]])"
            ]
          },
          "metadata": {},
          "execution_count": 209
        }
      ]
    },
    {
      "cell_type": "code",
      "source": [
        "view_all_classes_shap(shap_values, inx2cls, 0,  mode = 'continuous')"
      ],
      "metadata": {
        "colab": {
          "base_uri": "https://localhost:8080/",
          "height": 716
        },
        "id": "drAO8FrQ4juq",
        "outputId": "6e1ea88f-faec-4e8e-d03d-51b50c9e29a1"
      },
      "execution_count": 217,
      "outputs": [
        {
          "output_type": "display_data",
          "data": {
            "text/plain": [
              "<Figure size 1440x864 with 40 Axes>"
            ],
            "image/png": "[encoded data removed]"
          },
          "metadata": {
            "needs_background": "light"
          }
        }
      ]
    },
    {
      "cell_type": "code",
      "source": [
        "view_all_classes_shap(shap_values, inx2cls, 1,  mode = 'segments')"
      ],
      "metadata": {
        "colab": {
          "base_uri": "https://localhost:8080/",
          "height": 716
        },
        "id": "Bu2IGdRUR41D",
        "outputId": "85d40ce9-b19b-4b89-e867-64852b1d766a"
      },
      "execution_count": 218,
      "outputs": [
        {
          "output_type": "display_data",
          "data": {
            "text/plain": [
              "<Figure size 1440x864 with 40 Axes>"
            ],
            "image/png": "[encoded data removed]"
          },
          "metadata": {
            "needs_background": "light"
          }
        }
      ]
    },
    {
      "cell_type": "markdown",
      "source": [
        "# Конец"
      ],
      "metadata": {
        "id": "g10BBCWEdUrs"
      }
    },
    {
      "cell_type": "markdown",
      "source": [
        "## Сохранение модели"
      ],
      "metadata": {
        "id": "_12mx9BMd8ev"
      }
    },
    {
      "cell_type": "code",
      "source": [
        "#torch.save(model2.state_dict(), f= '/content/IR_expert_system/models/v0.3.11/model_params')"
      ],
      "metadata": {
        "id": "bkPyuE96d-WU"
      },
      "execution_count": null,
      "outputs": []
    },
    {
      "cell_type": "code",
      "source": [
        "#torch.save(trainer.optimizer.state_dict(), f= '/content/IR_expert_system/models/v0.3.11/optim_params')"
      ],
      "metadata": {
        "id": "HlJxidVVfRTT"
      },
      "execution_count": null,
      "outputs": []
    }
  ],
  "metadata": {
    "colab": {
      "provenance": [],
      "toc_visible": true,
      "include_colab_link": true
    },
    "gpuClass": "standard",
    "kernelspec": {
      "display_name": "Python 3",
      "name": "python3"
    },
    "language_info": {
      "name": "python"
    }
  },
  "nbformat": 4,
  "nbformat_minor": 0
}