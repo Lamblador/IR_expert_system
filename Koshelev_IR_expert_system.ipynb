{
  "nbformat": 4,
  "nbformat_minor": 0,
  "metadata": {
    "colab": {
      "provenance": [],
      "toc_visible": true,
      "authorship_tag": "ABX9TyMlE6SzeOc2M7DuSh54Mw/9",
      "include_colab_link": true
    },
    "kernelspec": {
      "name": "python3",
      "display_name": "Python 3"
    },
    "language_info": {
      "name": "python"
    }
  },
  "cells": [
    {
      "cell_type": "markdown",
      "metadata": {
        "id": "view-in-github",
        "colab_type": "text"
      },
      "source": [
        "<a href=\"https://colab.research.google.com/github/Lamblador/IR_expert_system/blob/main/Koshelev_IR_expert_system.ipynb\" target=\"_parent\"><img src=\"https://colab.research.google.com/assets/colab-badge.svg\" alt=\"Open In Colab\"/></a>"
      ]
    },
    {
      "cell_type": "markdown",
      "source": [
        "# IR spectral analysis of organic compounds via machine learning approach\n",
        "By: Koshelev Daniil \n",
        "\n",
        "Based on some code form: https://github.com/rayguna/IR-Spectra-Analyzer\n",
        "\n",
        "-Work in progress (last updated: 25/02/2023)-\n",
        "\n",
        "A. MOTIVATION\n",
        "\n",
        "IR spectroscopy is a versatile and a precise method for chemical identification because every compound exhibits unique IR spectral features; however, the spectral features tend to be ambiguous. A manual interpretation is often time-consuming and may lead to inconsistent, erroneous results. Hence, there is a need for a rapid, accurate, and reproducible alternative to a manual interpretation.\n",
        "\n",
        "B. PURPOSE\n",
        "\n",
        "The purpose of this program is to automate the IR spectrum interpretation routine of an known compound by assigning its absorption bands to the avalible chemical bonds or viration types in the molecule structure.\n",
        "\n",
        "C. RATIONALE\n",
        "\n",
        "The steps taken by this program are summarized in the form of a flowchart that is shown below:\n",
        "\n",
        "1. The steps begin with the NIST chemical list.\n",
        "2. With the aid of periodic table of elements, functional group class, and PeakUtils.py package, additional columns \n",
        "are generated (i.e., molecular weight Mw; elements, functional group class, and peaks list).\n",
        "3. Using the additional compounds attributes, we can then perform filtering and EDA to reduce the number of entries \n",
        "on the list.\n",
        "4. Next, we download the IR spectra of the chemicals shortlist by specifying the CAS number.\n",
        "5. Using jcamp, scipy, and numpy packages, read and treat spectra.\n",
        "6. Develop models and feed an unknown spectrum into the model to yield the guessed compounds.\n",
        "\n",
        "NOTES\n"
      ],
      "metadata": {
        "id": "EyD3PDmR8G3M"
      }
    },
    {
      "cell_type": "markdown",
      "source": [
        "Schedule"
      ],
      "metadata": {
        "id": "lpdcNczWp_kT"
      }
    },
    {
      "cell_type": "code",
      "source": [
        "from IPython.display import display, Image, SVG, Math, YouTubeVideo\n",
        "Image(filename='data/flowchart.png', width=800, height=600)"
      ],
      "metadata": {
        "id": "cX_uCqZTp-og"
      },
      "execution_count": null,
      "outputs": []
    },
    {
      "cell_type": "code",
      "source": [],
      "metadata": {
        "id": "UjUx61fv8Es1"
      },
      "execution_count": null,
      "outputs": []
    }
  ]
}