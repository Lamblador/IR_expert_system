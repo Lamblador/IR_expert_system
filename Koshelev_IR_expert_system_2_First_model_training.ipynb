{
  "cells": [
    {
      "cell_type": "markdown",
      "metadata": {
        "id": "view-in-github",
        "colab_type": "text"
      },
      "source": [
        "<a href=\"https://colab.research.google.com/github/Lamblador/IR_expert_system/blob/main/Koshelev_IR_expert_system_2_First_model_training.ipynb\" target=\"_parent\"><img src=\"https://colab.research.google.com/assets/colab-badge.svg\" alt=\"Open In Colab\"/></a>"
      ]
    },
    {
      "cell_type": "markdown",
      "metadata": {
        "id": "TK6YTDQRdiv9"
      },
      "source": [
        "# IR spectral analysis of organic and coordination compounds via machine learning and neural networks\n",
        "By: Koshelev Daniil \n",
        "\n",
        "Based on some code form: https://github.com/rayguna/IR-Spectra-Analyzer\n",
        "Предыдущая часть: https://github.com/Lamblador/IR_expert_system/blob/main/Koshelev_IR_expert_system_1_Dataset_Preparation.ipynb\n",
        "\n",
        "-Work in progress (last updated:04/04/2023)-\n",
        "\n",
        "B. Цель данного блокнота\n",
        "\n",
        "Целью этого блокнота является обучение примитивной модели распознавания всего лишь 15 классов (функциональных групп) в спектре из 1800 точек в диапазоне 500-4100 [1/cm] \n",
        "\n",
        "C. План реализации\n",
        "\n",
        "1. Импортировать табличные данные разметки классов по CAS и табличные данные уже обработанных спектров нужного диапазона.\n",
        "2. Создать объект класса Dataset\n",
        "3. Реализовать код для обучения модели.\n",
        "4. Реализовать саму модель.\n",
        "5. Обучить модель.\n",
        "6. Оценить точность модели в мультиклассовом анализе (label_ranking_average_precision_score).\n",
        "7. Собрать статистику.\n",
        "\n",
        "NOTES\n",
        "1. Импортированы табличные данные.\n",
        "2. Написана несколько версий модели. \n",
        "3. Разработаны функции для описания статистики модели.\n",
        "4. Применен планировщик обучения. Получена точность 0,8.\n",
        "5. Убран AdMaxPool\n",
        "6. "
      ]
    },
    {
      "cell_type": "markdown",
      "metadata": {
        "id": "G2f80Hpzdqgr"
      },
      "source": [
        "Клонирование данных с GitHub. На сайте выложены как исходные списки веществ, так и скачанные спектры соединений, которые были запарсены кодом ниже."
      ]
    },
    {
      "cell_type": "code",
      "execution_count": 1,
      "metadata": {
        "colab": {
          "base_uri": "https://localhost:8080/",
          "height": 0
        },
        "id": "OPcC7OEkdoOK",
        "outputId": "19a38480-0c78-4c84-ed19-556b5312b2c2"
      },
      "outputs": [
        {
          "output_type": "stream",
          "name": "stdout",
          "text": [
            "Cloning into 'IR_expert_system'...\n",
            "remote: Enumerating objects: 16803, done.\u001b[K\n",
            "remote: Counting objects: 100% (1960/1960), done.\u001b[K\n",
            "remote: Compressing objects: 100% (1885/1885), done.\u001b[K\n",
            "remote: Total 16803 (delta 86), reused 1940 (delta 74), pack-reused 14843\u001b[K\n",
            "Receiving objects: 100% (16803/16803), 319.48 MiB | 15.52 MiB/s, done.\n",
            "Resolving deltas: 100% (446/446), done.\n",
            "Updating files: 100% (16637/16637), done.\n"
          ]
        }
      ],
      "source": [
        "!git clone https://github.com/Lamblador/IR_expert_system.git"
      ]
    },
    {
      "cell_type": "code",
      "execution_count": 2,
      "metadata": {
        "id": "3vYHzZTfdw-E"
      },
      "outputs": [],
      "source": [
        "# Установка нужных пакетов\n",
        "from IPython.core.display import clear_output\n",
        "!pip install --upgrade jcamp\n",
        "!pip install torchmetrics\n",
        "!pip install peakutils\n",
        "clear_output()"
      ]
    },
    {
      "cell_type": "code",
      "execution_count": 3,
      "metadata": {
        "id": "NNDUPEaCdztz"
      },
      "outputs": [],
      "source": [
        "# Вводятся нужные импорты\n",
        "import pandas as pd\n",
        "import matplotlib.pyplot as plt\n",
        "from tqdm import tqdm\n",
        "import glob\n",
        "import os\n",
        "import numpy as np\n",
        "import torch\n",
        "import os\n",
        "import pandas as pd\n",
        "import torch\n",
        "from torch.utils.data import Dataset\n",
        "from torchvision import datasets\n",
        "import torch.nn as nn\n",
        "from peakutils.peak import indexes as index_utils"
      ]
    },
    {
      "cell_type": "code",
      "source": [
        "import random\n",
        "\n",
        "import torch\n",
        "import torch.nn as nn\n",
        "from torchvision import datasets, transforms\n",
        "\n",
        "\n",
        "def set_random_seed(seed):\n",
        "    torch.manual_seed(seed)\n",
        "    torch.cuda.manual_seed(seed)\n",
        "    np.random.seed(seed)\n",
        "    random.seed(seed)\n",
        "    torch.backends.cudnn.deterministic = True\n",
        "\n",
        "set_random_seed(42)"
      ],
      "metadata": {
        "id": "yoWXSn5fNo_c"
      },
      "execution_count": 4,
      "outputs": []
    },
    {
      "cell_type": "markdown",
      "metadata": {
        "id": "dKSeXleSfHqX"
      },
      "source": [
        "# Импорт табличных данных"
      ]
    },
    {
      "cell_type": "code",
      "execution_count": 5,
      "metadata": {
        "colab": {
          "base_uri": "https://localhost:8080/",
          "height": 867
        },
        "id": "b1dkhQEufJ9n",
        "outputId": "9129f224-f385-46f2-855b-d9872a4d24e3"
      },
      "outputs": [
        {
          "output_type": "execute_result",
          "data": {
            "text/plain": [
              "                                                      Name      Formula  \\\n",
              "CAS                                                                       \n",
              "100-00-5                        Benzene, 1-chloro-4-nitro-    C6H4ClNO2   \n",
              "100-01-6                                    p-Nitroaniline     C6H6N2O2   \n",
              "100-02-7                                  Phenol, 4-nitro-      C6H5NO3   \n",
              "1000-49-3                           N-butyltrimethylsilane      C7H18Si   \n",
              "1000-50-6                      N-Butyldimethylchlorosilane    C6H15ClSi   \n",
              "...                                                    ...          ...   \n",
              "99-97-8                      Benzenamine, N,N,4-trimethyl-       C9H13N   \n",
              "999-78-0                          2-Pentyne, 4,4-dimethyl-        C7H12   \n",
              "999-81-5        Ammonium chloride, 2-chloroethyltrimethyl-  C5H13ClN.Cl   \n",
              "99-99-0                         Benzene, 1-methyl-4-nitro-      C7H7NO2   \n",
              "999-97-3   Silanamine, 1,1,1-trimethyl-N-(trimethylsilyl)-    C6H19NSi2   \n",
              "\n",
              "                   Mw                     Elements  \\\n",
              "CAS                                                  \n",
              "100-00-5   156.993056   ['C', 'H', 'Cl', 'N', 'O']   \n",
              "100-01-6   138.042927         ['C', 'H', 'N', 'O']   \n",
              "100-02-7   139.026943         ['C', 'H', 'N', 'O']   \n",
              "1000-49-3  130.117777             ['C', 'H', 'Si']   \n",
              "1000-50-6  150.063155       ['C', 'H', 'Cl', 'Si']   \n",
              "...               ...                          ...   \n",
              "99-97-8    135.104799              ['C', 'H', 'N']   \n",
              "999-78-0    96.093900                   ['C', 'H']   \n",
              "999-81-5   157.042505  ['C', 'H', 'Cl', 'N', 'Cl']   \n",
              "99-99-0    137.047678         ['C', 'H', 'N', 'O']   \n",
              "999-97-3   161.105603        ['C', 'H', 'N', 'Si']   \n",
              "\n",
              "                                                       InChi  \\\n",
              "CAS                                                            \n",
              "100-00-5     InChI=1/C6H4ClNO2/c7-5-1-3-6(4-2-5)8(9)10/h1-4H   \n",
              "100-01-6   InChI=1/C6H6N2O2/c7-5-1-3-6(4-2-5)8(9)10/h1-4H...   \n",
              "100-02-7     InChI=1/C6H5NO3/c8-6-3-1-5(2-4-6)7(9)10/h1-4,8H   \n",
              "1000-49-3      InChI=1/C7H18Si/c1-5-6-7-8(2,3)4/h5-7H2,1-4H3   \n",
              "1000-50-6    InChI=1/C6H15ClSi/c1-4-5-6-8(2,3)7/h4-6H2,1-3H3   \n",
              "...                                                      ...   \n",
              "99-97-8    InChI=1/C9H13N/c1-8-4-6-9(7-5-8)10(2)3/h4-7H,1...   \n",
              "999-78-0                 InChI=1/C7H12/c1-5-6-7(2,3)4/h1-4H3   \n",
              "999-81-5   InChI=1/C5H13ClN.ClH/c1-7(2,3)5-4-6;/h4-5H2,1-...   \n",
              "99-99-0    InChI=1/C7H7NO2/c1-6-2-4-7(5-3-6)8(9)10/h2-5H,1H3   \n",
              "999-97-3      InChI=1/C6H19NSi2/c1-8(2,3)7-9(4,5)6/h7H,1-6H3   \n",
              "\n",
              "                             SMILES  alkane  methyl  alkene  alkyne  ...  \\\n",
              "CAS                                                                  ...   \n",
              "100-00-5   [O-][N+](=O)c1ccc(Cl)cc1     0.0     0.0     0.0     0.0  ...   \n",
              "100-01-6    Nc1ccc(cc1)[N+]([O-])=O     0.0     0.0     0.0     0.0  ...   \n",
              "100-02-7    Oc1ccc(cc1)[N+]([O-])=O     0.0     0.0     0.0     0.0  ...   \n",
              "1000-49-3           CCCC[Si](C)(C)C     1.0     1.0     0.0     0.0  ...   \n",
              "1000-50-6          CCCC[Si](C)(C)Cl     1.0     1.0     0.0     0.0  ...   \n",
              "...                             ...     ...     ...     ...     ...  ...   \n",
              "99-97-8            CN(C)c1ccc(C)cc1     0.0     1.0     0.0     0.0  ...   \n",
              "999-78-0               CC#CC(C)(C)C     1.0     1.0     0.0     1.0  ...   \n",
              "999-81-5      [Cl-].C[N+](C)(C)CCCl     1.0     1.0     0.0     0.0  ...   \n",
              "99-99-0     Cc1ccc(cc1)[N+]([O-])=O     0.0     1.0     0.0     0.0  ...   \n",
              "999-97-3    C[Si](C)(C)N[Si](C)(C)C     0.0     1.0     0.0     0.0  ...   \n",
              "\n",
              "           aromatics  alkyl halides  esters  ketones  aldehydes  \\\n",
              "CAS                                                               \n",
              "100-00-5         1.0            1.0     0.0      0.0        0.0   \n",
              "100-01-6         1.0            0.0     0.0      0.0        0.0   \n",
              "100-02-7         1.0            0.0     0.0      0.0        0.0   \n",
              "1000-49-3        0.0            0.0     0.0      0.0        0.0   \n",
              "1000-50-6        0.0            0.0     0.0      0.0        0.0   \n",
              "...              ...            ...     ...      ...        ...   \n",
              "99-97-8          1.0            0.0     0.0      0.0        0.0   \n",
              "999-78-0         0.0            0.0     0.0      0.0        0.0   \n",
              "999-81-5         0.0            1.0     0.0      0.0        0.0   \n",
              "99-99-0          1.0            0.0     0.0      0.0        0.0   \n",
              "999-97-3         0.0            0.0     0.0      0.0        0.0   \n",
              "\n",
              "           carboxylic acids  ether  acyl halides  amides  nitro  \n",
              "CAS                                                              \n",
              "100-00-5                0.0    0.0           0.0     0.0    1.0  \n",
              "100-01-6                0.0    0.0           0.0     0.0    1.0  \n",
              "100-02-7                0.0    0.0           0.0     0.0    1.0  \n",
              "1000-49-3               0.0    0.0           0.0     0.0    0.0  \n",
              "1000-50-6               0.0    0.0           0.0     0.0    0.0  \n",
              "...                     ...    ...           ...     ...    ...  \n",
              "99-97-8                 0.0    0.0           0.0     0.0    0.0  \n",
              "999-78-0                0.0    0.0           0.0     0.0    0.0  \n",
              "999-81-5                0.0    0.0           0.0     0.0    0.0  \n",
              "99-99-0                 0.0    0.0           0.0     0.0    1.0  \n",
              "999-97-3                0.0    0.0           0.0     0.0    0.0  \n",
              "\n",
              "[12233 rows x 23 columns]"
            ],
            "text/html": [
              "\n",
              "  <div id=\"df-fea9101b-a7d9-4095-8538-ff476399ac73\">\n",
              "    <div class=\"colab-df-container\">\n",
              "      <div>\n",
              "<style scoped>\n",
              "    .dataframe tbody tr th:only-of-type {\n",
              "        vertical-align: middle;\n",
              "    }\n",
              "\n",
              "    .dataframe tbody tr th {\n",
              "        vertical-align: top;\n",
              "    }\n",
              "\n",
              "    .dataframe thead th {\n",
              "        text-align: right;\n",
              "    }\n",
              "</style>\n",
              "<table border=\"1\" class=\"dataframe\">\n",
              "  <thead>\n",
              "    <tr style=\"text-align: right;\">\n",
              "      <th></th>\n",
              "      <th>Name</th>\n",
              "      <th>Formula</th>\n",
              "      <th>Mw</th>\n",
              "      <th>Elements</th>\n",
              "      <th>InChi</th>\n",
              "      <th>SMILES</th>\n",
              "      <th>alkane</th>\n",
              "      <th>methyl</th>\n",
              "      <th>alkene</th>\n",
              "      <th>alkyne</th>\n",
              "      <th>...</th>\n",
              "      <th>aromatics</th>\n",
              "      <th>alkyl halides</th>\n",
              "      <th>esters</th>\n",
              "      <th>ketones</th>\n",
              "      <th>aldehydes</th>\n",
              "      <th>carboxylic acids</th>\n",
              "      <th>ether</th>\n",
              "      <th>acyl halides</th>\n",
              "      <th>amides</th>\n",
              "      <th>nitro</th>\n",
              "    </tr>\n",
              "    <tr>\n",
              "      <th>CAS</th>\n",
              "      <th></th>\n",
              "      <th></th>\n",
              "      <th></th>\n",
              "      <th></th>\n",
              "      <th></th>\n",
              "      <th></th>\n",
              "      <th></th>\n",
              "      <th></th>\n",
              "      <th></th>\n",
              "      <th></th>\n",
              "      <th></th>\n",
              "      <th></th>\n",
              "      <th></th>\n",
              "      <th></th>\n",
              "      <th></th>\n",
              "      <th></th>\n",
              "      <th></th>\n",
              "      <th></th>\n",
              "      <th></th>\n",
              "      <th></th>\n",
              "      <th></th>\n",
              "    </tr>\n",
              "  </thead>\n",
              "  <tbody>\n",
              "    <tr>\n",
              "      <th>100-00-5</th>\n",
              "      <td>Benzene, 1-chloro-4-nitro-</td>\n",
              "      <td>C6H4ClNO2</td>\n",
              "      <td>156.993056</td>\n",
              "      <td>['C', 'H', 'Cl', 'N', 'O']</td>\n",
              "      <td>InChI=1/C6H4ClNO2/c7-5-1-3-6(4-2-5)8(9)10/h1-4H</td>\n",
              "      <td>[O-][N+](=O)c1ccc(Cl)cc1</td>\n",
              "      <td>0.0</td>\n",
              "      <td>0.0</td>\n",
              "      <td>0.0</td>\n",
              "      <td>0.0</td>\n",
              "      <td>...</td>\n",
              "      <td>1.0</td>\n",
              "      <td>1.0</td>\n",
              "      <td>0.0</td>\n",
              "      <td>0.0</td>\n",
              "      <td>0.0</td>\n",
              "      <td>0.0</td>\n",
              "      <td>0.0</td>\n",
              "      <td>0.0</td>\n",
              "      <td>0.0</td>\n",
              "      <td>1.0</td>\n",
              "    </tr>\n",
              "    <tr>\n",
              "      <th>100-01-6</th>\n",
              "      <td>p-Nitroaniline</td>\n",
              "      <td>C6H6N2O2</td>\n",
              "      <td>138.042927</td>\n",
              "      <td>['C', 'H', 'N', 'O']</td>\n",
              "      <td>InChI=1/C6H6N2O2/c7-5-1-3-6(4-2-5)8(9)10/h1-4H...</td>\n",
              "      <td>Nc1ccc(cc1)[N+]([O-])=O</td>\n",
              "      <td>0.0</td>\n",
              "      <td>0.0</td>\n",
              "      <td>0.0</td>\n",
              "      <td>0.0</td>\n",
              "      <td>...</td>\n",
              "      <td>1.0</td>\n",
              "      <td>0.0</td>\n",
              "      <td>0.0</td>\n",
              "      <td>0.0</td>\n",
              "      <td>0.0</td>\n",
              "      <td>0.0</td>\n",
              "      <td>0.0</td>\n",
              "      <td>0.0</td>\n",
              "      <td>0.0</td>\n",
              "      <td>1.0</td>\n",
              "    </tr>\n",
              "    <tr>\n",
              "      <th>100-02-7</th>\n",
              "      <td>Phenol, 4-nitro-</td>\n",
              "      <td>C6H5NO3</td>\n",
              "      <td>139.026943</td>\n",
              "      <td>['C', 'H', 'N', 'O']</td>\n",
              "      <td>InChI=1/C6H5NO3/c8-6-3-1-5(2-4-6)7(9)10/h1-4,8H</td>\n",
              "      <td>Oc1ccc(cc1)[N+]([O-])=O</td>\n",
              "      <td>0.0</td>\n",
              "      <td>0.0</td>\n",
              "      <td>0.0</td>\n",
              "      <td>0.0</td>\n",
              "      <td>...</td>\n",
              "      <td>1.0</td>\n",
              "      <td>0.0</td>\n",
              "      <td>0.0</td>\n",
              "      <td>0.0</td>\n",
              "      <td>0.0</td>\n",
              "      <td>0.0</td>\n",
              "      <td>0.0</td>\n",
              "      <td>0.0</td>\n",
              "      <td>0.0</td>\n",
              "      <td>1.0</td>\n",
              "    </tr>\n",
              "    <tr>\n",
              "      <th>1000-49-3</th>\n",
              "      <td>N-butyltrimethylsilane</td>\n",
              "      <td>C7H18Si</td>\n",
              "      <td>130.117777</td>\n",
              "      <td>['C', 'H', 'Si']</td>\n",
              "      <td>InChI=1/C7H18Si/c1-5-6-7-8(2,3)4/h5-7H2,1-4H3</td>\n",
              "      <td>CCCC[Si](C)(C)C</td>\n",
              "      <td>1.0</td>\n",
              "      <td>1.0</td>\n",
              "      <td>0.0</td>\n",
              "      <td>0.0</td>\n",
              "      <td>...</td>\n",
              "      <td>0.0</td>\n",
              "      <td>0.0</td>\n",
              "      <td>0.0</td>\n",
              "      <td>0.0</td>\n",
              "      <td>0.0</td>\n",
              "      <td>0.0</td>\n",
              "      <td>0.0</td>\n",
              "      <td>0.0</td>\n",
              "      <td>0.0</td>\n",
              "      <td>0.0</td>\n",
              "    </tr>\n",
              "    <tr>\n",
              "      <th>1000-50-6</th>\n",
              "      <td>N-Butyldimethylchlorosilane</td>\n",
              "      <td>C6H15ClSi</td>\n",
              "      <td>150.063155</td>\n",
              "      <td>['C', 'H', 'Cl', 'Si']</td>\n",
              "      <td>InChI=1/C6H15ClSi/c1-4-5-6-8(2,3)7/h4-6H2,1-3H3</td>\n",
              "      <td>CCCC[Si](C)(C)Cl</td>\n",
              "      <td>1.0</td>\n",
              "      <td>1.0</td>\n",
              "      <td>0.0</td>\n",
              "      <td>0.0</td>\n",
              "      <td>...</td>\n",
              "      <td>0.0</td>\n",
              "      <td>0.0</td>\n",
              "      <td>0.0</td>\n",
              "      <td>0.0</td>\n",
              "      <td>0.0</td>\n",
              "      <td>0.0</td>\n",
              "      <td>0.0</td>\n",
              "      <td>0.0</td>\n",
              "      <td>0.0</td>\n",
              "      <td>0.0</td>\n",
              "    </tr>\n",
              "    <tr>\n",
              "      <th>...</th>\n",
              "      <td>...</td>\n",
              "      <td>...</td>\n",
              "      <td>...</td>\n",
              "      <td>...</td>\n",
              "      <td>...</td>\n",
              "      <td>...</td>\n",
              "      <td>...</td>\n",
              "      <td>...</td>\n",
              "      <td>...</td>\n",
              "      <td>...</td>\n",
              "      <td>...</td>\n",
              "      <td>...</td>\n",
              "      <td>...</td>\n",
              "      <td>...</td>\n",
              "      <td>...</td>\n",
              "      <td>...</td>\n",
              "      <td>...</td>\n",
              "      <td>...</td>\n",
              "      <td>...</td>\n",
              "      <td>...</td>\n",
              "      <td>...</td>\n",
              "    </tr>\n",
              "    <tr>\n",
              "      <th>99-97-8</th>\n",
              "      <td>Benzenamine, N,N,4-trimethyl-</td>\n",
              "      <td>C9H13N</td>\n",
              "      <td>135.104799</td>\n",
              "      <td>['C', 'H', 'N']</td>\n",
              "      <td>InChI=1/C9H13N/c1-8-4-6-9(7-5-8)10(2)3/h4-7H,1...</td>\n",
              "      <td>CN(C)c1ccc(C)cc1</td>\n",
              "      <td>0.0</td>\n",
              "      <td>1.0</td>\n",
              "      <td>0.0</td>\n",
              "      <td>0.0</td>\n",
              "      <td>...</td>\n",
              "      <td>1.0</td>\n",
              "      <td>0.0</td>\n",
              "      <td>0.0</td>\n",
              "      <td>0.0</td>\n",
              "      <td>0.0</td>\n",
              "      <td>0.0</td>\n",
              "      <td>0.0</td>\n",
              "      <td>0.0</td>\n",
              "      <td>0.0</td>\n",
              "      <td>0.0</td>\n",
              "    </tr>\n",
              "    <tr>\n",
              "      <th>999-78-0</th>\n",
              "      <td>2-Pentyne, 4,4-dimethyl-</td>\n",
              "      <td>C7H12</td>\n",
              "      <td>96.093900</td>\n",
              "      <td>['C', 'H']</td>\n",
              "      <td>InChI=1/C7H12/c1-5-6-7(2,3)4/h1-4H3</td>\n",
              "      <td>CC#CC(C)(C)C</td>\n",
              "      <td>1.0</td>\n",
              "      <td>1.0</td>\n",
              "      <td>0.0</td>\n",
              "      <td>1.0</td>\n",
              "      <td>...</td>\n",
              "      <td>0.0</td>\n",
              "      <td>0.0</td>\n",
              "      <td>0.0</td>\n",
              "      <td>0.0</td>\n",
              "      <td>0.0</td>\n",
              "      <td>0.0</td>\n",
              "      <td>0.0</td>\n",
              "      <td>0.0</td>\n",
              "      <td>0.0</td>\n",
              "      <td>0.0</td>\n",
              "    </tr>\n",
              "    <tr>\n",
              "      <th>999-81-5</th>\n",
              "      <td>Ammonium chloride, 2-chloroethyltrimethyl-</td>\n",
              "      <td>C5H13ClN.Cl</td>\n",
              "      <td>157.042505</td>\n",
              "      <td>['C', 'H', 'Cl', 'N', 'Cl']</td>\n",
              "      <td>InChI=1/C5H13ClN.ClH/c1-7(2,3)5-4-6;/h4-5H2,1-...</td>\n",
              "      <td>[Cl-].C[N+](C)(C)CCCl</td>\n",
              "      <td>1.0</td>\n",
              "      <td>1.0</td>\n",
              "      <td>0.0</td>\n",
              "      <td>0.0</td>\n",
              "      <td>...</td>\n",
              "      <td>0.0</td>\n",
              "      <td>1.0</td>\n",
              "      <td>0.0</td>\n",
              "      <td>0.0</td>\n",
              "      <td>0.0</td>\n",
              "      <td>0.0</td>\n",
              "      <td>0.0</td>\n",
              "      <td>0.0</td>\n",
              "      <td>0.0</td>\n",
              "      <td>0.0</td>\n",
              "    </tr>\n",
              "    <tr>\n",
              "      <th>99-99-0</th>\n",
              "      <td>Benzene, 1-methyl-4-nitro-</td>\n",
              "      <td>C7H7NO2</td>\n",
              "      <td>137.047678</td>\n",
              "      <td>['C', 'H', 'N', 'O']</td>\n",
              "      <td>InChI=1/C7H7NO2/c1-6-2-4-7(5-3-6)8(9)10/h2-5H,1H3</td>\n",
              "      <td>Cc1ccc(cc1)[N+]([O-])=O</td>\n",
              "      <td>0.0</td>\n",
              "      <td>1.0</td>\n",
              "      <td>0.0</td>\n",
              "      <td>0.0</td>\n",
              "      <td>...</td>\n",
              "      <td>1.0</td>\n",
              "      <td>0.0</td>\n",
              "      <td>0.0</td>\n",
              "      <td>0.0</td>\n",
              "      <td>0.0</td>\n",
              "      <td>0.0</td>\n",
              "      <td>0.0</td>\n",
              "      <td>0.0</td>\n",
              "      <td>0.0</td>\n",
              "      <td>1.0</td>\n",
              "    </tr>\n",
              "    <tr>\n",
              "      <th>999-97-3</th>\n",
              "      <td>Silanamine, 1,1,1-trimethyl-N-(trimethylsilyl)-</td>\n",
              "      <td>C6H19NSi2</td>\n",
              "      <td>161.105603</td>\n",
              "      <td>['C', 'H', 'N', 'Si']</td>\n",
              "      <td>InChI=1/C6H19NSi2/c1-8(2,3)7-9(4,5)6/h7H,1-6H3</td>\n",
              "      <td>C[Si](C)(C)N[Si](C)(C)C</td>\n",
              "      <td>0.0</td>\n",
              "      <td>1.0</td>\n",
              "      <td>0.0</td>\n",
              "      <td>0.0</td>\n",
              "      <td>...</td>\n",
              "      <td>0.0</td>\n",
              "      <td>0.0</td>\n",
              "      <td>0.0</td>\n",
              "      <td>0.0</td>\n",
              "      <td>0.0</td>\n",
              "      <td>0.0</td>\n",
              "      <td>0.0</td>\n",
              "      <td>0.0</td>\n",
              "      <td>0.0</td>\n",
              "      <td>0.0</td>\n",
              "    </tr>\n",
              "  </tbody>\n",
              "</table>\n",
              "<p>12233 rows × 23 columns</p>\n",
              "</div>\n",
              "      <button class=\"colab-df-convert\" onclick=\"convertToInteractive('df-fea9101b-a7d9-4095-8538-ff476399ac73')\"\n",
              "              title=\"Convert this dataframe to an interactive table.\"\n",
              "              style=\"display:none;\">\n",
              "        \n",
              "  <svg xmlns=\"http://www.w3.org/2000/svg\" height=\"24px\"viewBox=\"0 0 24 24\"\n",
              "       width=\"24px\">\n",
              "    <path d=\"M0 0h24v24H0V0z\" fill=\"none\"/>\n",
              "    <path d=\"M18.56 5.44l.94 2.06.94-2.06 2.06-.94-2.06-.94-.94-2.06-.94 2.06-2.06.94zm-11 1L8.5 8.5l.94-2.06 2.06-.94-2.06-.94L8.5 2.5l-.94 2.06-2.06.94zm10 10l.94 2.06.94-2.06 2.06-.94-2.06-.94-.94-2.06-.94 2.06-2.06.94z\"/><path d=\"M17.41 7.96l-1.37-1.37c-.4-.4-.92-.59-1.43-.59-.52 0-1.04.2-1.43.59L10.3 9.45l-7.72 7.72c-.78.78-.78 2.05 0 2.83L4 21.41c.39.39.9.59 1.41.59.51 0 1.02-.2 1.41-.59l7.78-7.78 2.81-2.81c.8-.78.8-2.07 0-2.86zM5.41 20L4 18.59l7.72-7.72 1.47 1.35L5.41 20z\"/>\n",
              "  </svg>\n",
              "      </button>\n",
              "      \n",
              "  <style>\n",
              "    .colab-df-container {\n",
              "      display:flex;\n",
              "      flex-wrap:wrap;\n",
              "      gap: 12px;\n",
              "    }\n",
              "\n",
              "    .colab-df-convert {\n",
              "      background-color: #E8F0FE;\n",
              "      border: none;\n",
              "      border-radius: 50%;\n",
              "      cursor: pointer;\n",
              "      display: none;\n",
              "      fill: #1967D2;\n",
              "      height: 32px;\n",
              "      padding: 0 0 0 0;\n",
              "      width: 32px;\n",
              "    }\n",
              "\n",
              "    .colab-df-convert:hover {\n",
              "      background-color: #E2EBFA;\n",
              "      box-shadow: 0px 1px 2px rgba(60, 64, 67, 0.3), 0px 1px 3px 1px rgba(60, 64, 67, 0.15);\n",
              "      fill: #174EA6;\n",
              "    }\n",
              "\n",
              "    [theme=dark] .colab-df-convert {\n",
              "      background-color: #3B4455;\n",
              "      fill: #D2E3FC;\n",
              "    }\n",
              "\n",
              "    [theme=dark] .colab-df-convert:hover {\n",
              "      background-color: #434B5C;\n",
              "      box-shadow: 0px 1px 3px 1px rgba(0, 0, 0, 0.15);\n",
              "      filter: drop-shadow(0px 1px 2px rgba(0, 0, 0, 0.3));\n",
              "      fill: #FFFFFF;\n",
              "    }\n",
              "  </style>\n",
              "\n",
              "      <script>\n",
              "        const buttonEl =\n",
              "          document.querySelector('#df-fea9101b-a7d9-4095-8538-ff476399ac73 button.colab-df-convert');\n",
              "        buttonEl.style.display =\n",
              "          google.colab.kernel.accessAllowed ? 'block' : 'none';\n",
              "\n",
              "        async function convertToInteractive(key) {\n",
              "          const element = document.querySelector('#df-fea9101b-a7d9-4095-8538-ff476399ac73');\n",
              "          const dataTable =\n",
              "            await google.colab.kernel.invokeFunction('convertToInteractive',\n",
              "                                                     [key], {});\n",
              "          if (!dataTable) return;\n",
              "\n",
              "          const docLinkHtml = 'Like what you see? Visit the ' +\n",
              "            '<a target=\"_blank\" href=https://colab.research.google.com/notebooks/data_table.ipynb>data table notebook</a>'\n",
              "            + ' to learn more about interactive tables.';\n",
              "          element.innerHTML = '';\n",
              "          dataTable['output_type'] = 'display_data';\n",
              "          await google.colab.output.renderOutput(dataTable, element);\n",
              "          const docLink = document.createElement('div');\n",
              "          docLink.innerHTML = docLinkHtml;\n",
              "          element.appendChild(docLink);\n",
              "        }\n",
              "      </script>\n",
              "    </div>\n",
              "  </div>\n",
              "  "
            ]
          },
          "metadata": {},
          "execution_count": 5
        }
      ],
      "source": [
        "labels_df = pd.read_csv('/content/IR_expert_system/data/nist_ir_spectra_inchi_group_list.csv')\n",
        "labels_df = labels_df.set_index(\"CAS\")\n",
        "labels_df"
      ]
    },
    {
      "cell_type": "markdown",
      "metadata": {
        "id": "SVi23rRm0p-g"
      },
      "source": [
        "Импорт данных и обработка спектров"
      ]
    },
    {
      "cell_type": "code",
      "execution_count": 6,
      "metadata": {
        "id": "NP_f_VuZfjcG",
        "colab": {
          "base_uri": "https://localhost:8080/",
          "height": 0
        },
        "outputId": "bb79bf24-c5d5-4b29-8d91-18a9bc709a5a"
      },
      "outputs": [
        {
          "output_type": "stream",
          "name": "stdout",
          "text": [
            "File can't be read, please check: /content/IR_expert_system/downloaded_jcamp/ir/142-04-1\n",
            "File can't be read, please check: /content/IR_expert_system/downloaded_jcamp/ir/1223-20-7\n",
            "File can't be read, please check: /content/IR_expert_system/downloaded_jcamp/ir/490-79-9\n",
            "File can't be read, please check: /content/IR_expert_system/downloaded_jcamp/ir/16688-98-5\n",
            "File can't be read, please check: /content/IR_expert_system/downloaded_jcamp/ir/20188-28-7\n",
            "File can't be read, please check: /content/IR_expert_system/downloaded_jcamp/ir/1120-07-6\n",
            "File can't be read, please check: /content/IR_expert_system/downloaded_jcamp/ir/10137-65-2\n",
            "File can't be read, please check: /content/IR_expert_system/downloaded_jcamp/ir/16960-08-0\n",
            "File can't be read, please check: /content/IR_expert_system/downloaded_jcamp/ir/116295-52-4\n",
            "File can't be read, please check: /content/IR_expert_system/downloaded_jcamp/ir/116402-12-1\n",
            "File can't be read, please check: /content/IR_expert_system/downloaded_jcamp/ir/116402-19-8\n",
            "File can't be read, please check: /content/IR_expert_system/downloaded_jcamp/ir/56201-37-7\n",
            "File can't be read, please check: /content/IR_expert_system/downloaded_jcamp/ir/6623-59-2\n",
            "File can't be read, please check: /content/IR_expert_system/downloaded_jcamp/ir/116401-38-8\n",
            "File can't be read, please check: /content/IR_expert_system/downloaded_jcamp/ir/16805-78-0\n",
            "File can't be read, please check: /content/IR_expert_system/downloaded_jcamp/ir/98546-20-4\n",
            "File can't be read, please check: /content/IR_expert_system/downloaded_jcamp/ir/7631-86-9\n",
            "File can't be read, please check: /content/IR_expert_system/downloaded_jcamp/ir/1570-64-5\n",
            "File can't be read, please check: /content/IR_expert_system/downloaded_jcamp/ir/98-60-2\n",
            "File can't be read, please check: /content/IR_expert_system/downloaded_jcamp/ir/102-07-8\n",
            "File can't be read, please check: /content/IR_expert_system/downloaded_jcamp/ir/142-53-0\n",
            "File can't be read, please check: /content/IR_expert_system/downloaded_jcamp/ir/13909-29-0\n",
            "File can't be read, please check: /content/IR_expert_system/downloaded_jcamp/ir/94622-10-3\n",
            "File can't be read, please check: /content/IR_expert_system/downloaded_jcamp/ir/1520-22-5\n",
            "File can't be read, please check: /content/IR_expert_system/downloaded_jcamp/ir/1009-61-6\n",
            "File can't be read, please check: /content/IR_expert_system/downloaded_jcamp/ir/76-03-9\n",
            "File can't be read, please check: /content/IR_expert_system/downloaded_jcamp/ir/4121-44-2\n",
            "File can't be read, please check: /content/IR_expert_system/downloaded_jcamp/ir/18054-10-9\n",
            "File can't be read, please check: /content/IR_expert_system/downloaded_jcamp/ir/614-80-2\n",
            "File can't be read, please check: /content/IR_expert_system/downloaded_jcamp/ir/94-80-4\n",
            "File can't be read, please check: /content/IR_expert_system/downloaded_jcamp/ir/6851-46-3\n",
            "File can't be read, please check: /content/IR_expert_system/downloaded_jcamp/ir/6358-15-2\n",
            "File can't be read, please check: /content/IR_expert_system/downloaded_jcamp/ir/484-67-3\n",
            "File can't be read, please check: /content/IR_expert_system/downloaded_jcamp/ir/7525-62-4\n",
            "File can't be read, please check: /content/IR_expert_system/downloaded_jcamp/ir/6319-85-3\n",
            "File can't be read, please check: /content/IR_expert_system/downloaded_jcamp/ir/23063-36-7\n",
            "File can't be read, please check: /content/IR_expert_system/downloaded_jcamp/ir/36668-18-5\n",
            "File can't be read, please check: /content/IR_expert_system/downloaded_jcamp/ir/116401-63-9\n",
            "File can't be read, please check: /content/IR_expert_system/downloaded_jcamp/ir/3165-93-3\n",
            "File can't be read, please check: /content/IR_expert_system/downloaded_jcamp/ir/607-07-8\n",
            "File can't be read, please check: /content/IR_expert_system/downloaded_jcamp/ir/54932-77-3\n",
            "File can't be read, please check: /content/IR_expert_system/downloaded_jcamp/ir/116402-17-6\n",
            "File can't be read, please check: /content/IR_expert_system/downloaded_jcamp/ir/4472-73-5\n",
            "File can't be read, please check: /content/IR_expert_system/downloaded_jcamp/ir/79-36-7\n",
            "File can't be read, please check: /content/IR_expert_system/downloaded_jcamp/ir/62108-69-4\n",
            "File can't be read, please check: /content/IR_expert_system/downloaded_jcamp/ir/13031-43-1\n",
            "File can't be read, please check: /content/IR_expert_system/downloaded_jcamp/ir/2917-65-9\n",
            "File can't be read, please check: /content/IR_expert_system/downloaded_jcamp/ir/103-01-5\n",
            "File can't be read, please check: /content/IR_expert_system/downloaded_jcamp/ir/10143-54-1\n",
            "File can't be read, please check: /content/IR_expert_system/downloaded_jcamp/ir/59869-24-8\n",
            "File can't be read, please check: /content/IR_expert_system/downloaded_jcamp/ir/4215-80-9\n",
            "File can't be read, please check: /content/IR_expert_system/downloaded_jcamp/ir/2150-47-2\n",
            "File can't be read, please check: /content/IR_expert_system/downloaded_jcamp/ir/677-43-0\n",
            "File can't be read, please check: /content/IR_expert_system/downloaded_jcamp/ir/96-07-1\n",
            "File can't be read, please check: /content/IR_expert_system/downloaded_jcamp/ir/3871-31-6\n",
            "File can't be read, please check: /content/IR_expert_system/downloaded_jcamp/ir/116401-36-6\n",
            "File can't be read, please check: /content/IR_expert_system/downloaded_jcamp/ir/109818-37-3\n",
            "File can't be read, please check: /content/IR_expert_system/downloaded_jcamp/ir/4083-64-1\n",
            "File can't be read, please check: /content/IR_expert_system/downloaded_jcamp/ir/933-18-6\n",
            "File can't be read, please check: /content/IR_expert_system/downloaded_jcamp/ir/116401-55-9\n",
            "File can't be read, please check: /content/IR_expert_system/downloaded_jcamp/ir/139-13-9\n",
            "File can't be read, please check: /content/IR_expert_system/downloaded_jcamp/ir/116436-28-3\n",
            "File can't be read, please check: /content/IR_expert_system/downloaded_jcamp/ir/109444-32-8\n",
            "File can't be read, please check: /content/IR_expert_system/downloaded_jcamp/ir/18961-95-0\n",
            "File can't be read, please check: /content/IR_expert_system/downloaded_jcamp/ir/50993-51-6\n",
            "File can't be read, please check: /content/IR_expert_system/downloaded_jcamp/ir/2155-42-2\n",
            "File can't be read, please check: /content/IR_expert_system/downloaded_jcamp/ir/497-19-8\n",
            "File can't be read, please check: /content/IR_expert_system/downloaded_jcamp/ir/683-18-1\n",
            "File can't be read, please check: /content/IR_expert_system/downloaded_jcamp/ir/4039-92-3\n",
            "File can't be read, please check: /content/IR_expert_system/downloaded_jcamp/ir/103034-71-5\n",
            "File can't be read, please check: /content/IR_expert_system/downloaded_jcamp/ir/116436-38-5\n",
            "File can't be read, please check: /content/IR_expert_system/downloaded_jcamp/ir/116401-97-9\n",
            "File can't be read, please check: /content/IR_expert_system/downloaded_jcamp/ir/97-18-7\n",
            "File can't be read, please check: /content/IR_expert_system/downloaded_jcamp/ir/3944-36-3\n",
            "File can't be read, please check: /content/IR_expert_system/downloaded_jcamp/ir/116594-65-1\n",
            "File can't be read, please check: /content/IR_expert_system/downloaded_jcamp/ir/93-03-8\n",
            "File can't be read, please check: /content/IR_expert_system/downloaded_jcamp/ir/115-85-5\n",
            "File can't be read, please check: /content/IR_expert_system/downloaded_jcamp/ir/116402-01-8\n",
            "File can't be read, please check: /content/IR_expert_system/downloaded_jcamp/ir/13133-29-4\n",
            "File can't be read, please check: /content/IR_expert_system/downloaded_jcamp/ir/685-63-2\n",
            "File can't be read, please check: /content/IR_expert_system/downloaded_jcamp/ir/6258-28-2\n",
            "File can't be read, please check: /content/IR_expert_system/downloaded_jcamp/ir/1172-76-5\n",
            "File can't be read, please check: /content/IR_expert_system/downloaded_jcamp/ir/2050-66-0\n",
            "File can't be read, please check: /content/IR_expert_system/downloaded_jcamp/ir/3279-07-0\n",
            "File can't be read, please check: /content/IR_expert_system/downloaded_jcamp/ir/95817-71-3\n",
            "File can't be read, please check: /content/IR_expert_system/downloaded_jcamp/ir/94-01-9\n",
            "File can't be read, please check: /content/IR_expert_system/downloaded_jcamp/ir/116402-60-9\n",
            "File can't be read, please check: /content/IR_expert_system/downloaded_jcamp/ir/106472-11-1\n",
            "File can't be read, please check: /content/IR_expert_system/downloaded_jcamp/ir/4099-63-2\n",
            "File can't be read, please check: /content/IR_expert_system/downloaded_jcamp/ir/19116-37-1\n",
            "File can't be read, please check: /content/IR_expert_system/downloaded_jcamp/ir/2545-59-7\n",
            "File can't be read, please check: /content/IR_expert_system/downloaded_jcamp/ir/60285-29-2\n",
            "File can't be read, please check: /content/IR_expert_system/downloaded_jcamp/ir/3088-15-1\n",
            "File can't be read, please check: /content/IR_expert_system/downloaded_jcamp/ir/33024-51-0\n",
            "File can't be read, please check: /content/IR_expert_system/downloaded_jcamp/ir/21209-30-3\n",
            "File can't be read, please check: /content/IR_expert_system/downloaded_jcamp/ir/1569-01-3\n",
            "File can't be read, please check: /content/IR_expert_system/downloaded_jcamp/ir/13316-70-6\n",
            "File can't be read, please check: /content/IR_expert_system/downloaded_jcamp/ir/116402-07-4\n",
            "File can't be read, please check: /content/IR_expert_system/downloaded_jcamp/ir/54965-52-5\n",
            "File can't be read, please check: /content/IR_expert_system/downloaded_jcamp/ir/585-79-5\n",
            "File can't be read, please check: /content/IR_expert_system/downloaded_jcamp/ir/116401-18-4\n",
            "File can't be read, please check: /content/IR_expert_system/downloaded_jcamp/ir/1928-44-5\n",
            "File can't be read, please check: /content/IR_expert_system/downloaded_jcamp/ir/54815-21-3\n",
            "File can't be read, please check: /content/IR_expert_system/downloaded_jcamp/ir/120-93-4\n",
            "File can't be read, please check: /content/IR_expert_system/downloaded_jcamp/ir/15025-23-7\n",
            "File can't be read, please check: /content/IR_expert_system/downloaded_jcamp/ir/116401-11-7\n",
            "File can't be read, please check: /content/IR_expert_system/downloaded_jcamp/ir/20443-90-7\n",
            "File can't be read, please check: /content/IR_expert_system/downloaded_jcamp/ir/16189-06-3\n",
            "File can't be read, please check: /content/IR_expert_system/downloaded_jcamp/ir/46878-66-4\n",
            "File can't be read, please check: /content/IR_expert_system/downloaded_jcamp/ir/116401-99-1\n",
            "File can't be read, please check: /content/IR_expert_system/downloaded_jcamp/ir/51698-77-2\n",
            "File can't be read, please check: /content/IR_expert_system/downloaded_jcamp/ir/116295-67-1\n",
            "File can't be read, please check: /content/IR_expert_system/downloaded_jcamp/ir/116436-35-2\n",
            "File can't be read, please check: /content/IR_expert_system/downloaded_jcamp/ir/88-99-3\n",
            "File can't be read, please check: /content/IR_expert_system/downloaded_jcamp/ir/3326-89-4\n",
            "File can't be read, please check: /content/IR_expert_system/downloaded_jcamp/ir/127-54-8\n",
            "File can't be read, please check: /content/IR_expert_system/downloaded_jcamp/ir/56-40-6\n",
            "File can't be read, please check: /content/IR_expert_system/downloaded_jcamp/ir/998-30-1\n",
            "File can't be read, please check: /content/IR_expert_system/downloaded_jcamp/ir/116402-10-9\n",
            "File can't be read, please check: /content/IR_expert_system/downloaded_jcamp/ir/6969-52-4\n",
            "File can't be read, please check: /content/IR_expert_system/downloaded_jcamp/ir/1475-11-2\n",
            "File can't be read, please check: /content/IR_expert_system/downloaded_jcamp/ir/10487-71-5\n",
            "File can't be read, please check: /content/IR_expert_system/downloaded_jcamp/ir/96933-86-7\n",
            "File can't be read, please check: /content/IR_expert_system/downloaded_jcamp/ir/4237-37-0\n",
            "File can't be read, please check: /content/IR_expert_system/downloaded_jcamp/ir/116402-43-8\n",
            "File can't be read, please check: /content/IR_expert_system/downloaded_jcamp/ir/612-69-1\n",
            "File can't be read, please check: /content/IR_expert_system/downloaded_jcamp/ir/6596-69-6\n",
            "File can't be read, please check: /content/IR_expert_system/downloaded_jcamp/ir/51892-04-7\n",
            "File can't be read, please check: /content/IR_expert_system/downloaded_jcamp/ir/4813-57-4\n",
            "File can't be read, please check: /content/IR_expert_system/downloaded_jcamp/ir/66799-44-8\n",
            "File can't be read, please check: /content/IR_expert_system/downloaded_jcamp/ir/85-34-7\n",
            "File can't be read, please check: /content/IR_expert_system/downloaded_jcamp/ir/222552-35-4\n",
            "File can't be read, please check: /content/IR_expert_system/downloaded_jcamp/ir/926-65-8\n",
            "File can't be read, please check: /content/IR_expert_system/downloaded_jcamp/ir/41998-16-7\n",
            "File can't be read, please check: /content/IR_expert_system/downloaded_jcamp/ir/18645-22-2\n",
            "File can't be read, please check: /content/IR_expert_system/downloaded_jcamp/ir/127-63-9\n",
            "File can't be read, please check: /content/IR_expert_system/downloaded_jcamp/ir/116402-64-3\n",
            "File can't be read, please check: /content/IR_expert_system/downloaded_jcamp/ir/90221-54-8\n",
            "File can't be read, please check: /content/IR_expert_system/downloaded_jcamp/ir/116402-09-6\n",
            "File can't be read, please check: /content/IR_expert_system/downloaded_jcamp/ir/2416-98-0\n",
            "File can't be read, please check: /content/IR_expert_system/downloaded_jcamp/ir/2432-11-3\n",
            "File can't be read, please check: /content/IR_expert_system/downloaded_jcamp/ir/627-83-8\n",
            "File can't be read, please check: /content/IR_expert_system/downloaded_jcamp/ir/624-03-3\n",
            "File can't be read, please check: /content/IR_expert_system/downloaded_jcamp/ir/100062-67-7\n",
            "File can't be read, please check: /content/IR_expert_system/downloaded_jcamp/ir/1498-65-3\n",
            "File can't be read, please check: /content/IR_expert_system/downloaded_jcamp/ir/637-56-9\n",
            "File can't be read, please check: /content/IR_expert_system/downloaded_jcamp/ir/2467-03-0\n",
            "File can't be read, please check: /content/IR_expert_system/downloaded_jcamp/ir/1141-61-3\n",
            "File can't be read, please check: /content/IR_expert_system/downloaded_jcamp/ir/108-78-1\n",
            "File can't be read, please check: /content/IR_expert_system/downloaded_jcamp/ir/22303-30-6\n",
            "File can't be read, please check: /content/IR_expert_system/downloaded_jcamp/ir/109425-98-1\n",
            "File can't be read, please check: /content/IR_expert_system/downloaded_jcamp/ir/19202-04-1\n",
            "File can't be read, please check: /content/IR_expert_system/downloaded_jcamp/ir/24197-40-8\n",
            "File can't be read, please check: /content/IR_expert_system/downloaded_jcamp/ir/116401-37-7\n",
            "File can't be read, please check: /content/IR_expert_system/downloaded_jcamp/ir/20484-34-8\n",
            "File can't be read, please check: /content/IR_expert_system/downloaded_jcamp/ir/34593-74-3\n",
            "File can't be read, please check: /content/IR_expert_system/downloaded_jcamp/ir/72083-19-3\n",
            "File can't be read, please check: /content/IR_expert_system/downloaded_jcamp/ir/52112-07-9\n",
            "File can't be read, please check: /content/IR_expert_system/downloaded_jcamp/ir/589-10-6\n",
            "File can't be read, please check: /content/IR_expert_system/downloaded_jcamp/ir/2362-18-7\n",
            "File can't be read, please check: /content/IR_expert_system/downloaded_jcamp/ir/577-92-4\n",
            "File can't be read, please check: /content/IR_expert_system/downloaded_jcamp/ir/3035-67-4\n",
            "File can't be read, please check: /content/IR_expert_system/downloaded_jcamp/ir/607-04-5\n",
            "File can't be read, please check: /content/IR_expert_system/downloaded_jcamp/ir/1420-07-1\n",
            "File can't be read, please check: /content/IR_expert_system/downloaded_jcamp/ir/25014-31-7\n",
            "File can't be read, please check: /content/IR_expert_system/downloaded_jcamp/ir/1667-04-5\n",
            "File can't be read, please check: /content/IR_expert_system/downloaded_jcamp/ir/74-90-8\n",
            "File can't be read, please check: /content/IR_expert_system/downloaded_jcamp/ir/556-53-6\n",
            "File can't be read, please check: /content/IR_expert_system/downloaded_jcamp/ir/25056-70-6\n",
            "File can't be read, please check: /content/IR_expert_system/downloaded_jcamp/ir/64022-00-0\n",
            "File can't be read, please check: /content/IR_expert_system/downloaded_jcamp/ir/1975-52-6\n",
            "File can't be read, please check: /content/IR_expert_system/downloaded_jcamp/ir/51920-60-6\n",
            "File can't be read, please check: /content/IR_expert_system/downloaded_jcamp/ir/88-89-1\n",
            "File can't be read, please check: /content/IR_expert_system/downloaded_jcamp/ir/1589-47-5\n",
            "File can't be read, please check: /content/IR_expert_system/downloaded_jcamp/ir/607-12-5\n",
            "File can't be read, please check: /content/IR_expert_system/downloaded_jcamp/ir/20210-97-3\n",
            "File can't be read, please check: /content/IR_expert_system/downloaded_jcamp/ir/102701-87-1\n",
            "File can't be read, please check: /content/IR_expert_system/downloaded_jcamp/ir/116295-53-5\n",
            "File can't be read, please check: /content/IR_expert_system/downloaded_jcamp/ir/3995-38-8\n",
            "File can't be read, please check: /content/IR_expert_system/downloaded_jcamp/ir/20748-26-9\n",
            "File can't be read, please check: /content/IR_expert_system/downloaded_jcamp/ir/136-84-5\n",
            "File can't be read, please check: /content/IR_expert_system/downloaded_jcamp/ir/7153-08-4\n",
            "File can't be read, please check: /content/IR_expert_system/downloaded_jcamp/ir/116632-95-2\n",
            "File can't be read, please check: /content/IR_expert_system/downloaded_jcamp/ir/5393-22-6\n",
            "File can't be read, please check: /content/IR_expert_system/downloaded_jcamp/ir/3344-19-2\n",
            "File can't be read, please check: /content/IR_expert_system/downloaded_jcamp/ir/116496-63-0\n",
            "File can't be read, please check: /content/IR_expert_system/downloaded_jcamp/ir/116402-03-0\n",
            "File can't be read, please check: /content/IR_expert_system/downloaded_jcamp/ir/557-91-5\n",
            "File can't be read, please check: /content/IR_expert_system/downloaded_jcamp/ir/2213-71-0\n",
            "File can't be read, please check: /content/IR_expert_system/downloaded_jcamp/ir/18653-98-0\n",
            "File can't be read, please check: /content/IR_expert_system/downloaded_jcamp/ir/1104-93-4\n",
            "File can't be read, please check: /content/IR_expert_system/downloaded_jcamp/ir/5335-24-0\n",
            "File can't be read, please check: /content/IR_expert_system/downloaded_jcamp/ir/24480-26-0\n",
            "File can't be read, please check: /content/IR_expert_system/downloaded_jcamp/ir/103-03-7\n",
            "File can't be read, please check: /content/IR_expert_system/downloaded_jcamp/ir/90920-28-8\n",
            "File can't be read, please check: /content/IR_expert_system/downloaded_jcamp/ir/116402-54-1\n",
            "File can't be read, please check: /content/IR_expert_system/downloaded_jcamp/ir/26073-26-7\n",
            "File can't be read, please check: /content/IR_expert_system/downloaded_jcamp/ir/82-64-4\n",
            "File can't be read, please check: /content/IR_expert_system/downloaded_jcamp/ir/943-27-1\n",
            "File can't be read, please check: /content/IR_expert_system/downloaded_jcamp/ir/1929-73-3\n",
            "File can't be read, please check: /content/IR_expert_system/downloaded_jcamp/ir/7398-82-5\n",
            "File can't be read, please check: /content/IR_expert_system/downloaded_jcamp/ir/30542-21-3\n",
            "File can't be read, please check: /content/IR_expert_system/downloaded_jcamp/ir/557-05-1\n",
            "File can't be read, please check: /content/IR_expert_system/downloaded_jcamp/ir/3072-02-4\n",
            "File can't be read, please check: /content/IR_expert_system/downloaded_jcamp/ir/116403-17-9\n",
            "File can't be read, please check: /content/IR_expert_system/downloaded_jcamp/ir/1291-47-0\n",
            "File can't be read, please check: /content/IR_expert_system/downloaded_jcamp/ir/4169-04-4\n",
            "File can't be read, please check: /content/IR_expert_system/downloaded_jcamp/ir/110252-31-8\n",
            "File can't be read, please check: /content/IR_expert_system/downloaded_jcamp/ir/116558-00-0\n",
            "File can't be read, please check: /content/IR_expert_system/downloaded_jcamp/ir/1798-04-5\n",
            "File can't be read, please check: /content/IR_expert_system/downloaded_jcamp/ir/780-24-5\n",
            "File can't be read, please check: /content/IR_expert_system/downloaded_jcamp/ir/1697-34-3\n",
            "File can't be read, please check: /content/IR_expert_system/downloaded_jcamp/ir/116495-90-0\n",
            "File can't be read, please check: /content/IR_expert_system/downloaded_jcamp/ir/1503-53-3\n",
            "File can't be read, please check: /content/IR_expert_system/downloaded_jcamp/ir/28358-98-7\n",
            "File can't be read, please check: /content/IR_expert_system/downloaded_jcamp/ir/116495-76-2\n",
            "File can't be read, please check: /content/IR_expert_system/downloaded_jcamp/ir/729-62-4\n",
            "File can't be read, please check: /content/IR_expert_system/downloaded_jcamp/ir/101166-96-5\n",
            "File can't be read, please check: /content/IR_expert_system/downloaded_jcamp/ir/101-80-4\n",
            "File can't be read, please check: /content/IR_expert_system/downloaded_jcamp/ir/109-74-0\n",
            "File can't be read, please check: /content/IR_expert_system/downloaded_jcamp/ir/5414-19-7\n",
            "File can't be read, please check: /content/IR_expert_system/downloaded_jcamp/ir/119-27-7\n",
            "File can't be read, please check: /content/IR_expert_system/downloaded_jcamp/ir/824-47-5\n",
            "File can't be read, please check: /content/IR_expert_system/downloaded_jcamp/ir/108878-18-8\n",
            "File can't be read, please check: /content/IR_expert_system/downloaded_jcamp/ir/14163-82-7\n",
            "File can't be read, please check: /content/IR_expert_system/downloaded_jcamp/ir/25543-96-8\n",
            "File can't be read, please check: /content/IR_expert_system/downloaded_jcamp/ir/99972-22-2\n",
            "File can't be read, please check: /content/IR_expert_system/downloaded_jcamp/ir/18773-38-1\n",
            "File can't be read, please check: /content/IR_expert_system/downloaded_jcamp/ir/1137-41-3\n",
            "File can't be read, please check: /content/IR_expert_system/downloaded_jcamp/ir/25770-53-0\n",
            "File can't be read, please check: /content/IR_expert_system/downloaded_jcamp/ir/115-88-8\n",
            "File can't be read, please check: /content/IR_expert_system/downloaded_jcamp/ir/112-28-7\n",
            "File can't be read, please check: /content/IR_expert_system/downloaded_jcamp/ir/2867-05-2\n",
            "File can't be read, please check: /content/IR_expert_system/downloaded_jcamp/ir/873-32-5\n",
            "File can't be read, please check: /content/IR_expert_system/downloaded_jcamp/ir/4132-49-4\n",
            "File can't be read, please check: /content/IR_expert_system/downloaded_jcamp/ir/116295-50-2\n",
            "File can't be read, please check: /content/IR_expert_system/downloaded_jcamp/ir/136-25-4\n",
            "File can't be read, please check: /content/IR_expert_system/downloaded_jcamp/ir/57338-87-1\n",
            "File can't be read, please check: /content/IR_expert_system/downloaded_jcamp/ir/18979-50-5\n",
            "File can't be read, please check: /content/IR_expert_system/downloaded_jcamp/ir/2621-46-7\n",
            "File can't be read, please check: /content/IR_expert_system/downloaded_jcamp/ir/4214-28-2\n",
            "File can't be read, please check: /content/IR_expert_system/downloaded_jcamp/ir/7116-95-2\n",
            "File can't be read, please check: /content/IR_expert_system/downloaded_jcamp/ir/94-51-9\n",
            "File can't be read, please check: /content/IR_expert_system/downloaded_jcamp/ir/92-05-7\n",
            "File can't be read, please check: /content/IR_expert_system/downloaded_jcamp/ir/577-55-9\n",
            "File can't be read, please check: /content/IR_expert_system/downloaded_jcamp/ir/501-30-4\n",
            "File can't be read, please check: /content/IR_expert_system/downloaded_jcamp/ir/599-64-4\n",
            "File can't be read, please check: /content/IR_expert_system/downloaded_jcamp/ir/50-78-2\n",
            "File can't be read, please check: /content/IR_expert_system/downloaded_jcamp/ir/62-76-0\n",
            "File can't be read, please check: /content/IR_expert_system/downloaded_jcamp/ir/605-71-0\n",
            "File can't be read, please check: /content/IR_expert_system/downloaded_jcamp/ir/77-99-6\n",
            "File can't be read, please check: /content/IR_expert_system/downloaded_jcamp/ir/99-77-4\n",
            "File can't be read, please check: /content/IR_expert_system/downloaded_jcamp/ir/94-11-1\n",
            "File can't be read, please check: /content/IR_expert_system/downloaded_jcamp/ir/142-26-7\n",
            "File can't be read, please check: /content/IR_expert_system/downloaded_jcamp/ir/59893-28-6\n",
            "File can't be read, please check: /content/IR_expert_system/downloaded_jcamp/ir/116402-58-5\n",
            "File can't be read, please check: /content/IR_expert_system/downloaded_jcamp/ir/600-18-0\n",
            "File can't be read, please check: /content/IR_expert_system/downloaded_jcamp/ir/116401-04-8\n",
            "File can't be read, please check: /content/IR_expert_system/downloaded_jcamp/ir/934-53-2\n",
            "File can't be read, please check: /content/IR_expert_system/downloaded_jcamp/ir/116400-86-3\n",
            "File can't be read, please check: /content/IR_expert_system/downloaded_jcamp/ir/1878-49-5\n",
            "File can't be read, please check: /content/IR_expert_system/downloaded_jcamp/ir/140-05-6\n",
            "File can't be read, please check: /content/IR_expert_system/downloaded_jcamp/ir/109593-91-1\n",
            "File can't be read, please check: /content/IR_expert_system/downloaded_jcamp/ir/116401-98-0\n",
            "File can't be read, please check: /content/IR_expert_system/downloaded_jcamp/ir/65-45-2\n",
            "File can't be read, please check: /content/IR_expert_system/downloaded_jcamp/ir/2052-01-9\n",
            "File can't be read, please check: /content/IR_expert_system/downloaded_jcamp/ir/1999-85-5\n",
            "File can't be read, please check: /content/IR_expert_system/downloaded_jcamp/ir/34946-84-4\n",
            "File can't be read, please check: /content/IR_expert_system/downloaded_jcamp/ir/86711-71-9\n",
            "File can't be read, please check: /content/IR_expert_system/downloaded_jcamp/ir/24483-72-5\n",
            "File can't be read, please check: /content/IR_expert_system/downloaded_jcamp/ir/3147-45-3\n",
            "File can't be read, please check: /content/IR_expert_system/downloaded_jcamp/ir/116402-59-6\n",
            "File can't be read, please check: /content/IR_expert_system/downloaded_jcamp/ir/104-86-9\n",
            "File can't be read, please check: /content/IR_expert_system/downloaded_jcamp/ir/609-31-4\n",
            "File can't be read, please check: /content/IR_expert_system/downloaded_jcamp/ir/619-60-3\n",
            "File can't be read, please check: /content/IR_expert_system/downloaded_jcamp/ir/2802-06-4\n",
            "File can't be read, please check: /content/IR_expert_system/downloaded_jcamp/ir/20503-92-8\n",
            "File can't be read, please check: /content/IR_expert_system/downloaded_jcamp/ir/4432-34-2\n",
            "File can't be read, please check: /content/IR_expert_system/downloaded_jcamp/ir/7790-94-5\n",
            "File can't be read, please check: /content/IR_expert_system/downloaded_jcamp/ir/92-53-5\n",
            "File can't be read, please check: /content/IR_expert_system/downloaded_jcamp/ir/2425-28-7\n",
            "File can't be read, please check: /content/IR_expert_system/downloaded_jcamp/ir/444-15-5\n",
            "File can't be read, please check: /content/IR_expert_system/downloaded_jcamp/ir/1570-65-6\n",
            "File can't be read, please check: /content/IR_expert_system/downloaded_jcamp/ir/3010-82-0\n",
            "File can't be read, please check: /content/IR_expert_system/downloaded_jcamp/ir/116401-62-8\n",
            "File can't be read, please check: /content/IR_expert_system/downloaded_jcamp/ir/22192-82-1\n",
            "File can't be read, please check: /content/IR_expert_system/downloaded_jcamp/ir/100541-30-8\n",
            "File can't be read, please check: /content/IR_expert_system/downloaded_jcamp/ir/88-03-9\n",
            "File can't be read, please check: /content/IR_expert_system/downloaded_jcamp/ir/5392-86-9\n",
            "File can't be read, please check: /content/IR_expert_system/downloaded_jcamp/ir/51-19-4\n",
            "File can't be read, please check: /content/IR_expert_system/downloaded_jcamp/ir/502-99-8\n",
            "File can't be read, please check: /content/IR_expert_system/downloaded_jcamp/ir/2078-71-9\n",
            "File can't be read, please check: /content/IR_expert_system/downloaded_jcamp/ir/611-99-4\n",
            "File can't be read, please check: /content/IR_expert_system/downloaded_jcamp/ir/1304-56-9\n",
            "File can't be read, please check: /content/IR_expert_system/downloaded_jcamp/ir/6941-69-1\n",
            "File can't be read, please check: /content/IR_expert_system/downloaded_jcamp/ir/14027-78-2\n",
            "File can't be read, please check: /content/IR_expert_system/downloaded_jcamp/ir/55955-97-0\n",
            "File can't be read, please check: /content/IR_expert_system/downloaded_jcamp/ir/7501-30-6\n",
            "File can't be read, please check: /content/IR_expert_system/downloaded_jcamp/ir/100725-06-2\n",
            "File can't be read, please check: /content/IR_expert_system/downloaded_jcamp/ir/22820-60-6\n",
            "File can't be read, please check: /content/IR_expert_system/downloaded_jcamp/ir/99973-91-8\n",
            "File can't be read, please check: /content/IR_expert_system/downloaded_jcamp/ir/116495-83-1\n",
            "File can't be read, please check: /content/IR_expert_system/downloaded_jcamp/ir/2085-88-3\n",
            "File can't be read, please check: /content/IR_expert_system/downloaded_jcamp/ir/2576-47-8\n",
            "File can't be read, please check: /content/IR_expert_system/downloaded_jcamp/ir/1579-40-4\n",
            "File can't be read, please check: /content/IR_expert_system/downloaded_jcamp/ir/2479-47-2\n",
            "File can't be read, please check: /content/IR_expert_system/downloaded_jcamp/ir/116465-30-6\n",
            "File can't be read, please check: /content/IR_expert_system/downloaded_jcamp/ir/2591-71-1\n",
            "File can't be read, please check: /content/IR_expert_system/downloaded_jcamp/ir/3141-27-3\n",
            "File can't be read, please check: /content/IR_expert_system/downloaded_jcamp/ir/23689-34-1\n",
            "File can't be read, please check: /content/IR_expert_system/downloaded_jcamp/ir/304-06-3\n",
            "File can't be read, please check: /content/IR_expert_system/downloaded_jcamp/ir/33082-88-1\n",
            "File can't be read, please check: /content/IR_expert_system/downloaded_jcamp/ir/116402-06-3\n",
            "File can't be read, please check: /content/IR_expert_system/downloaded_jcamp/ir/1003-09-4\n",
            "File can't be read, please check: /content/IR_expert_system/downloaded_jcamp/ir/77619-93-3\n",
            "File can't be read, please check: /content/IR_expert_system/downloaded_jcamp/ir/619-08-9\n",
            "File can't be read, please check: /content/IR_expert_system/downloaded_jcamp/ir/558-30-5\n",
            "File can't be read, please check: /content/IR_expert_system/downloaded_jcamp/ir/69470-50-4\n",
            "File can't be read, please check: /content/IR_expert_system/downloaded_jcamp/ir/96-94-6\n",
            "File can't be read, please check: /content/IR_expert_system/downloaded_jcamp/ir/116373-45-6\n",
            "File can't be read, please check: /content/IR_expert_system/downloaded_jcamp/ir/116435-15-5\n",
            "File can't be read, please check: /content/IR_expert_system/downloaded_jcamp/ir/6983-03-5\n",
            "File can't be read, please check: /content/IR_expert_system/downloaded_jcamp/ir/4132-48-3\n",
            "File can't be read, please check: /content/IR_expert_system/downloaded_jcamp/ir/116295-51-3\n",
            "File can't be read, please check: /content/IR_expert_system/downloaded_jcamp/ir/19361-91-2\n",
            "File can't be read, please check: /content/IR_expert_system/downloaded_jcamp/ir/109105-43-3\n",
            "File can't be read, please check: /content/IR_expert_system/downloaded_jcamp/ir/22539-65-7\n",
            "File can't be read, please check: /content/IR_expert_system/downloaded_jcamp/ir/116434-87-8\n",
            "File can't be read, please check: /content/IR_expert_system/downloaded_jcamp/ir/619-58-9\n",
            "File can't be read, please check: /content/IR_expert_system/downloaded_jcamp/ir/2767-77-3\n",
            "File can't be read, please check: /content/IR_expert_system/downloaded_jcamp/ir/23730-10-1\n",
            "File can't be read, please check: /content/IR_expert_system/downloaded_jcamp/ir/116402-02-9\n",
            "File can't be read, please check: /content/IR_expert_system/downloaded_jcamp/ir/3732-81-8\n",
            "File can't be read, please check: /content/IR_expert_system/downloaded_jcamp/ir/101654-23-3\n",
            "File can't be read, please check: /content/IR_expert_system/downloaded_jcamp/ir/101081-07-6\n",
            "File can't be read, please check: /content/IR_expert_system/downloaded_jcamp/ir/67-51-6\n",
            "File can't be read, please check: /content/IR_expert_system/downloaded_jcamp/ir/40275-41-0\n",
            "File can't be read, please check: /content/IR_expert_system/downloaded_jcamp/ir/1015-38-9\n",
            "File can't be read, please check: /content/IR_expert_system/downloaded_jcamp/ir/14685-29-1\n",
            "File can't be read, please check: /content/IR_expert_system/downloaded_jcamp/ir/85-97-2\n",
            "File can't be read, please check: /content/IR_expert_system/downloaded_jcamp/ir/106-58-1\n",
            "File can't be read, please check: /content/IR_expert_system/downloaded_jcamp/ir/132801-79-7\n",
            "File can't be read, please check: /content/IR_expert_system/downloaded_jcamp/ir/55162-40-8\n",
            "File can't be read, please check: /content/IR_expert_system/downloaded_jcamp/ir/52938-79-1\n",
            "File can't be read, please check: /content/IR_expert_system/downloaded_jcamp/ir/79-06-1\n",
            "File can't be read, please check: /content/IR_expert_system/downloaded_jcamp/ir/4007-00-5\n",
            "File can't be read, please check: /content/IR_expert_system/downloaded_jcamp/ir/110194-18-8\n",
            "File can't be read, please check: /content/IR_expert_system/downloaded_jcamp/ir/4097-48-7\n",
            "File can't be read, please check: /content/IR_expert_system/downloaded_jcamp/ir/116374-01-7\n",
            "File can't be read, please check: /content/IR_expert_system/downloaded_jcamp/ir/116401-96-8\n",
            "File can't be read, please check: /content/IR_expert_system/downloaded_jcamp/ir/116402-42-7\n",
            "File can't be read, please check: /content/IR_expert_system/downloaded_jcamp/ir/1801-72-5\n",
            "File can't be read, please check: /content/IR_expert_system/downloaded_jcamp/ir/73953-80-7\n",
            "File can't be read, please check: /content/IR_expert_system/downloaded_jcamp/ir/141-20-8\n",
            "File can't be read, please check: /content/IR_expert_system/downloaded_jcamp/ir/74478-95-8\n",
            "File can't be read, please check: /content/IR_expert_system/downloaded_jcamp/ir/4439-20-7\n",
            "File can't be read, please check: /content/IR_expert_system/downloaded_jcamp/ir/39101-64-9\n",
            "File can't be read, please check: /content/IR_expert_system/downloaded_jcamp/ir/13909-02-9\n",
            "File can't be read, please check: /content/IR_expert_system/downloaded_jcamp/ir/7045-89-8\n",
            "File can't be read, please check: /content/IR_expert_system/downloaded_jcamp/ir/1806-26-4\n",
            "File can't be read, please check: /content/IR_expert_system/downloaded_jcamp/ir/89-86-1\n",
            "File can't be read, please check: /content/IR_expert_system/downloaded_jcamp/ir/4405-42-9\n",
            "File can't be read, please check: /content/IR_expert_system/downloaded_jcamp/ir/10268-65-2\n",
            "File can't be read, please check: /content/IR_expert_system/downloaded_jcamp/ir/10425-05-5\n",
            "File can't be read, please check: /content/IR_expert_system/downloaded_jcamp/ir/116465-42-0\n",
            "File can't be read, please check: /content/IR_expert_system/downloaded_jcamp/ir/99-02-5\n",
            "File can't be read, please check: /content/IR_expert_system/downloaded_jcamp/ir/116402-00-7\n",
            "File can't be read, please check: /content/IR_expert_system/downloaded_jcamp/ir/874-42-0\n",
            "File can't be read, please check: /content/IR_expert_system/downloaded_jcamp/ir/89693-51-6\n",
            "File can't be read, please check: /content/IR_expert_system/downloaded_jcamp/ir/262-20-4\n",
            "File can't be read, please check: /content/IR_expert_system/downloaded_jcamp/ir/116436-41-0\n",
            "File can't be read, please check: /content/IR_expert_system/downloaded_jcamp/ir/54965-53-6\n",
            "File can't be read, please check: /content/IR_expert_system/downloaded_jcamp/ir/22192-81-0\n",
            "File can't be read, please check: /content/IR_expert_system/downloaded_jcamp/ir/611-07-4\n",
            "File can't be read, please check: /content/IR_expert_system/downloaded_jcamp/ir/94-81-5\n",
            "File can't be read, please check: /content/IR_expert_system/downloaded_jcamp/ir/6328-44-5\n",
            "File can't be read, please check: /content/IR_expert_system/downloaded_jcamp/ir/16805-77-9\n",
            "File can't be read, please check: /content/IR_expert_system/downloaded_jcamp/ir/118-71-8\n",
            "File can't be read, please check: /content/IR_expert_system/downloaded_jcamp/ir/78-45-5\n",
            "File can't be read, please check: /content/IR_expert_system/downloaded_jcamp/ir/55012-69-6\n",
            "File can't be read, please check: /content/IR_expert_system/downloaded_jcamp/ir/108-57-6\n",
            "File can't be read, please check: /content/IR_expert_system/downloaded_jcamp/ir/54819-86-2\n",
            "File can't be read, please check: /content/IR_expert_system/downloaded_jcamp/ir/64968-99-6\n",
            "File can't be read, please check: /content/IR_expert_system/downloaded_jcamp/ir/20474-93-5\n",
            "File can't be read, please check: /content/IR_expert_system/downloaded_jcamp/ir/132829-84-6\n",
            "File can't be read, please check: /content/IR_expert_system/downloaded_jcamp/ir/614-33-5\n",
            "File can't be read, please check: /content/IR_expert_system/downloaded_jcamp/ir/6824-60-8\n",
            "File can't be read, please check: /content/IR_expert_system/downloaded_jcamp/ir/19829-72-2\n",
            "File can't be read, please check: /content/IR_expert_system/downloaded_jcamp/ir/74-11-3\n",
            "File can't be read, please check: /content/IR_expert_system/downloaded_jcamp/ir/42974-40-3\n",
            "File can't be read, please check: /content/IR_expert_system/downloaded_jcamp/ir/3871-23-6\n",
            "File can't be read, please check: /content/IR_expert_system/downloaded_jcamp/ir/3898-41-7\n",
            "File can't be read, please check: /content/IR_expert_system/downloaded_jcamp/ir/13395-85-2\n",
            "File can't be read, please check: /content/IR_expert_system/downloaded_jcamp/ir/101097-83-0\n",
            "File can't be read, please check: /content/IR_expert_system/downloaded_jcamp/ir/3179-63-3\n",
            "File can't be read, please check: /content/IR_expert_system/downloaded_jcamp/ir/2498-66-0\n",
            "File can't be read, please check: /content/IR_expert_system/downloaded_jcamp/ir/116373-31-0\n",
            "File can't be read, please check: /content/IR_expert_system/downloaded_jcamp/ir/6529-53-9\n",
            "File can't be read, please check: /content/IR_expert_system/downloaded_jcamp/ir/116401-40-2\n",
            "File can't be read, please check: /content/IR_expert_system/downloaded_jcamp/ir/77008-64-1\n",
            "File can't be read, please check: /content/IR_expert_system/downloaded_jcamp/ir/112-86-7\n",
            "File can't be read, please check: /content/IR_expert_system/downloaded_jcamp/ir/116401-41-3\n",
            "File can't be read, please check: /content/IR_expert_system/downloaded_jcamp/ir/17181-49-6\n",
            "File can't be read, please check: /content/IR_expert_system/downloaded_jcamp/ir/100062-58-6\n",
            "File can't be read, please check: /content/IR_expert_system/downloaded_jcamp/ir/57558-57-3\n",
            "File can't be read, please check: /content/IR_expert_system/downloaded_jcamp/ir/65976-60-5\n",
            "File can't be read, please check: /content/IR_expert_system/downloaded_jcamp/ir/116402-46-1\n",
            "File can't be read, please check: /content/IR_expert_system/downloaded_jcamp/ir/5328-01-8\n",
            "File can't be read, please check: /content/IR_expert_system/downloaded_jcamp/ir/39809-83-1\n",
            "File can't be read, please check: /content/IR_expert_system/downloaded_jcamp/ir/606-12-2\n",
            "File can't be read, please check: /content/IR_expert_system/downloaded_jcamp/ir/58901-13-6\n",
            "File can't be read, please check: /content/IR_expert_system/downloaded_jcamp/ir/112-39-0\n",
            "File can't be read, please check: /content/IR_expert_system/downloaded_jcamp/ir/2591-66-4\n",
            "File can't be read, please check: /content/IR_expert_system/downloaded_jcamp/ir/599-62-2\n",
            "File can't be read, please check: /content/IR_expert_system/downloaded_jcamp/ir/119-84-6\n",
            "File can't be read, please check: /content/IR_expert_system/downloaded_jcamp/ir/133318-33-9\n",
            "File can't be read, please check: /content/IR_expert_system/downloaded_jcamp/ir/64-10-8\n",
            "File can't be read, please check: /content/IR_expert_system/downloaded_jcamp/ir/70-49-5\n",
            "File can't be read, please check: /content/IR_expert_system/downloaded_jcamp/ir/6161-86-0\n",
            "File can't be read, please check: /content/IR_expert_system/downloaded_jcamp/ir/131-89-5\n",
            "File can't be read, please check: /content/IR_expert_system/downloaded_jcamp/ir/116402-66-5\n",
            "File can't be read, please check: /content/IR_expert_system/downloaded_jcamp/ir/116595-13-2\n",
            "File can't be read, please check: /content/IR_expert_system/downloaded_jcamp/ir/7509-22-0\n",
            "File can't be read, please check: /content/IR_expert_system/downloaded_jcamp/ir/591-07-1\n",
            "File can't be read, please check: /content/IR_expert_system/downloaded_jcamp/ir/814-78-8\n",
            "File can't be read, please check: /content/IR_expert_system/downloaded_jcamp/ir/116402-47-2\n",
            "File can't be read, please check: /content/IR_expert_system/downloaded_jcamp/ir/116401-95-7\n",
            "File can't be read, please check: /content/IR_expert_system/downloaded_jcamp/ir/531-75-9\n",
            "File can't be read, please check: /content/IR_expert_system/downloaded_jcamp/ir/110-21-4\n",
            "File can't be read, please check: /content/IR_expert_system/downloaded_jcamp/ir/61133-38-8\n",
            "File can't be read, please check: /content/IR_expert_system/downloaded_jcamp/ir/107558-84-9\n",
            "File can't be read, please check: /content/IR_expert_system/downloaded_jcamp/ir/2613-76-5\n",
            "File can't be read, please check: /content/IR_expert_system/downloaded_jcamp/ir/116402-04-1\n",
            "File can't be read, please check: /content/IR_expert_system/downloaded_jcamp/ir/3147-55-5\n",
            "File can't be read, please check: /content/IR_expert_system/downloaded_jcamp/ir/622-75-3\n",
            "File can't be read, please check: /content/IR_expert_system/downloaded_jcamp/ir/142-73-4\n",
            "File can't be read, please check: /content/IR_expert_system/downloaded_jcamp/ir/557-66-4\n",
            "File can't be read, please check: /content/IR_expert_system/downloaded_jcamp/ir/544-13-8\n",
            "File can't be read, please check: /content/IR_expert_system/downloaded_jcamp/ir/107559-24-0\n",
            "File can't be read, please check: /content/IR_expert_system/downloaded_jcamp/ir/993-13-5\n",
            "File can't be read, please check: /content/IR_expert_system/downloaded_jcamp/ir/22876-29-5\n",
            "File can't be read, please check: /content/IR_expert_system/downloaded_jcamp/ir/115-87-7\n",
            "File can't be read, please check: /content/IR_expert_system/downloaded_jcamp/ir/24078-21-5\n",
            "File can't be read, please check: /content/IR_expert_system/downloaded_jcamp/ir/79-97-0\n",
            "File can't be read, please check: /content/IR_expert_system/downloaded_jcamp/ir/16606-47-6\n",
            "File can't be read, please check: /content/IR_expert_system/downloaded_jcamp/ir/1866-15-5\n",
            "File can't be read, please check: /content/IR_expert_system/downloaded_jcamp/ir/681-04-9\n",
            "File can't be read, please check: /content/IR_expert_system/downloaded_jcamp/ir/54815-12-2\n",
            "File can't be read, please check: /content/IR_expert_system/downloaded_jcamp/ir/6287-38-3\n",
            "File can't be read, please check: /content/IR_expert_system/downloaded_jcamp/ir/95166-04-4\n",
            "File can't be read, please check: /content/IR_expert_system/downloaded_jcamp/ir/533-18-6\n",
            "File can't be read, please check: /content/IR_expert_system/downloaded_jcamp/ir/1572-99-2\n",
            "File can't be read, please check: /content/IR_expert_system/downloaded_jcamp/ir/140-66-9\n",
            "File can't be read, please check: /content/IR_expert_system/downloaded_jcamp/ir/621-56-7\n",
            "File can't be read, please check: /content/IR_expert_system/downloaded_jcamp/ir/3883-95-2\n",
            "File can't be read, please check: /content/IR_expert_system/downloaded_jcamp/ir/454-31-9\n",
            "File can't be read, please check: /content/IR_expert_system/downloaded_jcamp/ir/116595-14-3\n",
            "File can't be read, please check: /content/IR_expert_system/downloaded_jcamp/ir/696-63-9\n",
            "File can't be read, please check: /content/IR_expert_system/downloaded_jcamp/ir/93310-91-9\n",
            "File can't be read, please check: /content/IR_expert_system/downloaded_jcamp/ir/28469-92-3\n",
            "File can't be read, please check: /content/IR_expert_system/downloaded_jcamp/ir/116401-42-4\n",
            "File can't be read, please check: /content/IR_expert_system/downloaded_jcamp/ir/140-38-5\n",
            "File can't be read, please check: /content/IR_expert_system/downloaded_jcamp/ir/91-13-4\n",
            "File can't be read, please check: /content/IR_expert_system/downloaded_jcamp/ir/635-96-1\n",
            "File can't be read, please check: /content/IR_expert_system/downloaded_jcamp/ir/7803-51-2\n",
            "File can't be read, please check: /content/IR_expert_system/downloaded_jcamp/ir/2591-67-5\n",
            "File can't be read, please check: /content/IR_expert_system/downloaded_jcamp/ir/22710-11-8\n",
            "File can't be read, please check: /content/IR_expert_system/downloaded_jcamp/ir/116402-63-2\n",
            "File can't be read, please check: /content/IR_expert_system/downloaded_jcamp/ir/3991-61-5\n",
            "File can't be read, please check: /content/IR_expert_system/downloaded_jcamp/ir/586-75-4\n",
            "File can't be read, please check: /content/IR_expert_system/downloaded_jcamp/ir/116436-47-6\n",
            "File can't be read, please check: /content/IR_expert_system/downloaded_jcamp/ir/13908-23-1\n",
            "File can't be read, please check: /content/IR_expert_system/downloaded_jcamp/ir/83-56-7\n",
            "File can't be read, please check: /content/IR_expert_system/downloaded_jcamp/ir/93-79-8\n",
            "File can't be read, please check: /content/IR_expert_system/downloaded_jcamp/ir/623-76-7\n",
            "File can't be read, please check: /content/IR_expert_system/downloaded_jcamp/ir/1761-61-1\n",
            "File can't be read, please check: /content/IR_expert_system/downloaded_jcamp/ir/19094-75-8\n",
            "File can't be read, please check: /content/IR_expert_system/downloaded_jcamp/ir/61133-37-7\n",
            "File can't be read, please check: /content/IR_expert_system/downloaded_jcamp/ir/110252-33-0\n",
            "File can't be read, please check: /content/IR_expert_system/downloaded_jcamp/ir/87-41-2\n",
            "File can't be read, please check: /content/IR_expert_system/downloaded_jcamp/ir/116296-26-5\n",
            "File can't be read, please check: /content/IR_expert_system/downloaded_jcamp/ir/2123-27-5\n",
            "File can't be read, please check: /content/IR_expert_system/downloaded_jcamp/ir/635-11-0\n",
            "File can't be read, please check: /content/IR_expert_system/downloaded_jcamp/ir/92-92-2\n",
            "File can't be read, please check: /content/IR_expert_system/downloaded_jcamp/ir/22291-52-7\n",
            "File can't be read, please check: /content/IR_expert_system/downloaded_jcamp/ir/98-66-8\n",
            "File can't be read, please check: /content/IR_expert_system/downloaded_jcamp/ir/140-22-7\n"
          ]
        }
      ],
      "source": [
        "from jcamp import jcamp_readfile\n",
        "nist_ir_spectra_list_with_group = pd.read_csv('/content/IR_expert_system/data/nist_ir_spectra_inchi_group_list.csv')\n",
        "# Create an empty list to store spectra data\n",
        "ref_spectra = []\n",
        "# choose current directory\n",
        "curr_directory = os.getcwd()\n",
        "os.chdir(curr_directory)  # set to current directory\n",
        "files = glob.glob('/content/IR_expert_system/downloaded_jcamp/ir/*')  # look for files without extension. Returns a list.\n",
        "# Try to read the file. If can't be read, skip it.\n",
        "dataset_dic = {}\n",
        "for i, file in enumerate(files):\n",
        "    \n",
        "    #print(file)\n",
        "    try:\n",
        "        # read jcamp file using the jcamp class and store data into the\n",
        "        # ref_spectra list\n",
        "        sample = jcamp_readfile(file)\n",
        "        #Forming data into the types\n",
        "        sample['x'] = sample['x'].astype(np.float32)\n",
        "        sample['y'] = sample['y'].astype(np.float32)\n",
        "        sample['firstx'] = np.float32(sample['x'][0])\n",
        "        #print(type(sample['firstx']))\n",
        "        sample['deltax'] = ((np.float32(sample['firstx'])-np.float32(sample['lastx']))/np.float32(sample['npoints']))\n",
        "        sample['npoints'] = int(sample['npoints'])    \n",
        "        # uniformize data, #1:\n",
        "        # check yunits: If yunits is in transmission, change it to absorbance.\n",
        "        # Later create a function to uniformize units\n",
        "        if sample['yunits'] == \"ABSORBANCE\":\n",
        "            pass \n",
        "\n",
        "        elif sample['yunits'] == \"TRANSMISSION\" or sample['yunits'] == \"TRANSMITTANCE\":\n",
        "            \n",
        "            sample['y'] = 1 - sample['y']\n",
        "            sample['yunits'] = \"ABSORBANCE\"\n",
        "            \n",
        "            #normalize\n",
        "           \n",
        "        # check xunits: if in microns, change to 1/cm\n",
        "\n",
        "        if sample['xunits'] == \"MICROMETERS\":\n",
        "            sample['x'] = 10000 / sample['x']\n",
        "            sample['xunits'] = '1/CM'\n",
        "            sample['firstx'] = np.float32(sample['x'][0])\n",
        "            sample['lastx'] = np.float32(sample['x'][int(sample['npoints'])-1])\n",
        "            sample['deltax'] = ((np.float32(sample['firstx'])-np.float32(sample['lastx']))/np.float32(sample['npoints']))\n",
        "            #if sample['deltax'] == np.nan: print(float(sample['firstx'])-float(sample['lastx'])), float(sample['npoints'])\n",
        "            sample['maxx'] =  np.float32(max(sample['x']))\n",
        "            sample['minx'] =  np.float32(min(sample['x']))\n",
        "        # check deltax: if Nan, change to (maxx-minx)/npoints\n",
        "        #if sample['deltax'] == np.nan: sample['deltax'] = ((float(sample['firstx'])-float(sample['lastx']))/float(sample['npoints']))\n",
        "\n",
        "        # !Still need to uniformize x-axis range and uniformize x-axis intervals.\n",
        "        #Flitting the x array if it is not in min_to_max order\n",
        "        if sample['x'][0] > sample['x'][3]: \n",
        "           #print(sample['x'])\n",
        "           sample['x'] = np.flip(sample['x'])\n",
        "           #print(sample['x'])\n",
        "           sample['y'] = np.flip(sample['y'])\n",
        "           sample['firstx'] = np.float32(sample['x'][0])\n",
        "           sample['lastx'] = np.float32(sample['x'][int(sample['npoints'])-1])\n",
        "           \n",
        "        \n",
        "        #Saving data to dictionary under cas num\n",
        "        dataset_dic[sample['cas registry no']] = sample\n",
        "        #print(sample['cas registry no'])\n",
        "        # Nan check\n",
        "        if np.isnan(sample['y']).any(): print(\"Reading jcamp problem! Nan observed in Y\")\n",
        "                \n",
        "\n",
        "    except:\n",
        "         print(\"File can't be read, please check:\", file)\n",
        "         continue\n",
        "\n",
        "#print(dataset_dic)"
      ]
    },
    {
      "cell_type": "code",
      "execution_count": 7,
      "metadata": {
        "colab": {
          "base_uri": "https://localhost:8080/",
          "height": 424
        },
        "id": "ZC5YV7yF1JTQ",
        "outputId": "51d1e11a-82b3-4d01-b154-2a117d4bd334"
      },
      "outputs": [
        {
          "output_type": "execute_result",
          "data": {
            "text/plain": [
              "                                                             x  \\\n",
              "20316-32-9   [629.56036, 629.8335, 630.105, 630.3768, 630.6...   \n",
              "76-15-3      [450.0, 454.0, 458.0, 462.0, 466.0, 470.0, 474...   \n",
              "515-84-4     [448.0, 449.0, 450.0, 451.0, 452.0, 453.0, 454...   \n",
              "61847-80-1   [550.0, 554.0, 558.0, 562.0, 566.0, 570.0, 574...   \n",
              "13909-23-4   [592.026, 593.62164, 595.2173, 596.8129, 598.4...   \n",
              "...                                                        ...   \n",
              "112121-78-5  [624.9217, 625.8937, 626.86566, 627.83765, 628...   \n",
              "59973-07-8   [549.863, 551.7923, 553.7216, 555.6509, 557.58...   \n",
              "613-80-9     [549.863, 551.7923, 553.7216, 555.6509, 557.58...   \n",
              "1538-74-5    [625.54346, 625.8093, 626.0755, 626.3418, 626....   \n",
              "584-26-9     [451.0, 452.0, 453.0, 454.0, 455.0, 456.0, 457...   \n",
              "\n",
              "                                                             y        minx  \\\n",
              "20316-32-9   [0.639, 0.639, 0.64100003, 0.64100003, 0.64100...  629.560364   \n",
              "76-15-3      [0.0, 0.009901914, 0.011193468, 0.00932789, 0....         450   \n",
              "515-84-4     [0.167, 0.16610003, 0.16509998, 0.16420001, 0....         448   \n",
              "61847-80-1   [0.0004368, 0.0002736, 0.0001728, 0.0001608, 9...         550   \n",
              "13909-23-4   [0.110000014, 0.110000014, 0.110000014, 0.1100...     592.026   \n",
              "...                                                        ...         ...   \n",
              "112121-78-5  [0.3934, 0.3976, 0.4012, 0.40570003, 0.4121000...     624.922   \n",
              "59973-07-8   [0.00011, 0.00019, 0.00022, 0.00019, 0.00017, ...     549.863   \n",
              "613-80-9     [0.000857, 0.0009, 0.000753, 0.000757, 0.00076...     549.863   \n",
              "1538-74-5    [0.273, 0.273, 0.273, 0.273, 0.273, 0.27100003...  625.543457   \n",
              "584-26-9     [0.14840001, 0.14859998, 0.1494, 0.1505, 0.151...         451   \n",
              "\n",
              "                    maxx npoints  \n",
              "20316-32-9   4933.399414    2027  \n",
              "76-15-3             3966     880  \n",
              "515-84-4            3798    3351  \n",
              "61847-80-1          3846     825  \n",
              "13909-23-4        4005.1    2141  \n",
              "...                  ...     ...  \n",
              "112121-78-5      3904.37    3375  \n",
              "59973-07-8       3999.53    1789  \n",
              "613-80-9         3999.53    1789  \n",
              "1538-74-5    4950.495117    2060  \n",
              "584-26-9            3800    3350  \n",
              "\n",
              "[14346 rows x 5 columns]"
            ],
            "text/html": [
              "\n",
              "  <div id=\"df-4ac69d30-6add-4a7e-b1b9-3f7d44bf9129\">\n",
              "    <div class=\"colab-df-container\">\n",
              "      <div>\n",
              "<style scoped>\n",
              "    .dataframe tbody tr th:only-of-type {\n",
              "        vertical-align: middle;\n",
              "    }\n",
              "\n",
              "    .dataframe tbody tr th {\n",
              "        vertical-align: top;\n",
              "    }\n",
              "\n",
              "    .dataframe thead th {\n",
              "        text-align: right;\n",
              "    }\n",
              "</style>\n",
              "<table border=\"1\" class=\"dataframe\">\n",
              "  <thead>\n",
              "    <tr style=\"text-align: right;\">\n",
              "      <th></th>\n",
              "      <th>x</th>\n",
              "      <th>y</th>\n",
              "      <th>minx</th>\n",
              "      <th>maxx</th>\n",
              "      <th>npoints</th>\n",
              "    </tr>\n",
              "  </thead>\n",
              "  <tbody>\n",
              "    <tr>\n",
              "      <th>20316-32-9</th>\n",
              "      <td>[629.56036, 629.8335, 630.105, 630.3768, 630.6...</td>\n",
              "      <td>[0.639, 0.639, 0.64100003, 0.64100003, 0.64100...</td>\n",
              "      <td>629.560364</td>\n",
              "      <td>4933.399414</td>\n",
              "      <td>2027</td>\n",
              "    </tr>\n",
              "    <tr>\n",
              "      <th>76-15-3</th>\n",
              "      <td>[450.0, 454.0, 458.0, 462.0, 466.0, 470.0, 474...</td>\n",
              "      <td>[0.0, 0.009901914, 0.011193468, 0.00932789, 0....</td>\n",
              "      <td>450</td>\n",
              "      <td>3966</td>\n",
              "      <td>880</td>\n",
              "    </tr>\n",
              "    <tr>\n",
              "      <th>515-84-4</th>\n",
              "      <td>[448.0, 449.0, 450.0, 451.0, 452.0, 453.0, 454...</td>\n",
              "      <td>[0.167, 0.16610003, 0.16509998, 0.16420001, 0....</td>\n",
              "      <td>448</td>\n",
              "      <td>3798</td>\n",
              "      <td>3351</td>\n",
              "    </tr>\n",
              "    <tr>\n",
              "      <th>61847-80-1</th>\n",
              "      <td>[550.0, 554.0, 558.0, 562.0, 566.0, 570.0, 574...</td>\n",
              "      <td>[0.0004368, 0.0002736, 0.0001728, 0.0001608, 9...</td>\n",
              "      <td>550</td>\n",
              "      <td>3846</td>\n",
              "      <td>825</td>\n",
              "    </tr>\n",
              "    <tr>\n",
              "      <th>13909-23-4</th>\n",
              "      <td>[592.026, 593.62164, 595.2173, 596.8129, 598.4...</td>\n",
              "      <td>[0.110000014, 0.110000014, 0.110000014, 0.1100...</td>\n",
              "      <td>592.026</td>\n",
              "      <td>4005.1</td>\n",
              "      <td>2141</td>\n",
              "    </tr>\n",
              "    <tr>\n",
              "      <th>...</th>\n",
              "      <td>...</td>\n",
              "      <td>...</td>\n",
              "      <td>...</td>\n",
              "      <td>...</td>\n",
              "      <td>...</td>\n",
              "    </tr>\n",
              "    <tr>\n",
              "      <th>112121-78-5</th>\n",
              "      <td>[624.9217, 625.8937, 626.86566, 627.83765, 628...</td>\n",
              "      <td>[0.3934, 0.3976, 0.4012, 0.40570003, 0.4121000...</td>\n",
              "      <td>624.922</td>\n",
              "      <td>3904.37</td>\n",
              "      <td>3375</td>\n",
              "    </tr>\n",
              "    <tr>\n",
              "      <th>59973-07-8</th>\n",
              "      <td>[549.863, 551.7923, 553.7216, 555.6509, 557.58...</td>\n",
              "      <td>[0.00011, 0.00019, 0.00022, 0.00019, 0.00017, ...</td>\n",
              "      <td>549.863</td>\n",
              "      <td>3999.53</td>\n",
              "      <td>1789</td>\n",
              "    </tr>\n",
              "    <tr>\n",
              "      <th>613-80-9</th>\n",
              "      <td>[549.863, 551.7923, 553.7216, 555.6509, 557.58...</td>\n",
              "      <td>[0.000857, 0.0009, 0.000753, 0.000757, 0.00076...</td>\n",
              "      <td>549.863</td>\n",
              "      <td>3999.53</td>\n",
              "      <td>1789</td>\n",
              "    </tr>\n",
              "    <tr>\n",
              "      <th>1538-74-5</th>\n",
              "      <td>[625.54346, 625.8093, 626.0755, 626.3418, 626....</td>\n",
              "      <td>[0.273, 0.273, 0.273, 0.273, 0.273, 0.27100003...</td>\n",
              "      <td>625.543457</td>\n",
              "      <td>4950.495117</td>\n",
              "      <td>2060</td>\n",
              "    </tr>\n",
              "    <tr>\n",
              "      <th>584-26-9</th>\n",
              "      <td>[451.0, 452.0, 453.0, 454.0, 455.0, 456.0, 457...</td>\n",
              "      <td>[0.14840001, 0.14859998, 0.1494, 0.1505, 0.151...</td>\n",
              "      <td>451</td>\n",
              "      <td>3800</td>\n",
              "      <td>3350</td>\n",
              "    </tr>\n",
              "  </tbody>\n",
              "</table>\n",
              "<p>14346 rows × 5 columns</p>\n",
              "</div>\n",
              "      <button class=\"colab-df-convert\" onclick=\"convertToInteractive('df-4ac69d30-6add-4a7e-b1b9-3f7d44bf9129')\"\n",
              "              title=\"Convert this dataframe to an interactive table.\"\n",
              "              style=\"display:none;\">\n",
              "        \n",
              "  <svg xmlns=\"http://www.w3.org/2000/svg\" height=\"24px\"viewBox=\"0 0 24 24\"\n",
              "       width=\"24px\">\n",
              "    <path d=\"M0 0h24v24H0V0z\" fill=\"none\"/>\n",
              "    <path d=\"M18.56 5.44l.94 2.06.94-2.06 2.06-.94-2.06-.94-.94-2.06-.94 2.06-2.06.94zm-11 1L8.5 8.5l.94-2.06 2.06-.94-2.06-.94L8.5 2.5l-.94 2.06-2.06.94zm10 10l.94 2.06.94-2.06 2.06-.94-2.06-.94-.94-2.06-.94 2.06-2.06.94z\"/><path d=\"M17.41 7.96l-1.37-1.37c-.4-.4-.92-.59-1.43-.59-.52 0-1.04.2-1.43.59L10.3 9.45l-7.72 7.72c-.78.78-.78 2.05 0 2.83L4 21.41c.39.39.9.59 1.41.59.51 0 1.02-.2 1.41-.59l7.78-7.78 2.81-2.81c.8-.78.8-2.07 0-2.86zM5.41 20L4 18.59l7.72-7.72 1.47 1.35L5.41 20z\"/>\n",
              "  </svg>\n",
              "      </button>\n",
              "      \n",
              "  <style>\n",
              "    .colab-df-container {\n",
              "      display:flex;\n",
              "      flex-wrap:wrap;\n",
              "      gap: 12px;\n",
              "    }\n",
              "\n",
              "    .colab-df-convert {\n",
              "      background-color: #E8F0FE;\n",
              "      border: none;\n",
              "      border-radius: 50%;\n",
              "      cursor: pointer;\n",
              "      display: none;\n",
              "      fill: #1967D2;\n",
              "      height: 32px;\n",
              "      padding: 0 0 0 0;\n",
              "      width: 32px;\n",
              "    }\n",
              "\n",
              "    .colab-df-convert:hover {\n",
              "      background-color: #E2EBFA;\n",
              "      box-shadow: 0px 1px 2px rgba(60, 64, 67, 0.3), 0px 1px 3px 1px rgba(60, 64, 67, 0.15);\n",
              "      fill: #174EA6;\n",
              "    }\n",
              "\n",
              "    [theme=dark] .colab-df-convert {\n",
              "      background-color: #3B4455;\n",
              "      fill: #D2E3FC;\n",
              "    }\n",
              "\n",
              "    [theme=dark] .colab-df-convert:hover {\n",
              "      background-color: #434B5C;\n",
              "      box-shadow: 0px 1px 3px 1px rgba(0, 0, 0, 0.15);\n",
              "      filter: drop-shadow(0px 1px 2px rgba(0, 0, 0, 0.3));\n",
              "      fill: #FFFFFF;\n",
              "    }\n",
              "  </style>\n",
              "\n",
              "      <script>\n",
              "        const buttonEl =\n",
              "          document.querySelector('#df-4ac69d30-6add-4a7e-b1b9-3f7d44bf9129 button.colab-df-convert');\n",
              "        buttonEl.style.display =\n",
              "          google.colab.kernel.accessAllowed ? 'block' : 'none';\n",
              "\n",
              "        async function convertToInteractive(key) {\n",
              "          const element = document.querySelector('#df-4ac69d30-6add-4a7e-b1b9-3f7d44bf9129');\n",
              "          const dataTable =\n",
              "            await google.colab.kernel.invokeFunction('convertToInteractive',\n",
              "                                                     [key], {});\n",
              "          if (!dataTable) return;\n",
              "\n",
              "          const docLinkHtml = 'Like what you see? Visit the ' +\n",
              "            '<a target=\"_blank\" href=https://colab.research.google.com/notebooks/data_table.ipynb>data table notebook</a>'\n",
              "            + ' to learn more about interactive tables.';\n",
              "          element.innerHTML = '';\n",
              "          dataTable['output_type'] = 'display_data';\n",
              "          await google.colab.output.renderOutput(dataTable, element);\n",
              "          const docLink = document.createElement('div');\n",
              "          docLink.innerHTML = docLinkHtml;\n",
              "          element.appendChild(docLink);\n",
              "        }\n",
              "      </script>\n",
              "    </div>\n",
              "  </div>\n",
              "  "
            ]
          },
          "metadata": {},
          "execution_count": 7
        }
      ],
      "source": [
        "dataset_df = pd.DataFrame(dataset_dic)\n",
        "dataset_df = dataset_df.transpose()\n",
        "dataset_df[['x', 'y', 'minx', 'maxx', 'npoints']]"
      ]
    },
    {
      "cell_type": "code",
      "execution_count": 8,
      "metadata": {
        "id": "__KIX_fw1OgT"
      },
      "outputs": [],
      "source": [
        "#Добавление к краям с исходным шагом крайнего значения y.\n",
        "def padding_ir_below(x, y, low_border):\n",
        "  '''\n",
        "    x, y - array-like data\n",
        "    low_border - border until which padding will continue \n",
        "\n",
        "    return padded x and y as lists\n",
        "  '''\n",
        "  x, y = list(x), list(y)\n",
        "  deltax = x[1]-x[0]\n",
        "  next_x = x[0]-deltax\n",
        "  while next_x > low_border:\n",
        "    x.insert(0, next_x)\n",
        "    y.insert(0, y[0])\n",
        "    next_x = x[0]-deltax\n",
        "  #Последняя итерация чтобы выйти за границу интерполирования\n",
        "  x.insert(0, next_x)\n",
        "  y.insert(0, y[0])\n",
        "  next_x = x[0]-deltax\n",
        "  return x, y\n",
        "\n",
        "def padding_ir_above(x, y, high_border):\n",
        "  '''\n",
        "    x, y - array-like data\n",
        "    high_border - border until which padding will continue \n",
        "\n",
        "\n",
        "    return padded x and y as lists\n",
        "  '''\n",
        "  x, y = list(x), list(y)\n",
        "  deltax = x[1]-x[0]\n",
        "  next_x = x[-1]+deltax\n",
        "  while next_x < high_border:\n",
        "    x.append(next_x)\n",
        "    y.append(y[-1])\n",
        "    next_x = x[-1]+deltax\n",
        "  #Последняя итерация чтобы выйти за границу интерполирования\n",
        "  x.append(next_x)\n",
        "  y.append(y[-1])\n",
        "  next_x = x[-1]+deltax\n",
        "  return x, y\n",
        "\n",
        "from scipy import interpolate\n",
        "\n",
        "def interpolate_in_borders_with_delta(x, y, borders = [500, 4100], deltax = 2):\n",
        "  '''\n",
        "  x, y - array like data\n",
        "  borders - list of [low_border, high border]\n",
        "  deltax - increment of new data\n",
        "\n",
        "  returns new x, y data as lists with increment = deltax\n",
        "  '''\n",
        "  x, y = list(x), list(y)\n",
        "  f = interpolate.interp1d(x, y)\n",
        "  #print(f(x[0]))\n",
        "  x_new = []\n",
        "  for i in range(borders[0], borders[1], deltax):\n",
        "    x_new.append(i)\n",
        "  x_new = np.array(x_new)\n",
        "  y_new = f(x_new)\n",
        "  \n",
        "  return x_new, y_new\n",
        "\n",
        "def find_peaks_indx(y):\n",
        "  index = index_utils(np.array(y), thres=0.05*max(y), min_dist=10, thres_abs = True)\n",
        "  return index"
      ]
    },
    {
      "cell_type": "code",
      "execution_count": 9,
      "metadata": {
        "colab": {
          "base_uri": "https://localhost:8080/",
          "height": 0
        },
        "id": "Spq9wkmB1WzZ",
        "outputId": "cb02e86d-fda8-4208-cb2d-3852f9f31795"
      },
      "outputs": [
        {
          "output_type": "stream",
          "name": "stderr",
          "text": [
            "100%|██████████| 14346/14346 [02:01<00:00, 118.24it/s]"
          ]
        },
        {
          "output_type": "stream",
          "name": "stdout",
          "text": [
            "Found 38 errors\n"
          ]
        },
        {
          "output_type": "stream",
          "name": "stderr",
          "text": [
            "\n"
          ]
        }
      ],
      "source": [
        "x_list, y_list = [], []\n",
        "y_peak_indx_list = []\n",
        "errors = 0\n",
        "for i in tqdm(range(len(dataset_df[['x']]))):\n",
        "  try:\n",
        "      x, y = dataset_df[['x']].iloc[i].tolist(), dataset_df[['y']].iloc[i].tolist()\n",
        "      x1, y1 = padding_ir_below(x[0], y[0], 500.0)\n",
        "\n",
        "      x2, y2 = padding_ir_above(x1, y1, 4100.0)\n",
        "  \n",
        "      x3, y3 = interpolate_in_borders_with_delta(x2, y2)\n",
        "      y_peak_indx = find_peaks_indx(y3)\n",
        "      y_peak_indx_list.append(y_peak_indx)\n",
        "      x_list.append(x3)\n",
        "      y_list.append(y3)\n",
        "  except ValueError:\n",
        "      #print(f'0: {len(x)}, {len(y)}, 1: {len(x1)}, {len(y1)}, 2: {len(x2)}, {len(y2)}')\n",
        "      errors +=1\n",
        "      x_list.append(np.nan)\n",
        "      y_list.append(np.nan) \n",
        "      y_peak_indx_list.append(np.nan)\n",
        "print(f'Found {errors} errors')\n"
      ]
    },
    {
      "cell_type": "code",
      "source": [
        "#Создаём дополнительный слой для входа в сеть, где +/- вокруг пика будет от 0 до 1, а вне - 0.\n",
        "#def print_peak_neighborhood(peak_indx, num_neighbors = 10):\n",
        "num_neighbors = 10\n",
        "y_masked_list = []\n",
        "for i in range(len(y_list)):\n",
        "  try:\n",
        "    y_masked = np.zeros(len(y_list[i]))\n",
        "  \n",
        "    for j in y_peak_indx_list[i]:\n",
        "      for k in range(num_neighbors):\n",
        "          y_masked[j-k] = 1-(1/num_neighbors)*k\n",
        "          y_masked[j+k] = 1-(1/num_neighbors)*k\n",
        "          \n",
        "      #print(y_masked[28:48])\n",
        "      \n",
        "          \n",
        "      \n",
        "    y_masked_list.append(y_masked)\n",
        "  except:\n",
        "    y_masked_list.append(np.nan)"
      ],
      "metadata": {
        "id": "caXUgaMlclr-"
      },
      "execution_count": 10,
      "outputs": []
    },
    {
      "cell_type": "code",
      "execution_count": 11,
      "metadata": {
        "id": "50Oix6Ce1c1H"
      },
      "outputs": [],
      "source": [
        "x_serie = pd.Series(x_list)\n",
        "y_serie = pd.Series(y_list)\n",
        "y_peak_serie = pd.Series(y_masked_list)"
      ]
    },
    {
      "cell_type": "code",
      "execution_count": 12,
      "metadata": {
        "id": "qrhyf0BU1eoj"
      },
      "outputs": [],
      "source": [
        "df = pd.DataFrame(x_serie, columns = ['x1'])\n",
        "df['y1'] = y_serie\n",
        "df['y_peak'] = y_masked_list"
      ]
    },
    {
      "cell_type": "code",
      "execution_count": 13,
      "metadata": {
        "colab": {
          "base_uri": "https://localhost:8080/",
          "height": 642
        },
        "id": "77MqE8YK1hER",
        "outputId": "c55f3a71-e727-4889-a7e7-5af36a37674f"
      },
      "outputs": [
        {
          "output_type": "execute_result",
          "data": {
            "text/plain": [
              "                                                       x  \\\n",
              "0      [629.56036, 629.8335, 630.105, 630.3768, 630.6...   \n",
              "1      [450.0, 454.0, 458.0, 462.0, 466.0, 470.0, 474...   \n",
              "2      [448.0, 449.0, 450.0, 451.0, 452.0, 453.0, 454...   \n",
              "3      [550.0, 554.0, 558.0, 562.0, 566.0, 570.0, 574...   \n",
              "4      [592.026, 593.62164, 595.2173, 596.8129, 598.4...   \n",
              "...                                                  ...   \n",
              "14341  [624.9217, 625.8937, 626.86566, 627.83765, 628...   \n",
              "14342  [549.863, 551.7923, 553.7216, 555.6509, 557.58...   \n",
              "14343  [549.863, 551.7923, 553.7216, 555.6509, 557.58...   \n",
              "14344  [625.54346, 625.8093, 626.0755, 626.3418, 626....   \n",
              "14345  [451.0, 452.0, 453.0, 454.0, 455.0, 456.0, 457...   \n",
              "\n",
              "                                                      x1  \\\n",
              "0      [500, 502, 504, 506, 508, 510, 512, 514, 516, ...   \n",
              "1      [500, 502, 504, 506, 508, 510, 512, 514, 516, ...   \n",
              "2      [500, 502, 504, 506, 508, 510, 512, 514, 516, ...   \n",
              "3      [500, 502, 504, 506, 508, 510, 512, 514, 516, ...   \n",
              "4      [500, 502, 504, 506, 508, 510, 512, 514, 516, ...   \n",
              "...                                                  ...   \n",
              "14341  [500, 502, 504, 506, 508, 510, 512, 514, 516, ...   \n",
              "14342  [500, 502, 504, 506, 508, 510, 512, 514, 516, ...   \n",
              "14343  [500, 502, 504, 506, 508, 510, 512, 514, 516, ...   \n",
              "14344  [500, 502, 504, 506, 508, 510, 512, 514, 516, ...   \n",
              "14345  [500, 502, 504, 506, 508, 510, 512, 514, 516, ...   \n",
              "\n",
              "                                                       y  \\\n",
              "0      [0.639, 0.639, 0.64100003, 0.64100003, 0.64100...   \n",
              "1      [0.0, 0.009901914, 0.011193468, 0.00932789, 0....   \n",
              "2      [0.167, 0.16610003, 0.16509998, 0.16420001, 0....   \n",
              "3      [0.0004368, 0.0002736, 0.0001728, 0.0001608, 9...   \n",
              "4      [0.110000014, 0.110000014, 0.110000014, 0.1100...   \n",
              "...                                                  ...   \n",
              "14341  [0.3934, 0.3976, 0.4012, 0.40570003, 0.4121000...   \n",
              "14342  [0.00011, 0.00019, 0.00022, 0.00019, 0.00017, ...   \n",
              "14343  [0.000857, 0.0009, 0.000753, 0.000757, 0.00076...   \n",
              "14344  [0.273, 0.273, 0.273, 0.273, 0.273, 0.27100003...   \n",
              "14345  [0.14840001, 0.14859998, 0.1494, 0.1505, 0.151...   \n",
              "\n",
              "                                                      y1  \\\n",
              "0      [0.6389999985694885, 0.6389999985694885, 0.638...   \n",
              "1      [0.004663945059292018, 0.006314264144748449, 0...   \n",
              "2      [0.1086999773979187, 0.10799998044967651, 0.10...   \n",
              "3      [0.00043680000817403197, 0.0004368000081740319...   \n",
              "4      [0.11000001430511475, 0.11000001430511475, 0.1...   \n",
              "...                                                  ...   \n",
              "14341  [0.39340001344680786, 0.39340001344680786, 0.3...   \n",
              "14342  [0.00011000000085914508, 0.0001100000008591450...   \n",
              "14343  [0.0008570000063627958, 0.0008570000063627958,...   \n",
              "14344  [0.27300000190734863, 0.27300000190734863, 0.2...   \n",
              "14345  [0.10850000381469727, 0.11150002479553223, 0.1...   \n",
              "\n",
              "                                                  y_peak  \n",
              "0      [0.0, 0.0, 0.0, 0.0, 0.0, 0.0, 0.0, 0.0, 0.0, ...  \n",
              "1      [0.0, 0.0, 0.0, 0.0, 0.0, 0.0, 0.0, 0.0, 0.0, ...  \n",
              "2      [0.0, 0.0, 0.0, 0.0, 0.0, 0.0, 0.0, 0.0, 0.0, ...  \n",
              "3      [0.0, 0.0, 0.0, 0.0, 0.0, 0.0, 0.0, 0.0, 0.0, ...  \n",
              "4      [0.0, 0.0, 0.0, 0.0, 0.0, 0.0, 0.0, 0.0, 0.0, ...  \n",
              "...                                                  ...  \n",
              "14341  [0.0, 0.0, 0.0, 0.0, 0.0, 0.0, 0.0, 0.0, 0.0, ...  \n",
              "14342  [0.0, 0.0, 0.0, 0.0, 0.0, 0.0, 0.0, 0.0, 0.0, ...  \n",
              "14343  [0.0, 0.0, 0.0, 0.0, 0.0, 0.0, 0.0, 0.0, 0.0, ...  \n",
              "14344  [0.0, 0.0, 0.0, 0.0, 0.0, 0.0, 0.0, 0.0, 0.0, ...  \n",
              "14345  [0.0, 0.0, 0.0, 0.0, 0.09999999999999998, 0.19...  \n",
              "\n",
              "[14346 rows x 5 columns]"
            ],
            "text/html": [
              "\n",
              "  <div id=\"df-d6393ffd-6f4c-42ef-915d-e85e62aaf361\">\n",
              "    <div class=\"colab-df-container\">\n",
              "      <div>\n",
              "<style scoped>\n",
              "    .dataframe tbody tr th:only-of-type {\n",
              "        vertical-align: middle;\n",
              "    }\n",
              "\n",
              "    .dataframe tbody tr th {\n",
              "        vertical-align: top;\n",
              "    }\n",
              "\n",
              "    .dataframe thead th {\n",
              "        text-align: right;\n",
              "    }\n",
              "</style>\n",
              "<table border=\"1\" class=\"dataframe\">\n",
              "  <thead>\n",
              "    <tr style=\"text-align: right;\">\n",
              "      <th></th>\n",
              "      <th>x</th>\n",
              "      <th>x1</th>\n",
              "      <th>y</th>\n",
              "      <th>y1</th>\n",
              "      <th>y_peak</th>\n",
              "    </tr>\n",
              "  </thead>\n",
              "  <tbody>\n",
              "    <tr>\n",
              "      <th>0</th>\n",
              "      <td>[629.56036, 629.8335, 630.105, 630.3768, 630.6...</td>\n",
              "      <td>[500, 502, 504, 506, 508, 510, 512, 514, 516, ...</td>\n",
              "      <td>[0.639, 0.639, 0.64100003, 0.64100003, 0.64100...</td>\n",
              "      <td>[0.6389999985694885, 0.6389999985694885, 0.638...</td>\n",
              "      <td>[0.0, 0.0, 0.0, 0.0, 0.0, 0.0, 0.0, 0.0, 0.0, ...</td>\n",
              "    </tr>\n",
              "    <tr>\n",
              "      <th>1</th>\n",
              "      <td>[450.0, 454.0, 458.0, 462.0, 466.0, 470.0, 474...</td>\n",
              "      <td>[500, 502, 504, 506, 508, 510, 512, 514, 516, ...</td>\n",
              "      <td>[0.0, 0.009901914, 0.011193468, 0.00932789, 0....</td>\n",
              "      <td>[0.004663945059292018, 0.006314264144748449, 0...</td>\n",
              "      <td>[0.0, 0.0, 0.0, 0.0, 0.0, 0.0, 0.0, 0.0, 0.0, ...</td>\n",
              "    </tr>\n",
              "    <tr>\n",
              "      <th>2</th>\n",
              "      <td>[448.0, 449.0, 450.0, 451.0, 452.0, 453.0, 454...</td>\n",
              "      <td>[500, 502, 504, 506, 508, 510, 512, 514, 516, ...</td>\n",
              "      <td>[0.167, 0.16610003, 0.16509998, 0.16420001, 0....</td>\n",
              "      <td>[0.1086999773979187, 0.10799998044967651, 0.10...</td>\n",
              "      <td>[0.0, 0.0, 0.0, 0.0, 0.0, 0.0, 0.0, 0.0, 0.0, ...</td>\n",
              "    </tr>\n",
              "    <tr>\n",
              "      <th>3</th>\n",
              "      <td>[550.0, 554.0, 558.0, 562.0, 566.0, 570.0, 574...</td>\n",
              "      <td>[500, 502, 504, 506, 508, 510, 512, 514, 516, ...</td>\n",
              "      <td>[0.0004368, 0.0002736, 0.0001728, 0.0001608, 9...</td>\n",
              "      <td>[0.00043680000817403197, 0.0004368000081740319...</td>\n",
              "      <td>[0.0, 0.0, 0.0, 0.0, 0.0, 0.0, 0.0, 0.0, 0.0, ...</td>\n",
              "    </tr>\n",
              "    <tr>\n",
              "      <th>4</th>\n",
              "      <td>[592.026, 593.62164, 595.2173, 596.8129, 598.4...</td>\n",
              "      <td>[500, 502, 504, 506, 508, 510, 512, 514, 516, ...</td>\n",
              "      <td>[0.110000014, 0.110000014, 0.110000014, 0.1100...</td>\n",
              "      <td>[0.11000001430511475, 0.11000001430511475, 0.1...</td>\n",
              "      <td>[0.0, 0.0, 0.0, 0.0, 0.0, 0.0, 0.0, 0.0, 0.0, ...</td>\n",
              "    </tr>\n",
              "    <tr>\n",
              "      <th>...</th>\n",
              "      <td>...</td>\n",
              "      <td>...</td>\n",
              "      <td>...</td>\n",
              "      <td>...</td>\n",
              "      <td>...</td>\n",
              "    </tr>\n",
              "    <tr>\n",
              "      <th>14341</th>\n",
              "      <td>[624.9217, 625.8937, 626.86566, 627.83765, 628...</td>\n",
              "      <td>[500, 502, 504, 506, 508, 510, 512, 514, 516, ...</td>\n",
              "      <td>[0.3934, 0.3976, 0.4012, 0.40570003, 0.4121000...</td>\n",
              "      <td>[0.39340001344680786, 0.39340001344680786, 0.3...</td>\n",
              "      <td>[0.0, 0.0, 0.0, 0.0, 0.0, 0.0, 0.0, 0.0, 0.0, ...</td>\n",
              "    </tr>\n",
              "    <tr>\n",
              "      <th>14342</th>\n",
              "      <td>[549.863, 551.7923, 553.7216, 555.6509, 557.58...</td>\n",
              "      <td>[500, 502, 504, 506, 508, 510, 512, 514, 516, ...</td>\n",
              "      <td>[0.00011, 0.00019, 0.00022, 0.00019, 0.00017, ...</td>\n",
              "      <td>[0.00011000000085914508, 0.0001100000008591450...</td>\n",
              "      <td>[0.0, 0.0, 0.0, 0.0, 0.0, 0.0, 0.0, 0.0, 0.0, ...</td>\n",
              "    </tr>\n",
              "    <tr>\n",
              "      <th>14343</th>\n",
              "      <td>[549.863, 551.7923, 553.7216, 555.6509, 557.58...</td>\n",
              "      <td>[500, 502, 504, 506, 508, 510, 512, 514, 516, ...</td>\n",
              "      <td>[0.000857, 0.0009, 0.000753, 0.000757, 0.00076...</td>\n",
              "      <td>[0.0008570000063627958, 0.0008570000063627958,...</td>\n",
              "      <td>[0.0, 0.0, 0.0, 0.0, 0.0, 0.0, 0.0, 0.0, 0.0, ...</td>\n",
              "    </tr>\n",
              "    <tr>\n",
              "      <th>14344</th>\n",
              "      <td>[625.54346, 625.8093, 626.0755, 626.3418, 626....</td>\n",
              "      <td>[500, 502, 504, 506, 508, 510, 512, 514, 516, ...</td>\n",
              "      <td>[0.273, 0.273, 0.273, 0.273, 0.273, 0.27100003...</td>\n",
              "      <td>[0.27300000190734863, 0.27300000190734863, 0.2...</td>\n",
              "      <td>[0.0, 0.0, 0.0, 0.0, 0.0, 0.0, 0.0, 0.0, 0.0, ...</td>\n",
              "    </tr>\n",
              "    <tr>\n",
              "      <th>14345</th>\n",
              "      <td>[451.0, 452.0, 453.0, 454.0, 455.0, 456.0, 457...</td>\n",
              "      <td>[500, 502, 504, 506, 508, 510, 512, 514, 516, ...</td>\n",
              "      <td>[0.14840001, 0.14859998, 0.1494, 0.1505, 0.151...</td>\n",
              "      <td>[0.10850000381469727, 0.11150002479553223, 0.1...</td>\n",
              "      <td>[0.0, 0.0, 0.0, 0.0, 0.09999999999999998, 0.19...</td>\n",
              "    </tr>\n",
              "  </tbody>\n",
              "</table>\n",
              "<p>14346 rows × 5 columns</p>\n",
              "</div>\n",
              "      <button class=\"colab-df-convert\" onclick=\"convertToInteractive('df-d6393ffd-6f4c-42ef-915d-e85e62aaf361')\"\n",
              "              title=\"Convert this dataframe to an interactive table.\"\n",
              "              style=\"display:none;\">\n",
              "        \n",
              "  <svg xmlns=\"http://www.w3.org/2000/svg\" height=\"24px\"viewBox=\"0 0 24 24\"\n",
              "       width=\"24px\">\n",
              "    <path d=\"M0 0h24v24H0V0z\" fill=\"none\"/>\n",
              "    <path d=\"M18.56 5.44l.94 2.06.94-2.06 2.06-.94-2.06-.94-.94-2.06-.94 2.06-2.06.94zm-11 1L8.5 8.5l.94-2.06 2.06-.94-2.06-.94L8.5 2.5l-.94 2.06-2.06.94zm10 10l.94 2.06.94-2.06 2.06-.94-2.06-.94-.94-2.06-.94 2.06-2.06.94z\"/><path d=\"M17.41 7.96l-1.37-1.37c-.4-.4-.92-.59-1.43-.59-.52 0-1.04.2-1.43.59L10.3 9.45l-7.72 7.72c-.78.78-.78 2.05 0 2.83L4 21.41c.39.39.9.59 1.41.59.51 0 1.02-.2 1.41-.59l7.78-7.78 2.81-2.81c.8-.78.8-2.07 0-2.86zM5.41 20L4 18.59l7.72-7.72 1.47 1.35L5.41 20z\"/>\n",
              "  </svg>\n",
              "      </button>\n",
              "      \n",
              "  <style>\n",
              "    .colab-df-container {\n",
              "      display:flex;\n",
              "      flex-wrap:wrap;\n",
              "      gap: 12px;\n",
              "    }\n",
              "\n",
              "    .colab-df-convert {\n",
              "      background-color: #E8F0FE;\n",
              "      border: none;\n",
              "      border-radius: 50%;\n",
              "      cursor: pointer;\n",
              "      display: none;\n",
              "      fill: #1967D2;\n",
              "      height: 32px;\n",
              "      padding: 0 0 0 0;\n",
              "      width: 32px;\n",
              "    }\n",
              "\n",
              "    .colab-df-convert:hover {\n",
              "      background-color: #E2EBFA;\n",
              "      box-shadow: 0px 1px 2px rgba(60, 64, 67, 0.3), 0px 1px 3px 1px rgba(60, 64, 67, 0.15);\n",
              "      fill: #174EA6;\n",
              "    }\n",
              "\n",
              "    [theme=dark] .colab-df-convert {\n",
              "      background-color: #3B4455;\n",
              "      fill: #D2E3FC;\n",
              "    }\n",
              "\n",
              "    [theme=dark] .colab-df-convert:hover {\n",
              "      background-color: #434B5C;\n",
              "      box-shadow: 0px 1px 3px 1px rgba(0, 0, 0, 0.15);\n",
              "      filter: drop-shadow(0px 1px 2px rgba(0, 0, 0, 0.3));\n",
              "      fill: #FFFFFF;\n",
              "    }\n",
              "  </style>\n",
              "\n",
              "      <script>\n",
              "        const buttonEl =\n",
              "          document.querySelector('#df-d6393ffd-6f4c-42ef-915d-e85e62aaf361 button.colab-df-convert');\n",
              "        buttonEl.style.display =\n",
              "          google.colab.kernel.accessAllowed ? 'block' : 'none';\n",
              "\n",
              "        async function convertToInteractive(key) {\n",
              "          const element = document.querySelector('#df-d6393ffd-6f4c-42ef-915d-e85e62aaf361');\n",
              "          const dataTable =\n",
              "            await google.colab.kernel.invokeFunction('convertToInteractive',\n",
              "                                                     [key], {});\n",
              "          if (!dataTable) return;\n",
              "\n",
              "          const docLinkHtml = 'Like what you see? Visit the ' +\n",
              "            '<a target=\"_blank\" href=https://colab.research.google.com/notebooks/data_table.ipynb>data table notebook</a>'\n",
              "            + ' to learn more about interactive tables.';\n",
              "          element.innerHTML = '';\n",
              "          dataTable['output_type'] = 'display_data';\n",
              "          await google.colab.output.renderOutput(dataTable, element);\n",
              "          const docLink = document.createElement('div');\n",
              "          docLink.innerHTML = docLinkHtml;\n",
              "          element.appendChild(docLink);\n",
              "        }\n",
              "      </script>\n",
              "    </div>\n",
              "  </div>\n",
              "  "
            ]
          },
          "metadata": {},
          "execution_count": 13
        }
      ],
      "source": [
        "dataset_df = dataset_df.reset_index()\n",
        "dataset_df1 = dataset_df.join(df, lsuffix='x')\n",
        "dataset_df1[['x', 'x1', 'y', 'y1', 'y_peak']]"
      ]
    },
    {
      "cell_type": "code",
      "execution_count": 14,
      "metadata": {
        "id": "qXo139R-21xZ"
      },
      "outputs": [],
      "source": [
        "dataset_df1 = dataset_df1.set_index('cas registry no')"
      ]
    },
    {
      "cell_type": "code",
      "execution_count": 15,
      "metadata": {
        "id": "Fev54C_424Jm"
      },
      "outputs": [],
      "source": [
        "dataset_df_labeled = labels_df.join(dataset_df1)\n",
        "#dataset_df_labeled"
      ]
    },
    {
      "cell_type": "code",
      "execution_count": 16,
      "metadata": {
        "colab": {
          "base_uri": "https://localhost:8080/",
          "height": 0
        },
        "id": "aSdmErY8f75E",
        "outputId": "73add6e9-fb5e-4044-c341-f61de0044c32"
      },
      "outputs": [
        {
          "output_type": "execute_result",
          "data": {
            "text/plain": [
              "Index(['Name', 'Formula', 'Mw', 'Elements', 'InChi', 'SMILES', 'alkane',\n",
              "       'methyl', 'alkene', 'alkyne',\n",
              "       ...\n",
              "       'folding limits',\n",
              "       'number of interferograms averaged per single channel spectrum',\n",
              "       '$spectra version', '$uncertainty in y', 'sample description',\n",
              "       'pressure', 'temperature', 'x1', 'y1', 'y_peak'],\n",
              "      dtype='object', length=101)"
            ]
          },
          "metadata": {},
          "execution_count": 16
        }
      ],
      "source": [
        "dataset_df_labeled.columns"
      ]
    },
    {
      "cell_type": "code",
      "execution_count": 17,
      "metadata": {
        "id": "W6S3Ih9Z4DIJ"
      },
      "outputs": [],
      "source": [
        "dataset_df_labeled1 = dataset_df_labeled[['Name', 'Formula', 'Mw', 'Elements', 'InChi', 'SMILES', 'alkane',\n",
        "       'methyl', 'alkene', 'alkyne', 'alcohols', 'amines', 'nitriles',\n",
        "       'aromatics', 'alkyl halides', 'esters', 'ketones', 'aldehydes',\n",
        "       'carboxylic acids', 'ether', 'acyl halides', 'amides', 'nitro',\n",
        "       'title',\n",
        "       'molform',\n",
        "       'x', 'y', 'x1', 'y1', 'y_peak']]\n",
        "#dataset_df_labeled1"
      ]
    },
    {
      "cell_type": "code",
      "execution_count": 18,
      "metadata": {
        "colab": {
          "base_uri": "https://localhost:8080/",
          "height": 0
        },
        "id": "6ejlubFP4wGZ",
        "outputId": "8bd6fab2-8fe1-41af-f2c1-03865386d07a"
      },
      "outputs": [
        {
          "output_type": "execute_result",
          "data": {
            "text/plain": [
              "tensor([0., 0., 0.,  ..., 0., 0., 0.])"
            ]
          },
          "metadata": {},
          "execution_count": 18
        }
      ],
      "source": [
        "spectra_x =dataset_df_labeled.iloc[:,-1]\n",
        "spectra_x_t = torch.Tensor(spectra_x[0])\n",
        "spectra_x_t"
      ]
    },
    {
      "cell_type": "markdown",
      "metadata": {
        "id": "SyiOgAYsgec2"
      },
      "source": [
        "# Создание класса Dataset"
      ]
    },
    {
      "cell_type": "markdown",
      "metadata": {
        "id": "MT0NeWHQEvPf"
      },
      "source": [
        "Вивлеты - преобразование для детектирования пиков."
      ]
    },
    {
      "cell_type": "code",
      "execution_count": 19,
      "metadata": {
        "id": "3lwU0NRggprw"
      },
      "outputs": [],
      "source": [
        "import os\n",
        "import pandas as pd\n",
        "import torch\n",
        "from torch.utils.data import Dataset\n",
        "from torchvision import datasets\n",
        "\n",
        "class IRSpectraDataset(Dataset):\n",
        "    def __init__(self, dataset_df_labeled):\n",
        "        self.dataset_df = dataset_df_labeled\n",
        "        self.spectra_labels = self.dataset_df.iloc[:,6:23]\n",
        "        self.spectra_x = self.dataset_df.iloc[:,-3]\n",
        "        self.spectra_y = self.dataset_df.iloc[:,-2]\n",
        "        \n",
        "    def __len__(self):\n",
        "        return len(self.dataset_df)\n",
        "\n",
        "    def __getitem__(self, idx):\n",
        "        \n",
        "        spectra_x = torch.Tensor(self.spectra_x.iloc[idx]).reshape((1, 1800))\n",
        "        spectra_y = torch.Tensor(self.spectra_y.iloc[idx]).reshape((1, 1800))      \n",
        "        spectra = torch.cat((spectra_x, spectra_y))\n",
        "        \n",
        "        label = torch.Tensor(self.spectra_labels.iloc[idx])\n",
        "        #transform\n",
        "        return spectra, label"
      ]
    },
    {
      "cell_type": "code",
      "source": [
        "import os\n",
        "import pandas as pd\n",
        "import torch\n",
        "from torch.utils.data import Dataset\n",
        "from torchvision import datasets\n",
        "\n",
        "class IRSpectraDatasetP(Dataset):\n",
        "    def __init__(self, dataset_df_labeled):\n",
        "        self.dataset_df = dataset_df_labeled\n",
        "        self.spectra_labels = self.dataset_df.iloc[:,6:23]\n",
        "        self.spectra_x = self.dataset_df.iloc[:,-3]\n",
        "        self.spectra_y = self.dataset_df.iloc[:,-2]\n",
        "        self.spectra_y_peak = self.dataset_df.iloc[:,-1]\n",
        "        \n",
        "    def __len__(self):\n",
        "        return len(self.dataset_df)\n",
        "\n",
        "    def __getitem__(self, idx):\n",
        "        \n",
        "        spectra_x = torch.Tensor(self.spectra_x.iloc[idx]).reshape((1, 1800))\n",
        "        spectra_y = torch.Tensor(self.spectra_y.iloc[idx]).reshape((1, 1800)) \n",
        "        spectra_y_peak = torch.Tensor(self.spectra_y_peak.iloc[idx]).reshape((1, 1800))     \n",
        "        spectra = torch.cat((spectra_x, spectra_y, spectra_y_peak))\n",
        "        \n",
        "        label = torch.Tensor(self.spectra_labels.iloc[idx])\n",
        "        #transform\n",
        "        return spectra, label"
      ],
      "metadata": {
        "id": "fySSJhKkqfVw"
      },
      "execution_count": 20,
      "outputs": []
    },
    {
      "cell_type": "code",
      "execution_count": 21,
      "metadata": {
        "id": "HldHW8jOfqyw"
      },
      "outputs": [],
      "source": [
        "#dataset_ir_spectra = IRSpectraDatasetRaw(dataset_df_labeled1)"
      ]
    },
    {
      "cell_type": "code",
      "source": [
        "dataset_ir_spectra = IRSpectraDatasetP(dataset_df_labeled1)"
      ],
      "metadata": {
        "id": "xgiA7xjDq23P"
      },
      "execution_count": 22,
      "outputs": []
    },
    {
      "cell_type": "code",
      "execution_count": 23,
      "metadata": {
        "colab": {
          "base_uri": "https://localhost:8080/",
          "height": 0
        },
        "id": "_z_Nd95qe1Yt",
        "outputId": "416ee3d5-00c3-4086-a8a6-52c9140746e9"
      },
      "outputs": [
        {
          "output_type": "execute_result",
          "data": {
            "text/plain": [
              "torch.Size([3, 1800])"
            ]
          },
          "metadata": {},
          "execution_count": 23
        }
      ],
      "source": [
        "spectra, label = dataset_ir_spectra.__getitem__(0)\n",
        "spectra.size()"
      ]
    },
    {
      "cell_type": "code",
      "execution_count": 24,
      "metadata": {
        "id": "vRJkjNJbEFKS"
      },
      "outputs": [],
      "source": [
        "#Создание объекта класса и разбиение на трейн,тест и вал\n",
        "from torch.utils.data import random_split\n",
        "dataset_ir_spectra = IRSpectraDatasetP(dataset_df_labeled1.dropna())\n",
        "train_size = int(0.7 * len(dataset_ir_spectra))\n",
        "val_size = int(0.1 * len(dataset_ir_spectra))\n",
        "test_size = len(dataset_ir_spectra) - train_size - val_size\n",
        "train_dataset, test_dataset = random_split(dataset_ir_spectra, [train_size, int(test_size+val_size)])\n",
        "test_dataset, val_dataset = random_split(test_dataset, [test_size, val_size])"
      ]
    },
    {
      "cell_type": "code",
      "execution_count": 25,
      "metadata": {
        "colab": {
          "base_uri": "https://localhost:8080/",
          "height": 0
        },
        "id": "3XHeDaS1Feuu",
        "outputId": "d0e955d9-bd3c-4787-e3cb-32bf3e589ed8"
      },
      "outputs": [
        {
          "output_type": "execute_result",
          "data": {
            "text/plain": [
              "17"
            ]
          },
          "metadata": {},
          "execution_count": 25
        }
      ],
      "source": [
        "#Создание загрузчиков\n",
        "# Number of classes\n",
        "classes = list(dataset_ir_spectra.spectra_labels.columns)\n",
        "num_classes = len(classes)\n",
        "num_classes"
      ]
    },
    {
      "cell_type": "code",
      "execution_count": 26,
      "metadata": {
        "colab": {
          "base_uri": "https://localhost:8080/",
          "height": 0
        },
        "id": "26MqW_iQIcSE",
        "outputId": "f38a48e0-1b5c-4ed1-cced-d91d4bd37353"
      },
      "outputs": [
        {
          "output_type": "stream",
          "name": "stdout",
          "text": [
            "{'alkane': 0, 'methyl': 1, 'alkene': 2, 'alkyne': 3, 'alcohols': 4, 'amines': 5, 'nitriles': 6, 'aromatics': 7, 'alkyl halides': 8, 'esters': 9, 'ketones': 10, 'aldehydes': 11, 'carboxylic acids': 12, 'ether': 13, 'acyl halides': 14, 'amides': 15, 'nitro': 16}\n",
            "{0: 'alkane', 1: 'methyl', 2: 'alkene', 3: 'alkyne', 4: 'alcohols', 5: 'amines', 6: 'nitriles', 7: 'aromatics', 8: 'alkyl halides', 9: 'esters', 10: 'ketones', 11: 'aldehydes', 12: 'carboxylic acids', 13: 'ether', 14: 'acyl halides', 15: 'amides', 16: 'nitro'}\n"
          ]
        }
      ],
      "source": [
        "cls2inx = {}\n",
        "inx2cls= {}\n",
        "for i, classs in enumerate(classes):\n",
        "  cls2inx[f'{classs}']= i\n",
        "  inx2cls[i] = classs\n",
        "print(cls2inx)\n",
        "print(inx2cls)"
      ]
    },
    {
      "cell_type": "code",
      "execution_count": 27,
      "metadata": {
        "colab": {
          "base_uri": "https://localhost:8080/",
          "height": 0
        },
        "id": "1XNxDDn_SGMy",
        "outputId": "d0cb6874-a983-405c-a207-4f735762acbd"
      },
      "outputs": [
        {
          "output_type": "execute_result",
          "data": {
            "text/plain": [
              "0.6826680141485599"
            ]
          },
          "metadata": {},
          "execution_count": 27
        }
      ],
      "source": [
        "dataset_ir_spectra.spectra_labels['alkane'].mean()"
      ]
    },
    {
      "cell_type": "code",
      "execution_count": 28,
      "metadata": {
        "colab": {
          "base_uri": "https://localhost:8080/",
          "height": 0
        },
        "id": "x4L0U4WAGOIt",
        "outputId": "17cc3c02-2e8e-4158-cbe8-aac43743034b"
      },
      "outputs": [
        {
          "output_type": "stream",
          "name": "stdout",
          "text": [
            "{'alkane': 0.6826680141485599, 'methyl': 0.6217786760990399, 'alkene': 0.13550614788613777, 'alkyne': 0.019538487451574868, 'alcohols': 0.21862893717365672, 'amines': 0.13078996125989556, 'nitriles': 0.038150581101566446, 'aromatics': 0.5845544887990568, 'alkyl halides': 0.2593902644433215, 'esters': 0.11630453090786592, 'ketones': 0.09415529728819269, 'aldehydes': 0.020633316489809667, 'carboxylic acids': 0.060384032339565435, 'ether': 0.2499578911908371, 'acyl halides': 0.009600808489135927, 'amides': 0.0708270170119589, 'nitro': 0.057267980461512547}\n"
          ]
        }
      ],
      "source": [
        "# Расчёт весов\n",
        "wts4cls = {}\n",
        "for classs in classes:\n",
        "  wts4cls[classs] = dataset_ir_spectra.spectra_labels[classs].mean()\n",
        "print(wts4cls)"
      ]
    },
    {
      "cell_type": "code",
      "execution_count": 29,
      "metadata": {
        "colab": {
          "base_uri": "https://localhost:8080/",
          "height": 0
        },
        "id": "oaZiT8yATCEI",
        "outputId": "9c256972-0487-4ae8-fb94-8c85675003ad"
      },
      "outputs": [
        {
          "output_type": "stream",
          "name": "stdout",
          "text": [
            "tensor([0.6827, 0.6218, 0.1355, 0.0195, 0.2186, 0.1308, 0.0382, 0.5846, 0.2594,\n",
            "        0.1163, 0.0942, 0.0206, 0.0604, 0.2500, 0.0096, 0.0708, 0.0573],\n",
            "       dtype=torch.float64)\n"
          ]
        }
      ],
      "source": [
        "#Веса классов\n",
        "wts_list = []\n",
        "for name, values in wts4cls.items():\n",
        "  wts_list.append(values)\n",
        "weight_for_every_class = torch.tensor(wts_list)\n",
        "print(weight_for_every_class)"
      ]
    },
    {
      "cell_type": "code",
      "source": [
        "#Модифицирование весов для каждого класс:\n",
        "level = 0.3\n",
        "grain = 0.15\n",
        "lg = level/grain\n",
        "print(lg)\n",
        "#Классы меньше grain процентов - увеличиваются в level/20 раза \n",
        "#Классы меньше 10 процентов - увеличиваются в level/10 раз \n",
        "#Классы меньше 5 процентов - увеличиваются в level/5 раз\n",
        "#Классы меньше 1 процента - увеличиваются в level раз\n",
        "weight_for_every_class_modified = []\n",
        "for i in weight_for_every_class:\n",
        "  if i <= grain/8: weight_for_every_class_modified.append(i/(32/lg))\n",
        "  elif (i <= grain/4) and (i>grain/8): weight_for_every_class_modified.append(i/(16/lg))\n",
        "  elif (i <= grain/2) and (i>grain/4): weight_for_every_class_modified.append(i/(8/lg))\n",
        "  elif (i <= grain) and (i>grain/2): weight_for_every_class_modified.append(i/(4*lg))\n",
        "  else: weight_for_every_class_modified.append(i)\n",
        "weight_for_every_class_modified = torch.Tensor(weight_for_every_class_modified)\n",
        "print(weight_for_every_class)\n",
        "print(weight_for_every_class_modified)\n",
        "print(weight_for_every_class_modified.size())"
      ],
      "metadata": {
        "colab": {
          "base_uri": "https://localhost:8080/",
          "height": 0
        },
        "id": "ESLbGuSlAOXF",
        "outputId": "1c9af1bb-bba6-474a-ad0d-a339216f0951"
      },
      "execution_count": 30,
      "outputs": [
        {
          "output_type": "stream",
          "name": "stdout",
          "text": [
            "2.0\n",
            "tensor([0.6827, 0.6218, 0.1355, 0.0195, 0.2186, 0.1308, 0.0382, 0.5846, 0.2594,\n",
            "        0.1163, 0.0942, 0.0206, 0.0604, 0.2500, 0.0096, 0.0708, 0.0573],\n",
            "       dtype=torch.float64)\n",
            "tensor([6.8267e-01, 6.2178e-01, 1.6938e-02, 2.4423e-03, 2.1863e-01, 1.6349e-02,\n",
            "        9.5376e-03, 5.8455e-01, 2.5939e-01, 1.4538e-02, 1.1769e-02, 2.5792e-03,\n",
            "        1.5096e-02, 2.4996e-01, 6.0005e-04, 1.7707e-02, 1.4317e-02])\n",
            "torch.Size([17])\n"
          ]
        }
      ]
    },
    {
      "cell_type": "code",
      "execution_count": 31,
      "metadata": {
        "colab": {
          "base_uri": "https://localhost:8080/",
          "height": 0
        },
        "id": "Qmv-2YFsY59b",
        "outputId": "2f221191-c6de-4da2-f480-5fc2fdb3d921"
      },
      "outputs": [
        {
          "output_type": "execute_result",
          "data": {
            "text/plain": [
              "array([[100., 100., 100., ..., 100., 100.,   1.],\n",
              "       [100., 100., 100., ..., 100., 100.,   1.],\n",
              "       [100., 100., 100., ..., 100., 100.,   1.],\n",
              "       ...,\n",
              "       [  1.,   1., 100., ..., 100., 100., 100.],\n",
              "       [100.,   1., 100., ..., 100., 100.,   1.],\n",
              "       [100.,   1., 100., ..., 100., 100., 100.]])"
            ]
          },
          "metadata": {},
          "execution_count": 31
        }
      ],
      "source": [
        "#Расчёт веса образца на основе минимального веса любой функциональной группы \n",
        "labels1 = train_dataset.dataset.spectra_labels.to_numpy().copy()\n",
        "labels1[labels1 == 0.0] = 100\n",
        "labels1"
      ]
    },
    {
      "cell_type": "code",
      "source": [
        "train_labels = torch.tensor(labels1)\n",
        "weighted_labels  = train_labels*weight_for_every_class\n",
        "weights_for_every_sample = []\n",
        "for label_tensor in weighted_labels:\n",
        "  weight = np.nanmin(label_tensor.numpy())\n",
        "  weights_for_every_sample.append(weight)\n",
        "\n",
        "weights_for_every_sample = torch.tensor(weights_for_every_sample)\n",
        "print(weights_for_every_sample)"
      ],
      "metadata": {
        "colab": {
          "base_uri": "https://localhost:8080/",
          "height": 0
        },
        "id": "gKbf6SCA2Lnq",
        "outputId": "4ade0237-e550-46b7-e0ce-d1c7acb497b4"
      },
      "execution_count": 32,
      "outputs": [
        {
          "output_type": "stream",
          "name": "stdout",
          "text": [
            "tensor([0.0573, 0.0573, 0.0573,  ..., 0.2594, 0.0573, 0.1308],\n",
            "       dtype=torch.float64)\n"
          ]
        }
      ]
    },
    {
      "cell_type": "code",
      "source": [
        "weights_train = weights_for_every_sample[:len(train_dataset)]"
      ],
      "metadata": {
        "id": "MPxVQm0udn8j"
      },
      "execution_count": 33,
      "outputs": []
    },
    {
      "cell_type": "code",
      "source": [
        "weights_train"
      ],
      "metadata": {
        "colab": {
          "base_uri": "https://localhost:8080/",
          "height": 0
        },
        "id": "OfhrrFX3hvcE",
        "outputId": "496cbe35-1e7b-4ec2-8824-8abe2674ce9e"
      },
      "execution_count": 34,
      "outputs": [
        {
          "output_type": "execute_result",
          "data": {
            "text/plain": [
              "tensor([0.0573, 0.0573, 0.0573,  ..., 0.0708, 0.0604, 0.2186],\n",
              "       dtype=torch.float64)"
            ]
          },
          "metadata": {},
          "execution_count": 34
        }
      ]
    },
    {
      "cell_type": "code",
      "source": [
        "#Проверка на положительные вероятности\n",
        "for i in range(len(weights_train)):\n",
        "    if weights_train[i] < 0:\n",
        "        weights_train[i] = abs(weights_train[i])"
      ],
      "metadata": {
        "id": "m3j3HH4wdrHI"
      },
      "execution_count": 35,
      "outputs": []
    },
    {
      "cell_type": "code",
      "source": [
        "weights_train[weights_train<0]"
      ],
      "metadata": {
        "colab": {
          "base_uri": "https://localhost:8080/",
          "height": 0
        },
        "id": "NvPPgp9piODZ",
        "outputId": "a3420571-221f-41e6-953c-2aca644295eb"
      },
      "execution_count": 36,
      "outputs": [
        {
          "output_type": "execute_result",
          "data": {
            "text/plain": [
              "tensor([], dtype=torch.float64)"
            ]
          },
          "metadata": {},
          "execution_count": 36
        }
      ]
    },
    {
      "cell_type": "code",
      "source": [
        "#Сумма весов должна быть равна единице. Вычисление суммы:\n",
        "sum_weights = 0\n",
        "for i in range(len(weights_train)):\n",
        " \n",
        "  #print(weights_train[i])\n",
        "  if weights_train[i] == torch.tensor(np.nan, dtype=torch.float64) : weights_train[i] = 1\n",
        "  #print(weights_train[i])\n",
        "  #print(sum_weights)\n",
        "  sum_weights +=weights_train[i].numpy()\n",
        "print(sum_weights)"
      ],
      "metadata": {
        "colab": {
          "base_uri": "https://localhost:8080/",
          "height": 0
        },
        "id": "xCimJjGMjwfe",
        "outputId": "59e39141-84e2-4cc3-9418-0d13011368da"
      },
      "execution_count": 37,
      "outputs": [
        {
          "output_type": "stream",
          "name": "stdout",
          "text": [
            "1744.058783897611\n"
          ]
        }
      ]
    },
    {
      "cell_type": "code",
      "source": [
        "#Сумма весов должна быть равна единице. Нормирование на сумму.\n",
        "for i in range(len(weights_train)):\n",
        "    weights_train[i] =  weights_train[i]/sum_weights"
      ],
      "metadata": {
        "id": "nQe4jqNOhQhY"
      },
      "execution_count": 38,
      "outputs": []
    },
    {
      "cell_type": "code",
      "source": [
        "weights_train"
      ],
      "metadata": {
        "colab": {
          "base_uri": "https://localhost:8080/",
          "height": 0
        },
        "id": "4pmgftymht1s",
        "outputId": "609a37d1-eb61-4343-8267-589e2077f883"
      },
      "execution_count": 39,
      "outputs": [
        {
          "output_type": "execute_result",
          "data": {
            "text/plain": [
              "tensor([3.2836e-05, 3.2836e-05, 3.2836e-05,  ..., 4.0610e-05, 3.4623e-05,\n",
              "        1.2536e-04], dtype=torch.float64)"
            ]
          },
          "metadata": {},
          "execution_count": 39
        }
      ]
    },
    {
      "cell_type": "code",
      "execution_count": 40,
      "metadata": {
        "id": "-9GLXXcASo0X"
      },
      "outputs": [],
      "source": [
        "#Даталоадер\n",
        "\n",
        "from torch.utils.data import DataLoader, WeightedRandomSampler\n",
        "\n",
        "# Batch size\n",
        "batch_size = 128\n",
        "\n",
        "dataloader_ir_test = DataLoader(test_dataset, batch_size=batch_size, shuffle=False)\n",
        "dataloader_ir_val = DataLoader(val_dataset, batch_size=val_size, shuffle=False)\n",
        "weightedsampler = WeightedRandomSampler(weights_train, len(weights_train)) \n",
        "\n",
        "dataloader_ir_train = DataLoader(\n",
        "    train_dataset, \n",
        "    batch_size=batch_size, \n",
        "    sampler= weightedsampler\n",
        ")"
      ]
    },
    {
      "cell_type": "code",
      "execution_count": 41,
      "metadata": {
        "id": "9Yc5yX_ug9MA",
        "colab": {
          "base_uri": "https://localhost:8080/",
          "height": 0
        },
        "outputId": "d79f46da-7f84-4f42-993e-fa7594192c3b"
      },
      "outputs": [
        {
          "output_type": "stream",
          "name": "stdout",
          "text": [
            "torch.Size([128, 3, 1800]) torch.Size([128, 17])\n"
          ]
        }
      ],
      "source": [
        "#  Проверка работоспособности\n",
        "for i, j in dataloader_ir_train:\n",
        "  print(i.shape, j.shape)\n",
        "  break"
      ]
    },
    {
      "cell_type": "markdown",
      "metadata": {
        "id": "8sRR21VTfDDz"
      },
      "source": [
        "# Код для обучения"
      ]
    },
    {
      "cell_type": "markdown",
      "metadata": {
        "id": "4ouahJRHrNoZ"
      },
      "source": [
        "Взят из https://github.com/Gan4x4/ml_snippets/blob/main/Training/Trainer.ipynb"
      ]
    },
    {
      "cell_type": "code",
      "execution_count": 42,
      "metadata": {
        "id": "Wwq4belWrWXu"
      },
      "outputs": [],
      "source": [
        "import torch\n",
        "from tqdm import tqdm\n",
        "from sklearn.metrics import label_ranking_average_precision_score\n",
        "\n",
        "\n",
        "device = torch.device(\"cuda\" if torch.cuda.is_available() else \"cpu\")\n",
        "\n",
        "\n",
        "def get_correct_count(pred, labels, tolerance = 0.9):\n",
        "    pred.data[pred.data >=tolerance] = 1\n",
        "    pred.data[pred.data <tolerance] = -1\n",
        "    return (pred.data.cpu() == labels.cpu()).sum().item()\n",
        "\n",
        "def get_correct_count_lraps(pred, labels):\n",
        "    return label_ranking_average_precision_score(labels, pred.cpu().detach().numpy())\n",
        "    \n",
        "\n",
        "\n",
        "@torch.inference_mode()  # this annotation disable grad computation\n",
        "def validate(model, test_loader, device=\"cpu\", criterion = nn.BCELoss()):\n",
        "    correct, total = 0, 0\n",
        "    model.eval()\n",
        "    for ir_spec, labels in test_loader:\n",
        "      \n",
        "        pred = model(ir_spec.to(device))\n",
        "        loss = criterion(pred, labels.to(device))\n",
        "        #total_count = (labels.to('cpu') == 1.0).sum().item()\n",
        "        #total += total_count\n",
        "        #print(pred)\n",
        "        #print(labels)\n",
        "        #tolerance = (1.0-(1.0/(epoch+1)))-0.2\n",
        "        score= get_correct_count_lraps(pred, labels)\n",
        "        #print(correct)\n",
        "    #model.to('cpu')\n",
        "    return score, loss"
      ]
    },
    {
      "cell_type": "code",
      "execution_count": 43,
      "metadata": {
        "id": "mPd_R36yrN0j"
      },
      "outputs": [],
      "source": [
        "class Trainer:\n",
        "    def __init__(self, model, plotter=None, lr=0.001):\n",
        "        global device\n",
        "        print(\"Using device:\", device)\n",
        "        self.model = model\n",
        "        self.optimizer = torch.optim.AdamW(\n",
        "            self.model.parameters(), lr=lr\n",
        "        )  \n",
        "        self.sheduler = torch.optim.lr_scheduler.StepLR(self.optimizer, step_size = 75, gamma=0.2, last_epoch=- 1, verbose=True)\n",
        "        self.criterion = nn.BCEWithLogitsLoss(pos_weight = weight_for_every_class.to(device))  # Loss function\n",
        "        self.plotter = ProgressPlotter() if plotter is None else plotter\n",
        "        self.epochs = 2\n",
        "        self.loss_hist = []\n",
        "        self.loss_hist_tst = []\n",
        "\n",
        "    def __call__(self, train_loader, val_loader, epochs=10):\n",
        "        global device\n",
        "        print(\"Using device:\", device)\n",
        "        self.epochs = epochs\n",
        "        self.model.to(device)\n",
        "        \n",
        "        for epoch in tqdm(range(self.epochs)):\n",
        "            self.model.train()\n",
        "            self.loss_hist = []\n",
        "            self.loss_hist_tst = []\n",
        "            correct, total = 0, 0\n",
        "            for ir_spec, labels in train_loader:\n",
        "                \n",
        "                score = self.process_batch(ir_spec, labels)\n",
        "                #total_count = (labels.cpu() == 1.0).sum().item()\n",
        "                #total += total_count\n",
        "            self.sheduler.step()\n",
        "            self.plotter.add_scalar(\"Loss/train\", np.mean(self.loss_hist))\n",
        "            label_ranking_average_precision_score_val, val_loss = validate(self.model, val_loader, device=device, criterion=self.criterion)\n",
        "            self.loss_hist_tst.append(val_loss.cpu())\n",
        "            self.plotter.add_scalar(\"label_ranking_average_precision_score/val\", label_ranking_average_precision_score_val)\n",
        "            self.plotter.add_scalar(\"Loss/val\", np.mean(self.loss_hist_tst))\n",
        "            #self.plotter.add_scalar(\"label_ranking_average_precision_score/train\", correct / total)\n",
        "            self.plotter.display([\"Loss/train\", \"Loss/val\", \"label_ranking_average_precision_score/val\"])\n",
        "          \n",
        "\n",
        "    def process_batch(self, ir_spec, labels):\n",
        "        self.optimizer.zero_grad()\n",
        "        #print(ir_spec.size())\n",
        "        out = self.model(ir_spec.to(device))\n",
        "        loss = self.criterion(out, labels.to(device))\n",
        "        loss.backward()\n",
        "        self.loss_hist.append(loss.item())\n",
        "        self.optimizer.step()\n",
        "        \n",
        "        return get_correct_count_lraps(out.cpu(), labels)"
      ]
    },
    {
      "cell_type": "markdown",
      "metadata": {
        "id": "PllHvKsvD4_F"
      },
      "source": [
        "Показывать loss на тексте, чтобы было понятно переобучение."
      ]
    },
    {
      "cell_type": "markdown",
      "metadata": {
        "id": "qM7jnv_ZrZSc"
      },
      "source": [
        "Код для визуализации из прошлых заданий, можно заменить его собственым."
      ]
    },
    {
      "cell_type": "code",
      "execution_count": 44,
      "metadata": {
        "id": "SMip_YKVrVV_"
      },
      "outputs": [],
      "source": [
        "from IPython.display import clear_output\n",
        "from collections import defaultdict\n",
        "import matplotlib.pyplot as plt\n",
        "import numpy as np\n",
        "\n",
        "\n",
        "class ProgressPlotter:\n",
        "    def __init__(self, title=\"default\", groups=None) -> None:\n",
        "        self._history_dict = defaultdict(dict)\n",
        "        self.set_title(title)\n",
        "        self.groups = self.get_groups(groups)\n",
        "\n",
        "    def get_groups(self, groups):\n",
        "        if groups is not None:\n",
        "            return self._history_dict.keys()\n",
        "        if type(groups) is str:\n",
        "            groups = [groups]\n",
        "        return groups\n",
        "\n",
        "    def set_title(self, title):\n",
        "        for g in self._history_dict.keys():\n",
        "            self._history_dict[g][title] = []  # reset data\n",
        "        self.title = title\n",
        "\n",
        "    # group e.g. \"loss_val\" tag e.g. \"experiment_1\"\n",
        "    def add_scalar(self, group: str, value, tag=None) -> None:\n",
        "        tag = self.title if tag is None else tag\n",
        "\n",
        "        if not tag in self._history_dict[group]:\n",
        "            self._history_dict[group][tag] = []\n",
        "        self._history_dict[group][tag].append(value)\n",
        "\n",
        "    def add_row(self, group: str, value, tag=None) -> None:\n",
        "        tag = self.title if tag is None else tag\n",
        "        self._history_dict[group][tag] = value\n",
        "\n",
        "    def display_keys(self, ax, data):\n",
        "        history_len = 0\n",
        "        ax.grid()\n",
        "        for key in data:\n",
        "            ax.plot(data[key], label=key)\n",
        "            history_len = max(history_len, len(data[key]))\n",
        "        if len(data) > 1:\n",
        "            ax.legend(loc=\"upper right\")\n",
        "        if history_len < 50:\n",
        "            ax.set_xlabel(\"step\")\n",
        "            ax.set_xticks(np.arange(history_len))\n",
        "            ax.set_xticklabels(np.arange(history_len))\n",
        "\n",
        "    \"\"\"\n",
        "     groups list of keys like [['loss_train','loss_val'],['accuracy']]\n",
        "     All charts within a group will be plot in the same axis\n",
        "  \"\"\"\n",
        "\n",
        "    def display(self, groups=None):\n",
        "        clear_output()\n",
        "        if groups is None:\n",
        "            groups = self.groups\n",
        "        n_groups = len(groups)\n",
        "        fig, ax = plt.subplots(1, n_groups, figsize=(48 // n_groups, 3))\n",
        "        if n_groups == 1:\n",
        "            ax = [ax]\n",
        "        for i, g in enumerate(groups):\n",
        "            ax[i].set_ylabel(g)\n",
        "            self.display_keys(ax[i], self.history_dict[g])\n",
        "        fig.tight_layout()\n",
        "        plt.show()\n",
        "\n",
        "    @property\n",
        "    def history_dict(self):\n",
        "        return dict(self._history_dict)"
      ]
    },
    {
      "cell_type": "markdown",
      "metadata": {
        "id": "IeiuyWHjfKf-"
      },
      "source": [
        "# Модель"
      ]
    },
    {
      "cell_type": "markdown",
      "metadata": {
        "id": "AaUcXPHlrb_n"
      },
      "source": [
        "Предлагается использовать модель с несколькими свёрточными слоями(1) и понижением размерности до 225-450, а затем с полносвязыными слоями, где на выходе одни слой из 17 меток классов.\n",
        "\n",
        "Базовая модель: 8 сверток посчитать обучаемых параметров и потом собирать статистику.\n",
        "классификейшон репорт\n",
        "Потом увеличить количество свёрточных слоёв до 12. \n",
        "Увеличивать количество каналов через 1 макспул.\n",
        "Выводить лосс для теста."
      ]
    },
    {
      "cell_type": "markdown",
      "source": [
        "## Базовая модель"
      ],
      "metadata": {
        "id": "swQhofxVfpry"
      }
    },
    {
      "cell_type": "code",
      "execution_count": 45,
      "metadata": {
        "id": "znwYtgeCsyfK"
      },
      "outputs": [],
      "source": [
        "from torch.nn.modules.pooling import MaxPool2d\n",
        "import torch.nn as nn\n",
        "import torch\n",
        "\n",
        "class TwoLayerCNN(nn.Module):\n",
        "    def __init__(self, hidden_size = 34):\n",
        "        super().__init__()\n",
        "        self.hidden_size=hidden_size\n",
        "        self.bblock = nn.Sequential(\n",
        "            nn.Conv1d(2, hidden_size, kernel_size = 3, padding = 1), # in channel=2, out=hidden_size 3 - ядро свертки, таблица 1800 точек*2 столбца\n",
        "            nn.BatchNorm1d(hidden_size),\n",
        "            nn.ReLU(),\n",
        "\n",
        "            nn.Conv1d(hidden_size, hidden_size, kernel_size = 3, padding = 1), \n",
        "            nn.BatchNorm1d(hidden_size),\n",
        "            nn.ReLU(),\n",
        "            nn.Conv1d(hidden_size, hidden_size, kernel_size = 3, padding = 1), \n",
        "            nn.BatchNorm1d(hidden_size),\n",
        "            nn.ReLU(),\n",
        "            nn.MaxPool1d(2), # size [hidden_size,1800] -> [hidden_size,900] \n",
        "\n",
        "            nn.Conv1d(hidden_size, hidden_size, kernel_size = 3, padding = 1), \n",
        "            nn.BatchNorm1d(hidden_size),\n",
        "            nn.ReLU(),\n",
        "            nn.Conv1d(hidden_size, hidden_size, kernel_size = 3, padding = 1), \n",
        "            nn.BatchNorm1d(hidden_size),\n",
        "            nn.ReLU(),\n",
        "            nn.MaxPool1d(2), # size [hidden_size,900] -> [hidden_size,450] \n",
        "            \n",
        "            nn.Conv1d(hidden_size, hidden_size*2, kernel_size = 3, padding = 1), \n",
        "            nn.BatchNorm1d(hidden_size*2),\n",
        "            nn.ReLU(),\n",
        "            nn.Conv1d(hidden_size*2, hidden_size*2, kernel_size = 3, padding = 1), \n",
        "            nn.BatchNorm1d(hidden_size*2),\n",
        "            nn.ReLU(),\n",
        "            nn.MaxPool1d(2), # size [hidden_size,450] -> [hidden_size,225] \n",
        "\n",
        "            nn.Conv1d(hidden_size*2, hidden_size*2, kernel_size = 3, padding = 1), \n",
        "            nn.BatchNorm1d(hidden_size*2),\n",
        "            nn.ReLU(),\n",
        "            nn.Flatten(),\n",
        "            nn.Linear(225*2*hidden_size, 1000),\n",
        "            nn.ReLU(),\n",
        "            nn.Linear(1000, 100),\n",
        "            nn.ReLU(),\n",
        "            nn.Linear(100, 17),\n",
        "            nn.Sigmoid()\n",
        "            )\n",
        "\n",
        "    def forward(self, x):\n",
        "        # Your code here\n",
        "        x = self.bblock(x) \n",
        "        return x"
      ]
    },
    {
      "cell_type": "markdown",
      "metadata": {
        "id": "2VYyUhvwPC0M"
      },
      "source": [
        "## v0.3.0 - модель с res-связями и 2 dropout. "
      ]
    },
    {
      "cell_type": "code",
      "execution_count": 46,
      "metadata": {
        "id": "5Lzgc_R9PAFY"
      },
      "outputs": [],
      "source": [
        "from torch.nn.modules.batchnorm import BatchNorm2d\n",
        "import torch.nn as nn\n",
        "import torch\n",
        "import torch.nn.functional as F\n",
        "\n",
        "\n",
        "class IrResnet(nn.Module):\n",
        "    def __init__(self, hidden_size = 34, class_nums=17):\n",
        "        super(IrResnet, self).__init__()\n",
        "        self.hidden_size=hidden_size\n",
        "        # Архитектура на подобие resnet\n",
        "        self.conv1 = nn.Conv1d(2, hidden_size, kernel_size=3, stride=1, padding = 1) #[2,1800]\n",
        "        self.bn1 = nn.BatchNorm1d(hidden_size)\n",
        "        self.relu = nn.ReLU()\n",
        "        \n",
        "        \n",
        "        self.layer1 = nn.Sequential( #3 последовательных базовых блока #[2,1800]\n",
        "            BasicBlock(hidden_size),\n",
        "            BasicBlock(hidden_size),\n",
        "            BasicBlock(hidden_size))\n",
        "        # self.layer2 = nn.Sequential(\n",
        "        #     BasicBlock(hidden_size, downsample = False), #[2,1800]\n",
        "        #     BasicBlock(hidden_size),\n",
        "        #     BasicBlock(hidden_size))\n",
        "        self.layer3 = nn.Sequential(\n",
        "            BasicBlock(hidden_size*2, downsample = True), #[2,900]\n",
        "            BasicBlock(hidden_size*2),\n",
        "            BasicBlock(hidden_size*2))\n",
        "        # self.layer4 = nn.Sequential(\n",
        "        #     BasicBlock(hidden_size*2, downsample = False), \n",
        "        #     BasicBlock(hidden_size*2),\n",
        "        #     BasicBlock(hidden_size*2))\n",
        "        self.layer5 = nn.Sequential(\n",
        "            BasicBlock(hidden_size*4, downsample = True), #[2,450]\n",
        "            BasicBlock(hidden_size*4),\n",
        "            BasicBlock(hidden_size*4))\n",
        "        # self.layer6 = nn.Sequential(\n",
        "        #     BasicBlock(hidden_size*4, downsample = False), \n",
        "        #     BasicBlock(hidden_size*4),\n",
        "        #     BasicBlock(hidden_size*4))\n",
        "        self.layer7 = nn.Sequential(\n",
        "            BasicBlock(hidden_size*8, downsample = True), #[2,225]\n",
        "            BasicBlock(hidden_size*8),\n",
        "            BasicBlock(hidden_size*8))\n",
        "        # self.layer8 = nn.Sequential(\n",
        "        #     BasicBlock(hidden_size*8, downsample = False), #[2,225]\n",
        "        #     BasicBlock(hidden_size*8),\n",
        "        #     BasicBlock(hidden_size*8))\n",
        "        self.adppool = nn.AdaptiveMaxPool1d(225)\n",
        "        self.flatten = nn.Flatten()\n",
        "        self.do1 = nn.Dropout1d(0.5)\n",
        "        self.fc = nn.Linear(hidden_size*8*225, 200)\n",
        "        self.do2 = nn.Dropout1d(0.2)\n",
        "        self.relu1 = nn.ReLU()\n",
        "        self.fc1 = nn.Linear(200, class_nums) \n",
        "        #self.sm = nn.Sigmoid()\n",
        "        \n",
        "\n",
        "\n",
        "    def forward(self, batch):\n",
        "      # PUT YOUR CODE HERE\n",
        "        batch = self.conv1(batch)\n",
        "        batch = self.bn1(batch)\n",
        "        batch = self.relu(batch)\n",
        "        batch = self.layer1(batch)\n",
        "        #batch = self.layer2(batch)\n",
        "        batch = self.layer3(batch)\n",
        "        #batch = self.layer4(batch)\n",
        "        batch = self.layer5(batch)\n",
        "        #batch = self.layer6(batch)\n",
        "        batch = self.layer7(batch)\n",
        "        #batch = self.layer8(batch)\n",
        "        batch = self.adppool(batch)\n",
        "        batch = self.flatten(batch)\n",
        "        batch = self.do1(batch)\n",
        "        batch = self.fc(batch)\n",
        "        batch = self.do2(batch)\n",
        "        batch = self.relu1(batch)\n",
        "        scores = self.fc1(batch)\n",
        "        \n",
        "        #scores=self.sm(batch)\n",
        "              \n",
        "        return scores\n",
        "\n",
        "\n",
        "class BasicBlock(nn.Module):\n",
        "    def __init__(self, in_channels, downsample = False):  # You can add params here\n",
        "        super(BasicBlock, self).__init__()\n",
        "        \n",
        "        self.downsample = downsample\n",
        "\n",
        "        if downsample: #Если есть увеличение, то первая свёртка должна быть с большим выходом\n",
        "          self.conv1 = nn.Conv1d(in_channels//2, in_channels, kernel_size=3, stride=2, padding=1)\n",
        "        else:\n",
        "          self.conv1 = nn.Conv1d(in_channels, in_channels, kernel_size=3, padding=1)\n",
        "\n",
        "        self.bn1 = nn.BatchNorm1d(in_channels)\n",
        "        self.relu = nn.ReLU()\n",
        "        self.conv2 = nn.Conv1d(in_channels, in_channels, kernel_size=3, padding=1)\n",
        "        self.bn2 = nn.BatchNorm1d(in_channels)\n",
        "        if downsample:\n",
        "            self.downsample = nn.Sequential(\n",
        "                nn.Conv1d(in_channels//2, in_channels, kernel_size=1, stride=2), #Уменьшаем размер картинки, увеличивая количество фильтров\n",
        "                nn.BatchNorm1d(in_channels))                \n",
        "\n",
        "       \n",
        "    def forward(self, x):\n",
        "        \n",
        "        identity = x\n",
        "        \n",
        "        out = self.conv1(x)\n",
        "        out = self.bn1(out)\n",
        "        out = self.relu(out)\n",
        "\n",
        "        out = self.conv2(out)\n",
        "        out = self.bn2(out)\n",
        "\n",
        "        if self.downsample:\n",
        "            identity = self.downsample(x)\n",
        "            \n",
        "        out += identity\n",
        "        out = self.relu(out)\n",
        "\n",
        "        return out\n",
        "        "
      ]
    },
    {
      "cell_type": "markdown",
      "source": [
        "## v0.4.0 - добавление к 0.3.0 макспулов для уменьшения количества параметров."
      ],
      "metadata": {
        "id": "vMbqHfAMfvT1"
      }
    },
    {
      "cell_type": "code",
      "source": [
        "from torch.nn.modules.batchnorm import BatchNorm2d\n",
        "import torch.nn as nn\n",
        "import torch\n",
        "import torch.nn.functional as F\n",
        "\n",
        "\n",
        "class IrResnet2(nn.Module):\n",
        "    def __init__(self, hidden_size = 34, class_nums=17):\n",
        "        super(IrResnet2, self).__init__()\n",
        "        self.hidden_size=hidden_size\n",
        "        # Архитектура на подобие resnet\n",
        "        self.conv1 = nn.Conv1d(2, hidden_size, kernel_size=5, stride=2, padding = 1) #[2,1800]\n",
        "        self.bn1 = nn.BatchNorm1d(hidden_size)\n",
        "        self.relu = nn.ReLU()\n",
        "        \n",
        "        \n",
        "        self.layer1 = nn.Sequential( #3 последовательных базовых блока #[2,1800]\n",
        "            BasicBlock(hidden_size),\n",
        "            BasicBlock(hidden_size),\n",
        "            BasicBlock(hidden_size))\n",
        "        # self.layer2 = nn.Sequential(\n",
        "        #     BasicBlock(hidden_size, downsample = False), #[2,1800]\n",
        "        #     BasicBlock(hidden_size),\n",
        "        #     BasicBlock(hidden_size))\n",
        "        self.max1 = nn.MaxPool1d(3,2,0)\n",
        "        self.layer3 = nn.Sequential(\n",
        "            BasicBlock(hidden_size*2, downsample = True), #[2,900]\n",
        "            BasicBlock(hidden_size*2),\n",
        "            BasicBlock(hidden_size*2))\n",
        "        # self.layer4 = nn.Sequential(\n",
        "        #     BasicBlock(hidden_size*2, downsample = False), \n",
        "        #     BasicBlock(hidden_size*2),\n",
        "        #     BasicBlock(hidden_size*2))\n",
        "        self.max2 = nn.MaxPool1d(3,2,0)\n",
        "        self.layer5 = nn.Sequential(\n",
        "            BasicBlock(hidden_size*4, downsample = True), #[2,450]\n",
        "            BasicBlock(hidden_size*4),\n",
        "            BasicBlock(hidden_size*4))\n",
        "        # self.layer6 = nn.Sequential(\n",
        "        #     BasicBlock(hidden_size*4, downsample = False), \n",
        "        #     BasicBlock(hidden_size*4),\n",
        "        #     BasicBlock(hidden_size*4))\n",
        "        self.max3 = nn.MaxPool1d(3,2,0)\n",
        "        self.layer7 = nn.Sequential(\n",
        "            BasicBlock(hidden_size*8, downsample = True), #[2,225]\n",
        "            BasicBlock(hidden_size*8),\n",
        "            BasicBlock(hidden_size*8))\n",
        "        # self.layer8 = nn.Sequential(\n",
        "        #     BasicBlock(hidden_size*8, downsample = False), #[2,225]\n",
        "        #     BasicBlock(hidden_size*8),\n",
        "        #     BasicBlock(hidden_size*8))\n",
        "        #self.adppool = nn.AdaptiveMaxPool1d(14)\n",
        "        self.flatten = nn.Flatten()\n",
        "        self.do1 = nn.Dropout1d(0.5)\n",
        "        self.fc = nn.Linear(hidden_size*8*14, 200)\n",
        "        self.do2 = nn.Dropout1d(0.2)\n",
        "        self.relu1 = nn.ReLU()\n",
        "        self.fc1 = nn.Linear(200, class_nums) \n",
        "        #self.sm = nn.Sigmoid()\n",
        "        \n",
        "\n",
        "\n",
        "    def forward(self, batch):\n",
        "      # PUT YOUR CODE HERE\n",
        "        batch = self.conv1(batch)\n",
        "        batch = self.bn1(batch)\n",
        "        batch = self.relu(batch)\n",
        "        batch = self.layer1(batch)\n",
        "        #batch = self.layer2(batch)\n",
        "        batch = self.max1(batch)\n",
        "        batch = self.layer3(batch)\n",
        "        #batch = self.layer4(batch)\n",
        "        batch = self.max2(batch)\n",
        "        batch = self.layer5(batch)\n",
        "        #batch = self.layer6(batch)\n",
        "        batch = self.max3(batch)\n",
        "        batch = self.layer7(batch)\n",
        "        #batch = self.layer8(batch)\n",
        "        #batch = self.adppool(batch)\n",
        "        batch = self.flatten(batch)\n",
        "        batch = self.do1(batch)\n",
        "        batch = self.fc(batch)\n",
        "        batch = self.do2(batch)\n",
        "        batch = self.relu1(batch)\n",
        "        scores = self.fc1(batch)\n",
        "        \n",
        "        #scores=self.sm(batch)\n",
        "              \n",
        "        return scores\n",
        "\n",
        "\n",
        "class BasicBlock(nn.Module):\n",
        "    def __init__(self, in_channels, downsample = False):  # You can add params here\n",
        "        super(BasicBlock, self).__init__()\n",
        "        \n",
        "        self.downsample = downsample\n",
        "\n",
        "        if downsample: #Если есть увеличение, то первая свёртка должна быть с большим выходом\n",
        "          self.conv1 = nn.Conv1d(in_channels//2, in_channels, kernel_size=3, stride=2, padding=1)\n",
        "        else:\n",
        "          self.conv1 = nn.Conv1d(in_channels, in_channels, kernel_size=3, padding=1)\n",
        "\n",
        "        self.bn1 = nn.BatchNorm1d(in_channels)\n",
        "        self.relu = nn.ReLU()\n",
        "        self.conv2 = nn.Conv1d(in_channels, in_channels, kernel_size=3, padding=1)\n",
        "        self.bn2 = nn.BatchNorm1d(in_channels)\n",
        "        if downsample:\n",
        "            self.downsample = nn.Sequential(\n",
        "                nn.Conv1d(in_channels//2, in_channels, kernel_size=1, stride=2), #Уменьшаем размер картинки, увеличивая количество фильтров\n",
        "                nn.BatchNorm1d(in_channels))                \n",
        "\n",
        "       \n",
        "    def forward(self, x):\n",
        "        \n",
        "        identity = x\n",
        "        \n",
        "        out = self.conv1(x)\n",
        "        out = self.bn1(out)\n",
        "        out = self.relu(out)\n",
        "\n",
        "        out = self.conv2(out)\n",
        "        out = self.bn2(out)\n",
        "\n",
        "        if self.downsample:\n",
        "            identity = self.downsample(x)\n",
        "            \n",
        "        out += identity\n",
        "        out = self.relu(out)\n",
        "\n",
        "        return out\n",
        "        "
      ],
      "metadata": {
        "id": "eO0AVXLbfuyO"
      },
      "execution_count": 47,
      "outputs": []
    },
    {
      "cell_type": "markdown",
      "source": [
        "## v0.5.0 На вход добавлен слой с положением пиков [3, 1800]."
      ],
      "metadata": {
        "id": "ymatTSkpcE3M"
      }
    },
    {
      "cell_type": "code",
      "source": [
        "from torch.nn.modules.batchnorm import BatchNorm2d\n",
        "import torch.nn as nn\n",
        "import torch\n",
        "import torch.nn.functional as F\n",
        "\n",
        "\n",
        "class IrResnet4(nn.Module):\n",
        "    def __init__(self, hidden_size = 34, class_nums=17):\n",
        "        super(IrResnet4, self).__init__()\n",
        "        self.hidden_size=hidden_size\n",
        "        # Архитектура на подобие resnet\n",
        "        self.conv1 = nn.Conv1d(3, hidden_size, kernel_size=3, stride=2, padding = 1) #[3,899]\n",
        "        self.bn1 = nn.BatchNorm1d(hidden_size)\n",
        "        self.relu = nn.ReLU()\n",
        "        \n",
        "        \n",
        "        self.layer1 = nn.Sequential( #3 последовательных базовых блока #[2,1800]\n",
        "            BasicBlock(hidden_size),\n",
        "            BasicBlock(hidden_size),\n",
        "            BasicBlock(hidden_size))\n",
        "        # self.layer2 = nn.Sequential(\n",
        "        #     BasicBlock(hidden_size, downsample = False), #[2,1800]\n",
        "        #     BasicBlock(hidden_size),\n",
        "        #     BasicBlock(hidden_size))\n",
        "        #self.max1 = nn.MaxPool1d(3,2,0)\n",
        "        self.layer3 = nn.Sequential(\n",
        "            BasicBlock(hidden_size*2, downsample = True), #[2,900]\n",
        "            BasicBlock(hidden_size*2),\n",
        "            BasicBlock(hidden_size*2))\n",
        "        # self.layer4 = nn.Sequential(\n",
        "        #     BasicBlock(hidden_size*2, downsample = False), \n",
        "        #     BasicBlock(hidden_size*2),\n",
        "        #     BasicBlock(hidden_size*2))\n",
        "        #self.max2 = nn.MaxPool1d(3,2,0)\n",
        "        self.layer5 = nn.Sequential(\n",
        "            BasicBlock(hidden_size*4, downsample = True), #[2,450]\n",
        "            BasicBlock(hidden_size*4),\n",
        "            BasicBlock(hidden_size*4))\n",
        "        # self.layer6 = nn.Sequential(\n",
        "        #     BasicBlock(hidden_size*4, downsample = False), \n",
        "        #     BasicBlock(hidden_size*4),\n",
        "        #     BasicBlock(hidden_size*4))\n",
        "        self.max3 = nn.MaxPool1d(3,2,0)\n",
        "        self.layer7 = nn.Sequential(\n",
        "            BasicBlock(hidden_size*8, downsample = True), #[2,225]\n",
        "            BasicBlock(hidden_size*8),\n",
        "            BasicBlock(hidden_size*8))\n",
        "        # self.layer8 = nn.Sequential(\n",
        "        #     BasicBlock(hidden_size*8, downsample = False), #[2,225]\n",
        "        #     BasicBlock(hidden_size*8),\n",
        "        #     BasicBlock(hidden_size*8))\n",
        "        #self.adppool = nn.AdaptiveMaxPool1d(14)\n",
        "        self.flatten = nn.Flatten()\n",
        "        self.do1 = nn.Dropout1d(0.5)\n",
        "        self.fc = nn.Linear(hidden_size*8*56, 200)\n",
        "        self.do2 = nn.Dropout1d(0.2)\n",
        "        self.relu1 = nn.ReLU()\n",
        "        self.fc1 = nn.Linear(200, class_nums) \n",
        "        #self.sm = nn.Sigmoid()\n",
        "        \n",
        "\n",
        "\n",
        "    def forward(self, batch):\n",
        "      # PUT YOUR CODE HERE\n",
        "        batch = self.conv1(batch)\n",
        "        batch = self.bn1(batch)\n",
        "        batch = self.relu(batch)\n",
        "        batch = self.layer1(batch)\n",
        "        #batch = self.layer2(batch)\n",
        "        #batch = self.max1(batch)\n",
        "        batch = self.layer3(batch)\n",
        "        #batch = self.layer4(batch)\n",
        "        #batch = self.max2(batch)\n",
        "        batch = self.layer5(batch)\n",
        "        #batch = self.layer6(batch)\n",
        "        batch = self.max3(batch)\n",
        "        batch = self.layer7(batch)\n",
        "        #batch = self.layer8(batch)\n",
        "        #batch = self.adppool(batch)\n",
        "        batch = self.flatten(batch)\n",
        "        batch = self.do1(batch)\n",
        "        batch = self.fc(batch)\n",
        "        batch = self.do2(batch)\n",
        "        batch = self.relu1(batch)\n",
        "        scores = self.fc1(batch)\n",
        "        \n",
        "        #scores=self.sm(batch)\n",
        "              \n",
        "        return scores\n",
        "\n",
        "\n",
        "class BasicBlock(nn.Module):\n",
        "    def __init__(self, in_channels, downsample = False):  # You can add params here\n",
        "        super(BasicBlock, self).__init__()\n",
        "        \n",
        "        self.downsample = downsample\n",
        "\n",
        "        if downsample: #Если есть увеличение, то первая свёртка должна быть с большим выходом\n",
        "          self.conv1 = nn.Conv1d(in_channels//2, in_channels, kernel_size=3, stride=2, padding=1)\n",
        "        else:\n",
        "          self.conv1 = nn.Conv1d(in_channels, in_channels, kernel_size=3, padding=1)\n",
        "\n",
        "        self.bn1 = nn.BatchNorm1d(in_channels)\n",
        "        self.relu = nn.ReLU()\n",
        "        self.conv2 = nn.Conv1d(in_channels, in_channels, kernel_size=3, padding=1)\n",
        "        self.bn2 = nn.BatchNorm1d(in_channels)\n",
        "        if downsample:\n",
        "            self.downsample = nn.Sequential(\n",
        "                nn.Conv1d(in_channels//2, in_channels, kernel_size=1, stride=2), #Уменьшаем размер картинки, увеличивая количество фильтров\n",
        "                nn.BatchNorm1d(in_channels))                \n",
        "\n",
        "       \n",
        "    def forward(self, x):\n",
        "        \n",
        "        identity = x\n",
        "        \n",
        "        out = self.conv1(x)\n",
        "        out = self.bn1(out)\n",
        "        out = self.relu(out)\n",
        "\n",
        "        out = self.conv2(out)\n",
        "        out = self.bn2(out)\n",
        "\n",
        "        if self.downsample:\n",
        "            identity = self.downsample(x)\n",
        "            \n",
        "        out += identity\n",
        "        out = self.relu(out)\n",
        "\n",
        "        return out"
      ],
      "metadata": {
        "id": "a54f0UpecGH-"
      },
      "execution_count": 65,
      "outputs": []
    },
    {
      "cell_type": "markdown",
      "metadata": {
        "id": "LjGOEUiDfNlo"
      },
      "source": [
        "# Обучение модели"
      ]
    },
    {
      "cell_type": "markdown",
      "metadata": {
        "id": "u1dVcEEj9IOf"
      },
      "source": [
        "Оптимизатор - Адам с базовыми настройками\n",
        "Лосс - Бинарная кросс-энтропия\n",
        "Вывести табличку по классам sklearn пресижен реколл по классам\n",
        "Какой-то репорт в sklearn \n"
      ]
    },
    {
      "cell_type": "code",
      "execution_count": 66,
      "metadata": {
        "id": "LU3pdOJyd7fo",
        "colab": {
          "base_uri": "https://localhost:8080/",
          "height": 0
        },
        "outputId": "b6a542a1-8a1f-4801-9961-4cca3e3f29b7"
      },
      "outputs": [
        {
          "output_type": "stream",
          "name": "stdout",
          "text": [
            "Using device: cuda\n",
            "Adjusting learning rate of group 0 to 1.0000e-04.\n"
          ]
        }
      ],
      "source": [
        "model8 = IrResnet4(hidden_size = 50)\n",
        "irpp8 = ProgressPlotter(title = \"Fifth\")\n",
        "trainer8 = Trainer(model= model8, plotter = irpp8, lr = 0.0001)\n",
        "# model6 = IrResnet2(hidden_size = 60)\n",
        "# irpp6 = ProgressPlotter(title = \"Sixs\")\n",
        "# trainer6 = Trainer(model= model6, plotter = irpp6, lr = 0.0001)"
      ]
    },
    {
      "cell_type": "code",
      "execution_count": 67,
      "metadata": {
        "id": "oUKNe0tgOZ-I",
        "colab": {
          "base_uri": "https://localhost:8080/",
          "height": 0
        },
        "outputId": "8f6cb1e2-2246-47a6-b789-e5ccd4df88a6"
      },
      "outputs": [
        {
          "output_type": "stream",
          "name": "stdout",
          "text": [
            "----------------------------------------------------------------\n",
            "        Layer (type)               Output Shape         Param #\n",
            "================================================================\n",
            "            Conv1d-1              [-1, 50, 900]             500\n",
            "       BatchNorm1d-2              [-1, 50, 900]             100\n",
            "              ReLU-3              [-1, 50, 900]               0\n",
            "            Conv1d-4              [-1, 50, 900]           7,550\n",
            "       BatchNorm1d-5              [-1, 50, 900]             100\n",
            "              ReLU-6              [-1, 50, 900]               0\n",
            "            Conv1d-7              [-1, 50, 900]           7,550\n",
            "       BatchNorm1d-8              [-1, 50, 900]             100\n",
            "              ReLU-9              [-1, 50, 900]               0\n",
            "       BasicBlock-10              [-1, 50, 900]               0\n",
            "           Conv1d-11              [-1, 50, 900]           7,550\n",
            "      BatchNorm1d-12              [-1, 50, 900]             100\n",
            "             ReLU-13              [-1, 50, 900]               0\n",
            "           Conv1d-14              [-1, 50, 900]           7,550\n",
            "      BatchNorm1d-15              [-1, 50, 900]             100\n",
            "             ReLU-16              [-1, 50, 900]               0\n",
            "       BasicBlock-17              [-1, 50, 900]               0\n",
            "           Conv1d-18              [-1, 50, 900]           7,550\n",
            "      BatchNorm1d-19              [-1, 50, 900]             100\n",
            "             ReLU-20              [-1, 50, 900]               0\n",
            "           Conv1d-21              [-1, 50, 900]           7,550\n",
            "      BatchNorm1d-22              [-1, 50, 900]             100\n",
            "             ReLU-23              [-1, 50, 900]               0\n",
            "       BasicBlock-24              [-1, 50, 900]               0\n",
            "           Conv1d-25             [-1, 100, 450]          15,100\n",
            "      BatchNorm1d-26             [-1, 100, 450]             200\n",
            "             ReLU-27             [-1, 100, 450]               0\n",
            "           Conv1d-28             [-1, 100, 450]          30,100\n",
            "      BatchNorm1d-29             [-1, 100, 450]             200\n",
            "           Conv1d-30             [-1, 100, 450]           5,100\n",
            "      BatchNorm1d-31             [-1, 100, 450]             200\n",
            "             ReLU-32             [-1, 100, 450]               0\n",
            "       BasicBlock-33             [-1, 100, 450]               0\n",
            "           Conv1d-34             [-1, 100, 450]          30,100\n",
            "      BatchNorm1d-35             [-1, 100, 450]             200\n",
            "             ReLU-36             [-1, 100, 450]               0\n",
            "           Conv1d-37             [-1, 100, 450]          30,100\n",
            "      BatchNorm1d-38             [-1, 100, 450]             200\n",
            "             ReLU-39             [-1, 100, 450]               0\n",
            "       BasicBlock-40             [-1, 100, 450]               0\n",
            "           Conv1d-41             [-1, 100, 450]          30,100\n",
            "      BatchNorm1d-42             [-1, 100, 450]             200\n",
            "             ReLU-43             [-1, 100, 450]               0\n",
            "           Conv1d-44             [-1, 100, 450]          30,100\n",
            "      BatchNorm1d-45             [-1, 100, 450]             200\n",
            "             ReLU-46             [-1, 100, 450]               0\n",
            "       BasicBlock-47             [-1, 100, 450]               0\n",
            "           Conv1d-48             [-1, 200, 225]          60,200\n",
            "      BatchNorm1d-49             [-1, 200, 225]             400\n",
            "             ReLU-50             [-1, 200, 225]               0\n",
            "           Conv1d-51             [-1, 200, 225]         120,200\n",
            "      BatchNorm1d-52             [-1, 200, 225]             400\n",
            "           Conv1d-53             [-1, 200, 225]          20,200\n",
            "      BatchNorm1d-54             [-1, 200, 225]             400\n",
            "             ReLU-55             [-1, 200, 225]               0\n",
            "       BasicBlock-56             [-1, 200, 225]               0\n",
            "           Conv1d-57             [-1, 200, 225]         120,200\n",
            "      BatchNorm1d-58             [-1, 200, 225]             400\n",
            "             ReLU-59             [-1, 200, 225]               0\n",
            "           Conv1d-60             [-1, 200, 225]         120,200\n",
            "      BatchNorm1d-61             [-1, 200, 225]             400\n",
            "             ReLU-62             [-1, 200, 225]               0\n",
            "       BasicBlock-63             [-1, 200, 225]               0\n",
            "           Conv1d-64             [-1, 200, 225]         120,200\n",
            "      BatchNorm1d-65             [-1, 200, 225]             400\n",
            "             ReLU-66             [-1, 200, 225]               0\n",
            "           Conv1d-67             [-1, 200, 225]         120,200\n",
            "      BatchNorm1d-68             [-1, 200, 225]             400\n",
            "             ReLU-69             [-1, 200, 225]               0\n",
            "       BasicBlock-70             [-1, 200, 225]               0\n",
            "        MaxPool1d-71             [-1, 200, 112]               0\n",
            "           Conv1d-72              [-1, 400, 56]         240,400\n",
            "      BatchNorm1d-73              [-1, 400, 56]             800\n",
            "             ReLU-74              [-1, 400, 56]               0\n",
            "           Conv1d-75              [-1, 400, 56]         480,400\n",
            "      BatchNorm1d-76              [-1, 400, 56]             800\n",
            "           Conv1d-77              [-1, 400, 56]          80,400\n",
            "      BatchNorm1d-78              [-1, 400, 56]             800\n",
            "             ReLU-79              [-1, 400, 56]               0\n",
            "       BasicBlock-80              [-1, 400, 56]               0\n",
            "           Conv1d-81              [-1, 400, 56]         480,400\n",
            "      BatchNorm1d-82              [-1, 400, 56]             800\n",
            "             ReLU-83              [-1, 400, 56]               0\n",
            "           Conv1d-84              [-1, 400, 56]         480,400\n",
            "      BatchNorm1d-85              [-1, 400, 56]             800\n",
            "             ReLU-86              [-1, 400, 56]               0\n",
            "       BasicBlock-87              [-1, 400, 56]               0\n",
            "           Conv1d-88              [-1, 400, 56]         480,400\n",
            "      BatchNorm1d-89              [-1, 400, 56]             800\n",
            "             ReLU-90              [-1, 400, 56]               0\n",
            "           Conv1d-91              [-1, 400, 56]         480,400\n",
            "      BatchNorm1d-92              [-1, 400, 56]             800\n",
            "             ReLU-93              [-1, 400, 56]               0\n",
            "       BasicBlock-94              [-1, 400, 56]               0\n",
            "          Flatten-95                [-1, 22400]               0\n",
            "        Dropout1d-96                [-1, 22400]               0\n",
            "           Linear-97                  [-1, 200]       4,480,200\n",
            "        Dropout1d-98                  [-1, 200]               0\n",
            "             ReLU-99                  [-1, 200]               0\n",
            "          Linear-100                   [-1, 17]           3,417\n",
            "================================================================\n",
            "Total params: 8,114,817\n",
            "Trainable params: 8,114,817\n",
            "Non-trainable params: 0\n",
            "----------------------------------------------------------------\n",
            "Input size (MB): 0.02\n",
            "Forward/backward pass size (MB): 28.48\n",
            "Params size (MB): 30.96\n",
            "Estimated Total Size (MB): 59.46\n",
            "----------------------------------------------------------------\n"
          ]
        }
      ],
      "source": [
        "from torchsummary import summary\n",
        "summary(model8.to(device), (3, 1800))\n",
        "# summary(model6.to(device), (2, 1800))"
      ]
    },
    {
      "cell_type": "code",
      "execution_count": 68,
      "metadata": {
        "id": "B_hPYZjSZhdh",
        "colab": {
          "base_uri": "https://localhost:8080/",
          "height": 324
        },
        "outputId": "86209766-a9b7-44f5-9769-22e20304b297"
      },
      "outputs": [
        {
          "output_type": "display_data",
          "data": {
            "text/plain": [
              "<Figure size 1600x300 with 3 Axes>"
            ],
            "image/png": "[encoded data removed]"
          },
          "metadata": {}
        },
        {
          "output_type": "stream",
          "name": "stderr",
          "text": [
            "100%|██████████| 200/200 [1:11:11<00:00, 21.36s/it]\n"
          ]
        }
      ],
      "source": [
        "trainer8(dataloader_ir_train, dataloader_ir_test, epochs = 200)"
      ]
    },
    {
      "cell_type": "code",
      "source": [
        "# trainer6(dataloader_ir_train, dataloader_ir_test, epochs = 200)"
      ],
      "metadata": {
        "id": "8tyH1lyMBO2X"
      },
      "execution_count": null,
      "outputs": []
    },
    {
      "cell_type": "code",
      "source": [
        "#irpp3.history_dict['Loss/val']['Third'][irpp3.history_dict['Loss/val']['Third']>1]=1"
      ],
      "metadata": {
        "id": "19sfckPRHYsw"
      },
      "execution_count": null,
      "outputs": []
    },
    {
      "cell_type": "markdown",
      "metadata": {
        "id": "PIi3rjFafQJ8"
      },
      "source": [
        "# Оценка качества модели"
      ]
    },
    {
      "cell_type": "code",
      "execution_count": null,
      "metadata": {
        "id": "B3K43MstZjAn"
      },
      "outputs": [],
      "source": [
        "# score = round(irpp5.history_dict['label_ranking_average_precision_score/val']['Third'][np.argmin(irpp3.history_dict['Loss/val']['Third'])],3)\n",
        "# epoch1 = np.argmin(irpp5.history_dict['Loss/val']['Third'])\n",
        "# print(f'Максимальная точность {score} на {epoch1} эпохе') "
      ]
    },
    {
      "cell_type": "code",
      "source": [
        "from sklearn.metrics import classification_report\n",
        "def get_statistic(model, device, val_dataloader, tolerance = 0.9):\n",
        "  y_true = []\n",
        "  y_pred = []\n",
        "  labels = []\n",
        "  model.eval()\n",
        "  for data, label in val_dataloader:\n",
        "    out = model.to(device)(data.to(device))\n",
        "    y_true.append(label)\n",
        "    y_pred.append(out.cpu().detach().numpy())\n",
        "    out.cpu()\n",
        "  y_pred[0][y_pred[0]<tolerance]=0\n",
        "  y_pred[0][y_pred[0]>=tolerance]=1\n",
        "  model.to('cpu')\n",
        "  return classification_report(y_true[0], y_pred[0], target_names = classes)\n"
      ],
      "metadata": {
        "id": "pj8EMoVcbpC5"
      },
      "execution_count": 69,
      "outputs": []
    },
    {
      "cell_type": "code",
      "source": [
        "import gc\n",
        "torch.cuda.empty_cache()\n",
        "gc.collect()"
      ],
      "metadata": {
        "colab": {
          "base_uri": "https://localhost:8080/",
          "height": 0
        },
        "id": "wd1LLzrH_g9J",
        "outputId": "450888b4-1f7a-4008-cc5a-4092bfb3d501"
      },
      "execution_count": 70,
      "outputs": [
        {
          "output_type": "execute_result",
          "data": {
            "text/plain": [
              "87872"
            ]
          },
          "metadata": {},
          "execution_count": 70
        }
      ]
    },
    {
      "cell_type": "code",
      "source": [
        "# cr_raw = get_statistic(model_raw, device, dataloader_ir_val, tolerance = 0.5)\n",
        "# print(cr_raw)"
      ],
      "metadata": {
        "id": "xl3K1_cksRh3"
      },
      "execution_count": null,
      "outputs": []
    },
    {
      "cell_type": "code",
      "source": [
        "cr8 = get_statistic(model8, device, dataloader_ir_val, tolerance = 0.5)\n",
        "print(cr8)\n",
        "# cr6 = get_statistic(model6, device, dataloader_ir_val, tolerance = 0.5)\n",
        "# print(cr6)"
      ],
      "metadata": {
        "colab": {
          "base_uri": "https://localhost:8080/",
          "height": 0
        },
        "id": "9ltOCea3cjhs",
        "outputId": "d57329b0-db0d-40ee-c7a1-51ebc6d4b064"
      },
      "execution_count": 71,
      "outputs": [
        {
          "output_type": "stream",
          "name": "stdout",
          "text": [
            "                  precision    recall  f1-score   support\n",
            "\n",
            "          alkane       0.90      0.87      0.89       802\n",
            "          methyl       0.87      0.79      0.83       725\n",
            "          alkene       0.84      0.37      0.51       175\n",
            "          alkyne       1.00      0.43      0.60        14\n",
            "        alcohols       0.89      0.71      0.79       279\n",
            "          amines       0.95      0.46      0.62       154\n",
            "        nitriles       1.00      0.05      0.09        43\n",
            "       aromatics       0.95      0.93      0.94       686\n",
            "   alkyl halides       0.75      0.42      0.54       302\n",
            "          esters       0.97      0.74      0.84       116\n",
            "         ketones       0.90      0.32      0.47       112\n",
            "       aldehydes       0.91      0.42      0.57        24\n",
            "carboxylic acids       0.91      0.48      0.62        82\n",
            "           ether       0.92      0.64      0.76       280\n",
            "    acyl halides       0.00      0.00      0.00         9\n",
            "          amides       0.91      0.22      0.35        91\n",
            "           nitro       0.89      0.47      0.62        70\n",
            "\n",
            "       micro avg       0.90      0.70      0.79      3964\n",
            "       macro avg       0.86      0.49      0.59      3964\n",
            "    weighted avg       0.89      0.70      0.77      3964\n",
            "     samples avg       0.88      0.71      0.76      3964\n",
            "\n"
          ]
        },
        {
          "output_type": "stream",
          "name": "stderr",
          "text": [
            "/usr/local/lib/python3.9/dist-packages/sklearn/metrics/_classification.py:1344: UndefinedMetricWarning: Precision and F-score are ill-defined and being set to 0.0 in labels with no predicted samples. Use `zero_division` parameter to control this behavior.\n",
            "  _warn_prf(average, modifier, msg_start, len(result))\n",
            "/usr/local/lib/python3.9/dist-packages/sklearn/metrics/_classification.py:1344: UndefinedMetricWarning: Precision and F-score are ill-defined and being set to 0.0 in samples with no predicted labels. Use `zero_division` parameter to control this behavior.\n",
            "  _warn_prf(average, modifier, msg_start, len(result))\n",
            "/usr/local/lib/python3.9/dist-packages/sklearn/metrics/_classification.py:1344: UndefinedMetricWarning: Recall and F-score are ill-defined and being set to 0.0 in samples with no true labels. Use `zero_division` parameter to control this behavior.\n",
            "  _warn_prf(average, modifier, msg_start, len(result))\n"
          ]
        }
      ]
    },
    {
      "cell_type": "code",
      "execution_count": null,
      "metadata": {
        "id": "mgwXNxZnatEL"
      },
      "outputs": [],
      "source": [
        "# from sklearn.metrics import label_ranking_average_precision_score\n",
        "# score_list = []\n",
        "# for i, j in dataloader_ir_val:\n",
        "#   model1.eval()\n",
        "#   model1.to(device)\n",
        "#   out = model1(i.to(device))\n",
        "#   #print(out)\n",
        "#   #print(j)\n",
        "#   score = label_ranking_average_precision_score(j, out.cpu().detach().numpy())\n",
        "#   score_list.append(score)\n",
        "# print(round(sum(score_list)/len(score_list), 2))"
      ]
    },
    {
      "cell_type": "markdown",
      "metadata": {
        "id": "UGS2Py7LauUc"
      },
      "source": []
    },
    {
      "cell_type": "markdown",
      "metadata": {
        "id": "-kSWzIW0A2ox"
      },
      "source": [
        "sklearn metrics - https://scikit-learn.org/stable/modules/generated/sklearn.metrics.classification_report.html\n"
      ]
    },
    {
      "cell_type": "markdown",
      "metadata": {
        "id": "e8o_LFjWfSGt"
      },
      "source": [
        "# Выводы"
      ]
    },
    {
      "cell_type": "markdown",
      "metadata": {
        "id": "gSu8Ux8TIlev"
      },
      "source": [
        "# Статистика"
      ]
    },
    {
      "cell_type": "markdown",
      "source": [
        "## 14.03.2023"
      ],
      "metadata": {
        "id": "z52Hyz0BF8cU"
      }
    },
    {
      "cell_type": "markdown",
      "metadata": {
        "id": "ecaKTZSuIoER"
      },
      "source": [
        "Базовая модель - 0: 8 сверточных слоёв (3 макспула, после каждого удвоения признаков). hidden_size = 11. Точность 0.6 на 100 эпохах (переобучение). lr = 0.001\n",
        "Количество параметров: порядка 18 млн\n",
        "\n",
        "v0.1. 8 сверточных (3 макспула, удвоение 1 после второго). hidden_size = 11. Точность 0,45 на 40 эпохах, потом переобучение до 0,6. lr = 0.0005.\n",
        "Количество параметров: 5,058,328\n",
        "\n",
        "v0.2.0 вход+ 5 слоёв по 3 базовых блока по 2 сверки = 31 hidden_size = 11.сверточный слой. Hidden_size = 11. ;r = 0.0005. Точность 0.43 20 эпохах, потом переобучение. \n",
        "Количество параметров: 350,158\n",
        "\n",
        "v0.2.0.1 вход+ 5 слоёв по 3 базовых блока по 2 сверки = 31 сверточный слой. Hidden_size = 20. lr = 0.0005. Точность 0.41 на 20 эпохах, потом переобучение. \n",
        "Количество параметров: 655,357\n",
        "\n",
        "v0.2.1 вход+ 5 слоёв по 3 базовых блока по 2 сверки = 31 сверточный слой + 2 fc + 1 do (0.5). Hidden_size = 10. lr = 0.0005. label_ranking_average_precision_score **0,875** на 25 эпохах, потом переобучение. \n",
        "Количество параметров: 3,753,407\n",
        "\n",
        "v0.2.2  вход+ 5 слоёв по 3 базовых блока по 2 сверки = 31 сверточный слой + 2 fc + 1 do (0.5) между первым и вторым fc. Hidden_size = 10. lr = 0.0005. label_ranking_average_precision_score **0,91** на 45 эпохах, потом переобучение. \n",
        "Количество параметров: 3,753,407\n",
        "\n",
        "Подобрана функция для статистики. f1 score - дает среднее в 0,78.\n",
        "Применил таки дропаут. \n",
        "v0.2.2  вход+ 5 слоёв по 3 базовых блока по 2 сверки = 31 сверточный слой + 2 fc + 1 do (0.5) между первым и вторым fc. Hidden_size = 10. lr = 0.0005. label_ranking_average_precision_score **0,80** на 66 эпохах, потом переобучение. Количество параметров: 3,753,407\n",
        "На выходе полнота для низких классов вообще никакая. Хотя переобучение есть. Попробую снизить скорость и дропаут.\n",
        "\n",
        "v0.2.3  вход+ 5 слоёв по 3 базовых блока по 2 сверки = 31 сверточный слой + 2 fc + 1 do (0.3) между первым и вторым fc. Hidden_size = 10. lr = 0.0003. label_ranking_average_precision_score **0,82** на 35 эпохах, потом переобучение. Количество параметров: 3,753,407\n",
        "Полнота определения страдает для классов с низким содержанием.\n",
        "\n",
        "v0.3.0 добавил  еще один дропаут и глубины.\n",
        "\n",
        "вход+ 8 слоёв по 3 базовых блока по 2 сверки = 41 сверточный слой + 2 fc + 2 do (0.5 и 0,2) между первым и вторым fc. Hidden_size = 10. lr = 0.0003. label_ranking_average_precision_score **0.781 на 31 эпохе** , потом переобучение. Количество параметров: 3,907,127\n"
      ]
    },
    {
      "cell_type": "markdown",
      "source": [
        "##18.03.2023"
      ],
      "metadata": {
        "id": "UxanqfT0GAfO"
      }
    },
    {
      "cell_type": "markdown",
      "source": [
        "\n",
        "18/03/2023\n",
        "v0.3.1 убрал избыток сверток и добавил толщины.\n",
        "\n",
        "вход+ 4 слоёв по 3 базовых блока по 2 сверки = 21 сверточный слой + 2 fc. \n",
        "Hidden_size = 20. \n",
        "lr = 0.0005. \n",
        "\n",
        "label_ranking_average_precision_score **0.871 на 8 эпохе** , потом переобучение. Количество параметров: 7,788,437.\n",
        "Но в этом случае реколл для малых классов отличен от нуля. f1w - 0.76.\n",
        "Добавим дропауты\n",
        "\n",
        "v0.3.2 добавил дроп после flatten. Переобучение значительно снизилось. Не хватило 40 эпох. Высокий пресижон, но слабый рекол.Общий f1 0,5\n",
        "\n",
        "вход+ 4 слоёв по 3 базовых блока по 2 сверки = 21 сверточный слой + 2 fc+1дроп. \n",
        "Hidden_size = 20. \n",
        "lr = 0.0005.  \n",
        "label_ranking_average_precision_score ** 0.803 на 39 эпохе**\n",
        "\n",
        "v0.3.3 увеличим толщину еще. вход+ 4 слоёв по 3 базовых блока по 2 сверки = 21 сверточный слой + 2 fc+1дроп. \n",
        "Hidden_size = 30. (Параметров 12,114,647) \n",
        "lr = 0.0005.  \n",
        "label_ranking_average_precision_score **0.812 на 36 эпохе**\n",
        "\n",
        "\n",
        "           precision    recall  f1-score   support\n",
        "           alkane       0.97      0.51      0.67       812\n",
        "           methyl       0.93      0.54      0.68       715\n",
        "           alkene       1.00      0.10      0.19       165\n",
        "           alkyne       1.00      0.16      0.27        19\n",
        "         alcohols       0.94      0.18      0.31       271\n",
        "           amines       1.00      0.07      0.13       159\n",
        "         nitriles       1.00      0.02      0.04        46\n",
        "        aromatics       0.98      0.75      0.85       681\n",
        "    alkyl halides       0.92      0.14      0.24       317\n",
        "           esters       0.97      0.43      0.60       129\n",
        "          ketones       1.00      0.06      0.12       112\n",
        "        aldehydes       1.00      0.39      0.56        23\n",
        "    carboxylic acids    1.00      0.15      0.26        66\n",
        "           ether        0.95      0.53      0.68       288\n",
        "    acyl halides        0.50      0.07      0.12        14\n",
        "          amides        0.60      0.03      0.06        96\n",
        "           nitro        0.92      0.49      0.64        71\n",
        "\n",
        "       micro avg        0.96      0.43      0.59      3984\n",
        "       macro avg        0.92      0.27      0.38      3984\n",
        "    weighted avg        0.95      0.43      0.55      3984\n",
        "     samples avg        0.75      0.44      0.53      3984\n"
      ],
      "metadata": {
        "id": "SGal93O1_d52"
      }
    },
    {
      "cell_type": "markdown",
      "source": [
        "v0.3.5 Повысим толщину еще. hidden_size = 50 (21,634,667 параметров). Модель не учится. А при расчёте статистики - еще и забивается память."
      ],
      "metadata": {
        "id": "WaPyeHF1EoET"
      }
    },
    {
      "cell_type": "markdown",
      "source": [
        "## 20.03.2023"
      ],
      "metadata": {
        "id": "hKgatEnSGChH"
      }
    },
    {
      "cell_type": "markdown",
      "source": [
        "20.03.2023\n",
        "Добавлен взвешенный даталоадер на трейн. \n",
        "\n",
        "v0.3.6. 8 уровней по 3 базовых блока. Уже на 40 эпохах с lr = 0.001 выходит на плато. Потом уменьшение lr = 0.0005 и lr = 0.0001 приводит к улучшению результата максимум до label_ranking_average_precision_score 0.8 на 60 эпохе.\n",
        "Но статистика говорит, что слабые классы всё равно не попадают под обучение.\n"
      ],
      "metadata": {
        "id": "X5Mew8qlRPMD"
      }
    },
    {
      "cell_type": "markdown",
      "source": [
        "                 precision    recall  f1-score   support\n",
        "\n",
        "          alkane       0.94      0.64      0.76       818\n",
        "          methyl       0.92      0.46      0.61       736\n",
        "          alkene       0.90      0.17      0.29       159\n",
        "          alkyne       0.00      0.00      0.00        21\n",
        "        alcohols       0.89      0.14      0.25       270\n",
        "          amines       0.83      0.16      0.26       153\n",
        "        nitriles       0.00      0.00      0.00        34\n",
        "       aromatics       0.99      0.82      0.90       712\n",
        "    alkyl_halides      0.95      0.23      0.37       330\n",
        "          esters       1.00      0.45      0.62       128\n",
        "         ketones       0.91      0.18      0.31       109\n",
        "       aldehydes       0.00      0.00      0.00        17\n",
        "    carboxylic_acids   0.90      0.11      0.20        81\n",
        "           ether       0.96      0.43      0.60       274\n",
        "    acyl halides       1.00      0.17      0.29        12\n",
        "          amides       1.00      0.08      0.15        74\n",
        "           nitro       0.95      0.50      0.65        72\n",
        "\n",
        "       micro avg       0.95      0.47      0.62      4000\n",
        "       macro avg       0.77      0.27      0.37      4000\n",
        "    weighted avg       0.92      0.47      0.59      4000\n",
        "     samples avg       0.84      0.48      0.58      4000\n"
      ],
      "metadata": {
        "id": "dF12hB-pI1bt"
      }
    },
    {
      "cell_type": "markdown",
      "source": [
        "v0.3.6.  4 уровней по 3 базовых блока.\n",
        "label_ranking_average_precision_score  = 0.797 на 76 эпохе"
      ],
      "metadata": {
        "id": "1uR7ZrQVJh47"
      }
    },
    {
      "cell_type": "markdown",
      "source": [
        "                 precision    recall  f1-score   support\n",
        "\n",
        "          alkane       0.99      0.48      0.64       818\n",
        "          methyl       0.99      0.38      0.54       736\n",
        "          alkene       0.00      0.00      0.00       159\n",
        "          alkyne       1.00      0.24      0.38        21\n",
        "        alcohols       1.00      0.12      0.22       270\n",
        "          amines       0.00      0.00      0.00       153\n",
        "        nitriles       0.00      0.00      0.00        34\n",
        "       aromatics       0.99      0.44      0.61       712\n",
        "    alkyl halides      1.00      0.00      0.01       330\n",
        "          esters       0.00      0.00      0.00       128\n",
        "         ketones       0.00      0.00      0.00       109\n",
        "       aldehydes       0.50      0.06      0.11        17\n",
        "    carboxylic acids   0.00      0.00      0.00        81\n",
        "           ether       1.00      0.04      0.08       274\n",
        "    acyl halides       0.00      0.00      0.00        12\n",
        "          amides       1.00      0.01      0.03        74\n",
        "           nitro       0.00      0.00      0.00        72\n",
        "\n",
        "       micro avg       0.99      0.26      0.41      4000\n",
        "       macro avg       0.50      0.10      0.15      4000\n",
        "    weighted avg       0.81      0.26      0.36      4000\n",
        "     samples avg       0.59      0.28      0.36      4000"
      ],
      "metadata": {
        "id": "Xz2AAY_LRmZW"
      }
    },
    {
      "cell_type": "markdown",
      "source": [
        "Высокие точности для больших классов, никакие для слабых."
      ],
      "metadata": {
        "id": "rCWSeVOoRvug"
      }
    },
    {
      "cell_type": "markdown",
      "source": [
        "v0.3.7 Прикрутил AdaptiveMaxPool1d и планировщик (StepLR шаг 30 спектров, гамма = 0,2). label_ranking_average_precision_score = 0.83 на 73 эпохе\n",
        "Статистика с толерантностью 0,9:"
      ],
      "metadata": {
        "id": "J-OrYRendMZd"
      }
    },
    {
      "cell_type": "markdown",
      "source": [
        "                  precision    recall  f1-score   support\n",
        "\n",
        "          alkane       0.99      0.45      0.62       818\n",
        "          methyl       0.96      0.26      0.41       736\n",
        "          alkene       1.00      0.04      0.07       159\n",
        "          alkyne       1.00      0.05      0.09        21\n",
        "        alcohols       1.00      0.03      0.06       270\n",
        "          amines       1.00      0.05      0.10       153\n",
        "        nitriles       1.00      0.03      0.06        34\n",
        "       aromatics       1.00      0.70      0.82       712\n",
        "     alkyl halides     1.00      0.08      0.15       330\n",
        "          esters       1.00      0.20      0.33       128\n",
        "         ketones       1.00      0.04      0.07       109\n",
        "       aldehydes       0.00      0.00      0.00        17\n",
        "    carboxylic acids   1.00      0.05      0.09        81\n",
        "           ether       1.00      0.26      0.41       274\n",
        "    acyl halides       0.00      0.00      0.00        12\n",
        "          amides       1.00      0.01      0.03        74\n",
        "           nitro       1.00      0.32      0.48        72\n",
        "\n",
        "       micro avg       0.99      0.31      0.47      4000\n",
        "       macro avg       0.88      0.15      0.22      4000\n",
        "    weighted avg       0.98      0.31      0.42      4000\n",
        "     samples avg       0.71      0.32      0.42      4000"
      ],
      "metadata": {
        "id": "4W-bOJamkcG-"
      }
    },
    {
      "cell_type": "markdown",
      "source": [
        "Статистика с толернатностью 0,7 - ф1 - 0,66"
      ],
      "metadata": {
        "id": "ZikHU6_0kiPy"
      }
    },
    {
      "cell_type": "markdown",
      "source": [
        "                  precision    recall  f1-score   support\n",
        "\n",
        "          alkane       0.91      0.78      0.84       818\n",
        "          methyl       0.89      0.69      0.78       736\n",
        "          alkene       0.84      0.20      0.32       159\n",
        "          alkyne       1.00      0.24      0.38        21\n",
        "        alcohols       0.85      0.15      0.26       270\n",
        "          amines       0.91      0.20      0.32       153\n",
        "        nitriles       1.00      0.15      0.26        34\n",
        "       aromatics       0.98      0.90      0.93       712\n",
        "     alkyl halides     0.93      0.26      0.41       330\n",
        "          esters       0.96      0.40      0.56       128\n",
        "         ketones       0.92      0.21      0.34       109\n",
        "       aldehydes       1.00      0.06      0.11        17\n",
        "    carboxylic acids   0.94      0.19      0.31        81\n",
        "           ether       0.95      0.50      0.65       274\n",
        "    acyl halides       0.00      0.00      0.00        12\n",
        "          amides       0.89      0.11      0.19        74\n",
        "           nitro       0.97      0.51      0.67        72\n",
        "\n",
        "       micro avg       0.93      0.56      0.70      4000\n",
        "       macro avg       0.88      0.33      0.43      4000\n",
        "    weighted avg       0.92      0.56      0.66      4000\n",
        "     samples avg       0.88      0.58      0.67      4000\n"
      ],
      "metadata": {
        "id": "TgLRiZydkqYI"
      }
    },
    {
      "cell_type": "markdown",
      "source": [
        "v0.3.8 hidden_size = 15 (5 млн параметров), 8 слоёв. два дропаута.\n",
        "точность 0.825 на 170 эпохе.\n",
        "Статистика на 0,7:"
      ],
      "metadata": {
        "id": "sHhmrzkNvrMY"
      }
    },
    {
      "cell_type": "markdown",
      "source": [
        "                precision    recall  f1-score   support\n",
        "\n",
        "          alkane       0.94      0.79      0.86       818\n",
        "          methyl       0.94      0.69      0.80       736\n",
        "          alkene       1.00      0.08      0.14       159\n",
        "          alkyne       0.00      0.00      0.00        21\n",
        "        alcohols       0.94      0.35      0.51       270\n",
        "          amines       0.97      0.20      0.34       153\n",
        "        nitriles       0.00      0.00      0.00        34\n",
        "       aromatics       0.96      0.89      0.92       712\n",
        "     alkyl halides     0.97      0.09      0.17       330\n",
        "          esters       0.94      0.12      0.22       128\n",
        "         ketones       1.00      0.03      0.05       109\n",
        "       aldehydes       0.00      0.00      0.00        17\n",
        "    carboxylic acids   0.75      0.04      0.07        81\n",
        "           ether       1.00      0.28      0.44       274\n",
        "    acyl halides       0.00      0.00      0.00        12\n",
        "          amides       0.50      0.01      0.03        74\n",
        "           nitro       1.00      0.14      0.24        72\n",
        "\n",
        "       micro avg       0.95      0.52      0.67      4000\n",
        "       macro avg       0.70      0.22      0.28      4000\n",
        "    weighted avg       0.92      0.52      0.60      4000\n",
        "     samples avg       0.90      0.54      0.64      4000"
      ],
      "metadata": {
        "id": "zNNTVdNiv656"
      }
    },
    {
      "cell_type": "markdown",
      "source": [
        "Везде наблюдаются высокие precision и низкие recall, за исключением самых крупных классов. Самые редкие классы по нулям. \n",
        "Требуется научиться аугментации спектров, повысить количество малых классов, хотя бы раз в 10-100. \n",
        "\n",
        "Планы: \n",
        "\n",
        "*   Заняться аугментацией спектров\n",
        "*   Самые редкие классы выделить и аугментировать многократно. \n",
        "*   Используя имеющуюся модель научиться определять полосы частых классов и аугментировать спектры, вырежая эти диапазоны.\n",
        "*   Научиться работать со спектрами других размеров.\n",
        "\n",
        "\n",
        "\n",
        "\n"
      ],
      "metadata": {
        "id": "v8GzLD5fwOze"
      }
    },
    {
      "cell_type": "markdown",
      "source": [
        "## 21.03.2023"
      ],
      "metadata": {
        "id": "JNhp_gbH_tTN"
      }
    },
    {
      "cell_type": "markdown",
      "source": [
        "v0.3.9 4 уровня скрытый уровень 10 Прикручена BCELosswithlogits убран слой с сигмоидом. Убран рандомный семплер. Веса в лосс обратные."
      ],
      "metadata": {
        "id": "h4NIbr65H_IM"
      }
    },
    {
      "cell_type": "markdown",
      "source": [
        "                  precision    recall  f1-score   support\n",
        "\n",
        "          alkane       0.70      1.00      0.82       831\n",
        "          methyl       0.63      1.00      0.77       750\n",
        "          alkene       0.00      0.00      0.00       151\n",
        "          alkyne       0.00      0.00      0.00        22\n",
        "        alcohols       0.00      0.00      0.00       253\n",
        "          amines       0.00      0.00      0.00       148\n",
        "        nitriles       0.00      0.00      0.00        45\n",
        "       aromatics       0.60      1.00      0.75       712\n",
        "    alkyl halides      0.00      0.00      0.00       316\n",
        "          esters       0.00      0.00      0.00       148\n",
        "         ketones       0.00      0.00      0.00       105\n",
        "       aldehydes       0.00      0.00      0.00        23\n",
        "    carboxylic acids   0.00      0.00      0.00        84\n",
        "           ether       0.00      0.00      0.00       311\n",
        "    acyl halides       0.00      0.00      0.00        17\n",
        "          amides       0.00      0.00      0.00        70\n",
        "           nitro       0.00      0.00      0.00        63\n",
        "\n",
        "       micro avg       0.64      0.57      0.60      4049\n",
        "       macro avg       0.11      0.18      0.14      4049\n",
        "    weighted avg       0.37      0.57      0.44      4049\n",
        "     samples avg       0.64      0.60      0.60      4049\n"
      ],
      "metadata": {
        "id": "oNhE9_2xIHjc"
      }
    },
    {
      "cell_type": "markdown",
      "source": [
        "Обучение только на большие классы."
      ],
      "metadata": {
        "id": "MmYODp8JILeD"
      }
    },
    {
      "cell_type": "markdown",
      "source": [
        "v0.3.10 BCELosswithlogits Веса в лосс прямые. 0.777 на 76 эпохе. Статистика на толерантности 0,8"
      ],
      "metadata": {
        "id": "7xUadT7WNgFw"
      }
    },
    {
      "cell_type": "markdown",
      "source": [
        "                  precision    recall  f1-score   support\n",
        "\n",
        "          alkane       0.94      0.76      0.84       831\n",
        "          methyl       0.92      0.64      0.75       750\n",
        "          alkene       0.94      0.11      0.19       151\n",
        "          alkyne       0.00      0.00      0.00        22\n",
        "        alcohols       0.98      0.17      0.30       253\n",
        "          amines       1.00      0.01      0.03       148\n",
        "        nitriles       0.00      0.00      0.00        45\n",
        "       aromatics       0.97      0.90      0.93       712\n",
        "    alkyl halides      1.00      0.15      0.26       316\n",
        "          esters       0.97      0.38      0.54       148\n",
        "         ketones       1.00      0.06      0.11       105\n",
        "       aldehydes       0.00      0.00      0.00        23\n",
        "    carboxylic acids   0.80      0.05      0.09        84\n",
        "           ether       0.97      0.44      0.61       311\n",
        "    acyl halides       0.00      0.00      0.00        17\n",
        "          amides       0.00      0.00      0.00        70\n",
        "           nitro       1.00      0.29      0.44        63\n",
        "\n",
        "       micro avg       0.95      0.51      0.67      4049\n",
        "       macro avg       0.68      0.23      0.30      4049\n",
        "    weighted avg       0.91      0.51      0.60      4049\n",
        "     samples avg       0.89      0.53      0.64      4049\n"
      ],
      "metadata": {
        "id": "aRxCj9IaNnwV"
      }
    },
    {
      "cell_type": "markdown",
      "source": [
        "Статистика с толерантностью 0,5"
      ],
      "metadata": {
        "id": "XPHE4Aq7OcaV"
      }
    },
    {
      "cell_type": "markdown",
      "source": [
        "                 precision    recall  f1-score   support\n",
        "\n",
        "          alkane       0.92      0.81      0.86       831\n",
        "          methyl       0.89      0.72      0.79       750\n",
        "          alkene       0.90      0.13      0.22       151\n",
        "          alkyne       0.00      0.00      0.00        22\n",
        "        alcohols       0.96      0.21      0.34       253\n",
        "          amines       1.00      0.06      0.11       148\n",
        "        nitriles       1.00      0.02      0.04        45\n",
        "       aromatics       0.97      0.93      0.95       712\n",
        "     alkyl halides     1.00      0.21      0.35       316\n",
        "          esters       0.97      0.46      0.62       148\n",
        "         ketones       1.00      0.10      0.19       105\n",
        "       aldehydes       0.00      0.00      0.00        23\n",
        "    carboxylic acids   0.80      0.05      0.09        84\n",
        "           ether       0.96      0.53      0.68       311\n",
        "    acyl halides       0.00      0.00      0.00        17\n",
        "          amides       0.00      0.00      0.00        70\n",
        "           nitro       1.00      0.37      0.53        63\n",
        "\n",
        "       micro avg       0.94      0.57      0.71      4049\n",
        "       macro avg       0.73      0.27      0.34      4049\n",
        "    weighted avg       0.91      0.57      0.64      4049\n",
        "     samples avg       0.89      0.58      0.68      4049"
      ],
      "metadata": {
        "id": "lhC1VrUQOemy"
      }
    },
    {
      "cell_type": "markdown",
      "source": [
        "v0.3.11 Рандомный даталоадер вернут. **0.904** на 116 эпохе\n",
        "Статистика на 0,5:"
      ],
      "metadata": {
        "id": "T66y_IuZThoR"
      }
    },
    {
      "cell_type": "markdown",
      "source": [
        "                  precision    recall  f1-score   support\n",
        "\n",
        "          alkane       0.94      0.86      0.90       829\n",
        "          methyl       0.92      0.81      0.86       767\n",
        "          alkene       1.00      0.09      0.17       164\n",
        "          alkyne       1.00      0.06      0.11        17\n",
        "        alcohols       0.97      0.28      0.44       277\n",
        "          amines       0.93      0.18      0.30       145\n",
        "        nitriles       0.00      0.00      0.00        45\n",
        "       aromatics       0.97      0.89      0.93       688\n",
        "     alkyl halides     0.97      0.14      0.24       279\n",
        "          esters       1.00      0.29      0.45       150\n",
        "         ketones       0.00      0.00      0.00       107\n",
        "       aldehydes       0.00      0.00      0.00        23\n",
        "    carboxylic acids   0.91      0.13      0.23        75\n",
        "           ether       0.99      0.41      0.58       312\n",
        "    acyl halides       0.00      0.00      0.00        11\n",
        "          amides       0.00      0.00      0.00        84\n",
        "           nitro       0.93      0.21      0.34        62\n",
        "\n",
        "       micro avg       0.95      0.57      0.71      4035\n",
        "       macro avg       0.68      0.26      0.33      4035\n",
        "    weighted avg       0.89      0.57      0.64      4035\n",
        "     samples avg       0.91      0.59      0.69      4035\n"
      ],
      "metadata": {
        "id": "yuR2vE6STp_z"
      }
    },
    {
      "cell_type": "markdown",
      "source": [
        "Начинает получаться с малыми классами. Появился реколл для классов 45-80 шт.\n",
        "Надо увеличить еще веса для самых малых классов."
      ],
      "metadata": {
        "id": "Q2gt_rDeT5C_"
      }
    },
    {
      "cell_type": "markdown",
      "source": [
        "v0.3.12 Уменьшение весов малых классов еще сильнее. "
      ],
      "metadata": {
        "id": "6ObKupo-UJ9q"
      }
    },
    {
      "cell_type": "markdown",
      "source": [
        "                  precision    recall  f1-score   support\n",
        "\n",
        "          alkane       0.94      0.78      0.85       829\n",
        "          methyl       0.95      0.71      0.81       767\n",
        "          alkene       0.00      0.00      0.00       164\n",
        "          alkyne       0.00      0.00      0.00        17\n",
        "        alcohols       0.00      0.00      0.00       277\n",
        "          amines       0.00      0.00      0.00       145\n",
        "        nitriles       0.00      0.00      0.00        45\n",
        "       aromatics       0.94      0.77      0.85       688\n",
        "    alkyl halides      0.00      0.00      0.00       279\n",
        "          esters       0.00      0.00      0.00       150\n",
        "         ketones       0.00      0.00      0.00       107\n",
        "       aldehydes       0.00      0.00      0.00        23\n",
        "    carboxylic acids   0.00      0.00      0.00        75\n",
        "           ether       1.00      0.06      0.12       312\n",
        "    acyl halides       0.00      0.00      0.00        11\n",
        "          amides       0.00      0.00      0.00        84\n",
        "           nitro       0.00      0.00      0.00        62\n",
        "\n",
        "       micro avg       0.94      0.43      0.59      4035\n",
        "       macro avg       0.23      0.14      0.16      4035\n",
        "    weighted avg       0.61      0.43      0.48      4035\n",
        "     samples avg       0.87      0.47      0.58      4035"
      ],
      "metadata": {
        "id": "f6OL2R4X5qeX"
      }
    },
    {
      "cell_type": "markdown",
      "source": [
        "Не помогло. Увеличиваем веса. Но не сработало:"
      ],
      "metadata": {
        "id": "Celuj6OL5ush"
      }
    },
    {
      "cell_type": "markdown",
      "source": [
        "                  precision    recall  f1-score   support\n",
        "\n",
        "          alkane       0.00      0.00      0.00       835\n",
        "          methyl       0.00      0.00      0.00       742\n",
        "          alkene       0.00      0.00      0.00       168\n",
        "          alkyne       0.00      0.00      0.00        27\n",
        "        alcohols       0.00      0.00      0.00       258\n",
        "          amines       0.00      0.00      0.00       152\n",
        "        nitriles       0.00      0.00      0.00        44\n",
        "       aromatics       0.00      0.00      0.00       668\n",
        "     alkyl halides     0.00      0.00      0.00       292\n",
        "          esters       0.00      0.00      0.00       134\n",
        "         ketones       0.00      0.00      0.00       120\n",
        "       aldehydes       0.00      0.00      0.00        25\n",
        "    carboxylic acids   0.00      0.00      0.00        63\n",
        "           ether       0.00      0.00      0.00       283\n",
        "    acyl halides       0.00      0.00      0.00        11\n",
        "          amides       0.00      0.00      0.00        75\n",
        "           nitro       0.00      0.00      0.00        52\n",
        "\n",
        "       micro avg       0.00      0.00      0.00      3949\n",
        "       macro avg       0.00      0.00      0.00      3949\n",
        "    weighted avg       0.00      0.00      0.00      3949\n",
        "     samples avg       0.00      0.00      0.00      3949"
      ],
      "metadata": {
        "id": "tLPZPKJLJ0mq"
      }
    },
    {
      "cell_type": "markdown",
      "source": [
        "## 22.03.2023"
      ],
      "metadata": {
        "id": "HrMWB-6sRE0e"
      }
    },
    {
      "cell_type": "markdown",
      "source": [
        "Подкрутка весов немного помогла. Но мелкие классы всё еще плохо читаются: "
      ],
      "metadata": {
        "id": "XhstqSieRGny"
      }
    },
    {
      "cell_type": "markdown",
      "source": [
        "                precision    recall  f1-score   support\n",
        "\n",
        "          alkane       0.90      0.84      0.87       835\n",
        "          methyl       0.88      0.72      0.79       742\n",
        "          alkene       0.96      0.14      0.24       168\n",
        "          alkyne       0.00      0.00      0.00        27\n",
        "        alcohols       0.85      0.18      0.30       258\n",
        "          amines       0.92      0.07      0.13       152\n",
        "        nitriles       0.00      0.00      0.00        44\n",
        "       aromatics       0.96      0.90      0.93       668\n",
        "     alkyl halides     0.91      0.28      0.43       292\n",
        "          esters       0.94      0.46      0.61       134\n",
        "         ketones       1.00      0.09      0.17       120\n",
        "       aldehydes       0.00      0.00      0.00        25\n",
        "    carboxylic acids   0.83      0.08      0.14        63\n",
        "           ether       0.93      0.61      0.74       283\n",
        "    acyl halides       0.00      0.00      0.00        11\n",
        "          amides       0.83      0.07      0.12        75\n",
        "           nitro       0.93      0.54      0.68        52\n",
        "\n",
        "       micro avg       0.91      0.58      0.71      3949\n",
        "       macro avg       0.70      0.29      0.36      3949\n",
        "    weighted avg       0.89      0.58      0.65      3949\n",
        "     samples avg       0.89      0.59      0.68      3949"
      ],
      "metadata": {
        "id": "EAoEo6pcRQGC"
      }
    },
    {
      "cell_type": "markdown",
      "source": [
        "Уменьшили веса для малых классов еще в 2 раза. Похоже не хватает времени доучить."
      ],
      "metadata": {
        "id": "2kMram-aRQK3"
      }
    },
    {
      "cell_type": "markdown",
      "source": [
        "                  precision    recall  f1-score   support\n",
        "\n",
        "          alkane       0.90      0.80      0.85       835\n",
        "          methyl       0.90      0.65      0.76       742\n",
        "          alkene       1.00      0.04      0.08       168\n",
        "          alkyne       0.00      0.00      0.00        27\n",
        "        alcohols       0.88      0.03      0.05       258\n",
        "          amines       1.00      0.01      0.01       152\n",
        "        nitriles       0.00      0.00      0.00        44\n",
        "       aromatics       0.96      0.88      0.91       668\n",
        "    alkyl halides      0.95      0.07      0.13       292\n",
        "          esters       0.97      0.27      0.42       134\n",
        "         ketones       1.00      0.03      0.05       120\n",
        "       aldehydes       0.00      0.00      0.00        25\n",
        "    carboxylic acids   0.00      0.00      0.00        63\n",
        "           ether       0.99      0.37      0.54       283\n",
        "    acyl halides       0.00      0.00      0.00        11\n",
        "          amides       0.00      0.00      0.00        75\n",
        "           nitro       1.00      0.12      0.21        52\n",
        "\n",
        "       micro avg       0.92      0.49      0.64      3949\n",
        "       macro avg       0.62      0.19      0.24      3949\n",
        "    weighted avg       0.88      0.49      0.55      3949\n",
        "     samples avg       0.88      0.51      0.62      3949"
      ],
      "metadata": {
        "id": "wQ1FnGGgWxT4"
      }
    },
    {
      "cell_type": "markdown",
      "source": [
        "v0.4.0. добавлены макспулы между слоями и общее количество параметров снижено до 0,5 млн."
      ],
      "metadata": {
        "id": "LRu7Zi17mXOi"
      }
    },
    {
      "cell_type": "markdown",
      "source": [
        "                 precision    recall  f1-score   support\n",
        "\n",
        "          alkane       0.93      0.58      0.72       835\n",
        "          methyl       0.88      0.44      0.59       742\n",
        "          alkene       0.95      0.11      0.19       168\n",
        "          alkyne       0.00      0.00      0.00        27\n",
        "        alcohols       0.91      0.12      0.21       258\n",
        "          amines       0.84      0.11      0.19       152\n",
        "        nitriles       0.00      0.00      0.00        44\n",
        "       aromatics       0.84      0.96      0.89       668\n",
        "   alkyl halides       0.78      0.46      0.58       292\n",
        "          esters       0.98      0.35      0.52       134\n",
        "         ketones       0.92      0.09      0.17       120\n",
        "       aldehydes       0.00      0.00      0.00        25\n",
        "carboxylic acids       0.00      0.00      0.00        63\n",
        "           ether       0.96      0.45      0.61       283\n",
        "    acyl halides       0.00      0.00      0.00        11\n",
        "          amides       0.00      0.00      0.00        75\n",
        "           nitro       0.94      0.33      0.49        52\n",
        "\n",
        "       micro avg       0.88      0.47      0.61      3949\n",
        "       macro avg       0.58      0.23      0.30      3949\n",
        "    weighted avg       0.84      0.47      0.56      3949\n",
        "     samples avg       0.79      0.48      0.57      3949"
      ],
      "metadata": {
        "id": "upGm4ZEzmj1K"
      }
    },
    {
      "cell_type": "markdown",
      "source": [
        "Обучается также, такая же скорость, но малые классы также не берет, даже при доучивании."
      ],
      "metadata": {
        "id": "nPnL_y910INy"
      }
    },
    {
      "cell_type": "markdown",
      "source": [
        "## 28.03.2023"
      ],
      "metadata": {
        "id": "YF3sz9Bv_8oG"
      }
    },
    {
      "cell_type": "markdown",
      "source": [
        "v0.4.2.50-60. Убран адаптивный макс пул. Последние цифры hidden -size\n",
        "\n",
        "![изображение.png](data:image/png;base64,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)\n",
        "\n",
        "v0.4.2.20.raw - c адаптивным макс пулом обучена на неподготовленных данных.\n",
        "\n",
        "v0.4.3.30 - обучение только на y"
      ],
      "metadata": {
        "id": "KENUr5DIAA4K"
      }
    },
    {
      "cell_type": "markdown",
      "source": [
        "## 04.04.2023"
      ],
      "metadata": {
        "id": "tsxUO6jRUvFb"
      }
    },
    {
      "cell_type": "markdown",
      "source": [
        "v0.5.1.50 убрал два макс-пула. Количество параметров - 8 млн. \n",
        "По идее на начальных этапах двойное уменьшение размера ведёт к потери малых значений - что плохо для малых классов."
      ],
      "metadata": {
        "id": "Mt-zkeFQUxm7"
      }
    },
    {
      "cell_type": "markdown",
      "source": [
        "![изображение.png](data:image/png;base64,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)"
      ],
      "metadata": {
        "id": "czsONGqWngQo"
      }
    },
    {
      "cell_type": "markdown",
      "source": [
        "weighted f1 0.77"
      ],
      "metadata": {
        "id": "G2a5gYuJnlXk"
      }
    },
    {
      "cell_type": "markdown",
      "source": [
        "# Конец"
      ],
      "metadata": {
        "id": "g10BBCWEdUrs"
      }
    },
    {
      "cell_type": "markdown",
      "source": [
        "## Сохранение модели"
      ],
      "metadata": {
        "id": "_12mx9BMd8ev"
      }
    },
    {
      "cell_type": "code",
      "source": [
        "from google.colab import files\n",
        "def save_model_all(model, trainer, stat, version):\n",
        "  torch.save(model, '/content/IR_expert_system/models/'+version+'.pt')\n",
        "  torch.save(model.state_dict(), f= '/content/IR_expert_system/models/'+version+'_model_param')\n",
        "  torch.save(trainer.optimizer.state_dict(), f= '/content/IR_expert_system/models/'+version+'_optim_param')\n",
        "  files.download('/content/IR_expert_system/models/'+version+'.pt')\n",
        "  files.download('/content/IR_expert_system/models/'+version+'_model_param')\n",
        "  files.download('/content/IR_expert_system/models/'+version+'_optim_param')\n",
        "  with open('/content/IR_expert_system/models/'+version+'_statistics.txt', 'w') as f:\n",
        "    f.write(stat)\n",
        "    files.download('/content/IR_expert_system/models/'+version+'_statistics.txt')"
      ],
      "metadata": {
        "id": "kOcMGx5Brope"
      },
      "execution_count": 89,
      "outputs": []
    },
    {
      "cell_type": "code",
      "source": [
        "save_model_all(model8, trainer8, cr8, version = 'v0.5.1.50')"
      ],
      "metadata": {
        "colab": {
          "base_uri": "https://localhost:8080/",
          "height": 17
        },
        "id": "AtKHvbNMoFU7",
        "outputId": "109ae2d7-6f1e-42f8-ceb2-407a8f5565e7"
      },
      "execution_count": 90,
      "outputs": [
        {
          "output_type": "display_data",
          "data": {
            "text/plain": [
              "<IPython.core.display.Javascript object>"
            ],
            "application/javascript": [
              "\n",
              "    async function download(id, filename, size) {\n",
              "      if (!google.colab.kernel.accessAllowed) {\n",
              "        return;\n",
              "      }\n",
              "      const div = document.createElement('div');\n",
              "      const label = document.createElement('label');\n",
              "      label.textContent = `Downloading \"${filename}\": `;\n",
              "      div.appendChild(label);\n",
              "      const progress = document.createElement('progress');\n",
              "      progress.max = size;\n",
              "      div.appendChild(progress);\n",
              "      document.body.appendChild(div);\n",
              "\n",
              "      const buffers = [];\n",
              "      let downloaded = 0;\n",
              "\n",
              "      const channel = await google.colab.kernel.comms.open(id);\n",
              "      // Send a message to notify the kernel that we're ready.\n",
              "      channel.send({})\n",
              "\n",
              "      for await (const message of channel.messages) {\n",
              "        // Send a message to notify the kernel that we're ready.\n",
              "        channel.send({})\n",
              "        if (message.buffers) {\n",
              "          for (const buffer of message.buffers) {\n",
              "            buffers.push(buffer);\n",
              "            downloaded += buffer.byteLength;\n",
              "            progress.value = downloaded;\n",
              "          }\n",
              "        }\n",
              "      }\n",
              "      const blob = new Blob(buffers, {type: 'application/binary'});\n",
              "      const a = document.createElement('a');\n",
              "      a.href = window.URL.createObjectURL(blob);\n",
              "      a.download = filename;\n",
              "      div.appendChild(a);\n",
              "      a.click();\n",
              "      div.remove();\n",
              "    }\n",
              "  "
            ]
          },
          "metadata": {}
        },
        {
          "output_type": "display_data",
          "data": {
            "text/plain": [
              "<IPython.core.display.Javascript object>"
            ],
            "application/javascript": [
              "download(\"download_71b9ece3-d047-4e29-bae6-72ad8956013f\", \"v0.5.1.50.pt\", 32578181)"
            ]
          },
          "metadata": {}
        },
        {
          "output_type": "display_data",
          "data": {
            "text/plain": [
              "<IPython.core.display.Javascript object>"
            ],
            "application/javascript": [
              "\n",
              "    async function download(id, filename, size) {\n",
              "      if (!google.colab.kernel.accessAllowed) {\n",
              "        return;\n",
              "      }\n",
              "      const div = document.createElement('div');\n",
              "      const label = document.createElement('label');\n",
              "      label.textContent = `Downloading \"${filename}\": `;\n",
              "      div.appendChild(label);\n",
              "      const progress = document.createElement('progress');\n",
              "      progress.max = size;\n",
              "      div.appendChild(progress);\n",
              "      document.body.appendChild(div);\n",
              "\n",
              "      const buffers = [];\n",
              "      let downloaded = 0;\n",
              "\n",
              "      const channel = await google.colab.kernel.comms.open(id);\n",
              "      // Send a message to notify the kernel that we're ready.\n",
              "      channel.send({})\n",
              "\n",
              "      for await (const message of channel.messages) {\n",
              "        // Send a message to notify the kernel that we're ready.\n",
              "        channel.send({})\n",
              "        if (message.buffers) {\n",
              "          for (const buffer of message.buffers) {\n",
              "            buffers.push(buffer);\n",
              "            downloaded += buffer.byteLength;\n",
              "            progress.value = downloaded;\n",
              "          }\n",
              "        }\n",
              "      }\n",
              "      const blob = new Blob(buffers, {type: 'application/binary'});\n",
              "      const a = document.createElement('a');\n",
              "      a.href = window.URL.createObjectURL(blob);\n",
              "      a.download = filename;\n",
              "      div.appendChild(a);\n",
              "      a.click();\n",
              "      div.remove();\n",
              "    }\n",
              "  "
            ]
          },
          "metadata": {}
        },
        {
          "output_type": "display_data",
          "data": {
            "text/plain": [
              "<IPython.core.display.Javascript object>"
            ],
            "application/javascript": [
              "download(\"download_0b7a639a-83f7-407f-825c-c89a63024c62\", \"v0.5.1.50_model_param\", 32559911)"
            ]
          },
          "metadata": {}
        },
        {
          "output_type": "display_data",
          "data": {
            "text/plain": [
              "<IPython.core.display.Javascript object>"
            ],
            "application/javascript": [
              "\n",
              "    async function download(id, filename, size) {\n",
              "      if (!google.colab.kernel.accessAllowed) {\n",
              "        return;\n",
              "      }\n",
              "      const div = document.createElement('div');\n",
              "      const label = document.createElement('label');\n",
              "      label.textContent = `Downloading \"${filename}\": `;\n",
              "      div.appendChild(label);\n",
              "      const progress = document.createElement('progress');\n",
              "      progress.max = size;\n",
              "      div.appendChild(progress);\n",
              "      document.body.appendChild(div);\n",
              "\n",
              "      const buffers = [];\n",
              "      let downloaded = 0;\n",
              "\n",
              "      const channel = await google.colab.kernel.comms.open(id);\n",
              "      // Send a message to notify the kernel that we're ready.\n",
              "      channel.send({})\n",
              "\n",
              "      for await (const message of channel.messages) {\n",
              "        // Send a message to notify the kernel that we're ready.\n",
              "        channel.send({})\n",
              "        if (message.buffers) {\n",
              "          for (const buffer of message.buffers) {\n",
              "            buffers.push(buffer);\n",
              "            downloaded += buffer.byteLength;\n",
              "            progress.value = downloaded;\n",
              "          }\n",
              "        }\n",
              "      }\n",
              "      const blob = new Blob(buffers, {type: 'application/binary'});\n",
              "      const a = document.createElement('a');\n",
              "      a.href = window.URL.createObjectURL(blob);\n",
              "      a.download = filename;\n",
              "      div.appendChild(a);\n",
              "      a.click();\n",
              "      div.remove();\n",
              "    }\n",
              "  "
            ]
          },
          "metadata": {}
        },
        {
          "output_type": "display_data",
          "data": {
            "text/plain": [
              "<IPython.core.display.Javascript object>"
            ],
            "application/javascript": [
              "download(\"download_b6431b51-c6d6-492a-9e14-256f9847f4df\", \"v0.5.1.50_optim_param\", 65009899)"
            ]
          },
          "metadata": {}
        },
        {
          "output_type": "display_data",
          "data": {
            "text/plain": [
              "<IPython.core.display.Javascript object>"
            ],
            "application/javascript": [
              "\n",
              "    async function download(id, filename, size) {\n",
              "      if (!google.colab.kernel.accessAllowed) {\n",
              "        return;\n",
              "      }\n",
              "      const div = document.createElement('div');\n",
              "      const label = document.createElement('label');\n",
              "      label.textContent = `Downloading \"${filename}\": `;\n",
              "      div.appendChild(label);\n",
              "      const progress = document.createElement('progress');\n",
              "      progress.max = size;\n",
              "      div.appendChild(progress);\n",
              "      document.body.appendChild(div);\n",
              "\n",
              "      const buffers = [];\n",
              "      let downloaded = 0;\n",
              "\n",
              "      const channel = await google.colab.kernel.comms.open(id);\n",
              "      // Send a message to notify the kernel that we're ready.\n",
              "      channel.send({})\n",
              "\n",
              "      for await (const message of channel.messages) {\n",
              "        // Send a message to notify the kernel that we're ready.\n",
              "        channel.send({})\n",
              "        if (message.buffers) {\n",
              "          for (const buffer of message.buffers) {\n",
              "            buffers.push(buffer);\n",
              "            downloaded += buffer.byteLength;\n",
              "            progress.value = downloaded;\n",
              "          }\n",
              "        }\n",
              "      }\n",
              "      const blob = new Blob(buffers, {type: 'application/binary'});\n",
              "      const a = document.createElement('a');\n",
              "      a.href = window.URL.createObjectURL(blob);\n",
              "      a.download = filename;\n",
              "      div.appendChild(a);\n",
              "      a.click();\n",
              "      div.remove();\n",
              "    }\n",
              "  "
            ]
          },
          "metadata": {}
        },
        {
          "output_type": "display_data",
          "data": {
            "text/plain": [
              "<IPython.core.display.Javascript object>"
            ],
            "application/javascript": [
              "download(\"download_1e46ea94-d322-4a88-bff5-9c24893cc7e1\", \"v0.5.1.50_statistics.txt\", 0)"
            ]
          },
          "metadata": {}
        }
      ]
    }
  ],
  "metadata": {
    "accelerator": "GPU",
    "colab": {
      "provenance": [],
      "include_colab_link": true
    },
    "gpuClass": "standard",
    "kernelspec": {
      "display_name": "Python 3",
      "name": "python3"
    },
    "language_info": {
      "name": "python"
    }
  },
  "nbformat": 4,
  "nbformat_minor": 0
}