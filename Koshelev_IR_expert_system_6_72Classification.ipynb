{
  "cells": [
    {
      "cell_type": "markdown",
      "metadata": {
        "id": "TK6YTDQRdiv9"
      },
      "source": [
        "#IR spectral analysis of organic and coordination compounds via machine learning and neural networks\n",
        "By: Koshelev Daniil \n",
        "\n",
        "-Work in progress (last updated:10/06/2023)-\n",
        "\n",
        "B. Цель данного блокнота\n",
        "\n",
        "Целью этого блокнота является создание датасета на 72 класса и обучение модели на классификацию 72 классов.\n",
        "\n",
        "C. План реализации\n",
        "\n",
        "1. Импортировать данные\n",
        "2. Реализовать приписывание 92 классов через правильные SMARTs ключи\n",
        "3. Создать класс датасета\n",
        "4. Создать и обучить модель\n",
        "5. Собрать статистику\n",
        "\n",
        "NOTES\n",
        "1. Импортированы данные\n",
        "2. Создаётся слварь SMARTs ключей\n",
        "3. Оттестированы модели с 50 и 72 кратными картами признаков\n",
        "4. Протестирована модель с дополнительным слоем проявления полос. \n"
      ]
    },
    {
      "cell_type": "markdown",
      "metadata": {
        "id": "G2f80Hpzdqgr"
      },
      "source": [
        "Клонирование данных с GitHub. На сайте выложены как исходные списки веществ, так и скачанные спектры соединений, которые были запарсены кодом ниже."
      ]
    },
    {
      "cell_type": "code",
      "execution_count": 1,
      "metadata": {
        "colab": {
          "base_uri": "https://localhost:8080/"
        },
        "id": "OPcC7OEkdoOK",
        "outputId": "162cb53f-ba9b-4c7b-f85d-69f36a46b73b"
      },
      "outputs": [
        {
          "output_type": "stream",
          "name": "stdout",
          "text": [
            "Cloning into 'IR_expert_system'...\n",
            "remote: Enumerating objects: 17276, done.\u001b[K\n",
            "remote: Counting objects: 100% (2433/2433), done.\u001b[K\n",
            "remote: Compressing objects: 100% (2272/2272), done.\u001b[K\n",
            "remote: Total 17276 (delta 179), reused 2397 (delta 157), pack-reused 14843\u001b[K\n",
            "Receiving objects: 100% (17276/17276), 1.47 GiB | 30.09 MiB/s, done.\n",
            "Resolving deltas: 100% (539/539), done.\n",
            "Updating files: 100% (16977/16977), done.\n"
          ]
        }
      ],
      "source": [
        "!git clone https://github.com/Lamblador/IR_expert_system.git"
      ]
    },
    {
      "cell_type": "code",
      "execution_count": 2,
      "metadata": {
        "id": "3vYHzZTfdw-E"
      },
      "outputs": [],
      "source": [
        "from IPython.core.display import clear_output\n",
        "!pip install --upgrade jcamp\n",
        "!pip install cirpy\n",
        "!pip install peakutils\n",
        "!pip install datamol\n",
        "!pip install rdkit\n",
        "clear_output()"
      ]
    },
    {
      "cell_type": "code",
      "execution_count": 3,
      "metadata": {
        "id": "NNDUPEaCdztz"
      },
      "outputs": [],
      "source": [
        "# Вводятся нужные импорты\n",
        "import pandas as pd\n",
        "import matplotlib.pyplot as plt\n",
        "from tqdm import tqdm\n",
        "import glob\n",
        "import os\n",
        "import numpy as np\n",
        "import torch\n",
        "import os\n",
        "import pandas as pd\n",
        "import torch\n",
        "from torch.utils.data import Dataset\n",
        "from torchvision import datasets\n",
        "import torch.nn as nn\n",
        "from peakutils.peak import indexes as index_utils\n"
      ]
    },
    {
      "cell_type": "code",
      "source": [
        "import random\n",
        "\n",
        "import torch\n",
        "import torch.nn as nn\n",
        "from torchvision import datasets, transforms\n",
        "\n",
        "\n",
        "def set_random_seed(seed):\n",
        "    torch.manual_seed(seed)\n",
        "    torch.cuda.manual_seed(seed)\n",
        "    np.random.seed(seed)\n",
        "    random.seed(seed)\n",
        "    torch.backends.cudnn.deterministic = True\n",
        "\n",
        "set_random_seed(42)"
      ],
      "metadata": {
        "id": "htHbPv5If5yv"
      },
      "execution_count": 4,
      "outputs": []
    },
    {
      "cell_type": "markdown",
      "metadata": {
        "id": "dKSeXleSfHqX"
      },
      "source": [
        "# Импорт табличных данных"
      ]
    },
    {
      "cell_type": "code",
      "source": [
        "#Считывание датасета\n",
        "def read_dataset(dataset_name):\n",
        "  '''\n",
        "  Function for reading dataset into pandas Dataframe from /IR_expert_system/data/datasets/\n",
        "\n",
        "  dataset_name - name of dataset's folder to read\n",
        "\n",
        "  return pd.Dataframe with whole dataset\n",
        "\n",
        "  parameters:\n",
        "      name = ['dataset3']\n",
        "          dataset3 - dataset made from reading most of jcam files, with padded y, interpolated x and peak layer. Saved in 10 pieces. \n",
        "  '''\n",
        "  df_list = []\n",
        "  # choose current directory\n",
        "  curr_directory = os.getcwd()\n",
        "  os.chdir(curr_directory)  # set to current directory\n",
        "  files = glob.glob('/content/IR_expert_system/data/datasets/'+dataset_name+'/*.pkl')  # look for files without extension. Returns a list.\n",
        "  # Try to read the file. If can't be read, skip it.\n",
        "  print(files)\n",
        "  for i, file in tqdm(enumerate(files)):\n",
        "      df = pd.read_pickle(file)\n",
        "      df_list.append(df)\n",
        "  #print(df_list)\n",
        "  result = pd.concat(df_list)\n",
        "  return result\n",
        "\n",
        "dataset_df = read_dataset('dataset3')\n",
        "dataset_df"
      ],
      "metadata": {
        "colab": {
          "base_uri": "https://localhost:8080/",
          "height": 1000
        },
        "id": "Ev6wcJ_oAzcw",
        "outputId": "bf9169ed-4d1a-4d6b-c608-78900efc625b"
      },
      "execution_count": 5,
      "outputs": [
        {
          "output_type": "stream",
          "name": "stdout",
          "text": [
            "['/content/IR_expert_system/data/datasets/dataset3/nist_ir_spectra_dataset3_1.pkl', '/content/IR_expert_system/data/datasets/dataset3/nist_ir_spectra_dataset3_2.pkl', '/content/IR_expert_system/data/datasets/dataset3/nist_ir_spectra_dataset3_0.pkl', '/content/IR_expert_system/data/datasets/dataset3/nist_ir_spectra_dataset3_5.pkl', '/content/IR_expert_system/data/datasets/dataset3/nist_ir_spectra_dataset3_4.pkl', '/content/IR_expert_system/data/datasets/dataset3/nist_ir_spectra_dataset3_9.pkl', '/content/IR_expert_system/data/datasets/dataset3/nist_ir_spectra_dataset3_8.pkl', '/content/IR_expert_system/data/datasets/dataset3/nist_ir_spectra_dataset3_3.pkl', '/content/IR_expert_system/data/datasets/dataset3/nist_ir_spectra_dataset3_6.pkl', '/content/IR_expert_system/data/datasets/dataset3/nist_ir_spectra_dataset3_7.pkl']\n"
          ]
        },
        {
          "output_type": "stream",
          "name": "stderr",
          "text": [
            "10it [00:04,  2.44it/s]\n"
          ]
        },
        {
          "output_type": "execute_result",
          "data": {
            "text/plain": [
              "                      index  \\\n",
              "cas registry no               \n",
              "7496-45-9         7496-45-9   \n",
              "106-36-5           106-36-5   \n",
              "5347-82-0         5347-82-0   \n",
              "112-17-4           112-17-4   \n",
              "4919-37-3         4919-37-3   \n",
              "...                     ...   \n",
              "25173-72-2       25173-72-2   \n",
              "56946-83-9       56946-83-9   \n",
              "823-09-6           823-09-6   \n",
              "825-03-6           825-03-6   \n",
              "622-60-6           622-60-6   \n",
              "\n",
              "                                                             title jcamp-dx  \\\n",
              "cas registry no                                                               \n",
              "7496-45-9                                         Purine, 1-ethyl-     4.24   \n",
              "106-36-5                              Propanoic acid, propyl ester     4.24   \n",
              "5347-82-0                                    DIMETHANE SULFONAMIDE     4.24   \n",
              "112-17-4                                         1-Decanol acetate     4.24   \n",
              "4919-37-3                       4-Hydroxy-3,5-dimethylbenzoic acid     4.24   \n",
              "...                                                            ...      ...   \n",
              "25173-72-2                3-(3,4,5-Trimethoxyphenyl)propionic acid     4.24   \n",
              "56946-83-9              2,5-Dichlorothiophene-3-sulphonyl chloride     4.24   \n",
              "823-09-6                              Pyrimidine, 2-(methylthio)-,     4.24   \n",
              "825-03-6         2-Methylbicyclo[2.2.1]-5-heptene-2-carboxylic ...     4.24   \n",
              "622-60-6                               Benzene, 1-ethoxy-4-methyl-     4.24   \n",
              "\n",
              "                         data type  \\\n",
              "cas registry no                      \n",
              "7496-45-9        INFRARED SPECTRUM   \n",
              "106-36-5         INFRARED SPECTRUM   \n",
              "5347-82-0        INFRARED SPECTRUM   \n",
              "112-17-4         INFRARED SPECTRUM   \n",
              "4919-37-3        INFRARED SPECTRUM   \n",
              "...                            ...   \n",
              "25173-72-2       INFRARED SPECTRUM   \n",
              "56946-83-9       INFRARED SPECTRUM   \n",
              "823-09-6         INFRARED SPECTRUM   \n",
              "825-03-6         INFRARED SPECTRUM   \n",
              "622-60-6         INFRARED SPECTRUM   \n",
              "\n",
              "                                                            origin  \\\n",
              "cas registry no                                                      \n",
              "7496-45-9                              SOUTHERN RESEARCH INSTITUTE   \n",
              "106-36-5               Sadtler Research Labs Under US-EPA Contract   \n",
              "5347-82-0        WYANDOTTE CHEMICALS CORP., WYANDOTTE, MICHIGAN...   \n",
              "112-17-4                        NIST Mass Spectrometry Data Center   \n",
              "4919-37-3                               EPA-IR VAPOR PHASE LIBRARY   \n",
              "...                                                            ...   \n",
              "25173-72-2                              EPA-IR VAPOR PHASE LIBRARY   \n",
              "56946-83-9                              EPA-IR VAPOR PHASE LIBRARY   \n",
              "823-09-6                               SOUTHERN RESEARCH INSTITUTE   \n",
              "825-03-6                                EPA-IR VAPOR PHASE LIBRARY   \n",
              "622-60-6               Sadtler Research Labs Under US-EPA Contract   \n",
              "\n",
              "                                                             owner  \\\n",
              "cas registry no                                                      \n",
              "7496-45-9        Copyright (C) 1987 by the Coblentz Society\\nCo...   \n",
              "106-36-5         NIST Standard Reference Data Program\\nCollecti...   \n",
              "5347-82-0        COBLENTZ SOCIETY\\nCollection (C) 2018 copyrigh...   \n",
              "112-17-4         NIST Standard Reference Data Program\\nCollecti...   \n",
              "4919-37-3        SRD/NIST\\nCollection (C) 2018 copyright by the...   \n",
              "...                                                            ...   \n",
              "25173-72-2       SRD/NIST\\nCollection (C) 2018 copyright by the...   \n",
              "56946-83-9       SRD/NIST\\nCollection (C) 2018 copyright by the...   \n",
              "823-09-6         Copyright (C) 1987 by the Coblentz Society\\nCo...   \n",
              "825-03-6         SRD/NIST\\nCollection (C) 2018 copyright by the...   \n",
              "622-60-6         NIST Standard Reference Data Program\\nCollecti...   \n",
              "\n",
              "                            molform $nist source  \\\n",
              "cas registry no                                    \n",
              "7496-45-9                  C7 H8 N4     COBLENTZ   \n",
              "106-36-5               C 6 H 12 O 2      MSDC-IR   \n",
              "5347-82-0             C2 H7 N O4 S2     COBLENTZ   \n",
              "112-17-4              C 12 H 24 O 2      MSDC-IR   \n",
              "4919-37-3              C 9 H 10 O 3      MSDC-IR   \n",
              "...                             ...          ...   \n",
              "25173-72-2            C 12 H 16 O 5      MSDC-IR   \n",
              "56946-83-9       C 4 H Cl 3 O 2 S 2      MSDC-IR   \n",
              "823-09-6                 C5 H6 N2 S     COBLENTZ   \n",
              "825-03-6               C 9 H 12 O 2      MSDC-IR   \n",
              "622-60-6                 C 9 H 12 O      MSDC-IR   \n",
              "\n",
              "                                          spectrometer/data system  \\\n",
              "cas registry no                                                      \n",
              "7496-45-9                               PERKIN-ELMER 221 (GRATING)   \n",
              "106-36-5                                                       NaN   \n",
              "5347-82-0        Not specified, most likely a prism, grating, o...   \n",
              "112-17-4                                              HP-GC/MS/IRD   \n",
              "4919-37-3                                                      NaN   \n",
              "...                                                            ...   \n",
              "25173-72-2                                                     NaN   \n",
              "56946-83-9                                                     NaN   \n",
              "823-09-6                                 PERKIN-ELMER 21 (GRATING)   \n",
              "825-03-6                                                       NaN   \n",
              "622-60-6                                                       NaN   \n",
              "\n",
              "                                            state  ...  \\\n",
              "cas registry no                                    ...   \n",
              "7496-45-9        SOLID (0.8 mg / 650 mg KBr DISC)  ...   \n",
              "106-36-5                                      gas  ...   \n",
              "5347-82-0                            SOLID (MULL)  ...   \n",
              "112-17-4                                      gas  ...   \n",
              "4919-37-3                                     gas  ...   \n",
              "...                                           ...  ...   \n",
              "25173-72-2                                    gas  ...   \n",
              "56946-83-9                                    gas  ...   \n",
              "823-09-6                            LIQUID (NEAT)  ...   \n",
              "825-03-6                                      gas  ...   \n",
              "622-60-6                                      gas  ...   \n",
              "\n",
              "                number of interferograms averaged per single channel spectrum  \\\n",
              "cas registry no                                                                 \n",
              "7496-45-9                                                      NaN              \n",
              "106-36-5                                                       NaN              \n",
              "5347-82-0                                                      NaN              \n",
              "112-17-4                                                       NaN              \n",
              "4919-37-3                                                      NaN              \n",
              "...                                                            ...              \n",
              "25173-72-2                                                     NaN              \n",
              "56946-83-9                                                     NaN              \n",
              "823-09-6                                                       NaN              \n",
              "825-03-6                                                       NaN              \n",
              "622-60-6                                                       NaN              \n",
              "\n",
              "                sample description temperature $spectra version  \\\n",
              "cas registry no                                                   \n",
              "7496-45-9                      NaN         NaN              NaN   \n",
              "106-36-5                       NaN         NaN              NaN   \n",
              "5347-82-0                      NaN         NaN              NaN   \n",
              "112-17-4                       NaN         NaN              NaN   \n",
              "4919-37-3                      NaN         NaN              NaN   \n",
              "...                            ...         ...              ...   \n",
              "25173-72-2                     NaN         NaN              NaN   \n",
              "56946-83-9                     NaN         NaN              NaN   \n",
              "823-09-6                       NaN         NaN              NaN   \n",
              "825-03-6                       NaN         NaN              NaN   \n",
              "622-60-6                       NaN         NaN              NaN   \n",
              "\n",
              "                $uncertainty in y pressure  \\\n",
              "cas registry no                              \n",
              "7496-45-9                     NaN      NaN   \n",
              "106-36-5                      NaN      NaN   \n",
              "5347-82-0                     NaN      NaN   \n",
              "112-17-4                      NaN      NaN   \n",
              "4919-37-3                     NaN      NaN   \n",
              "...                           ...      ...   \n",
              "25173-72-2                    NaN      NaN   \n",
              "56946-83-9                    NaN      NaN   \n",
              "823-09-6                      NaN      NaN   \n",
              "825-03-6                      NaN      NaN   \n",
              "622-60-6                      NaN      NaN   \n",
              "\n",
              "                                                                x1  \\\n",
              "cas registry no                                                      \n",
              "7496-45-9        [500, 502, 504, 506, 508, 510, 512, 514, 516, ...   \n",
              "106-36-5         [500, 502, 504, 506, 508, 510, 512, 514, 516, ...   \n",
              "5347-82-0        [500, 502, 504, 506, 508, 510, 512, 514, 516, ...   \n",
              "112-17-4         [500, 502, 504, 506, 508, 510, 512, 514, 516, ...   \n",
              "4919-37-3        [500, 502, 504, 506, 508, 510, 512, 514, 516, ...   \n",
              "...                                                            ...   \n",
              "25173-72-2       [500, 502, 504, 506, 508, 510, 512, 514, 516, ...   \n",
              "56946-83-9       [500, 502, 504, 506, 508, 510, 512, 514, 516, ...   \n",
              "823-09-6         [500, 502, 504, 506, 508, 510, 512, 514, 516, ...   \n",
              "825-03-6         [500, 502, 504, 506, 508, 510, 512, 514, 516, ...   \n",
              "622-60-6         [500, 502, 504, 506, 508, 510, 512, 514, 516, ...   \n",
              "\n",
              "                                                                y1  \\\n",
              "cas registry no                                                      \n",
              "7496-45-9        [0.13739997148513794, 0.13739997148513794, 0.1...   \n",
              "106-36-5         [0.05554400011897087, 0.054496001452207565, 0....   \n",
              "5347-82-0        [0.21799999475479126, 0.21799999475479126, 0.2...   \n",
              "112-17-4         [0.0001320000010309741, 0.0001320000010309741,...   \n",
              "4919-37-3        [0.01228999998420477, 0.01228999998420477, 0.0...   \n",
              "...                                                            ...   \n",
              "25173-72-2       [0.010820000432431698, 0.010820000432431698, 0...   \n",
              "56946-83-9       [0.13794000446796417, 0.13794000446796417, 0.1...   \n",
              "823-09-6         [0.2558000087738037, 0.2558000087738037, 0.255...   \n",
              "825-03-6         [0.013222400099039078, 0.013222400099039078, 0...   \n",
              "622-60-6         [0.0672122985124588, 0.07183876633644104, 0.06...   \n",
              "\n",
              "                                                            y_peak  \\\n",
              "cas registry no                                                      \n",
              "7496-45-9        [0.0, 0.0, 0.0, 0.0, 0.0, 0.0, 0.0, 0.0, 0.0, ...   \n",
              "106-36-5         [0.0, 0.0, 0.0, 0.0, 0.0, 0.0, 0.0, 0.0, 0.0, ...   \n",
              "5347-82-0        [0.0, 0.0, 0.0, 0.0, 0.0, 0.0, 0.0, 0.0, 0.0, ...   \n",
              "112-17-4         [0.0, 0.0, 0.0, 0.0, 0.0, 0.0, 0.0, 0.0, 0.0, ...   \n",
              "4919-37-3        [0.0, 0.0, 0.0, 0.0, 0.0, 0.0, 0.0, 0.0, 0.0, ...   \n",
              "...                                                            ...   \n",
              "25173-72-2       [0.0, 0.0, 0.0, 0.0, 0.0, 0.0, 0.0, 0.0, 0.0, ...   \n",
              "56946-83-9       [0.0, 0.0, 0.0, 0.0, 0.0, 0.0, 0.0, 0.0, 0.0, ...   \n",
              "823-09-6         [0.0, 0.0, 0.0, 0.0, 0.0, 0.0, 0.0, 0.0, 0.0, ...   \n",
              "825-03-6         [0.0, 0.0, 0.0, 0.0, 0.0, 0.0, 0.0, 0.0, 0.0, ...   \n",
              "622-60-6         [0.5, 0.6, 0.7, 0.8, 0.9, 1.0, 0.9, 0.8, 0.7, ...   \n",
              "\n",
              "                                                            x_peak  \n",
              "cas registry no                                                     \n",
              "7496-45-9        [580, 640, 664, 726, 798, 834, 928, 966, 1022,...  \n",
              "106-36-5         [542, 594, 618, 642, 674, 770, 814, 838, 882, ...  \n",
              "5347-82-0        [632, 662, 766, 866, 974, 1024, 1066, 1150, 13...  \n",
              "112-17-4                [1042, 1234, 1370, 1462, 1762, 2866, 2934]  \n",
              "4919-37-3        [588, 656, 770, 934, 1104, 1146, 1198, 1266, 1...  \n",
              "...                                                            ...  \n",
              "25173-72-2       [576, 778, 832, 930, 1016, 1044, 1118, 1186, 1...  \n",
              "56946-83-9       [558, 598, 632, 830, 854, 1008, 1046, 1136, 11...  \n",
              "823-09-6         [610, 710, 748, 770, 796, 876, 964, 1012, 1062...  \n",
              "825-03-6         [582, 622, 650, 708, 768, 1022, 1094, 1138, 12...  \n",
              "622-60-6         [510, 818, 920, 1050, 1114, 1174, 1242, 1286, ...  \n",
              "\n",
              "[14337 rows x 79 columns]"
            ],
            "text/html": [
              "\n",
              "  <div id=\"df-1126f4e7-17cd-4c27-b0f7-eef7bb778d9b\">\n",
              "    <div class=\"colab-df-container\">\n",
              "      <div>\n",
              "<style scoped>\n",
              "    .dataframe tbody tr th:only-of-type {\n",
              "        vertical-align: middle;\n",
              "    }\n",
              "\n",
              "    .dataframe tbody tr th {\n",
              "        vertical-align: top;\n",
              "    }\n",
              "\n",
              "    .dataframe thead th {\n",
              "        text-align: right;\n",
              "    }\n",
              "</style>\n",
              "<table border=\"1\" class=\"dataframe\">\n",
              "  <thead>\n",
              "    <tr style=\"text-align: right;\">\n",
              "      <th></th>\n",
              "      <th>index</th>\n",
              "      <th>title</th>\n",
              "      <th>jcamp-dx</th>\n",
              "      <th>data type</th>\n",
              "      <th>origin</th>\n",
              "      <th>owner</th>\n",
              "      <th>molform</th>\n",
              "      <th>$nist source</th>\n",
              "      <th>spectrometer/data system</th>\n",
              "      <th>state</th>\n",
              "      <th>...</th>\n",
              "      <th>number of interferograms averaged per single channel spectrum</th>\n",
              "      <th>sample description</th>\n",
              "      <th>temperature</th>\n",
              "      <th>$spectra version</th>\n",
              "      <th>$uncertainty in y</th>\n",
              "      <th>pressure</th>\n",
              "      <th>x1</th>\n",
              "      <th>y1</th>\n",
              "      <th>y_peak</th>\n",
              "      <th>x_peak</th>\n",
              "    </tr>\n",
              "    <tr>\n",
              "      <th>cas registry no</th>\n",
              "      <th></th>\n",
              "      <th></th>\n",
              "      <th></th>\n",
              "      <th></th>\n",
              "      <th></th>\n",
              "      <th></th>\n",
              "      <th></th>\n",
              "      <th></th>\n",
              "      <th></th>\n",
              "      <th></th>\n",
              "      <th></th>\n",
              "      <th></th>\n",
              "      <th></th>\n",
              "      <th></th>\n",
              "      <th></th>\n",
              "      <th></th>\n",
              "      <th></th>\n",
              "      <th></th>\n",
              "      <th></th>\n",
              "      <th></th>\n",
              "      <th></th>\n",
              "    </tr>\n",
              "  </thead>\n",
              "  <tbody>\n",
              "    <tr>\n",
              "      <th>7496-45-9</th>\n",
              "      <td>7496-45-9</td>\n",
              "      <td>Purine, 1-ethyl-</td>\n",
              "      <td>4.24</td>\n",
              "      <td>INFRARED SPECTRUM</td>\n",
              "      <td>SOUTHERN RESEARCH INSTITUTE</td>\n",
              "      <td>Copyright (C) 1987 by the Coblentz Society\\nCo...</td>\n",
              "      <td>C7 H8 N4</td>\n",
              "      <td>COBLENTZ</td>\n",
              "      <td>PERKIN-ELMER 221 (GRATING)</td>\n",
              "      <td>SOLID (0.8 mg / 650 mg KBr DISC)</td>\n",
              "      <td>...</td>\n",
              "      <td>NaN</td>\n",
              "      <td>NaN</td>\n",
              "      <td>NaN</td>\n",
              "      <td>NaN</td>\n",
              "      <td>NaN</td>\n",
              "      <td>NaN</td>\n",
              "      <td>[500, 502, 504, 506, 508, 510, 512, 514, 516, ...</td>\n",
              "      <td>[0.13739997148513794, 0.13739997148513794, 0.1...</td>\n",
              "      <td>[0.0, 0.0, 0.0, 0.0, 0.0, 0.0, 0.0, 0.0, 0.0, ...</td>\n",
              "      <td>[580, 640, 664, 726, 798, 834, 928, 966, 1022,...</td>\n",
              "    </tr>\n",
              "    <tr>\n",
              "      <th>106-36-5</th>\n",
              "      <td>106-36-5</td>\n",
              "      <td>Propanoic acid, propyl ester</td>\n",
              "      <td>4.24</td>\n",
              "      <td>INFRARED SPECTRUM</td>\n",
              "      <td>Sadtler Research Labs Under US-EPA Contract</td>\n",
              "      <td>NIST Standard Reference Data Program\\nCollecti...</td>\n",
              "      <td>C 6 H 12 O 2</td>\n",
              "      <td>MSDC-IR</td>\n",
              "      <td>NaN</td>\n",
              "      <td>gas</td>\n",
              "      <td>...</td>\n",
              "      <td>NaN</td>\n",
              "      <td>NaN</td>\n",
              "      <td>NaN</td>\n",
              "      <td>NaN</td>\n",
              "      <td>NaN</td>\n",
              "      <td>NaN</td>\n",
              "      <td>[500, 502, 504, 506, 508, 510, 512, 514, 516, ...</td>\n",
              "      <td>[0.05554400011897087, 0.054496001452207565, 0....</td>\n",
              "      <td>[0.0, 0.0, 0.0, 0.0, 0.0, 0.0, 0.0, 0.0, 0.0, ...</td>\n",
              "      <td>[542, 594, 618, 642, 674, 770, 814, 838, 882, ...</td>\n",
              "    </tr>\n",
              "    <tr>\n",
              "      <th>5347-82-0</th>\n",
              "      <td>5347-82-0</td>\n",
              "      <td>DIMETHANE SULFONAMIDE</td>\n",
              "      <td>4.24</td>\n",
              "      <td>INFRARED SPECTRUM</td>\n",
              "      <td>WYANDOTTE CHEMICALS CORP., WYANDOTTE, MICHIGAN...</td>\n",
              "      <td>COBLENTZ SOCIETY\\nCollection (C) 2018 copyrigh...</td>\n",
              "      <td>C2 H7 N O4 S2</td>\n",
              "      <td>COBLENTZ</td>\n",
              "      <td>Not specified, most likely a prism, grating, o...</td>\n",
              "      <td>SOLID (MULL)</td>\n",
              "      <td>...</td>\n",
              "      <td>NaN</td>\n",
              "      <td>NaN</td>\n",
              "      <td>NaN</td>\n",
              "      <td>NaN</td>\n",
              "      <td>NaN</td>\n",
              "      <td>NaN</td>\n",
              "      <td>[500, 502, 504, 506, 508, 510, 512, 514, 516, ...</td>\n",
              "      <td>[0.21799999475479126, 0.21799999475479126, 0.2...</td>\n",
              "      <td>[0.0, 0.0, 0.0, 0.0, 0.0, 0.0, 0.0, 0.0, 0.0, ...</td>\n",
              "      <td>[632, 662, 766, 866, 974, 1024, 1066, 1150, 13...</td>\n",
              "    </tr>\n",
              "    <tr>\n",
              "      <th>112-17-4</th>\n",
              "      <td>112-17-4</td>\n",
              "      <td>1-Decanol acetate</td>\n",
              "      <td>4.24</td>\n",
              "      <td>INFRARED SPECTRUM</td>\n",
              "      <td>NIST Mass Spectrometry Data Center</td>\n",
              "      <td>NIST Standard Reference Data Program\\nCollecti...</td>\n",
              "      <td>C 12 H 24 O 2</td>\n",
              "      <td>MSDC-IR</td>\n",
              "      <td>HP-GC/MS/IRD</td>\n",
              "      <td>gas</td>\n",
              "      <td>...</td>\n",
              "      <td>NaN</td>\n",
              "      <td>NaN</td>\n",
              "      <td>NaN</td>\n",
              "      <td>NaN</td>\n",
              "      <td>NaN</td>\n",
              "      <td>NaN</td>\n",
              "      <td>[500, 502, 504, 506, 508, 510, 512, 514, 516, ...</td>\n",
              "      <td>[0.0001320000010309741, 0.0001320000010309741,...</td>\n",
              "      <td>[0.0, 0.0, 0.0, 0.0, 0.0, 0.0, 0.0, 0.0, 0.0, ...</td>\n",
              "      <td>[1042, 1234, 1370, 1462, 1762, 2866, 2934]</td>\n",
              "    </tr>\n",
              "    <tr>\n",
              "      <th>4919-37-3</th>\n",
              "      <td>4919-37-3</td>\n",
              "      <td>4-Hydroxy-3,5-dimethylbenzoic acid</td>\n",
              "      <td>4.24</td>\n",
              "      <td>INFRARED SPECTRUM</td>\n",
              "      <td>EPA-IR VAPOR PHASE LIBRARY</td>\n",
              "      <td>SRD/NIST\\nCollection (C) 2018 copyright by the...</td>\n",
              "      <td>C 9 H 10 O 3</td>\n",
              "      <td>MSDC-IR</td>\n",
              "      <td>NaN</td>\n",
              "      <td>gas</td>\n",
              "      <td>...</td>\n",
              "      <td>NaN</td>\n",
              "      <td>NaN</td>\n",
              "      <td>NaN</td>\n",
              "      <td>NaN</td>\n",
              "      <td>NaN</td>\n",
              "      <td>NaN</td>\n",
              "      <td>[500, 502, 504, 506, 508, 510, 512, 514, 516, ...</td>\n",
              "      <td>[0.01228999998420477, 0.01228999998420477, 0.0...</td>\n",
              "      <td>[0.0, 0.0, 0.0, 0.0, 0.0, 0.0, 0.0, 0.0, 0.0, ...</td>\n",
              "      <td>[588, 656, 770, 934, 1104, 1146, 1198, 1266, 1...</td>\n",
              "    </tr>\n",
              "    <tr>\n",
              "      <th>...</th>\n",
              "      <td>...</td>\n",
              "      <td>...</td>\n",
              "      <td>...</td>\n",
              "      <td>...</td>\n",
              "      <td>...</td>\n",
              "      <td>...</td>\n",
              "      <td>...</td>\n",
              "      <td>...</td>\n",
              "      <td>...</td>\n",
              "      <td>...</td>\n",
              "      <td>...</td>\n",
              "      <td>...</td>\n",
              "      <td>...</td>\n",
              "      <td>...</td>\n",
              "      <td>...</td>\n",
              "      <td>...</td>\n",
              "      <td>...</td>\n",
              "      <td>...</td>\n",
              "      <td>...</td>\n",
              "      <td>...</td>\n",
              "      <td>...</td>\n",
              "    </tr>\n",
              "    <tr>\n",
              "      <th>25173-72-2</th>\n",
              "      <td>25173-72-2</td>\n",
              "      <td>3-(3,4,5-Trimethoxyphenyl)propionic acid</td>\n",
              "      <td>4.24</td>\n",
              "      <td>INFRARED SPECTRUM</td>\n",
              "      <td>EPA-IR VAPOR PHASE LIBRARY</td>\n",
              "      <td>SRD/NIST\\nCollection (C) 2018 copyright by the...</td>\n",
              "      <td>C 12 H 16 O 5</td>\n",
              "      <td>MSDC-IR</td>\n",
              "      <td>NaN</td>\n",
              "      <td>gas</td>\n",
              "      <td>...</td>\n",
              "      <td>NaN</td>\n",
              "      <td>NaN</td>\n",
              "      <td>NaN</td>\n",
              "      <td>NaN</td>\n",
              "      <td>NaN</td>\n",
              "      <td>NaN</td>\n",
              "      <td>[500, 502, 504, 506, 508, 510, 512, 514, 516, ...</td>\n",
              "      <td>[0.010820000432431698, 0.010820000432431698, 0...</td>\n",
              "      <td>[0.0, 0.0, 0.0, 0.0, 0.0, 0.0, 0.0, 0.0, 0.0, ...</td>\n",
              "      <td>[576, 778, 832, 930, 1016, 1044, 1118, 1186, 1...</td>\n",
              "    </tr>\n",
              "    <tr>\n",
              "      <th>56946-83-9</th>\n",
              "      <td>56946-83-9</td>\n",
              "      <td>2,5-Dichlorothiophene-3-sulphonyl chloride</td>\n",
              "      <td>4.24</td>\n",
              "      <td>INFRARED SPECTRUM</td>\n",
              "      <td>EPA-IR VAPOR PHASE LIBRARY</td>\n",
              "      <td>SRD/NIST\\nCollection (C) 2018 copyright by the...</td>\n",
              "      <td>C 4 H Cl 3 O 2 S 2</td>\n",
              "      <td>MSDC-IR</td>\n",
              "      <td>NaN</td>\n",
              "      <td>gas</td>\n",
              "      <td>...</td>\n",
              "      <td>NaN</td>\n",
              "      <td>NaN</td>\n",
              "      <td>NaN</td>\n",
              "      <td>NaN</td>\n",
              "      <td>NaN</td>\n",
              "      <td>NaN</td>\n",
              "      <td>[500, 502, 504, 506, 508, 510, 512, 514, 516, ...</td>\n",
              "      <td>[0.13794000446796417, 0.13794000446796417, 0.1...</td>\n",
              "      <td>[0.0, 0.0, 0.0, 0.0, 0.0, 0.0, 0.0, 0.0, 0.0, ...</td>\n",
              "      <td>[558, 598, 632, 830, 854, 1008, 1046, 1136, 11...</td>\n",
              "    </tr>\n",
              "    <tr>\n",
              "      <th>823-09-6</th>\n",
              "      <td>823-09-6</td>\n",
              "      <td>Pyrimidine, 2-(methylthio)-,</td>\n",
              "      <td>4.24</td>\n",
              "      <td>INFRARED SPECTRUM</td>\n",
              "      <td>SOUTHERN RESEARCH INSTITUTE</td>\n",
              "      <td>Copyright (C) 1987 by the Coblentz Society\\nCo...</td>\n",
              "      <td>C5 H6 N2 S</td>\n",
              "      <td>COBLENTZ</td>\n",
              "      <td>PERKIN-ELMER 21 (GRATING)</td>\n",
              "      <td>LIQUID (NEAT)</td>\n",
              "      <td>...</td>\n",
              "      <td>NaN</td>\n",
              "      <td>NaN</td>\n",
              "      <td>NaN</td>\n",
              "      <td>NaN</td>\n",
              "      <td>NaN</td>\n",
              "      <td>NaN</td>\n",
              "      <td>[500, 502, 504, 506, 508, 510, 512, 514, 516, ...</td>\n",
              "      <td>[0.2558000087738037, 0.2558000087738037, 0.255...</td>\n",
              "      <td>[0.0, 0.0, 0.0, 0.0, 0.0, 0.0, 0.0, 0.0, 0.0, ...</td>\n",
              "      <td>[610, 710, 748, 770, 796, 876, 964, 1012, 1062...</td>\n",
              "    </tr>\n",
              "    <tr>\n",
              "      <th>825-03-6</th>\n",
              "      <td>825-03-6</td>\n",
              "      <td>2-Methylbicyclo[2.2.1]-5-heptene-2-carboxylic ...</td>\n",
              "      <td>4.24</td>\n",
              "      <td>INFRARED SPECTRUM</td>\n",
              "      <td>EPA-IR VAPOR PHASE LIBRARY</td>\n",
              "      <td>SRD/NIST\\nCollection (C) 2018 copyright by the...</td>\n",
              "      <td>C 9 H 12 O 2</td>\n",
              "      <td>MSDC-IR</td>\n",
              "      <td>NaN</td>\n",
              "      <td>gas</td>\n",
              "      <td>...</td>\n",
              "      <td>NaN</td>\n",
              "      <td>NaN</td>\n",
              "      <td>NaN</td>\n",
              "      <td>NaN</td>\n",
              "      <td>NaN</td>\n",
              "      <td>NaN</td>\n",
              "      <td>[500, 502, 504, 506, 508, 510, 512, 514, 516, ...</td>\n",
              "      <td>[0.013222400099039078, 0.013222400099039078, 0...</td>\n",
              "      <td>[0.0, 0.0, 0.0, 0.0, 0.0, 0.0, 0.0, 0.0, 0.0, ...</td>\n",
              "      <td>[582, 622, 650, 708, 768, 1022, 1094, 1138, 12...</td>\n",
              "    </tr>\n",
              "    <tr>\n",
              "      <th>622-60-6</th>\n",
              "      <td>622-60-6</td>\n",
              "      <td>Benzene, 1-ethoxy-4-methyl-</td>\n",
              "      <td>4.24</td>\n",
              "      <td>INFRARED SPECTRUM</td>\n",
              "      <td>Sadtler Research Labs Under US-EPA Contract</td>\n",
              "      <td>NIST Standard Reference Data Program\\nCollecti...</td>\n",
              "      <td>C 9 H 12 O</td>\n",
              "      <td>MSDC-IR</td>\n",
              "      <td>NaN</td>\n",
              "      <td>gas</td>\n",
              "      <td>...</td>\n",
              "      <td>NaN</td>\n",
              "      <td>NaN</td>\n",
              "      <td>NaN</td>\n",
              "      <td>NaN</td>\n",
              "      <td>NaN</td>\n",
              "      <td>NaN</td>\n",
              "      <td>[500, 502, 504, 506, 508, 510, 512, 514, 516, ...</td>\n",
              "      <td>[0.0672122985124588, 0.07183876633644104, 0.06...</td>\n",
              "      <td>[0.5, 0.6, 0.7, 0.8, 0.9, 1.0, 0.9, 0.8, 0.7, ...</td>\n",
              "      <td>[510, 818, 920, 1050, 1114, 1174, 1242, 1286, ...</td>\n",
              "    </tr>\n",
              "  </tbody>\n",
              "</table>\n",
              "<p>14337 rows × 79 columns</p>\n",
              "</div>\n",
              "      <button class=\"colab-df-convert\" onclick=\"convertToInteractive('df-1126f4e7-17cd-4c27-b0f7-eef7bb778d9b')\"\n",
              "              title=\"Convert this dataframe to an interactive table.\"\n",
              "              style=\"display:none;\">\n",
              "        \n",
              "  <svg xmlns=\"http://www.w3.org/2000/svg\" height=\"24px\"viewBox=\"0 0 24 24\"\n",
              "       width=\"24px\">\n",
              "    <path d=\"M0 0h24v24H0V0z\" fill=\"none\"/>\n",
              "    <path d=\"M18.56 5.44l.94 2.06.94-2.06 2.06-.94-2.06-.94-.94-2.06-.94 2.06-2.06.94zm-11 1L8.5 8.5l.94-2.06 2.06-.94-2.06-.94L8.5 2.5l-.94 2.06-2.06.94zm10 10l.94 2.06.94-2.06 2.06-.94-2.06-.94-.94-2.06-.94 2.06-2.06.94z\"/><path d=\"M17.41 7.96l-1.37-1.37c-.4-.4-.92-.59-1.43-.59-.52 0-1.04.2-1.43.59L10.3 9.45l-7.72 7.72c-.78.78-.78 2.05 0 2.83L4 21.41c.39.39.9.59 1.41.59.51 0 1.02-.2 1.41-.59l7.78-7.78 2.81-2.81c.8-.78.8-2.07 0-2.86zM5.41 20L4 18.59l7.72-7.72 1.47 1.35L5.41 20z\"/>\n",
              "  </svg>\n",
              "      </button>\n",
              "      \n",
              "  <style>\n",
              "    .colab-df-container {\n",
              "      display:flex;\n",
              "      flex-wrap:wrap;\n",
              "      gap: 12px;\n",
              "    }\n",
              "\n",
              "    .colab-df-convert {\n",
              "      background-color: #E8F0FE;\n",
              "      border: none;\n",
              "      border-radius: 50%;\n",
              "      cursor: pointer;\n",
              "      display: none;\n",
              "      fill: #1967D2;\n",
              "      height: 32px;\n",
              "      padding: 0 0 0 0;\n",
              "      width: 32px;\n",
              "    }\n",
              "\n",
              "    .colab-df-convert:hover {\n",
              "      background-color: #E2EBFA;\n",
              "      box-shadow: 0px 1px 2px rgba(60, 64, 67, 0.3), 0px 1px 3px 1px rgba(60, 64, 67, 0.15);\n",
              "      fill: #174EA6;\n",
              "    }\n",
              "\n",
              "    [theme=dark] .colab-df-convert {\n",
              "      background-color: #3B4455;\n",
              "      fill: #D2E3FC;\n",
              "    }\n",
              "\n",
              "    [theme=dark] .colab-df-convert:hover {\n",
              "      background-color: #434B5C;\n",
              "      box-shadow: 0px 1px 3px 1px rgba(0, 0, 0, 0.15);\n",
              "      filter: drop-shadow(0px 1px 2px rgba(0, 0, 0, 0.3));\n",
              "      fill: #FFFFFF;\n",
              "    }\n",
              "  </style>\n",
              "\n",
              "      <script>\n",
              "        const buttonEl =\n",
              "          document.querySelector('#df-1126f4e7-17cd-4c27-b0f7-eef7bb778d9b button.colab-df-convert');\n",
              "        buttonEl.style.display =\n",
              "          google.colab.kernel.accessAllowed ? 'block' : 'none';\n",
              "\n",
              "        async function convertToInteractive(key) {\n",
              "          const element = document.querySelector('#df-1126f4e7-17cd-4c27-b0f7-eef7bb778d9b');\n",
              "          const dataTable =\n",
              "            await google.colab.kernel.invokeFunction('convertToInteractive',\n",
              "                                                     [key], {});\n",
              "          if (!dataTable) return;\n",
              "\n",
              "          const docLinkHtml = 'Like what you see? Visit the ' +\n",
              "            '<a target=\"_blank\" href=https://colab.research.google.com/notebooks/data_table.ipynb>data table notebook</a>'\n",
              "            + ' to learn more about interactive tables.';\n",
              "          element.innerHTML = '';\n",
              "          dataTable['output_type'] = 'display_data';\n",
              "          await google.colab.output.renderOutput(dataTable, element);\n",
              "          const docLink = document.createElement('div');\n",
              "          docLink.innerHTML = docLinkHtml;\n",
              "          element.appendChild(docLink);\n",
              "        }\n",
              "      </script>\n",
              "    </div>\n",
              "  </div>\n",
              "  "
            ]
          },
          "metadata": {},
          "execution_count": 5
        }
      ]
    },
    {
      "cell_type": "code",
      "execution_count": 6,
      "metadata": {
        "id": "b1dkhQEufJ9n"
      },
      "outputs": [],
      "source": [
        "labels_df = pd.read_csv('/content/IR_expert_system/data/nist_ir_spectra_list_with_72_bonds.csv')\n",
        "labels_df = labels_df.set_index(\"CAS\")"
      ]
    },
    {
      "cell_type": "code",
      "execution_count": 7,
      "metadata": {
        "id": "Fev54C_424Jm"
      },
      "outputs": [],
      "source": [
        "dataset72_df_labeled = labels_df.join(dataset_df)"
      ]
    },
    {
      "cell_type": "code",
      "source": [
        "dataset72_df_labeled1 = dataset72_df_labeled[[\n",
        " 'Name',\n",
        " #'Formula',\n",
        " #'Mw',\n",
        " #'Elements',\n",
        " 'InChi',\n",
        " #'SMILES',\n",
        " 'C─H alkyl methyl 1260 strong/1380 weak/2870 medium to strong/2960 medium to strong',\n",
        " 'C─H alkyl methylene 1470 strong/2850 medium to strong/2925 medium to strong',\n",
        " 'C─H alkyl methine 2890 weak',\n",
        " 'C─H vinyl C═CH2 900 strong/2975 medium/3080 medium',\n",
        " 'C─H vinyl C═CH 3020 medium',\n",
        " 'C─H vinyl monosubstituted alkenes 900 strong/990 strong',\n",
        " 'C─H vinyl cis-disubstituted alkenes 670–700 strong',\n",
        " 'C─H vinyl trans-disubstituted alkenes 965 strong',\n",
        " 'C─H vinyl trisubstituted alkenes 800–840 strong to medium',\n",
        " 'C─H aromatic benzene/sub. benzene 3070 weak',\n",
        " 'C─H aromatic monosubstituted benzene 700–750 strong',\n",
        " 'C─H aromatic monosubstituted benzene 690–710 strong',\n",
        " 'C─H aromatic ortho-disub. benzene 750 strong',\n",
        " 'C─H aromatic meta-disub. benzene 750–800 strong',\n",
        " 'C─H aromatic meta-disub. benzene 860–900 strong',\n",
        " 'C─H aromatic para-disub. benzene 800–860 strong',\n",
        " 'C─H alkynes any 3300 medium',\n",
        " 'C─H aldehydes any 2720 medium',\n",
        " 'C─H aldehydes any 2820 medium',\n",
        " 'C═C acyclic C═C monosub. alkenes 1645 medium',\n",
        " 'C═C acyclic C═C 1,1-disub. alkenes 1655 medium',\n",
        " 'C═C acyclic C═C cis-1,2-disub. alkenes 1660 medium',\n",
        " 'C═C acyclic C═C trans-1,2-disub. alkenes 1675 medium',\n",
        " 'C═C acyclic C═C trisub., tetrasub. alkenes 1670 weak',\n",
        " 'C═C conjugated C═C dienes 1600 strong/1650 strong',\n",
        " 'C═C with benzene ring dienes 1625 strong',\n",
        " 'C═C with C═O dienes 1600 strong',\n",
        " 'C═C C═C (both sp2) any 1640–1680 medium',\n",
        " 'C═C aromatic C═C any 1450/1500/1580/1600 weak to strong (usually 3 or 4)',\n",
        " 'C═C C≡C terminal alkynes 2100–2140 weak',\n",
        " 'C═C C≡C disubst. alkynes 2190–2260 very weak (often indistinguishable)',\n",
        " 'C=O aldehyde/ketone saturated aliph./cyclic 6-membered 1720 ',\n",
        " 'C=O aldehyde/ketone α,β-unsaturated 1685 ',\n",
        " 'C=O aldehyde/ketone aromatic ketones 1685 ',\n",
        " 'C=O aldehyde/ketone aldehydes 1725 influenced by conjugation (as with ketones)',\n",
        " 'C=O carboxylic acids/derivates saturated carboxylic acids 1710 ',\n",
        " 'C=O carboxylic acids/derivates unsat./aromatic carb. acids 1680–1690 ',\n",
        " 'C=O carboxylic acids/derivates esters and lactones 1735 influenced by conjugation and ring size (as with ketones)',\n",
        " 'C=O carboxylic acids/derivates anhydrides 1760 ',\n",
        " 'C=O carboxylic acids/derivates anhydrides 1820 ',\n",
        " 'C=O carboxylic acids/derivates acyl halides 1800 ',\n",
        " 'C=O carboxylic acids/derivates amides 1650 associated amides',\n",
        " 'C=O carboxylic acids/derivates amino acid zwitterions 1550–1610 ',\n",
        " 'O─H alcohols, phenols low concentration 3610–3670/high concentration 3200–3400 broad',\n",
        " 'O─H carboxylic acids low concentration 3500–3560/high concentration 3000 broad',\n",
        " 'N─H primary amines any 3400–3500 strong/1560–1640 strong',\n",
        " 'N─H secondary amines any > 3000 weak to medium',\n",
        " 'N─H ammonium ions any 2400–3200 multiple broad peaks',\n",
        " 'C─O alcohols primary 1040–1060 strong, broad',\n",
        " 'C─O alcohols secondary ~ 1100 strong',\n",
        " 'C─O alcohols tertiary 1150–1200 medium',\n",
        " 'C─O phenols any 1200',\n",
        " 'C─O ethers aliphatic 1120',\n",
        " 'C─O ethers aromatic 1220–1260',\n",
        " 'C─O carboxylic acids any 1250–1300',\n",
        " 'C─O esters any 1100–1300 two bands (distinct from ketones, which do not possess a C─O bond)',\n",
        " 'C─N aliphatic amines any 1020–1220 often overlapped',\n",
        " 'C─N C═N any 1615–1700 similar conjugation effects to C═O',\n",
        " 'C─N C≡N (nitriles) unconjugated 2250 medium',\n",
        " 'C─N C≡N (nitriles) conjugated 2230 medium',\n",
        " 'C─N R─N─C (isocyanides) any 2165–2110',\n",
        " 'C─N R─N═C═S (isothiocyanates) any 2140–1990',\n",
        " 'C─X fluoroalkanes ordinary 1000–1100',\n",
        " 'C─X fluoroalkanes trifluoromethyl 1100–1200 two strong, broad bands',\n",
        " 'C─X chloroalkanes any 540–760 weak to medium',\n",
        " 'C─X bromoalkanes any 500–600 medium to strong',\n",
        " 'C─X iodoalkanes any 500 medium to strong',\n",
        " 'N─O nitro compounds aliphatic 1540 stronger/aliphatic 1380 weaker',\n",
        " 'N─O nitro compounds aromatic 1520 lower/1350 lower if conjugated',\n",
        " 'P─C Organophosphorus compound aromatic 1440-1460 medium',\n",
        " 'P─O phosphorus oxide bonded 1195-1250 strong',\n",
        " 'P─O phosphorus oxide free 1250-1300 strong',\n",
        "#  'index',\n",
        "#  'title',\n",
        "#  'jcamp-dx',\n",
        "#  'data type',\n",
        "#  'class',\n",
        "#  'origin',\n",
        "#  'owner',\n",
        "#  'date',\n",
        "#  'names',\n",
        "#  'molform',\n",
        "#  'source reference',\n",
        "#  '$nist source',\n",
        "#  '$nist image',\n",
        "#  'spectrometer/data system',\n",
        "#  'path length',\n",
        "#  'sampling procedure',\n",
        "#  'resolution',\n",
        "#  'data processing',\n",
        "#  'xunits',\n",
        "#  'yunits',\n",
        "#  'xfactor',\n",
        "#  'yfactor',\n",
        "#  'deltax',\n",
        "#  'firstx',\n",
        "#  'lastx',\n",
        "#  'firsty',\n",
        "#  'maxx',\n",
        "#  'minx',\n",
        "#  'maxy',\n",
        "#  'miny',\n",
        "#  'npoints',\n",
        "#  'xydata',\n",
        "#  'end',\n",
        " 'x',\n",
        " 'y',\n",
        "#  'filename',\n",
        "#  'state',\n",
        "#  'instrument parameters',\n",
        "#  'xlabel',\n",
        "#  'ylabel',\n",
        "#  'mp',\n",
        "#  'bp',\n",
        "#  '$nist doc file',\n",
        "#  '$nist psd file',\n",
        "#  'aperture',\n",
        "#  'external diffuse reflectance accessory',\n",
        "#  'beamsplitter',\n",
        "#  'detector (dia. det. port in sphere)',\n",
        "#  'sphere diameter',\n",
        "#  'acquisition mode',\n",
        "#  'scanner speed',\n",
        "#  'coadded scans',\n",
        "#  'phase resolution',\n",
        "#  'phase correction',\n",
        "#  'zerofilling',\n",
        "#  'spectral range',\n",
        "#  'spectral resolution',\n",
        "#  'wavenumber accuracy',\n",
        "#  'apodization function',\n",
        "#  'low pass filter',\n",
        "#  'switch gain on',\n",
        "#'cas name',\n",
        "#  'instrument resolution',\n",
        "#  'ir source',\n",
        "#  'detector',\n",
        "#  'interferogram zerofill',\n",
        "#  'spectral interval after zerofilling',\n",
        "#  'apodization',\n",
        "#  'folding limits',\n",
        "#  'number of interferograms averaged per single channel spectrum',\n",
        "#  '$spectra version',\n",
        "#  '$uncertainty in y',\n",
        "#  'sample description',\n",
        "#  'pressure',\n",
        "#  'temperature',\n",
        " 'x1',\n",
        " 'y1',\n",
        " 'y_peak',\n",
        " 'x_peak']]"
      ],
      "metadata": {
        "id": "otRHiMrflW8X"
      },
      "execution_count": 8,
      "outputs": []
    },
    {
      "cell_type": "code",
      "source": [
        "#Список полос колебаний\n",
        "all_num_list = [\n",
        "[1260,1380,2870,2960],\n",
        "[1470,2850,2925],\n",
        "[2890],\n",
        "[2900,2975,3080],\n",
        "[3020],\n",
        "[900,990],\n",
        "[670,700],\n",
        "[965],\n",
        "[800,840],\n",
        "[3070],\n",
        "[700,750],\n",
        "[690,710],\n",
        "[750],\n",
        "[750,800],\n",
        "[860,900],\n",
        "[800,860],\n",
        "[3300],\n",
        "[2720],\n",
        "[2820],\n",
        "[1645],\n",
        "[1655],\n",
        "[1660],\n",
        "[1675],\n",
        "[1670],\n",
        "[1600,1650],\n",
        "[1625],\n",
        "[1600],\n",
        "[1640,1680],\n",
        "[1450,1500,1580,1600],\n",
        "[2100,2140],\n",
        "[2190,2260],\n",
        "[1720],\n",
        "[1685],\n",
        "[1685],\n",
        "[1725],\n",
        "[1710],\n",
        "[1680,1690],\n",
        "[1735],\n",
        "[1760],\n",
        "[1820],\n",
        "[1800],\n",
        "[1650],\n",
        "[1550,1610],\n",
        "[3610,3670, 3200,3400],\n",
        "[3500,3560, 3000],\n",
        "[3400,3500, 1560,1640],\n",
        "[3000],\n",
        "[2400,3200],\n",
        "[1040,1060],\n",
        "[1100],\n",
        "[1150,1200],\n",
        "[1200],\n",
        "[1120],\n",
        "[1220,1260],\n",
        "[1250,1300],\n",
        "[1100,1300],\n",
        "[1020,1220],\n",
        "[1615,1700],\n",
        "[2250],\n",
        "[2230],\n",
        "[2165,2110],\n",
        "[2140,1990],\n",
        "[1000,1100],\n",
        "[1100,1200],\n",
        "[540,760],\n",
        "[500,600],\n",
        "[500],\n",
        "[1540,1380],\n",
        "[1520,1350],\n",
        "[1440,1460],\n",
        "[1195,1250],\n",
        "[1250,1300],\n",
        "]"
      ],
      "metadata": {
        "id": "02ZnzgIg0gE4"
      },
      "execution_count": 9,
      "outputs": []
    },
    {
      "cell_type": "code",
      "source": [
        "#Проверка чётности полосы\n",
        "for i, num_list in enumerate(all_num_list):\n",
        "  for j, num in enumerate(num_list):\n",
        "    if num%2 == 1: all_num_list[i][j]=all_num_list[i][j]+1\n",
        "#all_num_list"
      ],
      "metadata": {
        "id": "YsMihWv40ki1"
      },
      "execution_count": 10,
      "outputs": []
    },
    {
      "cell_type": "code",
      "source": [
        "#Создаём дополнительный слой для каждого класса для входа в сеть, где +/- вокруг предполагаемого положения будет от 0 до 1, а вне - 0.\n",
        "def print_peak_neighborhood(peak_indx, x, num_neighbors = 10):\n",
        "  '''\n",
        "  Cover neighbor of the class peak position with numbers between 0 and 1\n",
        "\n",
        "  parameters:\n",
        "  peak_indx - list of even wavenumber (1/cm) of peak possible position\n",
        "  x - array like object of wavenumbers in spectra\n",
        "  num_neighbors - nuber of neighbors which should be changed. Means the area of intrest of NN.\n",
        "  '''\n",
        "  class_peak_indx_list = []\n",
        "  for num in peak_indx:\n",
        "      try:\n",
        "        y_mask_4_class = np.zeros(len(x))\n",
        "        class_peak_indx_list.append(list(x).index(num))\n",
        "      except TypeError:\n",
        "        y_mask_4_class = np.zeros(1800)\n",
        "        continue\n",
        "  for i in class_peak_indx_list:\n",
        "      for k in range(num_neighbors):\n",
        "          y_mask_4_class[i-k] = 1-(1/num_neighbors)*k\n",
        "          y_mask_4_class[i+k] = 1-(1/num_neighbors)*k\n",
        "  return y_mask_4_class\n",
        "#Проверка работоспособности\n",
        "plt.plot(dataset72_df_labeled1.iloc[:,-4][1], print_peak_neighborhood(all_num_list[1], dataset72_df_labeled1.iloc[:,-4][1], num_neighbors = 30))"
      ],
      "metadata": {
        "colab": {
          "base_uri": "https://localhost:8080/",
          "height": 448
        },
        "id": "pjdewoVK0mKt",
        "outputId": "90e53554-6318-4e9e-95bc-fc3f10621f2b"
      },
      "execution_count": 11,
      "outputs": [
        {
          "output_type": "execute_result",
          "data": {
            "text/plain": [
              "[<matplotlib.lines.Line2D at 0x7f11c95ebcd0>]"
            ]
          },
          "metadata": {},
          "execution_count": 11
        },
        {
          "output_type": "display_data",
          "data": {
            "text/plain": [
              "<Figure size 640x480 with 1 Axes>"
            ],
            "image/png": "[encoded data removed]"
          },
          "metadata": {}
        }
      ]
    },
    {
      "cell_type": "code",
      "source": [
        "dataset72_df_labeled1.iloc[:,-4][1]"
      ],
      "metadata": {
        "colab": {
          "base_uri": "https://localhost:8080/"
        },
        "id": "EL-dR3yQ3O6W",
        "outputId": "94183fc8-2928-4e57-d6eb-54424797fcde"
      },
      "execution_count": 12,
      "outputs": [
        {
          "output_type": "execute_result",
          "data": {
            "text/plain": [
              "array([ 500,  502,  504, ..., 4094, 4096, 4098])"
            ]
          },
          "metadata": {},
          "execution_count": 12
        }
      ]
    },
    {
      "cell_type": "code",
      "source": [
        "#Создаём дополнительный слой для каждого класса для входа в сеть, где +/- вокруг предполагаемого положения будет от 0 до 1, а вне - 0.\n",
        "df_cls_attention = []\n",
        "for i, num_list in enumerate(all_num_list):\n",
        "  class_attention = print_peak_neighborhood(all_num_list[i], dataset72_df_labeled1.iloc[:,-4][i], num_neighbors = 30)\n",
        "  df_cls_attention.append(torch.Tensor(class_attention))\n",
        "#print(df_cls_attention)\n",
        "df_cls_attention = torch.stack(df_cls_attention, dim=1).reshape((1800,72))\n",
        "df_cls_attention.size()"
      ],
      "metadata": {
        "colab": {
          "base_uri": "https://localhost:8080/"
        },
        "id": "HltYIfYv0oRR",
        "outputId": "6c93324b-6320-4eae-a2c5-24df6ae355f7"
      },
      "execution_count": 13,
      "outputs": [
        {
          "output_type": "execute_result",
          "data": {
            "text/plain": [
              "torch.Size([1800, 72])"
            ]
          },
          "metadata": {},
          "execution_count": 13
        }
      ]
    },
    {
      "cell_type": "code",
      "source": [
        "#Схлопываем все слои в один\n",
        "df_cls_attention = torch.sum(df_cls_attention, dim=1)"
      ],
      "metadata": {
        "id": "7Hi169lA0pp6"
      },
      "execution_count": 14,
      "outputs": []
    },
    {
      "cell_type": "code",
      "source": [
        "#нормирование слоя на 1\n",
        "df_cls_attention = df_cls_attention/max(df_cls_attention)"
      ],
      "metadata": {
        "id": "0IsVBL7M0q3d"
      },
      "execution_count": 15,
      "outputs": []
    },
    {
      "cell_type": "code",
      "source": [
        "plt.plot(dataset72_df_labeled1.iloc[:,-4][1], df_cls_attention)"
      ],
      "metadata": {
        "colab": {
          "base_uri": "https://localhost:8080/",
          "height": 448
        },
        "id": "8wQZhOLp0sN-",
        "outputId": "6ff103f2-ca51-4a71-98fb-b0cfaf360523"
      },
      "execution_count": 16,
      "outputs": [
        {
          "output_type": "execute_result",
          "data": {
            "text/plain": [
              "[<matplotlib.lines.Line2D at 0x7f11ca586d70>]"
            ]
          },
          "metadata": {},
          "execution_count": 16
        },
        {
          "output_type": "display_data",
          "data": {
            "text/plain": [
              "<Figure size 640x480 with 1 Axes>"
            ],
            "image/png": "[encoded data removed]"
          },
          "metadata": {}
        }
      ]
    },
    {
      "cell_type": "markdown",
      "metadata": {
        "id": "SyiOgAYsgec2"
      },
      "source": [
        "# Создание класса Dataset"
      ]
    },
    {
      "cell_type": "code",
      "execution_count": 17,
      "metadata": {
        "id": "3lwU0NRggprw"
      },
      "outputs": [],
      "source": [
        "import os\n",
        "import pandas as pd\n",
        "import torch\n",
        "from torch.utils.data import Dataset\n",
        "from torchvision import datasets\n",
        "\n",
        "class IRSpectraDataset72(Dataset):\n",
        "    def __init__(self, dataset_df_labeled): #, df_cls_attention\n",
        "        self.dataset_df = dataset_df_labeled\n",
        "        #self.df_cls_attention = df_cls_attention\n",
        "        self.spectra_labels = self.dataset_df.iloc[:,2:-6]\n",
        "        self.spectra_x = self.dataset_df.iloc[:,-4]\n",
        "        self.spectra_y = self.dataset_df.iloc[:,-3]\n",
        "        self.spectra_y_peak = self.dataset_df.iloc[:,-2]\n",
        "        \n",
        "    def __len__(self):\n",
        "        return len(self.dataset_df)\n",
        "\n",
        "    def __getitem__(self, idx):\n",
        "        \n",
        "        spectra_x = torch.Tensor(self.spectra_x.iloc[idx]).reshape((1, 1800))\n",
        "        spectra_y = torch.Tensor(self.spectra_y.iloc[idx]).reshape((1, 1800)) \n",
        "        #class_attention = torch.Tensor(self.df_cls_attention).reshape((1, 1800))\n",
        "        spectra_y_peak = torch.Tensor(self.spectra_y_peak.iloc[idx]).reshape((1, 1800))     \n",
        "        spectra = torch.cat((spectra_x, spectra_y, spectra_y_peak)) #, df_cls_attention\n",
        "        \n",
        "        label = torch.Tensor(self.spectra_labels.iloc[idx])\n",
        "        #transform\n",
        "        return spectra, label"
      ]
    },
    {
      "cell_type": "code",
      "execution_count": 18,
      "metadata": {
        "id": "HldHW8jOfqyw"
      },
      "outputs": [],
      "source": [
        "dataset_ir_spectra = IRSpectraDataset72(dataset72_df_labeled1) #, df_cls_attention"
      ]
    },
    {
      "cell_type": "code",
      "execution_count": 19,
      "metadata": {
        "id": "vRJkjNJbEFKS"
      },
      "outputs": [],
      "source": [
        "#Создание объекта класса и разбиение на трейн,тест и вал\n",
        "from torch.utils.data import random_split\n",
        "dataset_ir_spectra = IRSpectraDataset72(dataset72_df_labeled1.dropna()) #, df_cls_attention\n",
        "train_size = int(0.7 * len(dataset_ir_spectra))\n",
        "val_size = int(0.1 * len(dataset_ir_spectra))\n",
        "test_size = len(dataset_ir_spectra) - train_size - val_size\n",
        "train_dataset, test_dataset = random_split(dataset_ir_spectra, [train_size, int(test_size+val_size)])\n",
        "test_dataset, val_dataset = random_split(test_dataset, [test_size, val_size])"
      ]
    },
    {
      "cell_type": "code",
      "execution_count": 20,
      "metadata": {
        "colab": {
          "base_uri": "https://localhost:8080/"
        },
        "id": "3XHeDaS1Feuu",
        "outputId": "1883dd82-d32f-4d00-b07e-e89b3cf1f1ad"
      },
      "outputs": [
        {
          "output_type": "execute_result",
          "data": {
            "text/plain": [
              "72"
            ]
          },
          "metadata": {},
          "execution_count": 20
        }
      ],
      "source": [
        "#Создание загрузчиков\n",
        "# Number of classes\n",
        "classes = list(dataset_ir_spectra.spectra_labels.columns)\n",
        "num_classes = len(classes)\n",
        "num_classes"
      ]
    },
    {
      "cell_type": "code",
      "execution_count": 21,
      "metadata": {
        "id": "26MqW_iQIcSE"
      },
      "outputs": [],
      "source": [
        "cls2inx = {}\n",
        "inx2cls= {}\n",
        "for i, classs in enumerate(classes):\n",
        "  cls2inx[f'{classs}']= i\n",
        "  inx2cls[i] = classs\n",
        "#print(cls2inx)\n",
        "#print(inx2cls)"
      ]
    },
    {
      "cell_type": "code",
      "execution_count": 22,
      "metadata": {
        "id": "x4L0U4WAGOIt"
      },
      "outputs": [],
      "source": [
        "# Расчёт весов\n",
        "wts4cls = {}\n",
        "for classs in classes:\n",
        "  wts4cls[classs] = dataset_ir_spectra.spectra_labels[classs].mean()\n",
        "#print(wts4cls)"
      ]
    },
    {
      "cell_type": "code",
      "execution_count": 23,
      "metadata": {
        "colab": {
          "base_uri": "https://localhost:8080/"
        },
        "id": "oaZiT8yATCEI",
        "outputId": "d1f77cca-c1e9-4348-cf72-5a19ba4e0b37"
      },
      "outputs": [
        {
          "output_type": "stream",
          "name": "stdout",
          "text": [
            "tensor([0.6218, 0.5915, 0.2465, 0.0503, 0.1127, 0.0351, 0.0361, 0.0361, 0.0349,\n",
            "        0.5688, 0.1353, 0.1353, 0.1042, 0.0349, 0.0349, 0.1047, 0.0085, 0.0267,\n",
            "        0.0267, 0.0351, 0.0503, 0.0902, 0.0902, 0.0610, 0.0099, 0.0484, 0.0425,\n",
            "        0.1357, 0.5807, 0.0085, 0.0112, 0.1924, 0.0188, 0.1371, 0.0206, 0.0602,\n",
            "        0.0266, 0.1192, 0.0040, 0.0040, 0.0096, 0.0709, 0.0028, 0.0714, 0.0603,\n",
            "        0.1019, 0.1094, 0.0047, 0.0498, 0.0477, 0.0187, 0.0714, 0.0434, 0.0055,\n",
            "        0.0603, 0.1164, 0.1927, 0.0406, 0.0383, 0.0027, 0.0400, 0.0157, 0.0377,\n",
            "        0.0305, 0.0519, 0.0256, 0.0037, 0.0035, 0.0540, 0.0067, 0.0164, 0.0170],\n",
            "       dtype=torch.float64)\n"
          ]
        }
      ],
      "source": [
        "#Веса классов\n",
        "wts_list = []\n",
        "for name, values in wts4cls.items():\n",
        "  wts_list.append(values)\n",
        "weight_for_every_class = torch.tensor(wts_list)\n",
        "print(weight_for_every_class)"
      ]
    },
    {
      "cell_type": "code",
      "source": [
        "# #Модифицирование весов для каждого класс:\n",
        "# level = 0.3\n",
        "# grain = 0.15\n",
        "# lg = level/grain\n",
        "# print(lg)\n",
        "# #Классы меньше grain процентов - увеличиваются в level/20 раза \n",
        "# #Классы меньше 10 процентов - увеличиваются в level/10 раз \n",
        "# #Классы меньше 5 процентов - увеличиваются в level/5 раз\n",
        "# #Классы меньше 1 процента - увеличиваются в level раз\n",
        "# weight_for_every_class_modified = []\n",
        "# for i in weight_for_every_class:\n",
        "#   if i <= grain/8: weight_for_every_class_modified.append(i/(32/lg))\n",
        "#   elif (i <= grain/4) and (i>grain/8): weight_for_every_class_modified.append(i/(16/lg))\n",
        "#   elif (i <= grain/2) and (i>grain/4): weight_for_every_class_modified.append(i/(8/lg))\n",
        "#   elif (i <= grain) and (i>grain/2): weight_for_every_class_modified.append(i/(4*lg))\n",
        "#   else: weight_for_every_class_modified.append(i)\n",
        "# weight_for_every_class_modified = torch.Tensor(weight_for_every_class_modified)\n",
        "# print(weight_for_every_class)\n",
        "# print(weight_for_every_class_modified)\n",
        "# print(weight_for_every_class_modified.size())"
      ],
      "metadata": {
        "id": "ESLbGuSlAOXF"
      },
      "execution_count": 24,
      "outputs": []
    },
    {
      "cell_type": "code",
      "execution_count": 25,
      "metadata": {
        "id": "Qmv-2YFsY59b"
      },
      "outputs": [],
      "source": [
        "#Расчёт веса образца на основе минимального веса любой функциональной группы \n",
        "labels1 = train_dataset.dataset.spectra_labels.to_numpy().copy()\n",
        "labels1[labels1 == 0.0] = 100\n",
        "#labels1"
      ]
    },
    {
      "cell_type": "code",
      "source": [
        "train_labels = torch.tensor(labels1)\n",
        "weighted_labels  = train_labels*weight_for_every_class\n",
        "weights_for_every_sample = []\n",
        "for label_tensor in weighted_labels:\n",
        "  weight = np.nanmin(label_tensor.numpy())\n",
        "  weights_for_every_sample.append(weight)\n",
        "\n",
        "weights_for_every_sample = torch.tensor(weights_for_every_sample)\n",
        "print(weights_for_every_sample)"
      ],
      "metadata": {
        "colab": {
          "base_uri": "https://localhost:8080/"
        },
        "id": "gKbf6SCA2Lnq",
        "outputId": "39b7a890-db6d-4cd1-a460-f664d38160a7"
      },
      "execution_count": 26,
      "outputs": [
        {
          "output_type": "stream",
          "name": "stdout",
          "text": [
            "tensor([0.0540, 0.0540, 0.0540,  ..., 0.0519, 0.0540, 0.1094],\n",
            "       dtype=torch.float64)\n"
          ]
        }
      ]
    },
    {
      "cell_type": "code",
      "source": [
        "weights_train = weights_for_every_sample[:len(train_dataset)]"
      ],
      "metadata": {
        "id": "MPxVQm0udn8j"
      },
      "execution_count": 27,
      "outputs": []
    },
    {
      "cell_type": "code",
      "source": [
        "weights_train"
      ],
      "metadata": {
        "colab": {
          "base_uri": "https://localhost:8080/"
        },
        "id": "OfhrrFX3hvcE",
        "outputId": "1adb61a9-fe39-47c6-a953-45ee9f481c7b"
      },
      "execution_count": 28,
      "outputs": [
        {
          "output_type": "execute_result",
          "data": {
            "text/plain": [
              "tensor([0.0540, 0.0540, 0.0540,  ..., 0.0256, 0.0477, 0.0519],\n",
              "       dtype=torch.float64)"
            ]
          },
          "metadata": {},
          "execution_count": 28
        }
      ]
    },
    {
      "cell_type": "code",
      "source": [
        "#Проверка на положительные вероятности\n",
        "for i in range(len(weights_train)):\n",
        "    if weights_train[i] < 0:\n",
        "        weights_train[i] = abs(weights_train[i])"
      ],
      "metadata": {
        "id": "m3j3HH4wdrHI"
      },
      "execution_count": 29,
      "outputs": []
    },
    {
      "cell_type": "code",
      "source": [
        "weights_train[weights_train<0]"
      ],
      "metadata": {
        "colab": {
          "base_uri": "https://localhost:8080/"
        },
        "id": "NvPPgp9piODZ",
        "outputId": "e678ae90-af2b-4d32-967f-0ebbecc1c107"
      },
      "execution_count": 30,
      "outputs": [
        {
          "output_type": "execute_result",
          "data": {
            "text/plain": [
              "tensor([], dtype=torch.float64)"
            ]
          },
          "metadata": {},
          "execution_count": 30
        }
      ]
    },
    {
      "cell_type": "code",
      "source": [
        "#Сумма весов должна быть равна единице. Вычисление суммы:\n",
        "sum_weights = 0\n",
        "for i in range(len(weights_train)):\n",
        " \n",
        "  #print(weights_train[i])\n",
        "  if weights_train[i] == torch.tensor(np.nan, dtype=torch.float64) : weights_train[i] = 1\n",
        "  #print(weights_train[i])\n",
        "  #print(sum_weights)\n",
        "  sum_weights +=weights_train[i].numpy()\n",
        "print(sum_weights)"
      ],
      "metadata": {
        "colab": {
          "base_uri": "https://localhost:8080/"
        },
        "id": "xCimJjGMjwfe",
        "outputId": "6e260482-fd4d-4fb2-921e-8ebfaa9b30ba"
      },
      "execution_count": 31,
      "outputs": [
        {
          "output_type": "stream",
          "name": "stdout",
          "text": [
            "676.911948095711\n"
          ]
        }
      ]
    },
    {
      "cell_type": "code",
      "source": [
        "#Сумма весов должна быть равна единице. Нормирование на сумму.\n",
        "for i in range(len(weights_train)):\n",
        "    weights_train[i] =  weights_train[i]/sum_weights"
      ],
      "metadata": {
        "id": "nQe4jqNOhQhY"
      },
      "execution_count": 32,
      "outputs": []
    },
    {
      "cell_type": "code",
      "source": [
        "weights_train = weight_for_every_class"
      ],
      "metadata": {
        "id": "4pmgftymht1s"
      },
      "execution_count": 33,
      "outputs": []
    },
    {
      "cell_type": "code",
      "execution_count": 34,
      "metadata": {
        "id": "-9GLXXcASo0X"
      },
      "outputs": [],
      "source": [
        "#Даталоадер\n",
        "\n",
        "from torch.utils.data import DataLoader, WeightedRandomSampler\n",
        "\n",
        "# Batch size\n",
        "batch_size = 128\n",
        "\n",
        "dataloader_ir_test = DataLoader(test_dataset, batch_size=batch_size, shuffle=False)\n",
        "dataloader_ir_val = DataLoader(val_dataset, batch_size=val_size, shuffle=False)\n",
        "weightedsampler = WeightedRandomSampler(weights_train, len(weights_train)) \n",
        "\n",
        "dataloader_ir_train = DataLoader(\n",
        "    train_dataset, \n",
        "    batch_size=batch_size, \n",
        "    #sampler= weightedsampler\n",
        ")"
      ]
    },
    {
      "cell_type": "code",
      "source": [
        "#Даталоадер для статистики\n",
        "\n",
        "# Batch size\n",
        "batch_size = 128\n",
        "dataloader_ir_stat = DataLoader(dataset_ir_spectra, batch_size=batch_size, shuffle=False)"
      ],
      "metadata": {
        "id": "ZZbsh7gQPzdU"
      },
      "execution_count": 35,
      "outputs": []
    },
    {
      "cell_type": "markdown",
      "source": [
        "# Код для обучения"
      ],
      "metadata": {
        "id": "7MlqL1Pw7njO"
      }
    },
    {
      "cell_type": "markdown",
      "source": [
        "Взят из https://github.com/Gan4x4/ml_snippets/blob/main/Training/Trainer.ipynb"
      ],
      "metadata": {
        "id": "ErFFl6E77tPn"
      }
    },
    {
      "cell_type": "code",
      "source": [
        "import torch\n",
        "from tqdm import tqdm\n",
        "from sklearn.metrics import label_ranking_average_precision_score\n",
        "\n",
        "\n",
        "device = torch.device(\"cuda\" if torch.cuda.is_available() else \"cpu\")\n",
        "\n",
        "\n",
        "def get_correct_count(pred, labels, tolerance = 0.9):\n",
        "    pred.data[pred.data >=tolerance] = 1\n",
        "    pred.data[pred.data <tolerance] = -1\n",
        "    return (pred.data.cpu() == labels.cpu()).sum().item()\n",
        "\n",
        "def get_correct_count_lraps(pred, labels):\n",
        "    return label_ranking_average_precision_score(labels, pred.cpu().detach().numpy())\n",
        "    \n",
        "\n",
        "\n",
        "@torch.inference_mode()  # this annotation disable grad computation\n",
        "def validate(model, test_loader, device=\"cpu\", criterion = nn.BCELoss()):\n",
        "    correct, total = 0, 0\n",
        "    model.eval()\n",
        "    for ir_spec, labels in test_loader:\n",
        "      \n",
        "        pred = model(ir_spec.to(device))\n",
        "        loss = criterion(pred, labels.to(device))\n",
        "        score= get_correct_count_lraps(pred, labels)\n",
        "    return score, loss"
      ],
      "metadata": {
        "id": "1xfoPFNG7sza"
      },
      "execution_count": 36,
      "outputs": []
    },
    {
      "cell_type": "code",
      "source": [
        "class Trainer:\n",
        "    def __init__(self, model, plotter=None, lr=0.001):\n",
        "        global device\n",
        "        print(\"Using device:\", device)\n",
        "        self.model = model\n",
        "        self.optimizer = torch.optim.AdamW(\n",
        "            self.model.parameters(), lr=lr\n",
        "        )  \n",
        "        self.sheduler = torch.optim.lr_scheduler.StepLR(self.optimizer, step_size = 75, gamma=0.2, last_epoch=- 1, verbose=True)\n",
        "        self.criterion = nn.BCEWithLogitsLoss(pos_weight = weight_for_every_class.to(device))  # Loss function\n",
        "        self.plotter = ProgressPlotter() if plotter is None else plotter\n",
        "        self.epochs = 2\n",
        "        self.loss_hist = []\n",
        "        self.loss_hist_tst = []\n",
        "\n",
        "    def __call__(self, train_loader, val_loader, epochs=10):\n",
        "        global device\n",
        "        print(\"Using device:\", device)\n",
        "        self.epochs = epochs\n",
        "        self.model.to(device)\n",
        "        \n",
        "        for epoch in tqdm(range(self.epochs)):\n",
        "            self.model.train()\n",
        "            self.loss_hist = []\n",
        "            self.loss_hist_tst = []\n",
        "            correct, total = 0, 0\n",
        "            for ir_spec, labels in train_loader:\n",
        "                \n",
        "                score = self.process_batch(ir_spec, labels)\n",
        "            self.sheduler.step()\n",
        "            self.plotter.add_scalar(\"Loss/train\", np.mean(self.loss_hist))\n",
        "            label_ranking_average_precision_score_val, val_loss = validate(self.model, val_loader, device=device, criterion=self.criterion)\n",
        "            self.loss_hist_tst.append(val_loss.cpu())\n",
        "            self.plotter.add_scalar(\"label_ranking_average_precision_score/val\", label_ranking_average_precision_score_val)\n",
        "            self.plotter.add_scalar(\"Loss/val\", np.mean(self.loss_hist_tst))\n",
        "            #self.plotter.add_scalar(\"label_ranking_average_precision_score/train\", correct / total)\n",
        "            self.plotter.display([\"Loss/train\", \"Loss/val\", \"label_ranking_average_precision_score/val\"])\n",
        "          \n",
        "\n",
        "    def process_batch(self, ir_spec, labels):\n",
        "        self.optimizer.zero_grad()\n",
        "        out = self.model(ir_spec.to(device))\n",
        "        loss = self.criterion(out, labels.to(device))\n",
        "        loss.backward()\n",
        "        self.loss_hist.append(loss.item())\n",
        "        self.optimizer.step()\n",
        "        \n",
        "        return get_correct_count_lraps(out.cpu(), labels)"
      ],
      "metadata": {
        "id": "ErZwfHOe7qgF"
      },
      "execution_count": 37,
      "outputs": []
    },
    {
      "cell_type": "code",
      "source": [
        "from IPython.display import clear_output\n",
        "from collections import defaultdict\n",
        "import matplotlib.pyplot as plt\n",
        "import numpy as np\n",
        "\n",
        "\n",
        "class ProgressPlotter:\n",
        "    def __init__(self, title=\"default\", groups=None) -> None:\n",
        "        self._history_dict = defaultdict(dict)\n",
        "        self.set_title(title)\n",
        "        self.groups = self.get_groups(groups)\n",
        "\n",
        "    def get_groups(self, groups):\n",
        "        if groups is not None:\n",
        "            return self._history_dict.keys()\n",
        "        if type(groups) is str:\n",
        "            groups = [groups]\n",
        "        return groups\n",
        "\n",
        "    def set_title(self, title):\n",
        "        for g in self._history_dict.keys():\n",
        "            self._history_dict[g][title] = []  # reset data\n",
        "        self.title = title\n",
        "\n",
        "    # group e.g. \"loss_val\" tag e.g. \"experiment_1\"\n",
        "    def add_scalar(self, group: str, value, tag=None) -> None:\n",
        "        tag = self.title if tag is None else tag\n",
        "\n",
        "        if not tag in self._history_dict[group]:\n",
        "            self._history_dict[group][tag] = []\n",
        "        self._history_dict[group][tag].append(value)\n",
        "\n",
        "    def add_row(self, group: str, value, tag=None) -> None:\n",
        "        tag = self.title if tag is None else tag\n",
        "        self._history_dict[group][tag] = value\n",
        "\n",
        "    def display_keys(self, ax, data):\n",
        "        history_len = 0\n",
        "        ax.grid()\n",
        "        for key in data:\n",
        "            ax.plot(data[key], label=key)\n",
        "            history_len = max(history_len, len(data[key]))\n",
        "        if len(data) > 1:\n",
        "            ax.legend(loc=\"upper right\")\n",
        "        if history_len < 50:\n",
        "            ax.set_xlabel(\"step\")\n",
        "            ax.set_xticks(np.arange(history_len))\n",
        "            ax.set_xticklabels(np.arange(history_len))\n",
        "\n",
        "    \"\"\"\n",
        "     groups list of keys like [['loss_train','loss_val'],['accuracy']]\n",
        "     All charts within a group will be plot in the same axis\n",
        "  \"\"\"\n",
        "\n",
        "    def display(self, groups=None):\n",
        "        clear_output()\n",
        "        if groups is None:\n",
        "            groups = self.groups\n",
        "        n_groups = len(groups)\n",
        "        fig, ax = plt.subplots(1, n_groups, figsize=(48 // n_groups, 3))\n",
        "        if n_groups == 1:\n",
        "            ax = [ax]\n",
        "        for i, g in enumerate(groups):\n",
        "            ax[i].set_ylabel(g)\n",
        "            self.display_keys(ax[i], self.history_dict[g])\n",
        "        fig.tight_layout()\n",
        "        plt.show()\n",
        "\n",
        "    @property\n",
        "    def history_dict(self):\n",
        "        return dict(self._history_dict)"
      ],
      "metadata": {
        "id": "Zb0mmjx_70Ed"
      },
      "execution_count": 38,
      "outputs": []
    },
    {
      "cell_type": "markdown",
      "metadata": {
        "id": "IeiuyWHjfKf-"
      },
      "source": [
        "# Модель"
      ]
    },
    {
      "cell_type": "markdown",
      "source": [
        "Классификация по CNN"
      ],
      "metadata": {
        "id": "VCZZMkIuQvEd"
      }
    },
    {
      "cell_type": "code",
      "source": [
        "from torch.nn.modules.batchnorm import BatchNorm2d\n",
        "import torch.nn as nn\n",
        "import torch\n",
        "import torch.nn.functional as F\n",
        "\n",
        "\n",
        "class IrResnet5(nn.Module):\n",
        "    def __init__(self, hidden_size = 34, class_nums=17):\n",
        "        super(IrResnet5, self).__init__()\n",
        "        self.hidden_size=hidden_size\n",
        "        # Архитектура на подобие resnet\n",
        "        self.conv1 = nn.Conv1d(3, hidden_size, kernel_size=3, stride=2, padding = 1) #[3,899]\n",
        "        self.bn1 = nn.BatchNorm1d(hidden_size)\n",
        "        self.relu = nn.ReLU()\n",
        "        \n",
        "        \n",
        "        self.layer1 = nn.Sequential( #3 последовательных базовых блока #[2,1800]\n",
        "            BasicBlock(hidden_size),\n",
        "            BasicBlock(hidden_size),\n",
        "            BasicBlock(hidden_size))\n",
        "        self.layer2 = nn.Sequential(\n",
        "            BasicBlock(hidden_size*2, downsample = True), #[2,900]\n",
        "            BasicBlock(hidden_size*2),\n",
        "            BasicBlock(hidden_size*2))\n",
        "        self.layer3 = nn.Sequential(\n",
        "            BasicBlock(hidden_size*4, downsample = True), #[2,450]\n",
        "            BasicBlock(hidden_size*4),\n",
        "            BasicBlock(hidden_size*4))\n",
        "        self.max3 = nn.MaxPool1d(3,2,0)\n",
        "        self.layer4 = nn.Sequential(\n",
        "            BasicBlock(hidden_size*8, downsample = True), #[2,225]\n",
        "            BasicBlock(hidden_size*8),\n",
        "            BasicBlock(hidden_size*8))\n",
        "        self.flatten = nn.Flatten()\n",
        "        self.do1 = nn.Dropout1d(0.5)\n",
        "        self.fc = nn.Linear(hidden_size*8*56, 200)\n",
        "        self.do2 = nn.Dropout1d(0.2)\n",
        "        self.relu1 = nn.ReLU()\n",
        "        self.fc1 = nn.Linear(200, class_nums) \n",
        "        \n",
        "\n",
        "\n",
        "    def forward(self, batch):\n",
        "      # PUT YOUR CODE HERE\n",
        "        batch = self.conv1(batch)\n",
        "        batch = self.bn1(batch)\n",
        "        batch = self.relu(batch)\n",
        "        batch = self.layer1(batch)\n",
        "        batch = self.layer2(batch)\n",
        "        batch = self.layer3(batch)\n",
        "        batch = self.max3(batch)\n",
        "        batch = self.layer4(batch)\n",
        "        batch = self.flatten(batch)\n",
        "        batch = self.do1(batch)\n",
        "        batch = self.fc(batch)\n",
        "        batch = self.do2(batch)\n",
        "        batch = self.relu1(batch)\n",
        "        scores = self.fc1(batch)                    \n",
        "        return scores\n",
        "\n",
        "\n",
        "class BasicBlock(nn.Module):\n",
        "    def __init__(self, in_channels, downsample = False):  # You can add params here\n",
        "        super(BasicBlock, self).__init__()\n",
        "        \n",
        "        self.downsample = downsample\n",
        "\n",
        "        if downsample: #Если есть увеличение, то первая свёртка должна быть с большим выходом\n",
        "          self.conv1 = nn.Conv1d(in_channels//2, in_channels, kernel_size=3, stride=2, padding=1)\n",
        "        else:\n",
        "          self.conv1 = nn.Conv1d(in_channels, in_channels, kernel_size=3, padding=1)\n",
        "\n",
        "        self.bn1 = nn.BatchNorm1d(in_channels)\n",
        "        self.relu = nn.ReLU()\n",
        "        self.conv2 = nn.Conv1d(in_channels, in_channels, kernel_size=3, padding=1)\n",
        "        self.bn2 = nn.BatchNorm1d(in_channels)\n",
        "        if downsample:\n",
        "            self.downsample = nn.Sequential(\n",
        "                nn.Conv1d(in_channels//2, in_channels, kernel_size=1, stride=2), #Уменьшаем размер картинки, увеличивая количество фильтров\n",
        "                nn.BatchNorm1d(in_channels))                \n",
        "\n",
        "       \n",
        "    def forward(self, x):\n",
        "        \n",
        "        identity = x\n",
        "        \n",
        "        out = self.conv1(x)\n",
        "        out = self.bn1(out)\n",
        "        out = self.relu(out)\n",
        "\n",
        "        out = self.conv2(out)\n",
        "        out = self.bn2(out)\n",
        "\n",
        "        if self.downsample:\n",
        "            identity = self.downsample(x)\n",
        "            \n",
        "        out += identity\n",
        "        out = self.relu(out)\n",
        "\n",
        "        return out"
      ],
      "metadata": {
        "id": "wxunATQmQul4"
      },
      "execution_count": 39,
      "outputs": []
    },
    {
      "cell_type": "markdown",
      "source": [
        "# Обучение модели"
      ],
      "metadata": {
        "id": "DTM_SpQO75ob"
      }
    },
    {
      "cell_type": "markdown",
      "source": [
        "## Код для обучения и сохранения"
      ],
      "metadata": {
        "id": "CRqp_Ars1PB0"
      }
    },
    {
      "cell_type": "code",
      "source": [
        "from google.colab import files\n",
        "from sklearn.metrics import classification_report\n",
        "def save_model_all(model, trainer, stat, version):\n",
        "  torch.save(model, '/content/IR_expert_system/models/'+version+'.pt')\n",
        "  torch.save(model.state_dict(), f= '/content/IR_expert_system/models/'+version+'_model_param')\n",
        "  torch.save(trainer.optimizer.state_dict(), f= '/content/IR_expert_system/models/'+version+'_optim_param')\n",
        "  files.download('/content/IR_expert_system/models/'+version+'.pt')\n",
        "  files.download('/content/IR_expert_system/models/'+version+'_model_param')\n",
        "  files.download('/content/IR_expert_system/models/'+version+'_optim_param')\n",
        "  with open('/content/IR_expert_system/models/'+version+'_statistics.txt', 'w') as f:\n",
        "    f.write(stat)\n",
        "    files.download('/content/IR_expert_system/models/'+version+'_statistics.txt')\n",
        "    from sklearn.metrics import classification_report\n",
        "\n",
        "def get_statistic(model, device, val_dataloader, tolerance = 0.5):\n",
        "  y_true = torch.Tensor()\n",
        "  y_pred = torch.Tensor()\n",
        "  model.eval()\n",
        "  #Расчёт по тестовому даталоадеру предсказанных и реальных значений\n",
        "  for data, label in val_dataloader:\n",
        "    #out, _, _ = model.to(device)(data.to(device)) #версия 6\n",
        "    out = model.to(device)(data.to(device))\n",
        "    data.to('cpu')\n",
        "    y_true = torch.cat((label.cpu().detach(), y_true), dim = 0)\n",
        "    y_pred = torch.cat((out.cpu().detach(), y_pred), dim = 0)\n",
        "  #print(y_true.size(), y_pred.size())\n",
        "  #Приведение значений к бинарному виду для расчёта classification report при превышении порога tolerance\n",
        "  for i in range(len(y_pred)):\n",
        "    y_pred[i][y_pred[i]<tolerance]=0\n",
        "    y_pred[i][y_pred[i]>=tolerance]=1\n",
        "  model.to('cpu')\n",
        "  return classification_report(y_true, y_pred, target_names = classes)\n"
      ],
      "metadata": {
        "id": "3iyfXIHQ1OUN"
      },
      "execution_count": 40,
      "outputs": []
    },
    {
      "cell_type": "code",
      "source": [
        "model = IrResnet5(class_nums=72)\n",
        "irpp = ProgressPlotter()\n",
        "trainer = Trainer(model= model, plotter = irpp, lr = 0.00001)"
      ],
      "metadata": {
        "colab": {
          "base_uri": "https://localhost:8080/"
        },
        "id": "uYFYvr0m1WI1",
        "outputId": "c16c4018-d453-4097-e47f-8bc82bec2102"
      },
      "execution_count": 41,
      "outputs": [
        {
          "output_type": "stream",
          "name": "stdout",
          "text": [
            "Using device: cpu\n",
            "Adjusting learning rate of group 0 to 1.0000e-05.\n"
          ]
        }
      ]
    },
    {
      "cell_type": "code",
      "source": [
        "def train_and_save_model(model_type, size, name):\n",
        "  global model, irpp, trainer\n",
        "  model = model_type(hidden_size = int(size), class_nums=72)\n",
        "  irpp = ProgressPlotter(title = size)\n",
        "  trainer = Trainer(model= model, plotter = irpp, lr = 0.00001)\n",
        "  trainer(dataloader_ir_train, dataloader_ir_test, epochs = 200)\n",
        "  cr = get_statistic(model, device, dataloader_ir_val, tolerance = 0.5)\n",
        "  print(cr)\n",
        "  save_model_all(model, trainer, cr, version = name+'.'+size)"
      ],
      "metadata": {
        "id": "4tfKNxVU1c-M"
      },
      "execution_count": 42,
      "outputs": []
    },
    {
      "cell_type": "code",
      "source": [
        "# #Загрузка модели\n",
        "# model = IrResnet4(hidden_size = 50, class_nums=72)\n",
        "# model.load_state_dict(torch.load('/content/IR_expert_system/models/v1.5.1.50/v1.5.1.50_model_param'))\n",
        "# model.eval()"
      ],
      "metadata": {
        "id": "7IV8k519Tr7W"
      },
      "execution_count": 43,
      "outputs": []
    },
    {
      "cell_type": "code",
      "source": [
        "from torchsummary import summary\n",
        "summary(model.to(device), (3, 1800))"
      ],
      "metadata": {
        "id": "zW-P9aqD8FbY",
        "colab": {
          "base_uri": "https://localhost:8080/"
        },
        "outputId": "a7c4d870-af9a-4e5d-c711-33f52df6eb80"
      },
      "execution_count": 44,
      "outputs": [
        {
          "output_type": "stream",
          "name": "stdout",
          "text": [
            "----------------------------------------------------------------\n",
            "        Layer (type)               Output Shape         Param #\n",
            "================================================================\n",
            "            Conv1d-1              [-1, 34, 900]             340\n",
            "       BatchNorm1d-2              [-1, 34, 900]              68\n",
            "              ReLU-3              [-1, 34, 900]               0\n",
            "            Conv1d-4              [-1, 34, 900]           3,502\n",
            "       BatchNorm1d-5              [-1, 34, 900]              68\n",
            "              ReLU-6              [-1, 34, 900]               0\n",
            "            Conv1d-7              [-1, 34, 900]           3,502\n",
            "       BatchNorm1d-8              [-1, 34, 900]              68\n",
            "              ReLU-9              [-1, 34, 900]               0\n",
            "       BasicBlock-10              [-1, 34, 900]               0\n",
            "           Conv1d-11              [-1, 34, 900]           3,502\n",
            "      BatchNorm1d-12              [-1, 34, 900]              68\n",
            "             ReLU-13              [-1, 34, 900]               0\n",
            "           Conv1d-14              [-1, 34, 900]           3,502\n",
            "      BatchNorm1d-15              [-1, 34, 900]              68\n",
            "             ReLU-16              [-1, 34, 900]               0\n",
            "       BasicBlock-17              [-1, 34, 900]               0\n",
            "           Conv1d-18              [-1, 34, 900]           3,502\n",
            "      BatchNorm1d-19              [-1, 34, 900]              68\n",
            "             ReLU-20              [-1, 34, 900]               0\n",
            "           Conv1d-21              [-1, 34, 900]           3,502\n",
            "      BatchNorm1d-22              [-1, 34, 900]              68\n",
            "             ReLU-23              [-1, 34, 900]               0\n",
            "       BasicBlock-24              [-1, 34, 900]               0\n",
            "           Conv1d-25              [-1, 68, 450]           7,004\n",
            "      BatchNorm1d-26              [-1, 68, 450]             136\n",
            "             ReLU-27              [-1, 68, 450]               0\n",
            "           Conv1d-28              [-1, 68, 450]          13,940\n",
            "      BatchNorm1d-29              [-1, 68, 450]             136\n",
            "           Conv1d-30              [-1, 68, 450]           2,380\n",
            "      BatchNorm1d-31              [-1, 68, 450]             136\n",
            "             ReLU-32              [-1, 68, 450]               0\n",
            "       BasicBlock-33              [-1, 68, 450]               0\n",
            "           Conv1d-34              [-1, 68, 450]          13,940\n",
            "      BatchNorm1d-35              [-1, 68, 450]             136\n",
            "             ReLU-36              [-1, 68, 450]               0\n",
            "           Conv1d-37              [-1, 68, 450]          13,940\n",
            "      BatchNorm1d-38              [-1, 68, 450]             136\n",
            "             ReLU-39              [-1, 68, 450]               0\n",
            "       BasicBlock-40              [-1, 68, 450]               0\n",
            "           Conv1d-41              [-1, 68, 450]          13,940\n",
            "      BatchNorm1d-42              [-1, 68, 450]             136\n",
            "             ReLU-43              [-1, 68, 450]               0\n",
            "           Conv1d-44              [-1, 68, 450]          13,940\n",
            "      BatchNorm1d-45              [-1, 68, 450]             136\n",
            "             ReLU-46              [-1, 68, 450]               0\n",
            "       BasicBlock-47              [-1, 68, 450]               0\n",
            "           Conv1d-48             [-1, 136, 225]          27,880\n",
            "      BatchNorm1d-49             [-1, 136, 225]             272\n",
            "             ReLU-50             [-1, 136, 225]               0\n",
            "           Conv1d-51             [-1, 136, 225]          55,624\n",
            "      BatchNorm1d-52             [-1, 136, 225]             272\n",
            "           Conv1d-53             [-1, 136, 225]           9,384\n",
            "      BatchNorm1d-54             [-1, 136, 225]             272\n",
            "             ReLU-55             [-1, 136, 225]               0\n",
            "       BasicBlock-56             [-1, 136, 225]               0\n",
            "           Conv1d-57             [-1, 136, 225]          55,624\n",
            "      BatchNorm1d-58             [-1, 136, 225]             272\n",
            "             ReLU-59             [-1, 136, 225]               0\n",
            "           Conv1d-60             [-1, 136, 225]          55,624\n",
            "      BatchNorm1d-61             [-1, 136, 225]             272\n",
            "             ReLU-62             [-1, 136, 225]               0\n",
            "       BasicBlock-63             [-1, 136, 225]               0\n",
            "           Conv1d-64             [-1, 136, 225]          55,624\n",
            "      BatchNorm1d-65             [-1, 136, 225]             272\n",
            "             ReLU-66             [-1, 136, 225]               0\n",
            "           Conv1d-67             [-1, 136, 225]          55,624\n",
            "      BatchNorm1d-68             [-1, 136, 225]             272\n",
            "             ReLU-69             [-1, 136, 225]               0\n",
            "       BasicBlock-70             [-1, 136, 225]               0\n",
            "        MaxPool1d-71             [-1, 136, 112]               0\n",
            "           Conv1d-72              [-1, 272, 56]         111,248\n",
            "      BatchNorm1d-73              [-1, 272, 56]             544\n",
            "             ReLU-74              [-1, 272, 56]               0\n",
            "           Conv1d-75              [-1, 272, 56]         222,224\n",
            "      BatchNorm1d-76              [-1, 272, 56]             544\n",
            "           Conv1d-77              [-1, 272, 56]          37,264\n",
            "      BatchNorm1d-78              [-1, 272, 56]             544\n",
            "             ReLU-79              [-1, 272, 56]               0\n",
            "       BasicBlock-80              [-1, 272, 56]               0\n",
            "           Conv1d-81              [-1, 272, 56]         222,224\n",
            "      BatchNorm1d-82              [-1, 272, 56]             544\n",
            "             ReLU-83              [-1, 272, 56]               0\n",
            "           Conv1d-84              [-1, 272, 56]         222,224\n",
            "      BatchNorm1d-85              [-1, 272, 56]             544\n",
            "             ReLU-86              [-1, 272, 56]               0\n",
            "       BasicBlock-87              [-1, 272, 56]               0\n",
            "           Conv1d-88              [-1, 272, 56]         222,224\n",
            "      BatchNorm1d-89              [-1, 272, 56]             544\n",
            "             ReLU-90              [-1, 272, 56]               0\n",
            "           Conv1d-91              [-1, 272, 56]         222,224\n",
            "      BatchNorm1d-92              [-1, 272, 56]             544\n",
            "             ReLU-93              [-1, 272, 56]               0\n",
            "       BasicBlock-94              [-1, 272, 56]               0\n",
            "          Flatten-95                [-1, 15232]               0\n",
            "        Dropout1d-96                [-1, 15232]               0\n",
            "           Linear-97                  [-1, 200]       3,046,600\n",
            "        Dropout1d-98                  [-1, 200]               0\n",
            "             ReLU-99                  [-1, 200]               0\n",
            "          Linear-100                   [-1, 72]          14,472\n",
            "================================================================\n",
            "Total params: 4,743,664\n",
            "Trainable params: 4,743,664\n",
            "Non-trainable params: 0\n",
            "----------------------------------------------------------------\n",
            "Input size (MB): 0.02\n",
            "Forward/backward pass size (MB): 19.37\n",
            "Params size (MB): 18.10\n",
            "Estimated Total Size (MB): 37.49\n",
            "----------------------------------------------------------------\n"
          ]
        }
      ]
    },
    {
      "cell_type": "markdown",
      "source": [
        "##Обучение и сохранение"
      ],
      "metadata": {
        "id": "r9Gskik71ns5"
      }
    },
    {
      "cell_type": "code",
      "source": [
        "train_and_save_model(IrResnet5, '100', name = 'v1.5.1')"
      ],
      "metadata": {
        "colab": {
          "base_uri": "https://localhost:8080/",
          "height": 565
        },
        "id": "7w7NfJSZ1pvx",
        "outputId": "cc25cc46-cb71-47e3-9dd3-02af32e294dd"
      },
      "execution_count": null,
      "outputs": [
        {
          "output_type": "display_data",
          "data": {
            "text/plain": [
              "<Figure size 1600x300 with 3 Axes>"
            ],
            "image/png": "[encoded data removed]"
          },
          "metadata": {}
        },
        {
          "output_type": "stream",
          "name": "stderr",
          "text": [
            "100%|██████████| 200/200 [2:30:26<00:00, 45.13s/it]\n"
          ]
        },
        {
          "output_type": "error",
          "ename": "OutOfMemoryError",
          "evalue": "ignored",
          "traceback": [
            "\u001b[0;31m---------------------------------------------------------------------------\u001b[0m",
            "\u001b[0;31mOutOfMemoryError\u001b[0m                          Traceback (most recent call last)",
            "\u001b[0;32m<ipython-input-53-31c28ea8ed36>\u001b[0m in \u001b[0;36m<cell line: 1>\u001b[0;34m()\u001b[0m\n\u001b[0;32m----> 1\u001b[0;31m \u001b[0mtrain_and_save_model\u001b[0m\u001b[0;34m(\u001b[0m\u001b[0mIrResnet5\u001b[0m\u001b[0;34m,\u001b[0m \u001b[0;34m'100'\u001b[0m\u001b[0;34m,\u001b[0m \u001b[0mname\u001b[0m \u001b[0;34m=\u001b[0m \u001b[0;34m'v1.5.1'\u001b[0m\u001b[0;34m)\u001b[0m\u001b[0;34m\u001b[0m\u001b[0;34m\u001b[0m\u001b[0m\n\u001b[0m",
            "\u001b[0;32m<ipython-input-50-33982bfb7d2a>\u001b[0m in \u001b[0;36mtrain_and_save_model\u001b[0;34m(model_type, size, name)\u001b[0m\n\u001b[1;32m      5\u001b[0m   \u001b[0mtrainer\u001b[0m \u001b[0;34m=\u001b[0m \u001b[0mTrainer\u001b[0m\u001b[0;34m(\u001b[0m\u001b[0mmodel\u001b[0m\u001b[0;34m=\u001b[0m \u001b[0mmodel\u001b[0m\u001b[0;34m,\u001b[0m \u001b[0mplotter\u001b[0m \u001b[0;34m=\u001b[0m \u001b[0mirpp\u001b[0m\u001b[0;34m,\u001b[0m \u001b[0mlr\u001b[0m \u001b[0;34m=\u001b[0m \u001b[0;36m0.00001\u001b[0m\u001b[0;34m)\u001b[0m\u001b[0;34m\u001b[0m\u001b[0;34m\u001b[0m\u001b[0m\n\u001b[1;32m      6\u001b[0m   \u001b[0mtrainer\u001b[0m\u001b[0;34m(\u001b[0m\u001b[0mdataloader_ir_train\u001b[0m\u001b[0;34m,\u001b[0m \u001b[0mdataloader_ir_test\u001b[0m\u001b[0;34m,\u001b[0m \u001b[0mepochs\u001b[0m \u001b[0;34m=\u001b[0m \u001b[0;36m200\u001b[0m\u001b[0;34m)\u001b[0m\u001b[0;34m\u001b[0m\u001b[0;34m\u001b[0m\u001b[0m\n\u001b[0;32m----> 7\u001b[0;31m   \u001b[0mcr\u001b[0m \u001b[0;34m=\u001b[0m \u001b[0mget_statistic\u001b[0m\u001b[0;34m(\u001b[0m\u001b[0mmodel\u001b[0m\u001b[0;34m,\u001b[0m \u001b[0mdevice\u001b[0m\u001b[0;34m,\u001b[0m \u001b[0mdataloader_ir_val\u001b[0m\u001b[0;34m,\u001b[0m \u001b[0mtolerance\u001b[0m \u001b[0;34m=\u001b[0m \u001b[0;36m0.5\u001b[0m\u001b[0;34m)\u001b[0m\u001b[0;34m\u001b[0m\u001b[0;34m\u001b[0m\u001b[0m\n\u001b[0m\u001b[1;32m      8\u001b[0m   \u001b[0mprint\u001b[0m\u001b[0;34m(\u001b[0m\u001b[0mcr\u001b[0m\u001b[0;34m)\u001b[0m\u001b[0;34m\u001b[0m\u001b[0;34m\u001b[0m\u001b[0m\n\u001b[1;32m      9\u001b[0m   \u001b[0msave_model_all\u001b[0m\u001b[0;34m(\u001b[0m\u001b[0mmodel\u001b[0m\u001b[0;34m,\u001b[0m \u001b[0mtrainer\u001b[0m\u001b[0;34m,\u001b[0m \u001b[0mcr\u001b[0m\u001b[0;34m,\u001b[0m \u001b[0mversion\u001b[0m \u001b[0;34m=\u001b[0m \u001b[0mname\u001b[0m\u001b[0;34m+\u001b[0m\u001b[0;34m'.'\u001b[0m\u001b[0;34m+\u001b[0m\u001b[0msize\u001b[0m\u001b[0;34m)\u001b[0m\u001b[0;34m\u001b[0m\u001b[0;34m\u001b[0m\u001b[0m\n",
            "\u001b[0;32m<ipython-input-47-06f582328220>\u001b[0m in \u001b[0;36mget_statistic\u001b[0;34m(model, device, val_dataloader, tolerance)\u001b[0m\n\u001b[1;32m     20\u001b[0m   \u001b[0;32mfor\u001b[0m \u001b[0mdata\u001b[0m\u001b[0;34m,\u001b[0m \u001b[0mlabel\u001b[0m \u001b[0;32min\u001b[0m \u001b[0mval_dataloader\u001b[0m\u001b[0;34m:\u001b[0m\u001b[0;34m\u001b[0m\u001b[0;34m\u001b[0m\u001b[0m\n\u001b[1;32m     21\u001b[0m     \u001b[0;31m#out, _, _ = model.to(device)(data.to(device)) #версия 6\u001b[0m\u001b[0;34m\u001b[0m\u001b[0;34m\u001b[0m\u001b[0m\n\u001b[0;32m---> 22\u001b[0;31m     \u001b[0mout\u001b[0m \u001b[0;34m=\u001b[0m \u001b[0mmodel\u001b[0m\u001b[0;34m.\u001b[0m\u001b[0mto\u001b[0m\u001b[0;34m(\u001b[0m\u001b[0mdevice\u001b[0m\u001b[0;34m)\u001b[0m\u001b[0;34m(\u001b[0m\u001b[0mdata\u001b[0m\u001b[0;34m.\u001b[0m\u001b[0mto\u001b[0m\u001b[0;34m(\u001b[0m\u001b[0mdevice\u001b[0m\u001b[0;34m)\u001b[0m\u001b[0;34m)\u001b[0m\u001b[0;34m\u001b[0m\u001b[0;34m\u001b[0m\u001b[0m\n\u001b[0m\u001b[1;32m     23\u001b[0m     \u001b[0mdata\u001b[0m\u001b[0;34m.\u001b[0m\u001b[0mto\u001b[0m\u001b[0;34m(\u001b[0m\u001b[0;34m'cpu'\u001b[0m\u001b[0;34m)\u001b[0m\u001b[0;34m\u001b[0m\u001b[0;34m\u001b[0m\u001b[0m\n\u001b[1;32m     24\u001b[0m     \u001b[0my_true\u001b[0m \u001b[0;34m=\u001b[0m \u001b[0mtorch\u001b[0m\u001b[0;34m.\u001b[0m\u001b[0mcat\u001b[0m\u001b[0;34m(\u001b[0m\u001b[0;34m(\u001b[0m\u001b[0mlabel\u001b[0m\u001b[0;34m.\u001b[0m\u001b[0mcpu\u001b[0m\u001b[0;34m(\u001b[0m\u001b[0;34m)\u001b[0m\u001b[0;34m.\u001b[0m\u001b[0mdetach\u001b[0m\u001b[0;34m(\u001b[0m\u001b[0;34m)\u001b[0m\u001b[0;34m,\u001b[0m \u001b[0my_true\u001b[0m\u001b[0;34m)\u001b[0m\u001b[0;34m,\u001b[0m \u001b[0mdim\u001b[0m \u001b[0;34m=\u001b[0m \u001b[0;36m0\u001b[0m\u001b[0;34m)\u001b[0m\u001b[0;34m\u001b[0m\u001b[0;34m\u001b[0m\u001b[0m\n",
            "\u001b[0;32m/usr/local/lib/python3.10/dist-packages/torch/nn/modules/module.py\u001b[0m in \u001b[0;36m_call_impl\u001b[0;34m(self, *args, **kwargs)\u001b[0m\n\u001b[1;32m   1499\u001b[0m                 \u001b[0;32mor\u001b[0m \u001b[0m_global_backward_pre_hooks\u001b[0m \u001b[0;32mor\u001b[0m \u001b[0m_global_backward_hooks\u001b[0m\u001b[0;34m\u001b[0m\u001b[0;34m\u001b[0m\u001b[0m\n\u001b[1;32m   1500\u001b[0m                 or _global_forward_hooks or _global_forward_pre_hooks):\n\u001b[0;32m-> 1501\u001b[0;31m             \u001b[0;32mreturn\u001b[0m \u001b[0mforward_call\u001b[0m\u001b[0;34m(\u001b[0m\u001b[0;34m*\u001b[0m\u001b[0margs\u001b[0m\u001b[0;34m,\u001b[0m \u001b[0;34m**\u001b[0m\u001b[0mkwargs\u001b[0m\u001b[0;34m)\u001b[0m\u001b[0;34m\u001b[0m\u001b[0;34m\u001b[0m\u001b[0m\n\u001b[0m\u001b[1;32m   1502\u001b[0m         \u001b[0;31m# Do not call functions when jit is used\u001b[0m\u001b[0;34m\u001b[0m\u001b[0;34m\u001b[0m\u001b[0m\n\u001b[1;32m   1503\u001b[0m         \u001b[0mfull_backward_hooks\u001b[0m\u001b[0;34m,\u001b[0m \u001b[0mnon_full_backward_hooks\u001b[0m \u001b[0;34m=\u001b[0m \u001b[0;34m[\u001b[0m\u001b[0;34m]\u001b[0m\u001b[0;34m,\u001b[0m \u001b[0;34m[\u001b[0m\u001b[0;34m]\u001b[0m\u001b[0;34m\u001b[0m\u001b[0;34m\u001b[0m\u001b[0m\n",
            "\u001b[0;32m<ipython-input-46-46cc00c712d2>\u001b[0m in \u001b[0;36mforward\u001b[0;34m(self, batch)\u001b[0m\n\u001b[1;32m     48\u001b[0m         \u001b[0mbatch\u001b[0m \u001b[0;34m=\u001b[0m \u001b[0mself\u001b[0m\u001b[0;34m.\u001b[0m\u001b[0mlayer1\u001b[0m\u001b[0;34m(\u001b[0m\u001b[0mbatch\u001b[0m\u001b[0;34m)\u001b[0m\u001b[0;34m\u001b[0m\u001b[0;34m\u001b[0m\u001b[0m\n\u001b[1;32m     49\u001b[0m         \u001b[0mbatch\u001b[0m \u001b[0;34m=\u001b[0m \u001b[0mself\u001b[0m\u001b[0;34m.\u001b[0m\u001b[0mlayer2\u001b[0m\u001b[0;34m(\u001b[0m\u001b[0mbatch\u001b[0m\u001b[0;34m)\u001b[0m\u001b[0;34m\u001b[0m\u001b[0;34m\u001b[0m\u001b[0m\n\u001b[0;32m---> 50\u001b[0;31m         \u001b[0mbatch\u001b[0m \u001b[0;34m=\u001b[0m \u001b[0mself\u001b[0m\u001b[0;34m.\u001b[0m\u001b[0mlayer3\u001b[0m\u001b[0;34m(\u001b[0m\u001b[0mbatch\u001b[0m\u001b[0;34m)\u001b[0m\u001b[0;34m\u001b[0m\u001b[0;34m\u001b[0m\u001b[0m\n\u001b[0m\u001b[1;32m     51\u001b[0m         \u001b[0mbatch\u001b[0m \u001b[0;34m=\u001b[0m \u001b[0mself\u001b[0m\u001b[0;34m.\u001b[0m\u001b[0mmax3\u001b[0m\u001b[0;34m(\u001b[0m\u001b[0mbatch\u001b[0m\u001b[0;34m)\u001b[0m\u001b[0;34m\u001b[0m\u001b[0;34m\u001b[0m\u001b[0m\n\u001b[1;32m     52\u001b[0m         \u001b[0mbatch\u001b[0m \u001b[0;34m=\u001b[0m \u001b[0mself\u001b[0m\u001b[0;34m.\u001b[0m\u001b[0mlayer4\u001b[0m\u001b[0;34m(\u001b[0m\u001b[0mbatch\u001b[0m\u001b[0;34m)\u001b[0m\u001b[0;34m\u001b[0m\u001b[0;34m\u001b[0m\u001b[0m\n",
            "\u001b[0;32m/usr/local/lib/python3.10/dist-packages/torch/nn/modules/module.py\u001b[0m in \u001b[0;36m_call_impl\u001b[0;34m(self, *args, **kwargs)\u001b[0m\n\u001b[1;32m   1499\u001b[0m                 \u001b[0;32mor\u001b[0m \u001b[0m_global_backward_pre_hooks\u001b[0m \u001b[0;32mor\u001b[0m \u001b[0m_global_backward_hooks\u001b[0m\u001b[0;34m\u001b[0m\u001b[0;34m\u001b[0m\u001b[0m\n\u001b[1;32m   1500\u001b[0m                 or _global_forward_hooks or _global_forward_pre_hooks):\n\u001b[0;32m-> 1501\u001b[0;31m             \u001b[0;32mreturn\u001b[0m \u001b[0mforward_call\u001b[0m\u001b[0;34m(\u001b[0m\u001b[0;34m*\u001b[0m\u001b[0margs\u001b[0m\u001b[0;34m,\u001b[0m \u001b[0;34m**\u001b[0m\u001b[0mkwargs\u001b[0m\u001b[0;34m)\u001b[0m\u001b[0;34m\u001b[0m\u001b[0;34m\u001b[0m\u001b[0m\n\u001b[0m\u001b[1;32m   1502\u001b[0m         \u001b[0;31m# Do not call functions when jit is used\u001b[0m\u001b[0;34m\u001b[0m\u001b[0;34m\u001b[0m\u001b[0m\n\u001b[1;32m   1503\u001b[0m         \u001b[0mfull_backward_hooks\u001b[0m\u001b[0;34m,\u001b[0m \u001b[0mnon_full_backward_hooks\u001b[0m \u001b[0;34m=\u001b[0m \u001b[0;34m[\u001b[0m\u001b[0;34m]\u001b[0m\u001b[0;34m,\u001b[0m \u001b[0;34m[\u001b[0m\u001b[0;34m]\u001b[0m\u001b[0;34m\u001b[0m\u001b[0;34m\u001b[0m\u001b[0m\n",
            "\u001b[0;32m/usr/local/lib/python3.10/dist-packages/torch/nn/modules/container.py\u001b[0m in \u001b[0;36mforward\u001b[0;34m(self, input)\u001b[0m\n\u001b[1;32m    215\u001b[0m     \u001b[0;32mdef\u001b[0m \u001b[0mforward\u001b[0m\u001b[0;34m(\u001b[0m\u001b[0mself\u001b[0m\u001b[0;34m,\u001b[0m \u001b[0minput\u001b[0m\u001b[0;34m)\u001b[0m\u001b[0;34m:\u001b[0m\u001b[0;34m\u001b[0m\u001b[0;34m\u001b[0m\u001b[0m\n\u001b[1;32m    216\u001b[0m         \u001b[0;32mfor\u001b[0m \u001b[0mmodule\u001b[0m \u001b[0;32min\u001b[0m \u001b[0mself\u001b[0m\u001b[0;34m:\u001b[0m\u001b[0;34m\u001b[0m\u001b[0;34m\u001b[0m\u001b[0m\n\u001b[0;32m--> 217\u001b[0;31m             \u001b[0minput\u001b[0m \u001b[0;34m=\u001b[0m \u001b[0mmodule\u001b[0m\u001b[0;34m(\u001b[0m\u001b[0minput\u001b[0m\u001b[0;34m)\u001b[0m\u001b[0;34m\u001b[0m\u001b[0;34m\u001b[0m\u001b[0m\n\u001b[0m\u001b[1;32m    218\u001b[0m         \u001b[0;32mreturn\u001b[0m \u001b[0minput\u001b[0m\u001b[0;34m\u001b[0m\u001b[0;34m\u001b[0m\u001b[0m\n\u001b[1;32m    219\u001b[0m \u001b[0;34m\u001b[0m\u001b[0m\n",
            "\u001b[0;32m/usr/local/lib/python3.10/dist-packages/torch/nn/modules/module.py\u001b[0m in \u001b[0;36m_call_impl\u001b[0;34m(self, *args, **kwargs)\u001b[0m\n\u001b[1;32m   1499\u001b[0m                 \u001b[0;32mor\u001b[0m \u001b[0m_global_backward_pre_hooks\u001b[0m \u001b[0;32mor\u001b[0m \u001b[0m_global_backward_hooks\u001b[0m\u001b[0;34m\u001b[0m\u001b[0;34m\u001b[0m\u001b[0m\n\u001b[1;32m   1500\u001b[0m                 or _global_forward_hooks or _global_forward_pre_hooks):\n\u001b[0;32m-> 1501\u001b[0;31m             \u001b[0;32mreturn\u001b[0m \u001b[0mforward_call\u001b[0m\u001b[0;34m(\u001b[0m\u001b[0;34m*\u001b[0m\u001b[0margs\u001b[0m\u001b[0;34m,\u001b[0m \u001b[0;34m**\u001b[0m\u001b[0mkwargs\u001b[0m\u001b[0;34m)\u001b[0m\u001b[0;34m\u001b[0m\u001b[0;34m\u001b[0m\u001b[0m\n\u001b[0m\u001b[1;32m   1502\u001b[0m         \u001b[0;31m# Do not call functions when jit is used\u001b[0m\u001b[0;34m\u001b[0m\u001b[0;34m\u001b[0m\u001b[0m\n\u001b[1;32m   1503\u001b[0m         \u001b[0mfull_backward_hooks\u001b[0m\u001b[0;34m,\u001b[0m \u001b[0mnon_full_backward_hooks\u001b[0m \u001b[0;34m=\u001b[0m \u001b[0;34m[\u001b[0m\u001b[0;34m]\u001b[0m\u001b[0;34m,\u001b[0m \u001b[0;34m[\u001b[0m\u001b[0;34m]\u001b[0m\u001b[0;34m\u001b[0m\u001b[0;34m\u001b[0m\u001b[0m\n",
            "\u001b[0;32m<ipython-input-46-46cc00c712d2>\u001b[0m in \u001b[0;36mforward\u001b[0;34m(self, x)\u001b[0m\n\u001b[1;32m     87\u001b[0m         \u001b[0mout\u001b[0m \u001b[0;34m=\u001b[0m \u001b[0mself\u001b[0m\u001b[0;34m.\u001b[0m\u001b[0mconv1\u001b[0m\u001b[0;34m(\u001b[0m\u001b[0mx\u001b[0m\u001b[0;34m)\u001b[0m\u001b[0;34m\u001b[0m\u001b[0;34m\u001b[0m\u001b[0m\n\u001b[1;32m     88\u001b[0m         \u001b[0mout\u001b[0m \u001b[0;34m=\u001b[0m \u001b[0mself\u001b[0m\u001b[0;34m.\u001b[0m\u001b[0mbn1\u001b[0m\u001b[0;34m(\u001b[0m\u001b[0mout\u001b[0m\u001b[0;34m)\u001b[0m\u001b[0;34m\u001b[0m\u001b[0;34m\u001b[0m\u001b[0m\n\u001b[0;32m---> 89\u001b[0;31m         \u001b[0mout\u001b[0m \u001b[0;34m=\u001b[0m \u001b[0mself\u001b[0m\u001b[0;34m.\u001b[0m\u001b[0mrelu\u001b[0m\u001b[0;34m(\u001b[0m\u001b[0mout\u001b[0m\u001b[0;34m)\u001b[0m\u001b[0;34m\u001b[0m\u001b[0;34m\u001b[0m\u001b[0m\n\u001b[0m\u001b[1;32m     90\u001b[0m \u001b[0;34m\u001b[0m\u001b[0m\n\u001b[1;32m     91\u001b[0m         \u001b[0mout\u001b[0m \u001b[0;34m=\u001b[0m \u001b[0mself\u001b[0m\u001b[0;34m.\u001b[0m\u001b[0mconv2\u001b[0m\u001b[0;34m(\u001b[0m\u001b[0mout\u001b[0m\u001b[0;34m)\u001b[0m\u001b[0;34m\u001b[0m\u001b[0;34m\u001b[0m\u001b[0m\n",
            "\u001b[0;32m/usr/local/lib/python3.10/dist-packages/torch/nn/modules/module.py\u001b[0m in \u001b[0;36m_call_impl\u001b[0;34m(self, *args, **kwargs)\u001b[0m\n\u001b[1;32m   1499\u001b[0m                 \u001b[0;32mor\u001b[0m \u001b[0m_global_backward_pre_hooks\u001b[0m \u001b[0;32mor\u001b[0m \u001b[0m_global_backward_hooks\u001b[0m\u001b[0;34m\u001b[0m\u001b[0;34m\u001b[0m\u001b[0m\n\u001b[1;32m   1500\u001b[0m                 or _global_forward_hooks or _global_forward_pre_hooks):\n\u001b[0;32m-> 1501\u001b[0;31m             \u001b[0;32mreturn\u001b[0m \u001b[0mforward_call\u001b[0m\u001b[0;34m(\u001b[0m\u001b[0;34m*\u001b[0m\u001b[0margs\u001b[0m\u001b[0;34m,\u001b[0m \u001b[0;34m**\u001b[0m\u001b[0mkwargs\u001b[0m\u001b[0;34m)\u001b[0m\u001b[0;34m\u001b[0m\u001b[0;34m\u001b[0m\u001b[0m\n\u001b[0m\u001b[1;32m   1502\u001b[0m         \u001b[0;31m# Do not call functions when jit is used\u001b[0m\u001b[0;34m\u001b[0m\u001b[0;34m\u001b[0m\u001b[0m\n\u001b[1;32m   1503\u001b[0m         \u001b[0mfull_backward_hooks\u001b[0m\u001b[0;34m,\u001b[0m \u001b[0mnon_full_backward_hooks\u001b[0m \u001b[0;34m=\u001b[0m \u001b[0;34m[\u001b[0m\u001b[0;34m]\u001b[0m\u001b[0;34m,\u001b[0m \u001b[0;34m[\u001b[0m\u001b[0;34m]\u001b[0m\u001b[0;34m\u001b[0m\u001b[0;34m\u001b[0m\u001b[0m\n",
            "\u001b[0;32m/usr/local/lib/python3.10/dist-packages/torch/nn/modules/activation.py\u001b[0m in \u001b[0;36mforward\u001b[0;34m(self, input)\u001b[0m\n\u001b[1;32m    101\u001b[0m \u001b[0;34m\u001b[0m\u001b[0m\n\u001b[1;32m    102\u001b[0m     \u001b[0;32mdef\u001b[0m \u001b[0mforward\u001b[0m\u001b[0;34m(\u001b[0m\u001b[0mself\u001b[0m\u001b[0;34m,\u001b[0m \u001b[0minput\u001b[0m\u001b[0;34m:\u001b[0m \u001b[0mTensor\u001b[0m\u001b[0;34m)\u001b[0m \u001b[0;34m->\u001b[0m \u001b[0mTensor\u001b[0m\u001b[0;34m:\u001b[0m\u001b[0;34m\u001b[0m\u001b[0;34m\u001b[0m\u001b[0m\n\u001b[0;32m--> 103\u001b[0;31m         \u001b[0;32mreturn\u001b[0m \u001b[0mF\u001b[0m\u001b[0;34m.\u001b[0m\u001b[0mrelu\u001b[0m\u001b[0;34m(\u001b[0m\u001b[0minput\u001b[0m\u001b[0;34m,\u001b[0m \u001b[0minplace\u001b[0m\u001b[0;34m=\u001b[0m\u001b[0mself\u001b[0m\u001b[0;34m.\u001b[0m\u001b[0minplace\u001b[0m\u001b[0;34m)\u001b[0m\u001b[0;34m\u001b[0m\u001b[0;34m\u001b[0m\u001b[0m\n\u001b[0m\u001b[1;32m    104\u001b[0m \u001b[0;34m\u001b[0m\u001b[0m\n\u001b[1;32m    105\u001b[0m     \u001b[0;32mdef\u001b[0m \u001b[0mextra_repr\u001b[0m\u001b[0;34m(\u001b[0m\u001b[0mself\u001b[0m\u001b[0;34m)\u001b[0m \u001b[0;34m->\u001b[0m \u001b[0mstr\u001b[0m\u001b[0;34m:\u001b[0m\u001b[0;34m\u001b[0m\u001b[0;34m\u001b[0m\u001b[0m\n",
            "\u001b[0;32m/usr/local/lib/python3.10/dist-packages/torch/nn/functional.py\u001b[0m in \u001b[0;36mrelu\u001b[0;34m(input, inplace)\u001b[0m\n\u001b[1;32m   1455\u001b[0m         \u001b[0mresult\u001b[0m \u001b[0;34m=\u001b[0m \u001b[0mtorch\u001b[0m\u001b[0;34m.\u001b[0m\u001b[0mrelu_\u001b[0m\u001b[0;34m(\u001b[0m\u001b[0minput\u001b[0m\u001b[0;34m)\u001b[0m\u001b[0;34m\u001b[0m\u001b[0;34m\u001b[0m\u001b[0m\n\u001b[1;32m   1456\u001b[0m     \u001b[0;32melse\u001b[0m\u001b[0;34m:\u001b[0m\u001b[0;34m\u001b[0m\u001b[0;34m\u001b[0m\u001b[0m\n\u001b[0;32m-> 1457\u001b[0;31m         \u001b[0mresult\u001b[0m \u001b[0;34m=\u001b[0m \u001b[0mtorch\u001b[0m\u001b[0;34m.\u001b[0m\u001b[0mrelu\u001b[0m\u001b[0;34m(\u001b[0m\u001b[0minput\u001b[0m\u001b[0;34m)\u001b[0m\u001b[0;34m\u001b[0m\u001b[0;34m\u001b[0m\u001b[0m\n\u001b[0m\u001b[1;32m   1458\u001b[0m     \u001b[0;32mreturn\u001b[0m \u001b[0mresult\u001b[0m\u001b[0;34m\u001b[0m\u001b[0;34m\u001b[0m\u001b[0m\n\u001b[1;32m   1459\u001b[0m \u001b[0;34m\u001b[0m\u001b[0m\n",
            "\u001b[0;31mOutOfMemoryError\u001b[0m: CUDA out of memory. Tried to allocate 408.00 MiB (GPU 0; 14.75 GiB total capacity; 11.94 GiB already allocated; 110.81 MiB free; 13.56 GiB reserved in total by PyTorch) If reserved memory is >> allocated memory try setting max_split_size_mb to avoid fragmentation.  See documentation for Memory Management and PYTORCH_CUDA_ALLOC_CONF"
          ]
        }
      ]
    },
    {
      "cell_type": "markdown",
      "source": [
        "# Оценка качества модели"
      ],
      "metadata": {
        "id": "6tOosWE0_EBs"
      }
    },
    {
      "cell_type": "code",
      "source": [
        "import gc\n",
        "torch.cuda.empty_cache()\n",
        "gc.collect()"
      ],
      "metadata": {
        "colab": {
          "base_uri": "https://localhost:8080/"
        },
        "id": "Cqj-06PV_Hnm",
        "outputId": "a83cbdd5-ce53-453f-aadb-c8976cdfea57"
      },
      "execution_count": null,
      "outputs": [
        {
          "output_type": "execute_result",
          "data": {
            "text/plain": [
              "35"
            ]
          },
          "metadata": {},
          "execution_count": 80
        }
      ]
    },
    {
      "cell_type": "code",
      "source": [
        "import torch\n",
        "\n",
        "# setting device on GPU if available, else CPU\n",
        "device = torch.device('cuda' if torch.cuda.is_available() else 'cpu')\n",
        "print('Using device:', device)\n",
        "print()\n",
        "\n",
        "#Additional Info when using cuda\n",
        "if device.type == 'cuda':\n",
        "    print(torch.cuda.get_device_name(0))\n",
        "    print('Memory Usage:')\n",
        "    print('Allocated:', round(torch.cuda.memory_allocated(0)/1024**3,1), 'GB')\n",
        "    print('Cached:   ', round(torch.cuda.memory_cached(0)/1024**3,1), 'GB')"
      ],
      "metadata": {
        "colab": {
          "base_uri": "https://localhost:8080/"
        },
        "id": "s-EVJMKs-VqR",
        "outputId": "6d2e3e19-38ed-40f7-8291-ab41744a75b4"
      },
      "execution_count": null,
      "outputs": [
        {
          "output_type": "stream",
          "name": "stdout",
          "text": [
            "Using device: cuda\n",
            "\n",
            "Tesla T4\n",
            "Memory Usage:\n",
            "Allocated: 13.1 GB\n",
            "Cached:    13.7 GB\n"
          ]
        },
        {
          "output_type": "stream",
          "name": "stderr",
          "text": [
            "/usr/local/lib/python3.10/dist-packages/torch/cuda/memory.py:416: FutureWarning: torch.cuda.memory_cached has been renamed to torch.cuda.memory_reserved\n",
            "  warnings.warn(\n"
          ]
        }
      ]
    },
    {
      "cell_type": "markdown",
      "source": [
        "# Конец"
      ],
      "metadata": {
        "id": "g10BBCWEdUrs"
      }
    }
  ],
  "metadata": {
    "colab": {
      "provenance": [],
      "toc_visible": true,
      "gpuType": "T4"
    },
    "kernelspec": {
      "display_name": "Python 3",
      "name": "python3"
    },
    "language_info": {
      "name": "python"
    }
  },
  "nbformat": 4,
  "nbformat_minor": 0
}